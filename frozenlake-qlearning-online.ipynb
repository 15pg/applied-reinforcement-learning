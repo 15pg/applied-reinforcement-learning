{
 "cells": [
  {
   "cell_type": "code",
   "execution_count": 3,
   "metadata": {
    "collapsed": false,
    "deletable": true,
    "editable": true
   },
   "outputs": [
    {
     "name": "stderr",
     "output_type": "stream",
     "text": [
      "[2017-03-18 13:42:34,283] Making new env: FrozenLake-v0\n"
     ]
    },
    {
     "name": "stdout",
     "output_type": "stream",
     "text": [
      "16 4\n",
      "16\n",
      "Score over time: 0.7406\n",
      "Final Q-Table Values\n",
      "[0 3 3 3 0 0 2 0 3 1 0 0 0 2 1 0]\n",
      "Best 100-episode average reward was 0.890000.\n",
      "Solved after 25 episodes.\n"
     ]
    }
   ],
   "source": [
    "import gym\n",
    "from gym import wrappers\n",
    "import numpy as np\n",
    "\n",
    "CREATE_REPORT = 0\n",
    "\n",
    "def modify_reward(reward, done):\n",
    "    if done and reward == 0:\n",
    "        return -100.0\n",
    "    elif done:\n",
    "        return 50.0\n",
    "    else:\n",
    "        return 1.0\n",
    "\n",
    "#make the environment\n",
    "env = gym.make('FrozenLake-v0')\n",
    "\n",
    "#save the log (for submission)\n",
    "logfile = '../openai_gym/forezenlake'\n",
    "if CREATE_REPORT:\n",
    "    env = wrappers.Monitor(env, logfile, force=True)\n",
    "\n",
    "# for reproducibility\n",
    "env.seed(0)\n",
    "np.random.seed(0)\n",
    "\n",
    "print(env.observation_space.n, env.action_space.n)\n",
    "\n",
    "#Initialize table with all zeros\n",
    "Q = np.zeros([env.observation_space.n, env.action_space.n])\n",
    "\n",
    "#set parameters\n",
    "lr = .05 #.85\n",
    "y=.99\n",
    "num_episodes = 5000\n",
    "\n",
    "#create list to save the total rewards per episode\n",
    "rList = []\n",
    "\n",
    "#play episode\n",
    "first = 0;\n",
    "for i in range(num_episodes):\n",
    "    #reset environment and get a new observation (the first state)\n",
    "    s = env.reset()\n",
    "    rAll = 0 #to save total reward\n",
    "    done = False\n",
    "    j=0 #current timestep\n",
    "    \n",
    "    #The Q-Table learning algorithm\n",
    "    while not done: #j<99: # will try in 100 timesteps\n",
    "        #env.render()\n",
    "        j+=1 #increse the timestep\n",
    "        \n",
    "        #choose an action by greedily picking from Q table\n",
    "        # add noise to simulate uncertainty, getting smaller as episode increased\n",
    "        a = np.argmax(Q[s,:] + np.random.randn(1,env.action_space.n)*(1./(i+1))) \n",
    "        \n",
    "        #get new state and reward from environment by doing the action\n",
    "        s_new, r, done, _ = env.step(a)\n",
    "        \n",
    "        r_mod = modify_reward(r,done)\n",
    "        #update Q-Table with new knowledge\n",
    "        Q[s,a] = Q[s,a] + lr*(r_mod+y*np.max(Q[s_new,:])-Q[s,a])\n",
    "\n",
    "        #logging\n",
    "        rAll+=r\n",
    "                \n",
    "        #quit if success or fall to the hole\n",
    "        if done == True:\n",
    "            if first == 0 and r != 0.0:\n",
    "                first = i\n",
    "                print(i)\n",
    "\n",
    "            break\n",
    "        \n",
    "        #set new state for the next iteration\n",
    "        s = s_new\n",
    "        \n",
    "    #outside while loop\n",
    "    rList.append(rAll)\n",
    "\n",
    "print(\"Score over time: \" +  str(sum(rList)/num_episodes))\n",
    "\n",
    "print(\"Final Q-Table Values\")\n",
    "print(np.argmax(Q,1))\n",
    "\n",
    "env.close()\n",
    "\n",
    "def moving_average(x, n=100):\n",
    "    x = x.cumsum()\n",
    "    return (x[n:] - x[:-n]) / n\n",
    "\n",
    "ma = moving_average(np.asarray(rList))\n",
    "print(\"Best 100-episode average reward was %f.\" % ma.max())\n",
    "\n",
    "solved = len(np.where(ma >= .78)[0])>0 # criteria set by openai\n",
    "if solved:\n",
    "    print(\"Solved after %d episodes.\" % np.where(ma >= .78)[0][0])\n",
    "else:\n",
    "    print(\"unsolved!\")\n",
    "\n",
    "#upload the result\n",
    "if CREATE_REPORT:\n",
    "    key = ''\n",
    "    gym.upload(logfile, api_key=key)\n",
    "    \n"
   ]
  },
  {
   "cell_type": "code",
   "execution_count": 4,
   "metadata": {
    "collapsed": true,
    "deletable": true,
    "editable": true
   },
   "outputs": [],
   "source": []
  },
  {
   "cell_type": "code",
   "execution_count": 5,
   "metadata": {
    "collapsed": false,
    "deletable": true,
    "editable": true
   },
   "outputs": [
    {
     "data": {
      "text/html": [
       "\n",
       "<video width=\"960\" height=\"540\" controls>\n",
       "  <source src=\"videos/out5.mp4\">\n",
       "</video>\n"
      ],
      "text/plain": [
       "<IPython.core.display.HTML object>"
      ]
     },
     "execution_count": 5,
     "metadata": {},
     "output_type": "execute_result"
    }
   ],
   "source": [
    "from IPython.display import HTML\n",
    "HTML(\"\"\"\n",
    "<video width=\"960\" height=\"540\" controls>\n",
    "  <source src=\"{0}\">\n",
    "</video>\n",
    "\"\"\".format(\"videos/out5.mp4\"))"
   ]
  },
  {
   "cell_type": "code",
   "execution_count": null,
   "metadata": {
    "collapsed": true,
    "deletable": true,
    "editable": true
   },
   "outputs": [],
   "source": []
  }
 ],
 "metadata": {
  "kernelspec": {
   "display_name": "Python 3",
   "language": "python",
   "name": "python3"
  },
  "language_info": {
   "codemirror_mode": {
    "name": "ipython",
    "version": 3
   },
   "file_extension": ".py",
   "mimetype": "text/x-python",
   "name": "python",
   "nbconvert_exporter": "python",
   "pygments_lexer": "ipython3",
   "version": "3.5.2"
  }
 },
 "nbformat": 4,
 "nbformat_minor": 2
}
