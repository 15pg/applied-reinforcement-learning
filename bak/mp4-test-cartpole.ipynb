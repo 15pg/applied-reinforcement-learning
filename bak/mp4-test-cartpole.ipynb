{
 "cells": [
  {
   "cell_type": "code",
   "execution_count": 138,
   "metadata": {
    "collapsed": false
   },
   "outputs": [
    {
     "name": "stderr",
     "output_type": "stream",
     "text": [
      "[2017-03-18 16:03:25,767] Making new env: CartPole-v0\n",
      "[2017-03-18 16:03:25,772] Clearing 8 monitor files from previous run (because force=True was provided)\n",
      "[2017-03-18 16:03:25,773] Starting new video recorder writing to /tmp/openaigym.video.15.19454.video000000.mp4\n",
      "[2017-03-18 16:03:26,801] Starting new video recorder writing to /tmp/openaigym.video.15.19454.video000001.mp4\n"
     ]
    },
    {
     "name": "stdout",
     "output_type": "stream",
     "text": [
      "Episode finished after 54 timesteps\n"
     ]
    },
    {
     "name": "stderr",
     "output_type": "stream",
     "text": [
      "[2017-03-18 16:03:27,102] Starting new video recorder writing to /tmp/openaigym.video.15.19454.video000008.mp4\n"
     ]
    },
    {
     "name": "stdout",
     "output_type": "stream",
     "text": [
      "Episode finished after 14 timesteps\n",
      "Episode finished after 29 timesteps\n",
      "Episode finished after 13 timesteps\n",
      "Episode finished after 18 timesteps\n",
      "Episode finished after 31 timesteps\n",
      "Episode finished after 13 timesteps\n",
      "Episode finished after 33 timesteps\n"
     ]
    },
    {
     "name": "stderr",
     "output_type": "stream",
     "text": [
      "[2017-03-18 16:03:27,462] Finished writing results. You can upload them to the scoreboard via gym.upload('/tmp')\n"
     ]
    },
    {
     "name": "stdout",
     "output_type": "stream",
     "text": [
      "Episode finished after 17 timesteps\n",
      "Episode finished after 11 timesteps\n",
      "Episode finished after 19 timesteps\n",
      "Episode finished after 11 timesteps\n",
      "Episode finished after 16 timesteps\n",
      "Episode finished after 23 timesteps\n",
      "Episode finished after 10 timesteps\n",
      "Episode finished after 34 timesteps\n",
      "Episode finished after 17 timesteps\n",
      "Episode finished after 19 timesteps\n",
      "Episode finished after 22 timesteps\n",
      "Episode finished after 29 timesteps\n"
     ]
    }
   ],
   "source": [
    "import io\n",
    "import gym\n",
    "import base64\n",
    "import tempfile\n",
    "\n",
    "from IPython.display import HTML\n",
    "from gym import wrappers\n",
    "\n",
    "env = gym.make('CartPole-v0')\n",
    "env = wrappers.Monitor(env, tempfile.gettempdir(), force=True)\n",
    "for i_episode in range(20):\n",
    "    observation = env.reset()\n",
    "    for t in range(100):\n",
    "        action = env.action_space.sample()\n",
    "        observation, reward, done, info = env.step(action)\n",
    "        if done:\n",
    "            print(\"Episode finished after {} timesteps\".format(t+1))\n",
    "            break\n",
    "env.close()"
   ]
  },
  {
   "cell_type": "code",
   "execution_count": null,
   "metadata": {
    "collapsed": true
   },
   "outputs": [],
   "source": []
  },
  {
   "cell_type": "code",
   "execution_count": 120,
   "metadata": {
    "collapsed": false
   },
   "outputs": [
    {
     "data": {
      "text/plain": [
       "['P',\n",
       " '__class__',\n",
       " '__del__',\n",
       " '__delattr__',\n",
       " '__dict__',\n",
       " '__dir__',\n",
       " '__doc__',\n",
       " '__eq__',\n",
       " '__format__',\n",
       " '__ge__',\n",
       " '__getattribute__',\n",
       " '__gt__',\n",
       " '__hash__',\n",
       " '__init__',\n",
       " '__le__',\n",
       " '__lt__',\n",
       " '__module__',\n",
       " '__ne__',\n",
       " '__new__',\n",
       " '__reduce__',\n",
       " '__reduce_ex__',\n",
       " '__repr__',\n",
       " '__setattr__',\n",
       " '__sizeof__',\n",
       " '__str__',\n",
       " '__subclasshook__',\n",
       " '__weakref__',\n",
       " '_close',\n",
       " '_closed',\n",
       " '_env_closer_id',\n",
       " '_owns_render',\n",
       " '_render',\n",
       " '_reset',\n",
       " '_seed',\n",
       " '_step',\n",
       " 'action_space',\n",
       " 'close',\n",
       " 'configure',\n",
       " 'desc',\n",
       " 'isd',\n",
       " 'lastaction',\n",
       " 'metadata',\n",
       " 'monitor',\n",
       " 'nA',\n",
       " 'nS',\n",
       " 'ncol',\n",
       " 'np_random',\n",
       " 'nrow',\n",
       " 'observation_space',\n",
       " 'render',\n",
       " 'reset',\n",
       " 'reward_range',\n",
       " 's',\n",
       " 'seed',\n",
       " 'spec',\n",
       " 'step',\n",
       " 'unwrapped']"
      ]
     },
     "execution_count": 120,
     "metadata": {},
     "output_type": "execute_result"
    }
   ],
   "source": [
    "dir(env.env)"
   ]
  },
  {
   "cell_type": "code",
   "execution_count": 104,
   "metadata": {
    "collapsed": false,
    "scrolled": false
   },
   "outputs": [
    {
     "data": {
      "text/html": [
       "\n",
       "    <h2>Episode 0<h2/>\n",
       "    <video width=\"960\" height=\"540\" controls>\n",
       "        <source src=\"data:video/mp4;base64,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\" type=\"video/mp4\" />\n",
       "    </video>\n",
       "    <h2>Episode 1<h2/>\n",
       "    <video width=\"960\" height=\"540\" controls>\n",
       "        <source src=\"data:video/mp4;base64,eyJoZWlnaHQiOiA2LCAic3Rkb3V0IjogW1swLjUsICJcdTAwMWJbMkpcdTAwMWJbMTsxSFxyXG5cdTAwMWJbNDFtU1x1MDAxYlswbUZGRlxyXG5GSEZIXHJcbkZGRkhcclxuSEZGR1xyXG4iXSwgWzAuNSwgIlx1MDAxYlsySlx1MDAxYlsxOzFIICAoTGVmdClcclxuU0ZGRlxyXG5cdTAwMWJbNDFtRlx1MDAxYlswbUhGSFxyXG5GRkZIXHJcbkhGRkdcclxuIl0sIFswLjUsICJcdTAwMWJbMkpcdTAwMWJbMTsxSCAgKFVwKVxyXG5TRkZGXHJcblx1MDAxYls0MW1GXHUwMDFiWzBtSEZIXHJcbkZGRkhcclxuSEZGR1xyXG4iXSwgWzAuNSwgIlx1MDAxYlsySlx1MDAxYlsxOzFIICAoUmlnaHQpXHJcblx1MDAxYls0MW1TXHUwMDFiWzBtRkZGXHJcbkZIRkhcclxuRkZGSFxyXG5IRkZHXHJcbiJdLCBbMC41LCAiXHUwMDFiWzJKXHUwMDFiWzE7MUggIChMZWZ0KVxyXG5cdTAwMWJbNDFtU1x1MDAxYlswbUZGRlxyXG5GSEZIXHJcbkZGRkhcclxuSEZGR1xyXG4iXSwgWzAuNSwgIlx1MDAxYlsySlx1MDAxYlsxOzFIICAoUmlnaHQpXHJcblNGRkZcclxuXHUwMDFiWzQxbUZcdTAwMWJbMG1IRkhcclxuRkZGSFxyXG5IRkZHXHJcbiJdLCBbMC41LCAiXHUwMDFiWzJKXHUwMDFiWzE7MUggIChSaWdodClcclxuXHUwMDFiWzQxbVNcdTAwMWJbMG1GRkZcclxuRkhGSFxyXG5GRkZIXHJcbkhGRkdcclxuIl0sIFswLjUsICJcdTAwMWJbMkpcdTAwMWJbMTsxSCAgKExlZnQpXHJcblNGRkZcclxuXHUwMDFiWzQxbUZcdTAwMWJbMG1IRkhcclxuRkZGSFxyXG5IRkZHXHJcbiJdLCBbMC41LCAiXHUwMDFiWzJKXHUwMDFiWzE7MUggIChMZWZ0KVxyXG5TRkZGXHJcblx1MDAxYls0MW1GXHUwMDFiWzBtSEZIXHJcbkZGRkhcclxuSEZGR1xyXG4iXSwgWzAuNSwgIlx1MDAxYlsySlx1MDAxYlsxOzFIICAoRG93bilcclxuU0ZGRlxyXG5GXHUwMDFiWzQxbUhcdTAwMWJbMG1GSFxyXG5GRkZIXHJcbkhGRkdcclxuIl1dLCAidGl0bGUiOiAiZ3ltIFZpZGVvUmVjb3JkZXIgZXBpc29kZSIsICJlbnYiOiB7fSwgInZlcnNpb24iOiAxLCAiZHVyYXRpb24iOiA1LjAsICJjb21tYW5kIjogIi0iLCAid2lkdGgiOiAxNX0=\" type=\"video/mp4\" />\n",
       "    </video>\n",
       "    <h2>Episode 8<h2/>\n",
       "    <video width=\"960\" height=\"540\" controls>\n",
       "        <source src=\"data:video/mp4;base64,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\" type=\"video/mp4\" />\n",
       "    </video>"
      ],
      "text/plain": [
       "<IPython.core.display.HTML object>"
      ]
     },
     "execution_count": 104,
     "metadata": {},
     "output_type": "execute_result"
    }
   ],
   "source": [
    "strm = ''\n",
    "for video_path, meta_path in env.videos:\n",
    "    video = io.open(video_path, 'r+b').read()\n",
    "    encoded = base64.b64encode(video)\n",
    "    \n",
    "    with open(meta_path) as data_file:    \n",
    "        meta = json.load(data_file)\n",
    "\n",
    "    html_tag = \"\"\"\n",
    "    <h2>{0}<h2/>\n",
    "    <video width=\"960\" height=\"540\" controls>\n",
    "        <source src=\"data:video/mp4;base64,{1}\" type=\"video/mp4\" />\n",
    "    </video>\"\"\"\n",
    "    strm += html_tag.format('Episode ' + str(meta['episode_id']), encoded.decode('ascii'))\n",
    "HTML(data=strm)"
   ]
  },
  {
   "cell_type": "code",
   "execution_count": 131,
   "metadata": {
    "collapsed": false
   },
   "outputs": [
    {
     "name": "stderr",
     "output_type": "stream",
     "text": [
      "[2017-03-18 15:52:27,977] Making new env: FrozenLake-v0\n",
      "[2017-03-18 15:52:27,981] Starting new video recorder writing to /tmp/tmpktaat2q7.json\n"
     ]
    },
    {
     "name": "stdout",
     "output_type": "stream",
     "text": [
      "Episode finished after 2 timesteps\n",
      "Episode finished after 4 timesteps\n",
      "Episode finished after 2 timesteps\n",
      "Episode finished after 3 timesteps\n",
      "Episode finished after 3 timesteps\n",
      "Episode finished after 2 timesteps\n",
      "Episode finished after 7 timesteps\n",
      "Episode finished after 8 timesteps\n",
      "Episode finished after 3 timesteps\n",
      "Episode finished after 6 timesteps\n",
      "Episode finished after 8 timesteps\n",
      "Episode finished after 3 timesteps\n",
      "Episode finished after 3 timesteps\n",
      "Episode finished after 2 timesteps\n",
      "Episode finished after 6 timesteps\n",
      "Episode finished after 10 timesteps\n",
      "Episode finished after 27 timesteps\n",
      "Episode finished after 7 timesteps\n",
      "Episode finished after 5 timesteps\n",
      "Episode finished after 10 timesteps\n"
     ]
    }
   ],
   "source": [
    "import io\n",
    "import gym\n",
    "import base64\n",
    "import tempfile\n",
    "\n",
    "from IPython.display import HTML\n",
    "from gym.monitoring import VideoRecorder\n",
    "\n",
    "env = gym.make('FrozenLake-v0')\n",
    "rec = VideoRecorder(env)\n",
    "\n",
    "for i_episode in range(20):\n",
    "    observation = env.reset()\n",
    "    for t in range(100):\n",
    "        rec.capture_frame()\n",
    "        action = env.action_space.sample()\n",
    "        observation, reward, done, info = env.step(action)\n",
    "        if done:\n",
    "            print(\"Episode finished after {} timesteps\".format(t+1))\n",
    "            break\n",
    "#rec.close()"
   ]
  },
  {
   "cell_type": "code",
   "execution_count": 132,
   "metadata": {
    "collapsed": false
   },
   "outputs": [
    {
     "data": {
      "text/plain": [
       "['__class__',\n",
       " '__delattr__',\n",
       " '__dict__',\n",
       " '__dir__',\n",
       " '__doc__',\n",
       " '__eq__',\n",
       " '__format__',\n",
       " '__ge__',\n",
       " '__getattribute__',\n",
       " '__gt__',\n",
       " '__hash__',\n",
       " '__init__',\n",
       " '__le__',\n",
       " '__lt__',\n",
       " '__module__',\n",
       " '__ne__',\n",
       " '__new__',\n",
       " '__reduce__',\n",
       " '__reduce_ex__',\n",
       " '__repr__',\n",
       " '__setattr__',\n",
       " '__sizeof__',\n",
       " '__str__',\n",
       " '__subclasshook__',\n",
       " '__weakref__',\n",
       " '_async',\n",
       " '_encode_ansi_frame',\n",
       " '_encode_image_frame',\n",
       " 'ansi_mode',\n",
       " 'broken',\n",
       " 'capture_frame',\n",
       " 'close',\n",
       " 'empty',\n",
       " 'enabled',\n",
       " 'encoder',\n",
       " 'env',\n",
       " 'frames_per_sec',\n",
       " 'functional',\n",
       " 'last_frame',\n",
       " 'metadata',\n",
       " 'metadata_path',\n",
       " 'path',\n",
       " 'write_metadata']"
      ]
     },
     "execution_count": 132,
     "metadata": {},
     "output_type": "execute_result"
    }
   ],
   "source": [
    "dir(rec)"
   ]
  },
  {
   "cell_type": "code",
   "execution_count": 134,
   "metadata": {
    "collapsed": false
   },
   "outputs": [
    {
     "data": {
      "text/plain": [
       "['__class__',\n",
       " '__delattr__',\n",
       " '__dict__',\n",
       " '__dir__',\n",
       " '__doc__',\n",
       " '__eq__',\n",
       " '__format__',\n",
       " '__ge__',\n",
       " '__getattribute__',\n",
       " '__gt__',\n",
       " '__hash__',\n",
       " '__init__',\n",
       " '__le__',\n",
       " '__lt__',\n",
       " '__module__',\n",
       " '__ne__',\n",
       " '__new__',\n",
       " '__reduce__',\n",
       " '__reduce_ex__',\n",
       " '__repr__',\n",
       " '__setattr__',\n",
       " '__sizeof__',\n",
       " '__str__',\n",
       " '__subclasshook__',\n",
       " '__weakref__',\n",
       " 'capture_frame',\n",
       " 'close',\n",
       " 'frames',\n",
       " 'frames_per_sec',\n",
       " 'output_path',\n",
       " 'version_info']"
      ]
     },
     "execution_count": 134,
     "metadata": {},
     "output_type": "execute_result"
    }
   ],
   "source": [
    "dir(rec.encoder)"
   ]
  },
  {
   "cell_type": "code",
   "execution_count": 136,
   "metadata": {
    "collapsed": false
   },
   "outputs": [
    {
     "data": {
      "text/plain": [
       "'/tmp/tmpktaat2q7.json'"
      ]
     },
     "execution_count": 136,
     "metadata": {},
     "output_type": "execute_result"
    }
   ],
   "source": [
    "rec.encoder.output_path"
   ]
  },
  {
   "cell_type": "code",
   "execution_count": 137,
   "metadata": {
    "collapsed": false,
    "scrolled": false
   },
   "outputs": [
    {
     "data": {
      "text/plain": [
       "[b'\\n\\x1b[41mS\\x1b[0mFFF\\nFHFH\\nFFFH\\nHFFG\\n',\n",
       " b'  (Down)\\nS\\x1b[41mF\\x1b[0mFF\\nFHFH\\nFFFH\\nHFFG\\n',\n",
       " b'\\n\\x1b[41mS\\x1b[0mFFF\\nFHFH\\nFFFH\\nHFFG\\n',\n",
       " b'  (Left)\\nSFFF\\n\\x1b[41mF\\x1b[0mHFH\\nFFFH\\nHFFG\\n',\n",
       " b'  (Down)\\nSFFF\\n\\x1b[41mF\\x1b[0mHFH\\nFFFH\\nHFFG\\n',\n",
       " b'  (Left)\\nSFFF\\nFHFH\\n\\x1b[41mF\\x1b[0mFFH\\nHFFG\\n',\n",
       " b'\\n\\x1b[41mS\\x1b[0mFFF\\nFHFH\\nFFFH\\nHFFG\\n',\n",
       " b'  (Right)\\nS\\x1b[41mF\\x1b[0mFF\\nFHFH\\nFFFH\\nHFFG\\n',\n",
       " b'\\n\\x1b[41mS\\x1b[0mFFF\\nFHFH\\nFFFH\\nHFFG\\n',\n",
       " b'  (Up)\\n\\x1b[41mS\\x1b[0mFFF\\nFHFH\\nFFFH\\nHFFG\\n',\n",
       " b'  (Right)\\nS\\x1b[41mF\\x1b[0mFF\\nFHFH\\nFFFH\\nHFFG\\n',\n",
       " b'\\n\\x1b[41mS\\x1b[0mFFF\\nFHFH\\nFFFH\\nHFFG\\n',\n",
       " b'  (Left)\\n\\x1b[41mS\\x1b[0mFFF\\nFHFH\\nFFFH\\nHFFG\\n',\n",
       " b'  (Up)\\nS\\x1b[41mF\\x1b[0mFF\\nFHFH\\nFFFH\\nHFFG\\n',\n",
       " b'\\n\\x1b[41mS\\x1b[0mFFF\\nFHFH\\nFFFH\\nHFFG\\n',\n",
       " b'  (Left)\\nSFFF\\n\\x1b[41mF\\x1b[0mHFH\\nFFFH\\nHFFG\\n',\n",
       " b'\\n\\x1b[41mS\\x1b[0mFFF\\nFHFH\\nFFFH\\nHFFG\\n',\n",
       " b'  (Right)\\n\\x1b[41mS\\x1b[0mFFF\\nFHFH\\nFFFH\\nHFFG\\n',\n",
       " b'  (Left)\\n\\x1b[41mS\\x1b[0mFFF\\nFHFH\\nFFFH\\nHFFG\\n',\n",
       " b'  (Up)\\n\\x1b[41mS\\x1b[0mFFF\\nFHFH\\nFFFH\\nHFFG\\n',\n",
       " b'  (Down)\\nSFFF\\n\\x1b[41mF\\x1b[0mHFH\\nFFFH\\nHFFG\\n',\n",
       " b'  (Up)\\n\\x1b[41mS\\x1b[0mFFF\\nFHFH\\nFFFH\\nHFFG\\n',\n",
       " b'  (Up)\\nS\\x1b[41mF\\x1b[0mFF\\nFHFH\\nFFFH\\nHFFG\\n',\n",
       " b'\\n\\x1b[41mS\\x1b[0mFFF\\nFHFH\\nFFFH\\nHFFG\\n',\n",
       " b'  (Up)\\n\\x1b[41mS\\x1b[0mFFF\\nFHFH\\nFFFH\\nHFFG\\n',\n",
       " b'  (Left)\\n\\x1b[41mS\\x1b[0mFFF\\nFHFH\\nFFFH\\nHFFG\\n',\n",
       " b'  (Right)\\nS\\x1b[41mF\\x1b[0mFF\\nFHFH\\nFFFH\\nHFFG\\n',\n",
       " b'  (Right)\\nSF\\x1b[41mF\\x1b[0mF\\nFHFH\\nFFFH\\nHFFG\\n',\n",
       " b'  (Left)\\nSFFF\\nFH\\x1b[41mF\\x1b[0mH\\nFFFH\\nHFFG\\n',\n",
       " b'  (Right)\\nSF\\x1b[41mF\\x1b[0mF\\nFHFH\\nFFFH\\nHFFG\\n',\n",
       " b'  (Right)\\nSFF\\x1b[41mF\\x1b[0m\\nFHFH\\nFFFH\\nHFFG\\n',\n",
       " b'\\n\\x1b[41mS\\x1b[0mFFF\\nFHFH\\nFFFH\\nHFFG\\n',\n",
       " b'  (Up)\\n\\x1b[41mS\\x1b[0mFFF\\nFHFH\\nFFFH\\nHFFG\\n',\n",
       " b'  (Right)\\nS\\x1b[41mF\\x1b[0mFF\\nFHFH\\nFFFH\\nHFFG\\n',\n",
       " b'\\n\\x1b[41mS\\x1b[0mFFF\\nFHFH\\nFFFH\\nHFFG\\n',\n",
       " b'  (Right)\\nSFFF\\n\\x1b[41mF\\x1b[0mHFH\\nFFFH\\nHFFG\\n',\n",
       " b'  (Up)\\nSFFF\\n\\x1b[41mF\\x1b[0mHFH\\nFFFH\\nHFFG\\n',\n",
       " b'  (Left)\\nSFFF\\n\\x1b[41mF\\x1b[0mHFH\\nFFFH\\nHFFG\\n',\n",
       " b'  (Left)\\nSFFF\\nFHFH\\n\\x1b[41mF\\x1b[0mFFH\\nHFFG\\n',\n",
       " b'  (Left)\\nSFFF\\nFHFH\\n\\x1b[41mF\\x1b[0mFFH\\nHFFG\\n',\n",
       " b'\\n\\x1b[41mS\\x1b[0mFFF\\nFHFH\\nFFFH\\nHFFG\\n',\n",
       " b'  (Right)\\nSFFF\\n\\x1b[41mF\\x1b[0mHFH\\nFFFH\\nHFFG\\n',\n",
       " b'  (Left)\\nSFFF\\n\\x1b[41mF\\x1b[0mHFH\\nFFFH\\nHFFG\\n',\n",
       " b'  (Up)\\n\\x1b[41mS\\x1b[0mFFF\\nFHFH\\nFFFH\\nHFFG\\n',\n",
       " b'  (Left)\\nSFFF\\n\\x1b[41mF\\x1b[0mHFH\\nFFFH\\nHFFG\\n',\n",
       " b'  (Left)\\nSFFF\\n\\x1b[41mF\\x1b[0mHFH\\nFFFH\\nHFFG\\n',\n",
       " b'  (Right)\\n\\x1b[41mS\\x1b[0mFFF\\nFHFH\\nFFFH\\nHFFG\\n',\n",
       " b'  (Right)\\nS\\x1b[41mF\\x1b[0mFF\\nFHFH\\nFFFH\\nHFFG\\n',\n",
       " b'\\n\\x1b[41mS\\x1b[0mFFF\\nFHFH\\nFFFH\\nHFFG\\n',\n",
       " b'  (Up)\\n\\x1b[41mS\\x1b[0mFFF\\nFHFH\\nFFFH\\nHFFG\\n',\n",
       " b'  (Right)\\nS\\x1b[41mF\\x1b[0mFF\\nFHFH\\nFFFH\\nHFFG\\n',\n",
       " b'\\n\\x1b[41mS\\x1b[0mFFF\\nFHFH\\nFFFH\\nHFFG\\n',\n",
       " b'  (Right)\\n\\x1b[41mS\\x1b[0mFFF\\nFHFH\\nFFFH\\nHFFG\\n',\n",
       " b'  (Left)\\nSFFF\\n\\x1b[41mF\\x1b[0mHFH\\nFFFH\\nHFFG\\n',\n",
       " b'\\n\\x1b[41mS\\x1b[0mFFF\\nFHFH\\nFFFH\\nHFFG\\n',\n",
       " b'  (Down)\\nSFFF\\n\\x1b[41mF\\x1b[0mHFH\\nFFFH\\nHFFG\\n',\n",
       " b'\\n\\x1b[41mS\\x1b[0mFFF\\nFHFH\\nFFFH\\nHFFG\\n',\n",
       " b'  (Left)\\nSFFF\\n\\x1b[41mF\\x1b[0mHFH\\nFFFH\\nHFFG\\n',\n",
       " b'  (Down)\\nSFFF\\n\\x1b[41mF\\x1b[0mHFH\\nFFFH\\nHFFG\\n',\n",
       " b'  (Up)\\nSFFF\\n\\x1b[41mF\\x1b[0mHFH\\nFFFH\\nHFFG\\n',\n",
       " b'  (Left)\\nSFFF\\nFHFH\\n\\x1b[41mF\\x1b[0mFFH\\nHFFG\\n',\n",
       " b'  (Left)\\nSFFF\\n\\x1b[41mF\\x1b[0mHFH\\nFFFH\\nHFFG\\n',\n",
       " b'\\n\\x1b[41mS\\x1b[0mFFF\\nFHFH\\nFFFH\\nHFFG\\n',\n",
       " b'  (Left)\\n\\x1b[41mS\\x1b[0mFFF\\nFHFH\\nFFFH\\nHFFG\\n',\n",
       " b'  (Down)\\nSFFF\\n\\x1b[41mF\\x1b[0mHFH\\nFFFH\\nHFFG\\n',\n",
       " b'  (Up)\\n\\x1b[41mS\\x1b[0mFFF\\nFHFH\\nFFFH\\nHFFG\\n',\n",
       " b'  (Down)\\n\\x1b[41mS\\x1b[0mFFF\\nFHFH\\nFFFH\\nHFFG\\n',\n",
       " b'  (Down)\\n\\x1b[41mS\\x1b[0mFFF\\nFHFH\\nFFFH\\nHFFG\\n',\n",
       " b'  (Left)\\n\\x1b[41mS\\x1b[0mFFF\\nFHFH\\nFFFH\\nHFFG\\n',\n",
       " b'  (Right)\\n\\x1b[41mS\\x1b[0mFFF\\nFHFH\\nFFFH\\nHFFG\\n',\n",
       " b'  (Left)\\nSFFF\\n\\x1b[41mF\\x1b[0mHFH\\nFFFH\\nHFFG\\n',\n",
       " b'  (Left)\\nSFFF\\n\\x1b[41mF\\x1b[0mHFH\\nFFFH\\nHFFG\\n',\n",
       " b'\\n\\x1b[41mS\\x1b[0mFFF\\nFHFH\\nFFFH\\nHFFG\\n',\n",
       " b'  (Down)\\nS\\x1b[41mF\\x1b[0mFF\\nFHFH\\nFFFH\\nHFFG\\n',\n",
       " b'  (Up)\\nSF\\x1b[41mF\\x1b[0mF\\nFHFH\\nFFFH\\nHFFG\\n',\n",
       " b'  (Up)\\nSF\\x1b[41mF\\x1b[0mF\\nFHFH\\nFFFH\\nHFFG\\n',\n",
       " b'  (Down)\\nSFF\\x1b[41mF\\x1b[0m\\nFHFH\\nFFFH\\nHFFG\\n',\n",
       " b'  (Up)\\nSFF\\x1b[41mF\\x1b[0m\\nFHFH\\nFFFH\\nHFFG\\n',\n",
       " b'  (Right)\\nSFF\\x1b[41mF\\x1b[0m\\nFHFH\\nFFFH\\nHFFG\\n',\n",
       " b'  (Down)\\nSF\\x1b[41mF\\x1b[0mF\\nFHFH\\nFFFH\\nHFFG\\n',\n",
       " b'  (Up)\\nSF\\x1b[41mF\\x1b[0mF\\nFHFH\\nFFFH\\nHFFG\\n',\n",
       " b'  (Right)\\nSF\\x1b[41mF\\x1b[0mF\\nFHFH\\nFFFH\\nHFFG\\n',\n",
       " b'  (Left)\\nSF\\x1b[41mF\\x1b[0mF\\nFHFH\\nFFFH\\nHFFG\\n',\n",
       " b'  (Down)\\nS\\x1b[41mF\\x1b[0mFF\\nFHFH\\nFFFH\\nHFFG\\n',\n",
       " b'  (Left)\\n\\x1b[41mS\\x1b[0mFFF\\nFHFH\\nFFFH\\nHFFG\\n',\n",
       " b'  (Up)\\nS\\x1b[41mF\\x1b[0mFF\\nFHFH\\nFFFH\\nHFFG\\n',\n",
       " b'  (Right)\\nS\\x1b[41mF\\x1b[0mFF\\nFHFH\\nFFFH\\nHFFG\\n',\n",
       " b'  (Right)\\nSF\\x1b[41mF\\x1b[0mF\\nFHFH\\nFFFH\\nHFFG\\n',\n",
       " b'  (Right)\\nSF\\x1b[41mF\\x1b[0mF\\nFHFH\\nFFFH\\nHFFG\\n',\n",
       " b'  (Left)\\nS\\x1b[41mF\\x1b[0mFF\\nFHFH\\nFFFH\\nHFFG\\n',\n",
       " b'  (Right)\\nSF\\x1b[41mF\\x1b[0mF\\nFHFH\\nFFFH\\nHFFG\\n',\n",
       " b'  (Right)\\nSF\\x1b[41mF\\x1b[0mF\\nFHFH\\nFFFH\\nHFFG\\n',\n",
       " b'  (Left)\\nSF\\x1b[41mF\\x1b[0mF\\nFHFH\\nFFFH\\nHFFG\\n',\n",
       " b'  (Left)\\nS\\x1b[41mF\\x1b[0mFF\\nFHFH\\nFFFH\\nHFFG\\n',\n",
       " b'  (Right)\\nS\\x1b[41mF\\x1b[0mFF\\nFHFH\\nFFFH\\nHFFG\\n',\n",
       " b'  (Up)\\nS\\x1b[41mF\\x1b[0mFF\\nFHFH\\nFFFH\\nHFFG\\n',\n",
       " b'  (Up)\\n\\x1b[41mS\\x1b[0mFFF\\nFHFH\\nFFFH\\nHFFG\\n',\n",
       " b'  (Down)\\nS\\x1b[41mF\\x1b[0mFF\\nFHFH\\nFFFH\\nHFFG\\n',\n",
       " b'  (Right)\\nS\\x1b[41mF\\x1b[0mFF\\nFHFH\\nFFFH\\nHFFG\\n',\n",
       " b'\\n\\x1b[41mS\\x1b[0mFFF\\nFHFH\\nFFFH\\nHFFG\\n',\n",
       " b'  (Left)\\nSFFF\\n\\x1b[41mF\\x1b[0mHFH\\nFFFH\\nHFFG\\n',\n",
       " b'  (Left)\\n\\x1b[41mS\\x1b[0mFFF\\nFHFH\\nFFFH\\nHFFG\\n',\n",
       " b'  (Left)\\nSFFF\\n\\x1b[41mF\\x1b[0mHFH\\nFFFH\\nHFFG\\n',\n",
       " b'  (Left)\\nSFFF\\n\\x1b[41mF\\x1b[0mHFH\\nFFFH\\nHFFG\\n',\n",
       " b'  (Up)\\nSFFF\\n\\x1b[41mF\\x1b[0mHFH\\nFFFH\\nHFFG\\n',\n",
       " b'  (Left)\\nSFFF\\nFHFH\\n\\x1b[41mF\\x1b[0mFFH\\nHFFG\\n',\n",
       " b'\\n\\x1b[41mS\\x1b[0mFFF\\nFHFH\\nFFFH\\nHFFG\\n',\n",
       " b'  (Up)\\nS\\x1b[41mF\\x1b[0mFF\\nFHFH\\nFFFH\\nHFFG\\n',\n",
       " b'  (Left)\\nS\\x1b[41mF\\x1b[0mFF\\nFHFH\\nFFFH\\nHFFG\\n',\n",
       " b'  (Down)\\n\\x1b[41mS\\x1b[0mFFF\\nFHFH\\nFFFH\\nHFFG\\n',\n",
       " b'  (Right)\\nS\\x1b[41mF\\x1b[0mFF\\nFHFH\\nFFFH\\nHFFG\\n',\n",
       " b'\\n\\x1b[41mS\\x1b[0mFFF\\nFHFH\\nFFFH\\nHFFG\\n',\n",
       " b'  (Left)\\n\\x1b[41mS\\x1b[0mFFF\\nFHFH\\nFFFH\\nHFFG\\n',\n",
       " b'  (Left)\\nSFFF\\n\\x1b[41mF\\x1b[0mHFH\\nFFFH\\nHFFG\\n',\n",
       " b'  (Left)\\n\\x1b[41mS\\x1b[0mFFF\\nFHFH\\nFFFH\\nHFFG\\n',\n",
       " b'  (Up)\\nS\\x1b[41mF\\x1b[0mFF\\nFHFH\\nFFFH\\nHFFG\\n',\n",
       " b'  (Right)\\nSF\\x1b[41mF\\x1b[0mF\\nFHFH\\nFFFH\\nHFFG\\n',\n",
       " b'  (Down)\\nS\\x1b[41mF\\x1b[0mFF\\nFHFH\\nFFFH\\nHFFG\\n',\n",
       " b'  (Up)\\nSF\\x1b[41mF\\x1b[0mF\\nFHFH\\nFFFH\\nHFFG\\n',\n",
       " b'  (Up)\\nS\\x1b[41mF\\x1b[0mFF\\nFHFH\\nFFFH\\nHFFG\\n',\n",
       " b'  (Up)\\nS\\x1b[41mF\\x1b[0mFF\\nFHFH\\nFFFH\\nHFFG\\n']"
      ]
     },
     "execution_count": 137,
     "metadata": {},
     "output_type": "execute_result"
    }
   ],
   "source": []
  },
  {
   "cell_type": "code",
   "execution_count": null,
   "metadata": {
    "collapsed": true
   },
   "outputs": [],
   "source": []
  },
  {
   "cell_type": "code",
   "execution_count": 108,
   "metadata": {
    "collapsed": false
   },
   "outputs": [
    {
     "data": {
      "text/plain": [
       "'/tmp/tmptf823ozp.json'"
      ]
     },
     "execution_count": 108,
     "metadata": {},
     "output_type": "execute_result"
    }
   ],
   "source": [
    "rec.path"
   ]
  },
  {
   "cell_type": "code",
   "execution_count": 113,
   "metadata": {
    "collapsed": false
   },
   "outputs": [
    {
     "name": "stdout",
     "output_type": "stream",
     "text": [
      "[[0.5, '\\x1b[2J\\x1b[1;1H\\r\\n\\x1b[41mS\\x1b[0mFFF\\r\\nFHFH\\r\\nFFFH\\r\\nHFFG\\r\\n'], [0.5, '\\x1b[2J\\x1b[1;1H  (Left)\\r\\nSFFF\\r\\n\\x1b[41mF\\x1b[0mHFH\\r\\nFFFH\\r\\nHFFG\\r\\n'], [0.5, '\\x1b[2J\\x1b[1;1H  (Up)\\r\\n\\x1b[41mS\\x1b[0mFFF\\r\\nFHFH\\r\\nFFFH\\r\\nHFFG\\r\\n'], [0.5, '\\x1b[2J\\x1b[1;1H  (Up)\\r\\n\\x1b[41mS\\x1b[0mFFF\\r\\nFHFH\\r\\nFFFH\\r\\nHFFG\\r\\n'], [0.5, '\\x1b[2J\\x1b[1;1H  (Left)\\r\\nSFFF\\r\\n\\x1b[41mF\\x1b[0mHFH\\r\\nFFFH\\r\\nHFFG\\r\\n'], [0.5, '\\x1b[2J\\x1b[1;1H  (Left)\\r\\nSFFF\\r\\n\\x1b[41mF\\x1b[0mHFH\\r\\nFFFH\\r\\nHFFG\\r\\n'], [0.5, '\\x1b[2J\\x1b[1;1H  (Left)\\r\\nSFFF\\r\\n\\x1b[41mF\\x1b[0mHFH\\r\\nFFFH\\r\\nHFFG\\r\\n'], [0.5, '\\x1b[2J\\x1b[1;1H\\r\\n\\x1b[41mS\\x1b[0mFFF\\r\\nFHFH\\r\\nFFFH\\r\\nHFFG\\r\\n'], [0.5, '\\x1b[2J\\x1b[1;1H  (Right)\\r\\nSFFF\\r\\n\\x1b[41mF\\x1b[0mHFH\\r\\nFFFH\\r\\nHFFG\\r\\n'], [0.5, '\\x1b[2J\\x1b[1;1H  (Left)\\r\\nSFFF\\r\\n\\x1b[41mF\\x1b[0mHFH\\r\\nFFFH\\r\\nHFFG\\r\\n'], [0.5, '\\x1b[2J\\x1b[1;1H\\r\\n\\x1b[41mS\\x1b[0mFFF\\r\\nFHFH\\r\\nFFFH\\r\\nHFFG\\r\\n'], [0.5, '\\x1b[2J\\x1b[1;1H  (Left)\\r\\n\\x1b[41mS\\x1b[0mFFF\\r\\nFHFH\\r\\nFFFH\\r\\nHFFG\\r\\n'], [0.5, '\\x1b[2J\\x1b[1;1H  (Right)\\r\\n\\x1b[41mS\\x1b[0mFFF\\r\\nFHFH\\r\\nFFFH\\r\\nHFFG\\r\\n'], [0.5, '\\x1b[2J\\x1b[1;1H  (Down)\\r\\nSFFF\\r\\n\\x1b[41mF\\x1b[0mHFH\\r\\nFFFH\\r\\nHFFG\\r\\n'], [0.5, '\\x1b[2J\\x1b[1;1H  (Right)\\r\\n\\x1b[41mS\\x1b[0mFFF\\r\\nFHFH\\r\\nFFFH\\r\\nHFFG\\r\\n'], [0.5, '\\x1b[2J\\x1b[1;1H  (Right)\\r\\nSFFF\\r\\n\\x1b[41mF\\x1b[0mHFH\\r\\nFFFH\\r\\nHFFG\\r\\n'], [0.5, '\\x1b[2J\\x1b[1;1H\\r\\n\\x1b[41mS\\x1b[0mFFF\\r\\nFHFH\\r\\nFFFH\\r\\nHFFG\\r\\n'], [0.5, '\\x1b[2J\\x1b[1;1H  (Left)\\r\\n\\x1b[41mS\\x1b[0mFFF\\r\\nFHFH\\r\\nFFFH\\r\\nHFFG\\r\\n'], [0.5, '\\x1b[2J\\x1b[1;1H  (Left)\\r\\nSFFF\\r\\n\\x1b[41mF\\x1b[0mHFH\\r\\nFFFH\\r\\nHFFG\\r\\n'], [0.5, '\\x1b[2J\\x1b[1;1H  (Right)\\r\\n\\x1b[41mS\\x1b[0mFFF\\r\\nFHFH\\r\\nFFFH\\r\\nHFFG\\r\\n'], [0.5, '\\x1b[2J\\x1b[1;1H  (Down)\\r\\nS\\x1b[41mF\\x1b[0mFF\\r\\nFHFH\\r\\nFFFH\\r\\nHFFG\\r\\n'], [0.5, '\\x1b[2J\\x1b[1;1H  (Down)\\r\\nSF\\x1b[41mF\\x1b[0mF\\r\\nFHFH\\r\\nFFFH\\r\\nHFFG\\r\\n'], [0.5, '\\x1b[2J\\x1b[1;1H  (Right)\\r\\nSFFF\\r\\nFH\\x1b[41mF\\x1b[0mH\\r\\nFFFH\\r\\nHFFG\\r\\n'], [0.5, '\\x1b[2J\\x1b[1;1H\\r\\n\\x1b[41mS\\x1b[0mFFF\\r\\nFHFH\\r\\nFFFH\\r\\nHFFG\\r\\n'], [0.5, '\\x1b[2J\\x1b[1;1H  (Right)\\r\\nS\\x1b[41mF\\x1b[0mFF\\r\\nFHFH\\r\\nFFFH\\r\\nHFFG\\r\\n'], [0.5, '\\x1b[2J\\x1b[1;1H\\r\\n\\x1b[41mS\\x1b[0mFFF\\r\\nFHFH\\r\\nFFFH\\r\\nHFFG\\r\\n'], [0.5, '\\x1b[2J\\x1b[1;1H  (Left)\\r\\n\\x1b[41mS\\x1b[0mFFF\\r\\nFHFH\\r\\nFFFH\\r\\nHFFG\\r\\n'], [0.5, '\\x1b[2J\\x1b[1;1H  (Right)\\r\\n\\x1b[41mS\\x1b[0mFFF\\r\\nFHFH\\r\\nFFFH\\r\\nHFFG\\r\\n'], [0.5, '\\x1b[2J\\x1b[1;1H  (Up)\\r\\n\\x1b[41mS\\x1b[0mFFF\\r\\nFHFH\\r\\nFFFH\\r\\nHFFG\\r\\n'], [0.5, '\\x1b[2J\\x1b[1;1H  (Down)\\r\\nS\\x1b[41mF\\x1b[0mFF\\r\\nFHFH\\r\\nFFFH\\r\\nHFFG\\r\\n'], [0.5, '\\x1b[2J\\x1b[1;1H\\r\\n\\x1b[41mS\\x1b[0mFFF\\r\\nFHFH\\r\\nFFFH\\r\\nHFFG\\r\\n'], [0.5, '\\x1b[2J\\x1b[1;1H  (Up)\\r\\nS\\x1b[41mF\\x1b[0mFF\\r\\nFHFH\\r\\nFFFH\\r\\nHFFG\\r\\n'], [0.5, '\\x1b[2J\\x1b[1;1H  (Down)\\r\\n\\x1b[41mS\\x1b[0mFFF\\r\\nFHFH\\r\\nFFFH\\r\\nHFFG\\r\\n'], [0.5, '\\x1b[2J\\x1b[1;1H  (Right)\\r\\nS\\x1b[41mF\\x1b[0mFF\\r\\nFHFH\\r\\nFFFH\\r\\nHFFG\\r\\n'], [0.5, '\\x1b[2J\\x1b[1;1H\\r\\n\\x1b[41mS\\x1b[0mFFF\\r\\nFHFH\\r\\nFFFH\\r\\nHFFG\\r\\n'], [0.5, '\\x1b[2J\\x1b[1;1H  (Down)\\r\\nS\\x1b[41mF\\x1b[0mFF\\r\\nFHFH\\r\\nFFFH\\r\\nHFFG\\r\\n'], [0.5, '\\x1b[2J\\x1b[1;1H\\r\\n\\x1b[41mS\\x1b[0mFFF\\r\\nFHFH\\r\\nFFFH\\r\\nHFFG\\r\\n'], [0.5, '\\x1b[2J\\x1b[1;1H  (Up)\\r\\nS\\x1b[41mF\\x1b[0mFF\\r\\nFHFH\\r\\nFFFH\\r\\nHFFG\\r\\n'], [0.5, '\\x1b[2J\\x1b[1;1H  (Right)\\r\\nSF\\x1b[41mF\\x1b[0mF\\r\\nFHFH\\r\\nFFFH\\r\\nHFFG\\r\\n'], [0.5, '\\x1b[2J\\x1b[1;1H  (Right)\\r\\nSFF\\x1b[41mF\\x1b[0m\\r\\nFHFH\\r\\nFFFH\\r\\nHFFG\\r\\n'], [0.5, '\\x1b[2J\\x1b[1;1H  (Up)\\r\\nSF\\x1b[41mF\\x1b[0mF\\r\\nFHFH\\r\\nFFFH\\r\\nHFFG\\r\\n'], [0.5, '\\x1b[2J\\x1b[1;1H  (Up)\\r\\nS\\x1b[41mF\\x1b[0mFF\\r\\nFHFH\\r\\nFFFH\\r\\nHFFG\\r\\n'], [0.5, '\\x1b[2J\\x1b[1;1H  (Left)\\r\\nS\\x1b[41mF\\x1b[0mFF\\r\\nFHFH\\r\\nFFFH\\r\\nHFFG\\r\\n'], [0.5, '\\x1b[2J\\x1b[1;1H\\r\\n\\x1b[41mS\\x1b[0mFFF\\r\\nFHFH\\r\\nFFFH\\r\\nHFFG\\r\\n'], [0.5, '\\x1b[2J\\x1b[1;1H  (Right)\\r\\nS\\x1b[41mF\\x1b[0mFF\\r\\nFHFH\\r\\nFFFH\\r\\nHFFG\\r\\n'], [0.5, '\\x1b[2J\\x1b[1;1H\\r\\n\\x1b[41mS\\x1b[0mFFF\\r\\nFHFH\\r\\nFFFH\\r\\nHFFG\\r\\n'], [0.5, '\\x1b[2J\\x1b[1;1H  (Left)\\r\\n\\x1b[41mS\\x1b[0mFFF\\r\\nFHFH\\r\\nFFFH\\r\\nHFFG\\r\\n'], [0.5, '\\x1b[2J\\x1b[1;1H  (Left)\\r\\nSFFF\\r\\n\\x1b[41mF\\x1b[0mHFH\\r\\nFFFH\\r\\nHFFG\\r\\n'], [0.5, '\\x1b[2J\\x1b[1;1H  (Down)\\r\\nSFFF\\r\\n\\x1b[41mF\\x1b[0mHFH\\r\\nFFFH\\r\\nHFFG\\r\\n'], [0.5, '\\x1b[2J\\x1b[1;1H  (Up)\\r\\nSFFF\\r\\n\\x1b[41mF\\x1b[0mHFH\\r\\nFFFH\\r\\nHFFG\\r\\n'], [0.5, '\\x1b[2J\\x1b[1;1H  (Up)\\r\\n\\x1b[41mS\\x1b[0mFFF\\r\\nFHFH\\r\\nFFFH\\r\\nHFFG\\r\\n'], [0.5, '\\x1b[2J\\x1b[1;1H  (Right)\\r\\n\\x1b[41mS\\x1b[0mFFF\\r\\nFHFH\\r\\nFFFH\\r\\nHFFG\\r\\n'], [0.5, '\\x1b[2J\\x1b[1;1H  (Down)\\r\\nS\\x1b[41mF\\x1b[0mFF\\r\\nFHFH\\r\\nFFFH\\r\\nHFFG\\r\\n'], [0.5, '\\x1b[2J\\x1b[1;1H  (Down)\\r\\nSF\\x1b[41mF\\x1b[0mF\\r\\nFHFH\\r\\nFFFH\\r\\nHFFG\\r\\n'], [0.5, '\\x1b[2J\\x1b[1;1H  (Down)\\r\\nS\\x1b[41mF\\x1b[0mFF\\r\\nFHFH\\r\\nFFFH\\r\\nHFFG\\r\\n'], [0.5, '\\x1b[2J\\x1b[1;1H  (Right)\\r\\nS\\x1b[41mF\\x1b[0mFF\\r\\nFHFH\\r\\nFFFH\\r\\nHFFG\\r\\n'], [0.5, '\\x1b[2J\\x1b[1;1H  (Right)\\r\\nS\\x1b[41mF\\x1b[0mFF\\r\\nFHFH\\r\\nFFFH\\r\\nHFFG\\r\\n'], [0.5, '\\x1b[2J\\x1b[1;1H  (Left)\\r\\nS\\x1b[41mF\\x1b[0mFF\\r\\nFHFH\\r\\nFFFH\\r\\nHFFG\\r\\n'], [0.5, '\\x1b[2J\\x1b[1;1H  (Up)\\r\\nSF\\x1b[41mF\\x1b[0mF\\r\\nFHFH\\r\\nFFFH\\r\\nHFFG\\r\\n'], [0.5, '\\x1b[2J\\x1b[1;1H  (Left)\\r\\nSFFF\\r\\nFH\\x1b[41mF\\x1b[0mH\\r\\nFFFH\\r\\nHFFG\\r\\n'], [0.5, '\\x1b[2J\\x1b[1;1H\\r\\n\\x1b[41mS\\x1b[0mFFF\\r\\nFHFH\\r\\nFFFH\\r\\nHFFG\\r\\n'], [0.5, '\\x1b[2J\\x1b[1;1H  (Down)\\r\\n\\x1b[41mS\\x1b[0mFFF\\r\\nFHFH\\r\\nFFFH\\r\\nHFFG\\r\\n'], [0.5, '\\x1b[2J\\x1b[1;1H  (Up)\\r\\n\\x1b[41mS\\x1b[0mFFF\\r\\nFHFH\\r\\nFFFH\\r\\nHFFG\\r\\n'], [0.5, '\\x1b[2J\\x1b[1;1H  (Right)\\r\\nS\\x1b[41mF\\x1b[0mFF\\r\\nFHFH\\r\\nFFFH\\r\\nHFFG\\r\\n'], [0.5, '\\x1b[2J\\x1b[1;1H  (Left)\\r\\n\\x1b[41mS\\x1b[0mFFF\\r\\nFHFH\\r\\nFFFH\\r\\nHFFG\\r\\n'], [0.5, '\\x1b[2J\\x1b[1;1H  (Up)\\r\\nS\\x1b[41mF\\x1b[0mFF\\r\\nFHFH\\r\\nFFFH\\r\\nHFFG\\r\\n'], [0.5, '\\x1b[2J\\x1b[1;1H  (Down)\\r\\n\\x1b[41mS\\x1b[0mFFF\\r\\nFHFH\\r\\nFFFH\\r\\nHFFG\\r\\n'], [0.5, '\\x1b[2J\\x1b[1;1H  (Down)\\r\\nSFFF\\r\\n\\x1b[41mF\\x1b[0mHFH\\r\\nFFFH\\r\\nHFFG\\r\\n'], [0.5, '\\x1b[2J\\x1b[1;1H\\r\\n\\x1b[41mS\\x1b[0mFFF\\r\\nFHFH\\r\\nFFFH\\r\\nHFFG\\r\\n'], [0.5, '\\x1b[2J\\x1b[1;1H  (Left)\\r\\n\\x1b[41mS\\x1b[0mFFF\\r\\nFHFH\\r\\nFFFH\\r\\nHFFG\\r\\n'], [0.5, '\\x1b[2J\\x1b[1;1H  (Right)\\r\\nSFFF\\r\\n\\x1b[41mF\\x1b[0mHFH\\r\\nFFFH\\r\\nHFFG\\r\\n'], [0.5, '\\x1b[2J\\x1b[1;1H\\r\\n\\x1b[41mS\\x1b[0mFFF\\r\\nFHFH\\r\\nFFFH\\r\\nHFFG\\r\\n'], [0.5, '\\x1b[2J\\x1b[1;1H  (Right)\\r\\nSFFF\\r\\n\\x1b[41mF\\x1b[0mHFH\\r\\nFFFH\\r\\nHFFG\\r\\n'], [0.5, '\\x1b[2J\\x1b[1;1H\\r\\n\\x1b[41mS\\x1b[0mFFF\\r\\nFHFH\\r\\nFFFH\\r\\nHFFG\\r\\n'], [0.5, '\\x1b[2J\\x1b[1;1H  (Right)\\r\\nS\\x1b[41mF\\x1b[0mFF\\r\\nFHFH\\r\\nFFFH\\r\\nHFFG\\r\\n'], [0.5, '\\x1b[2J\\x1b[1;1H\\r\\n\\x1b[41mS\\x1b[0mFFF\\r\\nFHFH\\r\\nFFFH\\r\\nHFFG\\r\\n'], [0.5, '\\x1b[2J\\x1b[1;1H  (Down)\\r\\n\\x1b[41mS\\x1b[0mFFF\\r\\nFHFH\\r\\nFFFH\\r\\nHFFG\\r\\n'], [0.5, '\\x1b[2J\\x1b[1;1H  (Up)\\r\\n\\x1b[41mS\\x1b[0mFFF\\r\\nFHFH\\r\\nFFFH\\r\\nHFFG\\r\\n'], [0.5, '\\x1b[2J\\x1b[1;1H  (Down)\\r\\n\\x1b[41mS\\x1b[0mFFF\\r\\nFHFH\\r\\nFFFH\\r\\nHFFG\\r\\n'], [0.5, '\\x1b[2J\\x1b[1;1H  (Right)\\r\\n\\x1b[41mS\\x1b[0mFFF\\r\\nFHFH\\r\\nFFFH\\r\\nHFFG\\r\\n'], [0.5, '\\x1b[2J\\x1b[1;1H  (Left)\\r\\n\\x1b[41mS\\x1b[0mFFF\\r\\nFHFH\\r\\nFFFH\\r\\nHFFG\\r\\n'], [0.5, '\\x1b[2J\\x1b[1;1H  (Up)\\r\\n\\x1b[41mS\\x1b[0mFFF\\r\\nFHFH\\r\\nFFFH\\r\\nHFFG\\r\\n'], [0.5, '\\x1b[2J\\x1b[1;1H  (Right)\\r\\n\\x1b[41mS\\x1b[0mFFF\\r\\nFHFH\\r\\nFFFH\\r\\nHFFG\\r\\n'], [0.5, '\\x1b[2J\\x1b[1;1H  (Up)\\r\\nS\\x1b[41mF\\x1b[0mFF\\r\\nFHFH\\r\\nFFFH\\r\\nHFFG\\r\\n'], [0.5, '\\x1b[2J\\x1b[1;1H\\r\\n\\x1b[41mS\\x1b[0mFFF\\r\\nFHFH\\r\\nFFFH\\r\\nHFFG\\r\\n'], [0.5, '\\x1b[2J\\x1b[1;1H  (Up)\\r\\n\\x1b[41mS\\x1b[0mFFF\\r\\nFHFH\\r\\nFFFH\\r\\nHFFG\\r\\n'], [0.5, '\\x1b[2J\\x1b[1;1H  (Right)\\r\\n\\x1b[41mS\\x1b[0mFFF\\r\\nFHFH\\r\\nFFFH\\r\\nHFFG\\r\\n'], [0.5, '\\x1b[2J\\x1b[1;1H  (Down)\\r\\nSFFF\\r\\n\\x1b[41mF\\x1b[0mHFH\\r\\nFFFH\\r\\nHFFG\\r\\n'], [0.5, '\\x1b[2J\\x1b[1;1H  (Up)\\r\\nSFFF\\r\\n\\x1b[41mF\\x1b[0mHFH\\r\\nFFFH\\r\\nHFFG\\r\\n'], [0.5, '\\x1b[2J\\x1b[1;1H  (Down)\\r\\nSFFF\\r\\n\\x1b[41mF\\x1b[0mHFH\\r\\nFFFH\\r\\nHFFG\\r\\n'], [0.5, '\\x1b[2J\\x1b[1;1H  (Up)\\r\\n\\x1b[41mS\\x1b[0mFFF\\r\\nFHFH\\r\\nFFFH\\r\\nHFFG\\r\\n'], [0.5, '\\x1b[2J\\x1b[1;1H  (Up)\\r\\n\\x1b[41mS\\x1b[0mFFF\\r\\nFHFH\\r\\nFFFH\\r\\nHFFG\\r\\n'], [0.5, '\\x1b[2J\\x1b[1;1H  (Right)\\r\\nS\\x1b[41mF\\x1b[0mFF\\r\\nFHFH\\r\\nFFFH\\r\\nHFFG\\r\\n'], [0.5, '\\x1b[2J\\x1b[1;1H  (Right)\\r\\nS\\x1b[41mF\\x1b[0mFF\\r\\nFHFH\\r\\nFFFH\\r\\nHFFG\\r\\n'], [0.5, '\\x1b[2J\\x1b[1;1H  (Down)\\r\\nSF\\x1b[41mF\\x1b[0mF\\r\\nFHFH\\r\\nFFFH\\r\\nHFFG\\r\\n'], [0.5, '\\x1b[2J\\x1b[1;1H  (Up)\\r\\nS\\x1b[41mF\\x1b[0mFF\\r\\nFHFH\\r\\nFFFH\\r\\nHFFG\\r\\n'], [0.5, '\\x1b[2J\\x1b[1;1H  (Left)\\r\\nS\\x1b[41mF\\x1b[0mFF\\r\\nFHFH\\r\\nFFFH\\r\\nHFFG\\r\\n'], [0.5, '\\x1b[2J\\x1b[1;1H\\r\\n\\x1b[41mS\\x1b[0mFFF\\r\\nFHFH\\r\\nFFFH\\r\\nHFFG\\r\\n'], [0.5, '\\x1b[2J\\x1b[1;1H  (Up)\\r\\n\\x1b[41mS\\x1b[0mFFF\\r\\nFHFH\\r\\nFFFH\\r\\nHFFG\\r\\n'], [0.5, '\\x1b[2J\\x1b[1;1H  (Up)\\r\\n\\x1b[41mS\\x1b[0mFFF\\r\\nFHFH\\r\\nFFFH\\r\\nHFFG\\r\\n'], [0.5, '\\x1b[2J\\x1b[1;1H  (Up)\\r\\nS\\x1b[41mF\\x1b[0mFF\\r\\nFHFH\\r\\nFFFH\\r\\nHFFG\\r\\n'], [0.5, '\\x1b[2J\\x1b[1;1H\\r\\n\\x1b[41mS\\x1b[0mFFF\\r\\nFHFH\\r\\nFFFH\\r\\nHFFG\\r\\n'], [0.5, '\\x1b[2J\\x1b[1;1H  (Right)\\r\\nSFFF\\r\\n\\x1b[41mF\\x1b[0mHFH\\r\\nFFFH\\r\\nHFFG\\r\\n'], [0.5, '\\x1b[2J\\x1b[1;1H\\r\\n\\x1b[41mS\\x1b[0mFFF\\r\\nFHFH\\r\\nFFFH\\r\\nHFFG\\r\\n'], [0.5, '\\x1b[2J\\x1b[1;1H  (Right)\\r\\n\\x1b[41mS\\x1b[0mFFF\\r\\nFHFH\\r\\nFFFH\\r\\nHFFG\\r\\n'], [0.5, '\\x1b[2J\\x1b[1;1H  (Down)\\r\\n\\x1b[41mS\\x1b[0mFFF\\r\\nFHFH\\r\\nFFFH\\r\\nHFFG\\r\\n'], [0.5, '\\x1b[2J\\x1b[1;1H  (Right)\\r\\n\\x1b[41mS\\x1b[0mFFF\\r\\nFHFH\\r\\nFFFH\\r\\nHFFG\\r\\n'], [0.5, '\\x1b[2J\\x1b[1;1H  (Down)\\r\\nS\\x1b[41mF\\x1b[0mFF\\r\\nFHFH\\r\\nFFFH\\r\\nHFFG\\r\\n']]\n"
     ]
    }
   ],
   "source": [
    "import json\n",
    "\n",
    "from pprint import pprint\n",
    "\n",
    "with open(rec.path) as data_file:    \n",
    "    data = json.load(data_file)\n",
    "\n",
    "print(repr(data['stdout']))"
   ]
  },
  {
   "cell_type": "code",
   "execution_count": 99,
   "metadata": {
    "collapsed": false
   },
   "outputs": [
    {
     "data": {
      "text/html": [
       "\n",
       "<video width=\"960\" height=\"540\" controls>\n",
       "    <source src=\"data:video/mp4;base64,{0}\" type=\"video/mp4\" />\n",
       "</video>"
      ],
      "text/plain": [
       "<IPython.core.display.HTML object>"
      ]
     },
     "execution_count": 99,
     "metadata": {},
     "output_type": "execute_result"
    }
   ],
   "source": [
    "video = io.open(rec.path, 'r+b').read()\n",
    "encoded = base64.b64encode(video)\n",
    "\n",
    "html_tag = \"\"\"\n",
    "<video width=\"960\" height=\"540\" controls>\n",
    "    <source src=\"data:video/mp4;base64,{0}\" type=\"video/mp4\" />\n",
    "</video>\"\"\"\n",
    "html_tag.format(encoded.decode('ascii'))\n",
    "HTML(data=html_tag)"
   ]
  },
  {
   "cell_type": "code",
   "execution_count": null,
   "metadata": {
    "collapsed": true
   },
   "outputs": [],
   "source": []
  },
  {
   "cell_type": "code",
   "execution_count": null,
   "metadata": {
    "collapsed": true
   },
   "outputs": [],
   "source": []
  },
  {
   "cell_type": "code",
   "execution_count": null,
   "metadata": {
    "collapsed": true
   },
   "outputs": [],
   "source": []
  },
  {
   "cell_type": "code",
   "execution_count": null,
   "metadata": {
    "collapsed": true
   },
   "outputs": [],
   "source": []
  },
  {
   "cell_type": "code",
   "execution_count": null,
   "metadata": {
    "collapsed": true
   },
   "outputs": [],
   "source": []
  },
  {
   "cell_type": "code",
   "execution_count": 83,
   "metadata": {
    "collapsed": false,
    "scrolled": false
   },
   "outputs": [
    {
     "data": {
      "text/html": [
       "\n",
       "    <h2>Episode 0<h2/>\n",
       "    <video width=\"960\" height=\"540\" controls>\n",
       "        <source src=\"data:video/mp4;base64,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\" type=\"video/mp4\" />\n",
       "    </video>\n",
       "    <h2>Episode 1<h2/>\n",
       "    <video width=\"960\" height=\"540\" controls>\n",
       "        <source src=\"data:video/mp4;base64,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\" type=\"video/mp4\" />\n",
       "    </video>\n",
       "    <h2>Episode 8<h2/>\n",
       "    <video width=\"960\" height=\"540\" controls>\n",
       "        <source src=\"data:video/mp4;base64,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\" type=\"video/mp4\" />\n",
       "    </video>"
      ],
      "text/plain": [
       "<IPython.core.display.HTML object>"
      ]
     },
     "execution_count": 83,
     "metadata": {},
     "output_type": "execute_result"
    }
   ],
   "source": []
  }
 ],
 "metadata": {
  "kernelspec": {
   "display_name": "Python 3",
   "language": "python",
   "name": "python3"
  },
  "language_info": {
   "codemirror_mode": {
    "name": "ipython",
    "version": 3
   },
   "file_extension": ".py",
   "mimetype": "text/x-python",
   "name": "python",
   "nbconvert_exporter": "python",
   "pygments_lexer": "ipython3",
   "version": "3.5.2"
  }
 },
 "nbformat": 4,
 "nbformat_minor": 2
}
