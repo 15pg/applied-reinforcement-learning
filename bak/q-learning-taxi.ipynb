{
 "cells": [
  {
   "cell_type": "code",
   "execution_count": 1,
   "metadata": {
    "collapsed": false,
    "deletable": true,
    "editable": true
   },
   "outputs": [
    {
     "name": "stderr",
     "output_type": "stream",
     "text": [
      "[2017-03-19 19:26:57,375] Making new env: Taxi-v2\n",
      "[2017-03-19 19:26:57,388] Creating monitor directory /tmp/taxi-v2\n",
      "[2017-03-19 19:26:57,392] Starting new video recorder writing to /tmp/taxi-v2/openaigym.video.0.13911.video000000.json\n",
      "[2017-03-19 19:26:57,423] Starting new video recorder writing to /tmp/taxi-v2/openaigym.video.0.13911.video000001.json\n",
      "[2017-03-19 19:26:57,482] Starting new video recorder writing to /tmp/taxi-v2/openaigym.video.0.13911.video000008.json\n",
      "[2017-03-19 19:26:57,594] Starting new video recorder writing to /tmp/taxi-v2/openaigym.video.0.13911.video000027.json\n",
      "[2017-03-19 19:26:57,753] Starting new video recorder writing to /tmp/taxi-v2/openaigym.video.0.13911.video000064.json\n",
      "[2017-03-19 19:26:57,921] Starting new video recorder writing to /tmp/taxi-v2/openaigym.video.0.13911.video000125.json\n",
      "[2017-03-19 19:26:58,046] Starting new video recorder writing to /tmp/taxi-v2/openaigym.video.0.13911.video000216.json\n",
      "[2017-03-19 19:26:58,211] Starting new video recorder writing to /tmp/taxi-v2/openaigym.video.0.13911.video000343.json\n",
      "[2017-03-19 19:26:58,471] Starting new video recorder writing to /tmp/taxi-v2/openaigym.video.0.13911.video000512.json\n",
      "[2017-03-19 19:26:58,674] Starting new video recorder writing to /tmp/taxi-v2/openaigym.video.0.13911.video000729.json\n"
     ]
    }
   ],
   "source": [
    "import gym\n",
    "import numpy as np\n",
    "\n",
    "from gym import wrappers\n",
    "\n",
    "alpha = 0.9\n",
    "gamma = 0.9\n",
    "\n",
    "env = gym.make('Taxi-v2')\n",
    "env = wrappers.Monitor(env, '/tmp/taxi-v2', force=True)\n",
    "\n",
    "q = np.random.random((env.env.observation_space.n, \n",
    "                      env.env.action_space.n))\n",
    "\n",
    "def exploration(episode):\n",
    "    return 0.5 if episode < 10000 else 0.999\n",
    "\n",
    "for episode in range(1000):\n",
    "    state = env.reset()\n",
    "\n",
    "    while True:\n",
    "        if np.random.random() > exploration(episode):\n",
    "            action = env.action_space.sample()\n",
    "        else:\n",
    "            action = np.argmax(q[state])\n",
    "        nstate, reward, done, _ = env.step(action)\n",
    "        if done:\n",
    "            q[state][action] = q[state][action] + alpha * (reward - q[state][action])\n",
    "            break\n",
    "        else:\n",
    "            q[state][action] = q[state][action] + alpha * (reward + gamma * q[nstate].max() - q[state][action])\n",
    "        state = nstate\n",
    "        #env.render()"
   ]
  },
  {
   "cell_type": "code",
   "execution_count": 2,
   "metadata": {
    "collapsed": false,
    "deletable": true,
    "editable": true
   },
   "outputs": [
    {
     "data": {
      "text/plain": [
       "'/tmp/taxi-v2/openaigym.video.0.13911.video000729.json'"
      ]
     },
     "execution_count": 2,
     "metadata": {},
     "output_type": "execute_result"
    }
   ],
   "source": [
    "env.videos[-1][0]"
   ]
  },
  {
   "cell_type": "code",
   "execution_count": 3,
   "metadata": {
    "collapsed": false,
    "deletable": true,
    "editable": true
   },
   "outputs": [],
   "source": [
    "from subprocess import check_output\n",
    "\n",
    "out = check_output([\"asciinema\", \"upload\", env.videos[-1][0]])\n",
    "out = out.decode(\"utf-8\").replace('\\n', '').replace('\\r', '')"
   ]
  },
  {
   "cell_type": "code",
   "execution_count": 4,
   "metadata": {
    "collapsed": false,
    "deletable": true,
    "editable": true
   },
   "outputs": [
    {
     "name": "stdout",
     "output_type": "stream",
     "text": [
      "https://asciinema.org/a/3l08dbt8yces9u9pty6lu725s\n"
     ]
    }
   ],
   "source": [
    "print(out)"
   ]
  },
  {
   "cell_type": "code",
   "execution_count": 5,
   "metadata": {
    "collapsed": false,
    "deletable": true,
    "editable": true
   },
   "outputs": [
    {
     "data": {
      "text/plain": [
       "'3l08dbt8yces9u9pty6lu725s'"
      ]
     },
     "execution_count": 5,
     "metadata": {},
     "output_type": "execute_result"
    }
   ],
   "source": [
    "castid = out.split('/')[-1]\n",
    "castid"
   ]
  },
  {
   "cell_type": "code",
   "execution_count": 6,
   "metadata": {
    "collapsed": false,
    "deletable": true,
    "editable": true
   },
   "outputs": [
    {
     "data": {
      "text/html": [
       "\n",
       "<script type=\"text/javascript\" \n",
       "    src=\"https://asciinema.org/a/3l08dbt8yces9u9pty6lu725s.js\" \n",
       "    id=\"asciicast-3l08dbt8yces9u9pty6lu725s\" \n",
       "    async data-autoplay=\"true\" data-size=\"big\">\n",
       "</script>\n"
      ],
      "text/plain": [
       "<IPython.core.display.HTML object>"
      ]
     },
     "execution_count": 6,
     "metadata": {},
     "output_type": "execute_result"
    }
   ],
   "source": [
    "from IPython.display import HTML\n",
    "\n",
    "html_tag = \"\"\"\n",
    "<script type=\"text/javascript\" \n",
    "    src=\"https://asciinema.org/a/{0}.js\" \n",
    "    id=\"asciicast-{0}\" \n",
    "    async data-autoplay=\"true\" data-size=\"big\">\n",
    "</script>\n",
    "\"\"\"\n",
    "html_tag = html_tag.format(castid)\n",
    "HTML(data=html_tag)"
   ]
  }
 ],
 "metadata": {
  "kernelspec": {
   "display_name": "appliedrl",
   "language": "python",
   "name": "appliedrl"
  },
  "language_info": {
   "codemirror_mode": {
    "name": "ipython",
    "version": 3
   },
   "file_extension": ".py",
   "mimetype": "text/x-python",
   "name": "python",
   "nbconvert_exporter": "python",
   "pygments_lexer": "ipython3",
   "version": "3.6.0"
  }
 },
 "nbformat": 4,
 "nbformat_minor": 2
}
