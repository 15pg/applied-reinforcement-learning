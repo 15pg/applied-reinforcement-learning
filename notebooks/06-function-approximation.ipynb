{
 "cells": [
  {
   "cell_type": "markdown",
   "metadata": {
    "deletable": true,
    "editable": true
   },
   "source": [
    "### Function Approximation"
   ]
  },
  {
   "cell_type": "code",
   "execution_count": null,
   "metadata": {
    "collapsed": false,
    "deletable": true,
    "editable": true
   },
   "outputs": [],
   "source": [
    "import numpy as np\n",
    "import pandas as pd\n",
    "import matplotlib.pyplot as plt\n",
    "\n",
    "import tempfile\n",
    "import base64\n",
    "import pprint\n",
    "import random\n",
    "import json\n",
    "import sys\n",
    "import gym\n",
    "import io\n",
    "\n",
    "from gym import wrappers\n",
    "from collections import deque\n",
    "from subprocess import check_output\n",
    "from IPython.display import HTML\n",
    "\n",
    "from keras.models import Sequential\n",
    "from keras.layers import Dense\n",
    "from keras.optimizers import RMSprop"
   ]
  },
  {
   "cell_type": "code",
   "execution_count": null,
   "metadata": {
    "collapsed": false,
    "deletable": true,
    "editable": true
   },
   "outputs": [],
   "source": [
    "def action_selection(state, model, episode, n_episodes):\n",
    "    epsilon = 0.99 if episode < n_episodes//4 else 0.33 if episode < n_episodes//2 else 0.\n",
    "    values = model.predict(state.reshape(1, 4))[0]\n",
    "    if np.random.random() < epsilon:\n",
    "        action = np.random.randint(len(values))\n",
    "    else:\n",
    "        action = np.argmax(values)\n",
    "    return action, epsilon"
   ]
  },
  {
   "cell_type": "code",
   "execution_count": null,
   "metadata": {
    "collapsed": true,
    "deletable": true,
    "editable": true
   },
   "outputs": [],
   "source": [
    "def neuro_q_learning(env, gamma = 0.9):\n",
    "    nS = env.observation_space.shape[0]\n",
    "    nA = env.env.action_space.n\n",
    "    \n",
    "    memory_bank = deque()\n",
    "    memory_bank_size = 5000\n",
    "    \n",
    "    model = Sequential()\n",
    "    model.add(Dense(128, input_dim=nS, activation='relu'))\n",
    "    model.add(Dense(64, activation='relu', init='uniform'))\n",
    "    model.add(Dense(nA, activation='linear'))\n",
    "    model.compile(loss='mse', optimizer='adam')\n",
    "\n",
    "    n_episodes = 50000\n",
    "    batch_size = 64\n",
    "    training_frequency = 25\n",
    "    \n",
    "    epsilons = []\n",
    "    states = []\n",
    "    actions = []\n",
    "    for episode in range(n_episodes):\n",
    "        state = env.reset()\n",
    "        done = False\n",
    "        while not done:\n",
    "            states.append(state)\n",
    "            \n",
    "            action, epsilon = action_selection(state, model, episode, n_episodes)\n",
    "            epsilons.append(epsilon)\n",
    "            actions.append(action)\n",
    "            \n",
    "            nstate, reward, done, info = env.step(action)\n",
    "            memory_bank.append((state, action, reward, nstate, done))\n",
    "            if len(memory_bank) > memory_bank_size:\n",
    "                memory_bank.popleft()\n",
    "                \n",
    "            state = nstate\n",
    "\n",
    "        if episode % training_frequency == 0 and len(memory_bank) > batch_size:\n",
    "            minibatch = np.array(random.sample(memory_bank, batch_size))\n",
    "\n",
    "            state_batch = np.array(minibatch[:,0].tolist())\n",
    "            action_batch = np.array(minibatch[:,1].tolist())\n",
    "            rewards_batch = np.array(minibatch[:,2].tolist())\n",
    "            state_prime_batch = np.array(minibatch[:,3].tolist())\n",
    "            is_terminal_batch = np.array(minibatch[:,4].tolist())\n",
    "\n",
    "            state_value_batch = model.predict(state_batch)\n",
    "            next_state_value_batch = model.predict(state_prime_batch)\n",
    "\n",
    "            for i in range(len(minibatch)):\n",
    "                if is_terminal_batch[i]:\n",
    "                    state_value_batch[i, action_batch[i]] = rewards_batch[i]\n",
    "                else:\n",
    "                    state_value_batch[i, action_batch[i]] = rewards_batch[i] + gamma * np.max(next_state_value_batch[i])\n",
    "\n",
    "            model.train_on_batch(state_batch, state_value_batch)\n",
    "\n",
    "    return model, (epsilons, states, actions)"
   ]
  },
  {
   "cell_type": "code",
   "execution_count": null,
   "metadata": {
    "collapsed": false,
    "deletable": true,
    "editable": true,
    "scrolled": true
   },
   "outputs": [
    {
     "name": "stderr",
     "output_type": "stream",
     "text": [
      "[2017-04-23 02:04:58,545] Making new env: CartPole-v0\n",
      "/opt/conda/lib/python3.5/site-packages/ipykernel/__main__.py:10: UserWarning: Update your `Dense` call to the Keras 2 API: `Dense(64, activation=\"relu\", kernel_initializer=\"uniform\")`\n",
      "[2017-04-23 02:04:58,871] Starting new video recorder writing to /tmp/tmp9b25_tg_/openaigym.video.0.1201.video000000.mp4\n",
      "[2017-04-23 02:05:00,236] Starting new video recorder writing to /tmp/tmp9b25_tg_/openaigym.video.0.1201.video000001.mp4\n",
      "[2017-04-23 02:05:00,739] Starting new video recorder writing to /tmp/tmp9b25_tg_/openaigym.video.0.1201.video000008.mp4\n",
      "[2017-04-23 02:05:02,804] Starting new video recorder writing to /tmp/tmp9b25_tg_/openaigym.video.0.1201.video000027.mp4\n",
      "[2017-04-23 02:05:03,952] Starting new video recorder writing to /tmp/tmp9b25_tg_/openaigym.video.0.1201.video000064.mp4\n",
      "[2017-04-23 02:05:05,876] Starting new video recorder writing to /tmp/tmp9b25_tg_/openaigym.video.0.1201.video000125.mp4\n",
      "[2017-04-23 02:05:08,640] Starting new video recorder writing to /tmp/tmp9b25_tg_/openaigym.video.0.1201.video000216.mp4\n",
      "[2017-04-23 02:05:12,901] Starting new video recorder writing to /tmp/tmp9b25_tg_/openaigym.video.0.1201.video000343.mp4\n",
      "[2017-04-23 02:05:17,168] Starting new video recorder writing to /tmp/tmp9b25_tg_/openaigym.video.0.1201.video000512.mp4\n",
      "[2017-04-23 02:05:23,595] Starting new video recorder writing to /tmp/tmp9b25_tg_/openaigym.video.0.1201.video000729.mp4\n",
      "[2017-04-23 02:05:30,611] Starting new video recorder writing to /tmp/tmp9b25_tg_/openaigym.video.0.1201.video001000.mp4\n"
     ]
    }
   ],
   "source": [
    "mdir = tempfile.mkdtemp()\n",
    "env = gym.make('CartPole-v0')\n",
    "env = wrappers.Monitor(env, mdir, force=True)\n",
    "\n",
    "model, stats = neuro_q_learning(env)"
   ]
  },
  {
   "cell_type": "code",
   "execution_count": null,
   "metadata": {
    "collapsed": false,
    "deletable": true,
    "editable": true,
    "scrolled": false
   },
   "outputs": [],
   "source": [
    "videos = np.array(env.videos)\n",
    "n_videos = 10\n",
    "\n",
    "idxs = np.linspace(0, len(videos) - 1, n_videos).astype(int)\n",
    "videos = videos[idxs,:]\n",
    "\n",
    "strm = ''\n",
    "for video_path, meta_path in videos:\n",
    "    video = io.open(video_path, 'r+b').read()\n",
    "    encoded = base64.b64encode(video)\n",
    "    \n",
    "    with open(meta_path) as data_file:    \n",
    "        meta = json.load(data_file)\n",
    "\n",
    "    html_tag = \"\"\"\n",
    "    <h2>{0}<h2/>\n",
    "    <video width=\"960\" height=\"540\" controls>\n",
    "        <source src=\"data:video/mp4;base64,{1}\" type=\"video/mp4\" />\n",
    "    </video>\"\"\"\n",
    "    strm += html_tag.format('Episode ' + str(meta['episode_id']), encoded.decode('ascii'))\n",
    "HTML(data=strm)"
   ]
  },
  {
   "cell_type": "code",
   "execution_count": null,
   "metadata": {
    "collapsed": false,
    "deletable": true,
    "editable": true
   },
   "outputs": [],
   "source": [
    "epsilons, states, actions = stats"
   ]
  },
  {
   "cell_type": "code",
   "execution_count": null,
   "metadata": {
    "collapsed": false,
    "deletable": true,
    "editable": true
   },
   "outputs": [],
   "source": [
    "env.close()"
   ]
  },
  {
   "cell_type": "code",
   "execution_count": null,
   "metadata": {
    "collapsed": false,
    "deletable": true,
    "editable": true
   },
   "outputs": [],
   "source": [
    "gym.upload(mdir, api_key='sk_2Z7ZMK8RRaiIU5WVirHYGg')"
   ]
  },
  {
   "cell_type": "code",
   "execution_count": null,
   "metadata": {
    "collapsed": false,
    "deletable": true,
    "editable": true
   },
   "outputs": [],
   "source": [
    "plt.plot(np.arange(len(epsilons)), epsilons, '.')"
   ]
  },
  {
   "cell_type": "code",
   "execution_count": null,
   "metadata": {
    "collapsed": false,
    "deletable": true,
    "editable": true
   },
   "outputs": [],
   "source": [
    "hist, bins = np.histogram(actions, bins=3)\n",
    "width = 0.7 * (bins[1] - bins[0])\n",
    "center = (bins[:-1] + bins[1:]) / 2\n",
    "plt.bar(center, hist, align='center', width=width)\n",
    "plt.show()"
   ]
  },
  {
   "cell_type": "markdown",
   "metadata": {
    "deletable": true,
    "editable": true
   },
   "source": [
    "### Test"
   ]
  },
  {
   "cell_type": "code",
   "execution_count": null,
   "metadata": {
    "collapsed": false,
    "deletable": true,
    "editable": true
   },
   "outputs": [],
   "source": [
    "mdir = tempfile.mkdtemp()\n",
    "env = gym.make('CartPole-v0')\n",
    "env = wrappers.Monitor(env, mdir, force=True)\n",
    "\n",
    "for episode in range(1000):\n",
    "    state = env.reset()\n",
    "    done = False\n",
    "    while not done:\n",
    "        action = np.argmax(model.predict(state.reshape(1, 4))[0])\n",
    "        nstate, reward, done, info = env.step(action)\n",
    "        state = nstate\n",
    "\n",
    "env.close()"
   ]
  },
  {
   "cell_type": "code",
   "execution_count": null,
   "metadata": {
    "collapsed": false,
    "deletable": true,
    "editable": true
   },
   "outputs": [],
   "source": [
    "gym.upload(mdir, api_key='sk_2Z7ZMK8RRaiIU5WVirHYGg')"
   ]
  },
  {
   "cell_type": "code",
   "execution_count": null,
   "metadata": {
    "collapsed": true,
    "deletable": true,
    "editable": true
   },
   "outputs": [],
   "source": [
    "gym.upload(mdir, api_key='<YOUR API KEY>')"
   ]
  }
 ],
 "metadata": {
  "kernelspec": {
   "display_name": "Python 3",
   "language": "python",
   "name": "python3"
  },
  "language_info": {
   "codemirror_mode": {
    "name": "ipython",
    "version": 3
   },
   "file_extension": ".py",
   "mimetype": "text/x-python",
   "name": "python",
   "nbconvert_exporter": "python",
   "pygments_lexer": "ipython3",
   "version": "3.5.2"
  }
 },
 "nbformat": 4,
 "nbformat_minor": 2
}
