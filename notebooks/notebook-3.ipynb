{
 "cells": [
  {
   "cell_type": "markdown",
   "metadata": {
    "deletable": true,
    "editable": true
   },
   "source": [
    "### Planning Algorithms"
   ]
  },
  {
   "cell_type": "code",
   "execution_count": 2,
   "metadata": {
    "collapsed": false,
    "deletable": true,
    "editable": true
   },
   "outputs": [],
   "source": [
    "import numpy as np\n",
    "import pprint\n",
    "import json\n",
    "import sys\n",
    "import gym\n",
    "\n",
    "#from gym import wrappers\n",
    "from subprocess import check_output\n",
    "from IPython.display import HTML"
   ]
  },
  {
   "cell_type": "markdown",
   "metadata": {
    "deletable": true,
    "editable": true
   },
   "source": [
    "#### Policy Evaluation"
   ]
  },
  {
   "cell_type": "code",
   "execution_count": 3,
   "metadata": {
    "collapsed": true,
    "deletable": true,
    "editable": true
   },
   "outputs": [],
   "source": [
    "def policy_evaluation(policy, env, discount_factor=.75, theta=0.000001):\n",
    "    V = np.zeros(env.nS)\n",
    "    # print('evaluating policy')\n",
    "    while True:\n",
    "        delta = 0\n",
    "        # For each state, perform a \"full backup\"\n",
    "        for s in range(env.nS):\n",
    "            v = 0\n",
    "            # Look at the possible next actions\n",
    "            for a, action_prob in enumerate(policy[s]):\n",
    "                # For each action, look at the possible next states...\n",
    "                for  prob, next_state, reward, done in env.P[s][a]:\n",
    "                    # Calculate the expected value\n",
    "                    v += action_prob * prob * (reward + discount_factor * V[next_state] * (not done))\n",
    "                    # print(s, a, prob, next_state, reward, done, v)\n",
    "            # How much our value function changed (across any states)\n",
    "            delta = max(delta, np.abs(v - V[s]))\n",
    "            # print(delta)\n",
    "            V[s] = v\n",
    "        # Stop evaluating once our value function change is below a threshold\n",
    "        if delta < theta:\n",
    "            break\n",
    "    return np.array(V)"
   ]
  },
  {
   "cell_type": "markdown",
   "metadata": {
    "deletable": true,
    "editable": true
   },
   "source": [
    "#### Policy Improvement"
   ]
  },
  {
   "cell_type": "code",
   "execution_count": 4,
   "metadata": {
    "collapsed": true,
    "deletable": true,
    "editable": true
   },
   "outputs": [],
   "source": [
    "def policy_improvement(env, policy_eval_fn=policy_evaluation, discount_factor=0.75):\n",
    "    # Start with a random policy\n",
    "    policy = np.random.random([env.nS, env.nA])\n",
    "\n",
    "    iterations = 0\n",
    "    while True:\n",
    "        # Evaluate the current policy\n",
    "        V = policy_eval_fn(policy, env, discount_factor)\n",
    "        iterations += 1\n",
    "        # Will be set to false if we make any changes to the policy\n",
    "        policy_stable = True\n",
    "        # For each state...\n",
    "        for s in range(env.nS):\n",
    "            # The best action we would take under the currect policy\n",
    "            chosen_a = np.argmax(policy[s])\n",
    "\n",
    "            # Find the best action by one-step lookahead\n",
    "            # Ties are resolved arbitarily\n",
    "            action_values = np.zeros(env.nA)\n",
    "            for a in range(env.nA):\n",
    "                for prob, next_state, reward, done in env.P[s][a]:\n",
    "                    action_values[a] += prob * (reward + discount_factor * V[next_state])\n",
    "            best_a = np.argmax(action_values)\n",
    "\n",
    "            # Greedily update the policy\n",
    "            if chosen_a != best_a:\n",
    "                policy_stable = False\n",
    "            policy[s] = np.eye(env.nA)[best_a]\n",
    "\n",
    "        # If the policy is stable we've found an optimal policy. Return it\n",
    "        if policy_stable:\n",
    "            return policy, V, iterations"
   ]
  },
  {
   "cell_type": "markdown",
   "metadata": {
    "deletable": true,
    "editable": true
   },
   "source": [
    "#### Policy Iteration"
   ]
  },
  {
   "cell_type": "code",
   "execution_count": null,
   "metadata": {
    "collapsed": true,
    "deletable": true,
    "editable": true
   },
   "outputs": [],
   "source": []
  },
  {
   "cell_type": "markdown",
   "metadata": {
    "deletable": true,
    "editable": true
   },
   "source": [
    "#### Value Iteration"
   ]
  },
  {
   "cell_type": "code",
   "execution_count": 6,
   "metadata": {
    "collapsed": false,
    "deletable": true,
    "editable": true
   },
   "outputs": [
    {
     "name": "stderr",
     "output_type": "stream",
     "text": [
      "[2017-03-27 19:03:41,332] Making new env: Taxi-v1\n"
     ]
    },
    {
     "ename": "AttributeError",
     "evalue": "'TaxiEnv' object has no attribute 'env'",
     "output_type": "error",
     "traceback": [
      "\u001b[0;31m\u001b[0m",
      "\u001b[0;31mAttributeError\u001b[0mTraceback (most recent call last)",
      "\u001b[0;32m<ipython-input-6-f9998b18919d>\u001b[0m in \u001b[0;36m<module>\u001b[0;34m()\u001b[0m\n\u001b[1;32m     48\u001b[0m     \u001b[0mobservation\u001b[0m \u001b[0;34m=\u001b[0m \u001b[0menv\u001b[0m\u001b[0;34m.\u001b[0m\u001b[0mreset\u001b[0m\u001b[0;34m(\u001b[0m\u001b[0;34m)\u001b[0m\u001b[0;34m\u001b[0m\u001b[0m\n\u001b[1;32m     49\u001b[0m \u001b[0;34m\u001b[0m\u001b[0m\n\u001b[0;32m---> 50\u001b[0;31m     \u001b[0mv\u001b[0m \u001b[0;34m=\u001b[0m \u001b[0mnp\u001b[0m\u001b[0;34m.\u001b[0m\u001b[0mzeros\u001b[0m\u001b[0;34m(\u001b[0m\u001b[0menv\u001b[0m\u001b[0;34m.\u001b[0m\u001b[0menv\u001b[0m\u001b[0;34m.\u001b[0m\u001b[0mobservation_space\u001b[0m\u001b[0;34m.\u001b[0m\u001b[0mn\u001b[0m\u001b[0;34m)\u001b[0m\u001b[0;34m\u001b[0m\u001b[0m\n\u001b[0m\u001b[1;32m     51\u001b[0m     q = np.zeros((env.env.observation_space.n, \n\u001b[1;32m     52\u001b[0m                   env.env.action_space.n))\n",
      "\u001b[0;31mAttributeError\u001b[0m: 'TaxiEnv' object has no attribute 'env'"
     ]
    }
   ],
   "source": [
    "def iterate_value_function(v_inp, q_inp, gamma, env):\n",
    "    \n",
    "    nstates = env.env.observation_space.n\n",
    "    nactions = env.env.action_space.n\n",
    "    \n",
    "    ret = np.zeros(nstates)\n",
    "    retq = np.zeros((nstates, nactions))\n",
    "\n",
    "    for sid in range(nstates):\n",
    "        temp_v = np.zeros(nactions)\n",
    "        for action in range(nactions):\n",
    "            for (prob, dst_state, reward, is_final) in env.env.env.P[sid][action]:\n",
    "                if is_final:\n",
    "                    temp_v[action] = temp_v[action] + prob * (reward)\n",
    "                else:\n",
    "                    temp_v[action] = temp_v[action] + prob * (reward + gamma * v_inp[dst_state])\n",
    "        retq[sid] = temp_v\n",
    "        ret[sid] = max(temp_v)\n",
    "    return ret, retq\n",
    "\n",
    "def build_greedy_policy(v_inp, gamma, env):\n",
    "    nstates = env.env.observation_space.n\n",
    "    nactions = env.env.action_space.n\n",
    "    \n",
    "    new_policy = np.zeros(nstates)\n",
    "    \n",
    "    for state_id in range(nstates):\n",
    "        profits = np.zeros(nactions)\n",
    "        for action in range(nactions):\n",
    "            for (prob, dst_state, reward, is_final) in env.env.env.P[state_id][action]:\n",
    "                profits[action] += prob*(reward + gamma*v[dst_state])\n",
    "        new_policy[state_id] = np.argmax(profits)\n",
    "    return new_policy\n",
    "\n",
    "\n",
    "env = gym.make('Taxi-v1')\n",
    "#env = wrappers.Monitor(env, '/tmp/', force=True)\n",
    "\n",
    "gamma = 0.9\n",
    "cum_reward = 0\n",
    "n_rounds = 1000\n",
    "\n",
    "# solve the world with value iteration \n",
    "# (without interacting with the environment)\n",
    "\n",
    "for t_rounds in range(n_rounds):\n",
    "    # init env and value function\n",
    "    observation = env.reset()\n",
    "    \n",
    "    v = np.zeros(env.env.observation_space.n)\n",
    "    q = np.zeros((env.env.observation_space.n, \n",
    "                  env.env.action_space.n))\n",
    "\n",
    "    # solve MDP\n",
    "    for _ in range(200):\n",
    "        v_old = v.copy()\n",
    "        q_old = q.copy()\n",
    "        v, q = iterate_value_function(v, q, gamma, env)\n",
    "        if np.all(v == v_old):\n",
    "            break\n",
    "    policy = build_greedy_policy(v, gamma, env).astype(np.int)\n",
    "\n",
    "    # apply policy\n",
    "    for t in range(1000):\n",
    "        action = policy[observation]\n",
    "        observation, reward, done, info = env.step(action)\n",
    "        cum_reward += reward\n",
    "        if done:\n",
    "            break\n",
    "    if t_rounds % 50 == 0 and t_rounds > 0:\n",
    "        print(cum_reward * 1.0 / (t_rounds + 1))\n",
    "\n",
    "np.set_printoptions(threshold=np.nan)\n",
    "print('v states')\n",
    "#print(v.tolist())\n",
    "print('q values')\n",
    "#print(q.tolist())\n"
   ]
  },
  {
   "cell_type": "code",
   "execution_count": 5,
   "metadata": {
    "collapsed": false,
    "deletable": true,
    "editable": true
   },
   "outputs": [
    {
     "name": "stderr",
     "output_type": "stream",
     "text": [
      "[2017-03-24 15:09:25,380] Starting new video recorder writing to /tmp/openaigym.video.0.36.video001000.json\n"
     ]
    }
   ],
   "source": [
    "# act greedily\n",
    "for episode in range(10):\n",
    "    state = env.reset()\n",
    "\n",
    "    while True:\n",
    "        action = np.argmax(q[state])\n",
    "        _, _, done, _ = env.step(action)\n",
    "        if done:\n",
    "            break"
   ]
  },
  {
   "cell_type": "code",
   "execution_count": 6,
   "metadata": {
    "collapsed": false,
    "deletable": true,
    "editable": true
   },
   "outputs": [
    {
     "data": {
      "text/plain": [
       "'/tmp/openaigym.video.0.36.video001000.json'"
      ]
     },
     "execution_count": 6,
     "metadata": {},
     "output_type": "execute_result"
    }
   ],
   "source": [
    "env.videos[-1][0]"
   ]
  },
  {
   "cell_type": "code",
   "execution_count": 7,
   "metadata": {
    "collapsed": true,
    "deletable": true,
    "editable": true
   },
   "outputs": [],
   "source": [
    "out = check_output([\"asciinema\", \"upload\", env.videos[-1][0]])\n",
    "out = out.decode(\"utf-8\").replace('\\n', '').replace('\\r', '')"
   ]
  },
  {
   "cell_type": "code",
   "execution_count": 8,
   "metadata": {
    "collapsed": false,
    "deletable": true,
    "editable": true
   },
   "outputs": [
    {
     "name": "stdout",
     "output_type": "stream",
     "text": [
      "https://asciinema.org/a/elglsxzuwzhbmtzhbcjk9nc9a\n"
     ]
    }
   ],
   "source": [
    "print(out)"
   ]
  },
  {
   "cell_type": "code",
   "execution_count": 9,
   "metadata": {
    "collapsed": false,
    "deletable": true,
    "editable": true
   },
   "outputs": [
    {
     "data": {
      "text/plain": [
       "'elglsxzuwzhbmtzhbcjk9nc9a'"
      ]
     },
     "execution_count": 9,
     "metadata": {},
     "output_type": "execute_result"
    }
   ],
   "source": [
    "castid = out.split('/')[-1]\n",
    "castid"
   ]
  },
  {
   "cell_type": "code",
   "execution_count": 10,
   "metadata": {
    "collapsed": false,
    "deletable": true,
    "editable": true
   },
   "outputs": [
    {
     "data": {
      "text/html": [
       "\n",
       "<script type=\"text/javascript\" \n",
       "    src=\"https://asciinema.org/a/elglsxzuwzhbmtzhbcjk9nc9a.js\" \n",
       "    id=\"asciicast-elglsxzuwzhbmtzhbcjk9nc9a\" \n",
       "    async data-autoplay=\"true\" data-size=\"big\">\n",
       "</script>\n"
      ],
      "text/plain": [
       "<IPython.core.display.HTML object>"
      ]
     },
     "execution_count": 10,
     "metadata": {},
     "output_type": "execute_result"
    }
   ],
   "source": [
    "html_tag = \"\"\"\n",
    "<script type=\"text/javascript\" \n",
    "    src=\"https://asciinema.org/a/{0}.js\" \n",
    "    id=\"asciicast-{0}\" \n",
    "    async data-autoplay=\"true\" data-size=\"big\">\n",
    "</script>\n",
    "\"\"\"\n",
    "html_tag = html_tag.format(castid)\n",
    "HTML(data=html_tag)"
   ]
  },
  {
   "cell_type": "code",
   "execution_count": null,
   "metadata": {
    "collapsed": true
   },
   "outputs": [],
   "source": []
  },
  {
   "cell_type": "code",
   "execution_count": null,
   "metadata": {
    "collapsed": true
   },
   "outputs": [],
   "source": []
  },
  {
   "cell_type": "code",
   "execution_count": null,
   "metadata": {
    "collapsed": true
   },
   "outputs": [],
   "source": []
  },
  {
   "cell_type": "code",
   "execution_count": null,
   "metadata": {
    "collapsed": true
   },
   "outputs": [],
   "source": []
  },
  {
   "cell_type": "code",
   "execution_count": null,
   "metadata": {
    "collapsed": true
   },
   "outputs": [],
   "source": []
  },
  {
   "cell_type": "code",
   "execution_count": null,
   "metadata": {
    "collapsed": true
   },
   "outputs": [],
   "source": []
  },
  {
   "cell_type": "code",
   "execution_count": null,
   "metadata": {
    "collapsed": true
   },
   "outputs": [],
   "source": []
  },
  {
   "cell_type": "code",
   "execution_count": 9,
   "metadata": {
    "collapsed": false,
    "scrolled": true
   },
   "outputs": [
    {
     "name": "stderr",
     "output_type": "stream",
     "text": [
      "[2017-03-27 19:19:21,581] Making new env: CartPole-v0\n",
      "[2017-03-27 19:19:21,586] Creating monitor directory ./cartpole-experiment-1\n",
      "[2017-03-27 19:19:21,590] Starting new video recorder writing to /mnt/notebooks/cartpole-experiment-1/openaigym.video.0.49.video000000.mp4\n",
      "[2017-03-27 19:19:22,409] Starting new video recorder writing to /mnt/notebooks/cartpole-experiment-1/openaigym.video.0.49.video000001.mp4\n",
      "[2017-03-27 19:19:22,600] Starting new video recorder writing to /mnt/notebooks/cartpole-experiment-1/openaigym.video.0.49.video000008.mp4\n",
      "[2017-03-27 19:19:23,155] Starting new video recorder writing to /mnt/notebooks/cartpole-experiment-1/openaigym.video.0.49.video000027.mp4\n",
      "[2017-03-27 19:19:24,055] Starting new video recorder writing to /mnt/notebooks/cartpole-experiment-1/openaigym.video.0.49.video000064.mp4\n",
      "[2017-03-27 19:19:25,189] Starting new video recorder writing to /mnt/notebooks/cartpole-experiment-1/openaigym.video.0.49.video000125.mp4\n",
      "[2017-03-27 19:19:27,387] Starting new video recorder writing to /mnt/notebooks/cartpole-experiment-1/openaigym.video.0.49.video000216.mp4\n",
      "[2017-03-27 19:19:30,157] Starting new video recorder writing to /mnt/notebooks/cartpole-experiment-1/openaigym.video.0.49.video000343.mp4\n",
      "[2017-03-27 19:19:33,099] Starting new video recorder writing to /mnt/notebooks/cartpole-experiment-1/openaigym.video.0.49.video000512.mp4\n",
      "[2017-03-27 19:19:36,453] Starting new video recorder writing to /mnt/notebooks/cartpole-experiment-1/openaigym.video.0.49.video000729.mp4\n",
      "[2017-03-27 19:19:41,432] Starting new video recorder writing to /mnt/notebooks/cartpole-experiment-1/openaigym.video.0.49.video001000.mp4\n",
      "[2017-03-27 19:19:55,856] Starting new video recorder writing to /mnt/notebooks/cartpole-experiment-1/openaigym.video.0.49.video002000.mp4\n",
      "[2017-03-27 19:20:15,780] Starting new video recorder writing to /mnt/notebooks/cartpole-experiment-1/openaigym.video.0.49.video003000.mp4\n",
      "[2017-03-27 19:20:36,890] Starting new video recorder writing to /mnt/notebooks/cartpole-experiment-1/openaigym.video.0.49.video004000.mp4\n",
      "[2017-03-27 19:21:03,513] Starting new video recorder writing to /mnt/notebooks/cartpole-experiment-1/openaigym.video.0.49.video005000.mp4\n",
      "[2017-03-27 19:21:31,564] Starting new video recorder writing to /mnt/notebooks/cartpole-experiment-1/openaigym.video.0.49.video006000.mp4\n",
      "[2017-03-27 19:22:04,477] Starting new video recorder writing to /mnt/notebooks/cartpole-experiment-1/openaigym.video.0.49.video007000.mp4\n",
      "[2017-03-27 19:22:43,629] Starting new video recorder writing to /mnt/notebooks/cartpole-experiment-1/openaigym.video.0.49.video008000.mp4\n"
     ]
    },
    {
     "ename": "KeyboardInterrupt",
     "evalue": "",
     "output_type": "error",
     "traceback": [
      "\u001b[0;31m\u001b[0m",
      "\u001b[0;31mKeyboardInterrupt\u001b[0mTraceback (most recent call last)",
      "\u001b[0;32m<ipython-input-9-c72ba3b2d0b8>\u001b[0m in \u001b[0;36m<module>\u001b[0;34m()\u001b[0m\n\u001b[1;32m    138\u001b[0m \u001b[0;32mif\u001b[0m \u001b[0m__name__\u001b[0m \u001b[0;34m==\u001b[0m \u001b[0;34m\"__main__\"\u001b[0m\u001b[0;34m:\u001b[0m\u001b[0;34m\u001b[0m\u001b[0m\n\u001b[1;32m    139\u001b[0m     \u001b[0mrandom\u001b[0m\u001b[0;34m.\u001b[0m\u001b[0mseed\u001b[0m\u001b[0;34m(\u001b[0m\u001b[0;36m0\u001b[0m\u001b[0;34m)\u001b[0m\u001b[0;34m\u001b[0m\u001b[0m\n\u001b[0;32m--> 140\u001b[0;31m     \u001b[0mcart_pole_with_qlearning\u001b[0m\u001b[0;34m(\u001b[0m\u001b[0;34m)\u001b[0m\u001b[0;34m\u001b[0m\u001b[0m\n\u001b[0m",
      "\u001b[0;32m<ipython-input-9-c72ba3b2d0b8>\u001b[0m in \u001b[0;36mcart_pole_with_qlearning\u001b[0;34m()\u001b[0m\n\u001b[1;32m     97\u001b[0m \u001b[0;34m\u001b[0m\u001b[0m\n\u001b[1;32m     98\u001b[0m     \u001b[0;32mfor\u001b[0m \u001b[0mepisode\u001b[0m \u001b[0;32min\u001b[0m \u001b[0mxrange\u001b[0m\u001b[0;34m(\u001b[0m\u001b[0;36m50000\u001b[0m\u001b[0;34m)\u001b[0m\u001b[0;34m:\u001b[0m\u001b[0;34m\u001b[0m\u001b[0m\n\u001b[0;32m---> 99\u001b[0;31m         \u001b[0mobservation\u001b[0m \u001b[0;34m=\u001b[0m \u001b[0menv\u001b[0m\u001b[0;34m.\u001b[0m\u001b[0mreset\u001b[0m\u001b[0;34m(\u001b[0m\u001b[0;34m)\u001b[0m\u001b[0;34m\u001b[0m\u001b[0m\n\u001b[0m\u001b[1;32m    100\u001b[0m         \u001b[0mcart_position\u001b[0m\u001b[0;34m,\u001b[0m \u001b[0mpole_angle\u001b[0m\u001b[0;34m,\u001b[0m \u001b[0mcart_velocity\u001b[0m\u001b[0;34m,\u001b[0m \u001b[0mangle_rate_of_change\u001b[0m \u001b[0;34m=\u001b[0m \u001b[0mobservation\u001b[0m\u001b[0;34m\u001b[0m\u001b[0m\n\u001b[1;32m    101\u001b[0m         state = build_state([to_bin(cart_position, cart_position_bins),\n",
      "\u001b[0;32m/usr/local/lib/python2.7/dist-packages/gym/core.pyc\u001b[0m in \u001b[0;36mreset\u001b[0;34m(self)\u001b[0m\n\u001b[1;32m    136\u001b[0m         \u001b[0mself\u001b[0m\u001b[0;34m.\u001b[0m\u001b[0mmonitor\u001b[0m\u001b[0;34m.\u001b[0m\u001b[0m_before_reset\u001b[0m\u001b[0;34m(\u001b[0m\u001b[0;34m)\u001b[0m\u001b[0;34m\u001b[0m\u001b[0m\n\u001b[1;32m    137\u001b[0m         \u001b[0mobservation\u001b[0m \u001b[0;34m=\u001b[0m \u001b[0mself\u001b[0m\u001b[0;34m.\u001b[0m\u001b[0m_reset\u001b[0m\u001b[0;34m(\u001b[0m\u001b[0;34m)\u001b[0m\u001b[0;34m\u001b[0m\u001b[0m\n\u001b[0;32m--> 138\u001b[0;31m         \u001b[0mself\u001b[0m\u001b[0;34m.\u001b[0m\u001b[0mmonitor\u001b[0m\u001b[0;34m.\u001b[0m\u001b[0m_after_reset\u001b[0m\u001b[0;34m(\u001b[0m\u001b[0mobservation\u001b[0m\u001b[0;34m)\u001b[0m\u001b[0;34m\u001b[0m\u001b[0m\n\u001b[0m\u001b[1;32m    139\u001b[0m         \u001b[0;32mreturn\u001b[0m \u001b[0mobservation\u001b[0m\u001b[0;34m\u001b[0m\u001b[0m\n\u001b[1;32m    140\u001b[0m \u001b[0;34m\u001b[0m\u001b[0m\n",
      "\u001b[0;32m/usr/local/lib/python2.7/dist-packages/gym/monitoring/monitor.pyc\u001b[0m in \u001b[0;36m_after_reset\u001b[0;34m(self, observation)\u001b[0m\n\u001b[1;32m    251\u001b[0m         \u001b[0mself\u001b[0m\u001b[0;34m.\u001b[0m\u001b[0mepisode_id\u001b[0m \u001b[0;34m+=\u001b[0m \u001b[0;36m1\u001b[0m\u001b[0;34m\u001b[0m\u001b[0m\n\u001b[1;32m    252\u001b[0m \u001b[0;34m\u001b[0m\u001b[0m\n\u001b[0;32m--> 253\u001b[0;31m         \u001b[0mself\u001b[0m\u001b[0;34m.\u001b[0m\u001b[0mflush\u001b[0m\u001b[0;34m(\u001b[0m\u001b[0;34m)\u001b[0m\u001b[0;34m\u001b[0m\u001b[0m\n\u001b[0m\u001b[1;32m    254\u001b[0m \u001b[0;34m\u001b[0m\u001b[0m\n\u001b[1;32m    255\u001b[0m     \u001b[0;32mdef\u001b[0m \u001b[0m_close_video_recorder\u001b[0m\u001b[0;34m(\u001b[0m\u001b[0mself\u001b[0m\u001b[0;34m)\u001b[0m\u001b[0;34m:\u001b[0m\u001b[0;34m\u001b[0m\u001b[0m\n",
      "\u001b[0;32m/usr/local/lib/python2.7/dist-packages/gym/monitoring/monitor.pyc\u001b[0m in \u001b[0;36mflush\u001b[0;34m(self)\u001b[0m\n\u001b[1;32m    142\u001b[0m     \u001b[0;32mdef\u001b[0m \u001b[0mflush\u001b[0m\u001b[0;34m(\u001b[0m\u001b[0mself\u001b[0m\u001b[0;34m)\u001b[0m\u001b[0;34m:\u001b[0m\u001b[0;34m\u001b[0m\u001b[0m\n\u001b[1;32m    143\u001b[0m         \u001b[0;34m\"\"\"Flush all relevant monitor information to disk.\"\"\"\u001b[0m\u001b[0;34m\u001b[0m\u001b[0m\n\u001b[0;32m--> 144\u001b[0;31m         \u001b[0mself\u001b[0m\u001b[0;34m.\u001b[0m\u001b[0mstats_recorder\u001b[0m\u001b[0;34m.\u001b[0m\u001b[0mflush\u001b[0m\u001b[0;34m(\u001b[0m\u001b[0;34m)\u001b[0m\u001b[0;34m\u001b[0m\u001b[0m\n\u001b[0m\u001b[1;32m    145\u001b[0m \u001b[0;34m\u001b[0m\u001b[0m\n\u001b[1;32m    146\u001b[0m         \u001b[0;31m# Give it a very distiguished name, since we need to pick it\u001b[0m\u001b[0;34m\u001b[0m\u001b[0;34m\u001b[0m\u001b[0m\n",
      "\u001b[0;32m/usr/local/lib/python2.7/dist-packages/gym/monitoring/stats_recorder.pyc\u001b[0m in \u001b[0;36mflush\u001b[0;34m(self)\u001b[0m\n\u001b[1;32m     70\u001b[0m                 \u001b[0;34m'episode_lengths'\u001b[0m\u001b[0;34m:\u001b[0m \u001b[0mself\u001b[0m\u001b[0;34m.\u001b[0m\u001b[0mepisode_lengths\u001b[0m\u001b[0;34m,\u001b[0m\u001b[0;34m\u001b[0m\u001b[0m\n\u001b[1;32m     71\u001b[0m                 \u001b[0;34m'episode_rewards'\u001b[0m\u001b[0;34m:\u001b[0m \u001b[0mself\u001b[0m\u001b[0;34m.\u001b[0m\u001b[0mepisode_rewards\u001b[0m\u001b[0;34m,\u001b[0m\u001b[0;34m\u001b[0m\u001b[0m\n\u001b[0;32m---> 72\u001b[0;31m             }, f)\n\u001b[0m",
      "\u001b[0;32m/usr/lib/python2.7/json/__init__.pyc\u001b[0m in \u001b[0;36mdump\u001b[0;34m(obj, fp, skipkeys, ensure_ascii, check_circular, allow_nan, cls, indent, separators, encoding, default, sort_keys, **kw)\u001b[0m\n\u001b[1;32m    187\u001b[0m     \u001b[0;31m# could accelerate with writelines in some versions of Python, at\u001b[0m\u001b[0;34m\u001b[0m\u001b[0;34m\u001b[0m\u001b[0m\n\u001b[1;32m    188\u001b[0m     \u001b[0;31m# a debuggability cost\u001b[0m\u001b[0;34m\u001b[0m\u001b[0;34m\u001b[0m\u001b[0m\n\u001b[0;32m--> 189\u001b[0;31m     \u001b[0;32mfor\u001b[0m \u001b[0mchunk\u001b[0m \u001b[0;32min\u001b[0m \u001b[0miterable\u001b[0m\u001b[0;34m:\u001b[0m\u001b[0;34m\u001b[0m\u001b[0m\n\u001b[0m\u001b[1;32m    190\u001b[0m         \u001b[0mfp\u001b[0m\u001b[0;34m.\u001b[0m\u001b[0mwrite\u001b[0m\u001b[0;34m(\u001b[0m\u001b[0mchunk\u001b[0m\u001b[0;34m)\u001b[0m\u001b[0;34m\u001b[0m\u001b[0m\n\u001b[1;32m    191\u001b[0m \u001b[0;34m\u001b[0m\u001b[0m\n",
      "\u001b[0;32m/usr/lib/python2.7/json/encoder.pyc\u001b[0m in \u001b[0;36m_iterencode\u001b[0;34m(o, _current_indent_level)\u001b[0m\n\u001b[1;32m    432\u001b[0m                 \u001b[0;32myield\u001b[0m \u001b[0mchunk\u001b[0m\u001b[0;34m\u001b[0m\u001b[0m\n\u001b[1;32m    433\u001b[0m         \u001b[0;32melif\u001b[0m \u001b[0misinstance\u001b[0m\u001b[0;34m(\u001b[0m\u001b[0mo\u001b[0m\u001b[0;34m,\u001b[0m \u001b[0mdict\u001b[0m\u001b[0;34m)\u001b[0m\u001b[0;34m:\u001b[0m\u001b[0;34m\u001b[0m\u001b[0m\n\u001b[0;32m--> 434\u001b[0;31m             \u001b[0;32mfor\u001b[0m \u001b[0mchunk\u001b[0m \u001b[0;32min\u001b[0m \u001b[0m_iterencode_dict\u001b[0m\u001b[0;34m(\u001b[0m\u001b[0mo\u001b[0m\u001b[0;34m,\u001b[0m \u001b[0m_current_indent_level\u001b[0m\u001b[0;34m)\u001b[0m\u001b[0;34m:\u001b[0m\u001b[0;34m\u001b[0m\u001b[0m\n\u001b[0m\u001b[1;32m    435\u001b[0m                 \u001b[0;32myield\u001b[0m \u001b[0mchunk\u001b[0m\u001b[0;34m\u001b[0m\u001b[0m\n\u001b[1;32m    436\u001b[0m         \u001b[0;32melse\u001b[0m\u001b[0;34m:\u001b[0m\u001b[0;34m\u001b[0m\u001b[0m\n",
      "\u001b[0;32m/usr/lib/python2.7/json/encoder.pyc\u001b[0m in \u001b[0;36m_iterencode_dict\u001b[0;34m(dct, _current_indent_level)\u001b[0m\n\u001b[1;32m    406\u001b[0m                 \u001b[0;32melse\u001b[0m\u001b[0;34m:\u001b[0m\u001b[0;34m\u001b[0m\u001b[0m\n\u001b[1;32m    407\u001b[0m                     \u001b[0mchunks\u001b[0m \u001b[0;34m=\u001b[0m \u001b[0m_iterencode\u001b[0m\u001b[0;34m(\u001b[0m\u001b[0mvalue\u001b[0m\u001b[0;34m,\u001b[0m \u001b[0m_current_indent_level\u001b[0m\u001b[0;34m)\u001b[0m\u001b[0;34m\u001b[0m\u001b[0m\n\u001b[0;32m--> 408\u001b[0;31m                 \u001b[0;32mfor\u001b[0m \u001b[0mchunk\u001b[0m \u001b[0;32min\u001b[0m \u001b[0mchunks\u001b[0m\u001b[0;34m:\u001b[0m\u001b[0;34m\u001b[0m\u001b[0m\n\u001b[0m\u001b[1;32m    409\u001b[0m                     \u001b[0;32myield\u001b[0m \u001b[0mchunk\u001b[0m\u001b[0;34m\u001b[0m\u001b[0m\n\u001b[1;32m    410\u001b[0m         \u001b[0;32mif\u001b[0m \u001b[0mnewline_indent\u001b[0m \u001b[0;32mis\u001b[0m \u001b[0;32mnot\u001b[0m \u001b[0mNone\u001b[0m\u001b[0;34m:\u001b[0m\u001b[0;34m\u001b[0m\u001b[0m\n",
      "\u001b[0;32m/usr/lib/python2.7/json/encoder.pyc\u001b[0m in \u001b[0;36m_iterencode_list\u001b[0;34m(lst, _current_indent_level)\u001b[0m\n\u001b[1;32m    321\u001b[0m                 \u001b[0;32myield\u001b[0m \u001b[0mbuf\u001b[0m \u001b[0;34m+\u001b[0m \u001b[0mstr\u001b[0m\u001b[0;34m(\u001b[0m\u001b[0mvalue\u001b[0m\u001b[0;34m)\u001b[0m\u001b[0;34m\u001b[0m\u001b[0m\n\u001b[1;32m    322\u001b[0m             \u001b[0;32melif\u001b[0m \u001b[0misinstance\u001b[0m\u001b[0;34m(\u001b[0m\u001b[0mvalue\u001b[0m\u001b[0;34m,\u001b[0m \u001b[0mfloat\u001b[0m\u001b[0;34m)\u001b[0m\u001b[0;34m:\u001b[0m\u001b[0;34m\u001b[0m\u001b[0m\n\u001b[0;32m--> 323\u001b[0;31m                 \u001b[0;32myield\u001b[0m \u001b[0mbuf\u001b[0m \u001b[0;34m+\u001b[0m \u001b[0m_floatstr\u001b[0m\u001b[0;34m(\u001b[0m\u001b[0mvalue\u001b[0m\u001b[0;34m)\u001b[0m\u001b[0;34m\u001b[0m\u001b[0m\n\u001b[0m\u001b[1;32m    324\u001b[0m             \u001b[0;32melse\u001b[0m\u001b[0;34m:\u001b[0m\u001b[0;34m\u001b[0m\u001b[0m\n\u001b[1;32m    325\u001b[0m                 \u001b[0;32myield\u001b[0m \u001b[0mbuf\u001b[0m\u001b[0;34m\u001b[0m\u001b[0m\n",
      "\u001b[0;32m/usr/lib/python2.7/json/encoder.pyc\u001b[0m in \u001b[0;36mfloatstr\u001b[0;34m(o, allow_nan, _repr, _inf, _neginf)\u001b[0m\n\u001b[1;32m    247\u001b[0m                 \u001b[0mtext\u001b[0m \u001b[0;34m=\u001b[0m \u001b[0;34m'-Infinity'\u001b[0m\u001b[0;34m\u001b[0m\u001b[0m\n\u001b[1;32m    248\u001b[0m             \u001b[0;32melse\u001b[0m\u001b[0;34m:\u001b[0m\u001b[0;34m\u001b[0m\u001b[0m\n\u001b[0;32m--> 249\u001b[0;31m                 \u001b[0;32mreturn\u001b[0m \u001b[0m_repr\u001b[0m\u001b[0;34m(\u001b[0m\u001b[0mo\u001b[0m\u001b[0;34m)\u001b[0m\u001b[0;34m\u001b[0m\u001b[0m\n\u001b[0m\u001b[1;32m    250\u001b[0m \u001b[0;34m\u001b[0m\u001b[0m\n\u001b[1;32m    251\u001b[0m             \u001b[0;32mif\u001b[0m \u001b[0;32mnot\u001b[0m \u001b[0mallow_nan\u001b[0m\u001b[0;34m:\u001b[0m\u001b[0;34m\u001b[0m\u001b[0m\n",
      "\u001b[0;31mKeyboardInterrupt\u001b[0m: "
     ]
    }
   ],
   "source": [
    "import gym\n",
    "import pandas as pd\n",
    "import numpy as np\n",
    "import random\n",
    "\n",
    "# https://gym.openai.com/envs/CartPole-v0\n",
    "# Carlos Aguayo - carlos.aguayo@gmail.com\n",
    "\n",
    "\n",
    "class QLearner(object):\n",
    "    def __init__(self,\n",
    "                 num_states=100,\n",
    "                 num_actions=4,\n",
    "                 alpha=0.2,\n",
    "                 gamma=0.9,\n",
    "                 random_action_rate=0.5,\n",
    "                 random_action_decay_rate=0.99):\n",
    "        self.num_states = num_states\n",
    "        self.num_actions = num_actions\n",
    "        self.alpha = alpha\n",
    "        self.gamma = gamma\n",
    "        self.random_action_rate = random_action_rate\n",
    "        self.random_action_decay_rate = random_action_decay_rate\n",
    "        self.state = 0\n",
    "        self.action = 0\n",
    "        self.qtable = np.random.uniform(low=-1, high=1, size=(num_states, num_actions))\n",
    "\n",
    "    def set_initial_state(self, state):\n",
    "        \"\"\"\n",
    "        @summary: Sets the initial state and returns an action\n",
    "        @param state: The initial state\n",
    "        @returns: The selected action\n",
    "        \"\"\"\n",
    "        self.state = state\n",
    "        self.action = self.qtable[state].argsort()[-1]\n",
    "        return self.action\n",
    "\n",
    "    def move(self, state_prime, reward):\n",
    "        \"\"\"\n",
    "        @summary: Moves to the given state with given reward and returns action\n",
    "        @param state_prime: The new state\n",
    "        @param reward: The reward\n",
    "        @returns: The selected action\n",
    "        \"\"\"\n",
    "        alpha = self.alpha\n",
    "        gamma = self.gamma\n",
    "        state = self.state\n",
    "        action = self.action\n",
    "        qtable = self.qtable\n",
    "\n",
    "        choose_random_action = (1 - self.random_action_rate) <= np.random.uniform(0, 1)\n",
    "\n",
    "        if choose_random_action:\n",
    "            action_prime = random.randint(0, self.num_actions - 1)\n",
    "        else:\n",
    "            action_prime = self.qtable[state_prime].argsort()[-1]\n",
    "\n",
    "        self.random_action_rate *= self.random_action_decay_rate\n",
    "\n",
    "        qtable[state, action] = (1 - alpha) * qtable[state, action] + alpha * (reward + gamma * qtable[state_prime, action_prime])\n",
    "\n",
    "        self.state = state_prime\n",
    "        self.action = action_prime\n",
    "\n",
    "        return self.action\n",
    "\n",
    "\n",
    "def cart_pole_with_qlearning():\n",
    "    env = gym.make('CartPole-v0')\n",
    "    experiment_filename = './cartpole-experiment-1'\n",
    "    env.monitor.start(experiment_filename, force=True)\n",
    "\n",
    "    goal_average_steps = 195\n",
    "    max_number_of_steps = 200\n",
    "    number_of_iterations_to_average = 100\n",
    "\n",
    "    number_of_features = env.observation_space.shape[0]\n",
    "    last_time_steps = np.ndarray(0)\n",
    "\n",
    "    cart_position_bins = pd.cut([-2.4, 2.4], bins=10, retbins=True)[1][1:-1]\n",
    "    pole_angle_bins = pd.cut([-2, 2], bins=10, retbins=True)[1][1:-1]\n",
    "    cart_velocity_bins = pd.cut([-1, 1], bins=10, retbins=True)[1][1:-1]\n",
    "    angle_rate_bins = pd.cut([-3.5, 3.5], bins=10, retbins=True)[1][1:-1]\n",
    "\n",
    "    def build_state(features):\n",
    "        return int(\"\".join(map(lambda feature: str(int(feature)), features)))\n",
    "\n",
    "    def to_bin(value, bins):\n",
    "        return np.digitize(x=[value], bins=bins)[0]\n",
    "\n",
    "    learner = QLearner(num_states=10 ** number_of_features,\n",
    "                       num_actions=env.action_space.n,\n",
    "                       alpha=0.2,\n",
    "                       gamma=1,\n",
    "                       random_action_rate=0.5,\n",
    "                       random_action_decay_rate=0.99)\n",
    "\n",
    "    for episode in xrange(50000):\n",
    "        observation = env.reset()\n",
    "        cart_position, pole_angle, cart_velocity, angle_rate_of_change = observation\n",
    "        state = build_state([to_bin(cart_position, cart_position_bins),\n",
    "                             to_bin(pole_angle, pole_angle_bins),\n",
    "                             to_bin(cart_velocity, cart_velocity_bins),\n",
    "                             to_bin(angle_rate_of_change, angle_rate_bins)])\n",
    "        action = learner.set_initial_state(state)\n",
    "\n",
    "        for step in xrange(max_number_of_steps - 1):\n",
    "            observation, reward, done, info = env.step(action)\n",
    "\n",
    "            cart_position, pole_angle, cart_velocity, angle_rate_of_change = observation\n",
    "\n",
    "            state_prime = build_state([to_bin(cart_position, cart_position_bins),\n",
    "                                       to_bin(pole_angle, pole_angle_bins),\n",
    "                                       to_bin(cart_velocity, cart_velocity_bins),\n",
    "                                       to_bin(angle_rate_of_change, angle_rate_bins)])\n",
    "\n",
    "            if done:\n",
    "                reward = -200\n",
    "\n",
    "            action = learner.move(state_prime, reward)\n",
    "\n",
    "            if done:\n",
    "                last_time_steps = np.append(last_time_steps, [int(step + 1)])\n",
    "                if len(last_time_steps) > number_of_iterations_to_average:\n",
    "                    last_time_steps = np.delete(last_time_steps, 0)\n",
    "                break\n",
    "\n",
    "        if last_time_steps.mean() > goal_average_steps:\n",
    "            print \"Goal reached!\"\n",
    "            print \"Episodes before solve: \", episode + 1\n",
    "            print u\"Best 100-episode performance {} {} {}\".format(last_time_steps.max(),\n",
    "                                                                  unichr(177),  # plus minus sign\n",
    "                                                                  last_time_steps.std())\n",
    "            break\n",
    "\n",
    "    env.monitor.close()\n",
    "\n",
    "if __name__ == \"__main__\":\n",
    "    random.seed(0)\n",
    "    cart_pole_with_qlearning()"
   ]
  },
  {
   "cell_type": "code",
   "execution_count": 10,
   "metadata": {
    "collapsed": false
   },
   "outputs": [
    {
     "ename": "AttributeError",
     "evalue": "'TaxiEnv' object has no attribute 'videos'",
     "output_type": "error",
     "traceback": [
      "\u001b[0;31m\u001b[0m",
      "\u001b[0;31mAttributeError\u001b[0mTraceback (most recent call last)",
      "\u001b[0;32m<ipython-input-10-65b3c1dd9be0>\u001b[0m in \u001b[0;36m<module>\u001b[0;34m()\u001b[0m\n\u001b[0;32m----> 1\u001b[0;31m \u001b[0menv\u001b[0m\u001b[0;34m.\u001b[0m\u001b[0mvideos\u001b[0m\u001b[0;34m[\u001b[0m\u001b[0;34m-\u001b[0m\u001b[0;36m1\u001b[0m\u001b[0;34m]\u001b[0m\u001b[0;34m[\u001b[0m\u001b[0;36m0\u001b[0m\u001b[0;34m]\u001b[0m\u001b[0;34m\u001b[0m\u001b[0m\n\u001b[0m",
      "\u001b[0;31mAttributeError\u001b[0m: 'TaxiEnv' object has no attribute 'videos'"
     ]
    }
   ],
   "source": [
    "env.videos[-1][0]"
   ]
  },
  {
   "cell_type": "code",
   "execution_count": 12,
   "metadata": {
    "collapsed": false
   },
   "outputs": [
    {
     "data": {
      "text/html": [
       "\n",
       "<h2>Episode 008000<h2/>\n",
       "<video width=\"960\" height=\"540\" controls>\n",
       "    <source src=\"data:video/mp4;base64,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\" type=\"video/mp4\" />\n",
       "</video>"
      ],
      "text/plain": [
       "<IPython.core.display.HTML object>"
      ]
     },
     "execution_count": 12,
     "metadata": {},
     "output_type": "execute_result"
    }
   ],
   "source": [
    "import io\n",
    "import json\n",
    "import base64\n",
    "\n",
    "from IPython.display import HTML\n",
    "\n",
    "#video_path, meta_path = env.videos[-1]\n",
    "\n",
    "video = io.open('/mnt/notebooks/cartpole-experiment-1/openaigym.video.0.49.video008000.mp4', 'r+b').read()\n",
    "encoded = base64.b64encode(video)\n",
    "\n",
    "#with open(meta_path) as data_file:    \n",
    "#    meta = json.load(data_file)\n",
    "\n",
    "html_tag = \"\"\"\n",
    "<h2>{0}<h2/>\n",
    "<video width=\"960\" height=\"540\" controls>\n",
    "    <source src=\"data:video/mp4;base64,{1}\" type=\"video/mp4\" />\n",
    "</video>\"\"\"\n",
    "strm = html_tag.format('Episode ' + str('008000'), encoded.decode('ascii'))\n",
    "HTML(data=strm)"
   ]
  },
  {
   "cell_type": "code",
   "execution_count": null,
   "metadata": {
    "collapsed": true
   },
   "outputs": [],
   "source": [
    "strm = ''\n",
    "for video_path, meta_path in env.videos:\n",
    "    video = io.open(video_path, 'r+b').read()\n",
    "    encoded = base64.b64encode(video)\n",
    "    \n",
    "    with open(meta_path) as data_file:    \n",
    "        meta = json.load(data_file)\n",
    "\n",
    "    html_tag = \"\"\"\n",
    "    <h2>{0}<h2/>\n",
    "    <video width=\"960\" height=\"540\" controls>\n",
    "        <source src=\"data:video/mp4;base64,{1}\" type=\"video/mp4\" />\n",
    "    </video>\"\"\"\n",
    "    strm += html_tag.format('Episode ' + str(meta['episode_id']), encoded.decode('ascii'))\n",
    "HTML(data=strm)"
   ]
  }
 ],
 "metadata": {
  "kernelspec": {
   "display_name": "Python 2",
   "language": "python",
   "name": "python2"
  },
  "language_info": {
   "codemirror_mode": {
    "name": "ipython",
    "version": 2
   },
   "file_extension": ".py",
   "mimetype": "text/x-python",
   "name": "python",
   "nbconvert_exporter": "python",
   "pygments_lexer": "ipython2",
   "version": "2.7.12"
  }
 },
 "nbformat": 4,
 "nbformat_minor": 2
}
