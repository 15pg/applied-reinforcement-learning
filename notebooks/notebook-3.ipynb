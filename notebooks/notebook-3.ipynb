{
 "cells": [
  {
   "cell_type": "markdown",
   "metadata": {
    "deletable": true,
    "editable": true
   },
   "source": [
    "### Planning Algorithms"
   ]
  },
  {
   "cell_type": "code",
   "execution_count": 1,
   "metadata": {
    "collapsed": true,
    "deletable": true,
    "editable": true
   },
   "outputs": [],
   "source": [
    "import numpy as np\n",
    "import pprint\n",
    "import json\n",
    "import sys\n",
    "import gym\n",
    "\n",
    "from gym import wrappers\n",
    "from subprocess import check_output\n",
    "from IPython.display import HTML"
   ]
  },
  {
   "cell_type": "markdown",
   "metadata": {
    "deletable": true,
    "editable": true
   },
   "source": [
    "#### Policy Evaluation"
   ]
  },
  {
   "cell_type": "code",
   "execution_count": 2,
   "metadata": {
    "collapsed": true,
    "deletable": true,
    "editable": true
   },
   "outputs": [],
   "source": [
    "def policy_evaluation(policy, env, discount_factor=.75, theta=0.000001):\n",
    "    V = np.zeros(env.nS)\n",
    "    # print('evaluating policy')\n",
    "    while True:\n",
    "        delta = 0\n",
    "        # For each state, perform a \"full backup\"\n",
    "        for s in range(env.nS):\n",
    "            v = 0\n",
    "            # Look at the possible next actions\n",
    "            for a, action_prob in enumerate(policy[s]):\n",
    "                # For each action, look at the possible next states...\n",
    "                for  prob, next_state, reward, done in env.P[s][a]:\n",
    "                    # Calculate the expected value\n",
    "                    v += action_prob * prob * (reward + discount_factor * V[next_state] * (not done))\n",
    "                    # print(s, a, prob, next_state, reward, done, v)\n",
    "            # How much our value function changed (across any states)\n",
    "            delta = max(delta, np.abs(v - V[s]))\n",
    "            # print(delta)\n",
    "            V[s] = v\n",
    "        # Stop evaluating once our value function change is below a threshold\n",
    "        if delta < theta:\n",
    "            break\n",
    "    return np.array(V)"
   ]
  },
  {
   "cell_type": "markdown",
   "metadata": {
    "deletable": true,
    "editable": true
   },
   "source": [
    "#### Policy Improvement"
   ]
  },
  {
   "cell_type": "code",
   "execution_count": 3,
   "metadata": {
    "collapsed": true,
    "deletable": true,
    "editable": true
   },
   "outputs": [],
   "source": [
    "def policy_improvement(env, policy_eval_fn=policy_evaluation, discount_factor=0.75):\n",
    "    # Start with a random policy\n",
    "    policy = np.random.random([env.nS, env.nA])\n",
    "\n",
    "    iterations = 0\n",
    "    while True:\n",
    "        # Evaluate the current policy\n",
    "        V = policy_eval_fn(policy, env, discount_factor)\n",
    "        iterations += 1\n",
    "        # Will be set to false if we make any changes to the policy\n",
    "        policy_stable = True\n",
    "        # For each state...\n",
    "        for s in range(env.nS):\n",
    "            # The best action we would take under the currect policy\n",
    "            chosen_a = np.argmax(policy[s])\n",
    "\n",
    "            # Find the best action by one-step lookahead\n",
    "            # Ties are resolved arbitarily\n",
    "            action_values = np.zeros(env.nA)\n",
    "            for a in range(env.nA):\n",
    "                for prob, next_state, reward, done in env.P[s][a]:\n",
    "                    action_values[a] += prob * (reward + discount_factor * V[next_state])\n",
    "            best_a = np.argmax(action_values)\n",
    "\n",
    "            # Greedily update the policy\n",
    "            if chosen_a != best_a:\n",
    "                policy_stable = False\n",
    "            policy[s] = np.eye(env.nA)[best_a]\n",
    "\n",
    "        # If the policy is stable we've found an optimal policy. Return it\n",
    "        if policy_stable:\n",
    "            return policy, V, iterations"
   ]
  },
  {
   "cell_type": "markdown",
   "metadata": {
    "deletable": true,
    "editable": true
   },
   "source": [
    "#### Policy Iteration"
   ]
  },
  {
   "cell_type": "code",
   "execution_count": null,
   "metadata": {
    "collapsed": true,
    "deletable": true,
    "editable": true
   },
   "outputs": [],
   "source": []
  },
  {
   "cell_type": "markdown",
   "metadata": {
    "deletable": true,
    "editable": true
   },
   "source": [
    "#### Value Iteration"
   ]
  },
  {
   "cell_type": "code",
   "execution_count": 4,
   "metadata": {
    "collapsed": false,
    "deletable": true,
    "editable": true
   },
   "outputs": [
    {
     "name": "stderr",
     "output_type": "stream",
     "text": [
      "[2017-03-24 15:06:57,642] Making new env: Taxi-v2\n",
      "[2017-03-24 15:06:57,654] Starting new video recorder writing to /tmp/openaigym.video.0.36.video000000.json\n",
      "[2017-03-24 15:06:57,721] Starting new video recorder writing to /tmp/openaigym.video.0.36.video000001.json\n",
      "[2017-03-24 15:06:58,172] Starting new video recorder writing to /tmp/openaigym.video.0.36.video000008.json\n",
      "[2017-03-24 15:06:59,388] Starting new video recorder writing to /tmp/openaigym.video.0.36.video000027.json\n"
     ]
    },
    {
     "name": "stdout",
     "output_type": "stream",
     "text": [
      "8.137254901960784\n"
     ]
    },
    {
     "name": "stderr",
     "output_type": "stream",
     "text": [
      "[2017-03-24 15:07:01,761] Starting new video recorder writing to /tmp/openaigym.video.0.36.video000064.json\n"
     ]
    },
    {
     "name": "stdout",
     "output_type": "stream",
     "text": [
      "8.178217821782178\n"
     ]
    },
    {
     "name": "stderr",
     "output_type": "stream",
     "text": [
      "[2017-03-24 15:07:05,637] Starting new video recorder writing to /tmp/openaigym.video.0.36.video000125.json\n"
     ]
    },
    {
     "name": "stdout",
     "output_type": "stream",
     "text": [
      "8.33774834437086\n",
      "8.482587064676617\n"
     ]
    },
    {
     "name": "stderr",
     "output_type": "stream",
     "text": [
      "[2017-03-24 15:07:11,447] Starting new video recorder writing to /tmp/openaigym.video.0.36.video000216.json\n"
     ]
    },
    {
     "name": "stdout",
     "output_type": "stream",
     "text": [
      "8.541832669322709\n",
      "8.445182724252492\n"
     ]
    },
    {
     "name": "stderr",
     "output_type": "stream",
     "text": [
      "[2017-03-24 15:07:19,535] Starting new video recorder writing to /tmp/openaigym.video.0.36.video000343.json\n"
     ]
    },
    {
     "name": "stdout",
     "output_type": "stream",
     "text": [
      "8.450142450142451\n",
      "8.528678304239401\n",
      "8.494456762749445\n",
      "8.479041916167665\n"
     ]
    },
    {
     "name": "stderr",
     "output_type": "stream",
     "text": [
      "[2017-03-24 15:07:30,283] Starting new video recorder writing to /tmp/openaigym.video.0.36.video000512.json\n"
     ]
    },
    {
     "name": "stdout",
     "output_type": "stream",
     "text": [
      "8.491833030852995\n",
      "8.464226289517471\n",
      "8.448540706605224\n",
      "8.419400855920115\n"
     ]
    },
    {
     "name": "stderr",
     "output_type": "stream",
     "text": [
      "[2017-03-24 15:07:44,114] Starting new video recorder writing to /tmp/openaigym.video.0.36.video000729.json\n"
     ]
    },
    {
     "name": "stdout",
     "output_type": "stream",
     "text": [
      "8.427430093209054\n",
      "8.406991260923846\n",
      "8.421856639247943\n",
      "8.426193118756936\n",
      "8.436382754994742\n",
      "v states\n",
      "q values\n"
     ]
    }
   ],
   "source": [
    "def iterate_value_function(v_inp, q_inp, gamma, env):\n",
    "    \n",
    "    nstates = env.env.observation_space.n\n",
    "    nactions = env.env.action_space.n\n",
    "    \n",
    "    ret = np.zeros(nstates)\n",
    "    retq = np.zeros((nstates, nactions))\n",
    "\n",
    "    for sid in range(nstates):\n",
    "        temp_v = np.zeros(nactions)\n",
    "        for action in range(nactions):\n",
    "            for (prob, dst_state, reward, is_final) in env.env.env.P[sid][action]:\n",
    "                if is_final:\n",
    "                    temp_v[action] = temp_v[action] + prob * (reward)\n",
    "                else:\n",
    "                    temp_v[action] = temp_v[action] + prob * (reward + gamma * v_inp[dst_state])\n",
    "        retq[sid] = temp_v\n",
    "        ret[sid] = max(temp_v)\n",
    "    return ret, retq\n",
    "\n",
    "def build_greedy_policy(v_inp, gamma, env):\n",
    "    nstates = env.env.observation_space.n\n",
    "    nactions = env.env.action_space.n\n",
    "    \n",
    "    new_policy = np.zeros(nstates)\n",
    "    \n",
    "    for state_id in range(nstates):\n",
    "        profits = np.zeros(nactions)\n",
    "        for action in range(nactions):\n",
    "            for (prob, dst_state, reward, is_final) in env.env.env.P[state_id][action]:\n",
    "                profits[action] += prob*(reward + gamma*v[dst_state])\n",
    "        new_policy[state_id] = np.argmax(profits)\n",
    "    return new_policy\n",
    "\n",
    "\n",
    "env = gym.make('Taxi-v2')\n",
    "env = wrappers.Monitor(env, '/tmp/', force=True)\n",
    "\n",
    "gamma = 0.9\n",
    "cum_reward = 0\n",
    "n_rounds = 1000\n",
    "\n",
    "# solve the world with value iteration \n",
    "# (without interacting with the environment)\n",
    "\n",
    "for t_rounds in range(n_rounds):\n",
    "    # init env and value function\n",
    "    observation = env.reset()\n",
    "    \n",
    "    v = np.zeros(env.env.observation_space.n)\n",
    "    q = np.zeros((env.env.observation_space.n, \n",
    "                  env.env.action_space.n))\n",
    "\n",
    "    # solve MDP\n",
    "    for _ in range(200):\n",
    "        v_old = v.copy()\n",
    "        q_old = q.copy()\n",
    "        v, q = iterate_value_function(v, q, gamma, env)\n",
    "        if np.all(v == v_old):\n",
    "            break\n",
    "    policy = build_greedy_policy(v, gamma, env).astype(np.int)\n",
    "\n",
    "    # apply policy\n",
    "    for t in range(1000):\n",
    "        action = policy[observation]\n",
    "        observation, reward, done, info = env.step(action)\n",
    "        cum_reward += reward\n",
    "        if done:\n",
    "            break\n",
    "    if t_rounds % 50 == 0 and t_rounds > 0:\n",
    "        print(cum_reward * 1.0 / (t_rounds + 1))\n",
    "\n",
    "np.set_printoptions(threshold=np.nan)\n",
    "print('v states')\n",
    "#print(v.tolist())\n",
    "print('q values')\n",
    "#print(q.tolist())\n"
   ]
  },
  {
   "cell_type": "code",
   "execution_count": 5,
   "metadata": {
    "collapsed": false,
    "deletable": true,
    "editable": true
   },
   "outputs": [
    {
     "name": "stderr",
     "output_type": "stream",
     "text": [
      "[2017-03-24 15:09:25,380] Starting new video recorder writing to /tmp/openaigym.video.0.36.video001000.json\n"
     ]
    }
   ],
   "source": [
    "# act greedily\n",
    "for episode in range(10):\n",
    "    state = env.reset()\n",
    "\n",
    "    while True:\n",
    "        action = np.argmax(q[state])\n",
    "        _, _, done, _ = env.step(action)\n",
    "        if done:\n",
    "            break"
   ]
  },
  {
   "cell_type": "code",
   "execution_count": 6,
   "metadata": {
    "collapsed": false,
    "deletable": true,
    "editable": true
   },
   "outputs": [
    {
     "data": {
      "text/plain": [
       "'/tmp/openaigym.video.0.36.video001000.json'"
      ]
     },
     "execution_count": 6,
     "metadata": {},
     "output_type": "execute_result"
    }
   ],
   "source": [
    "env.videos[-1][0]"
   ]
  },
  {
   "cell_type": "code",
   "execution_count": 7,
   "metadata": {
    "collapsed": true,
    "deletable": true,
    "editable": true
   },
   "outputs": [],
   "source": [
    "out = check_output([\"asciinema\", \"upload\", env.videos[-1][0]])\n",
    "out = out.decode(\"utf-8\").replace('\\n', '').replace('\\r', '')"
   ]
  },
  {
   "cell_type": "code",
   "execution_count": 8,
   "metadata": {
    "collapsed": false,
    "deletable": true,
    "editable": true
   },
   "outputs": [
    {
     "name": "stdout",
     "output_type": "stream",
     "text": [
      "https://asciinema.org/a/elglsxzuwzhbmtzhbcjk9nc9a\n"
     ]
    }
   ],
   "source": [
    "print(out)"
   ]
  },
  {
   "cell_type": "code",
   "execution_count": 9,
   "metadata": {
    "collapsed": false,
    "deletable": true,
    "editable": true
   },
   "outputs": [
    {
     "data": {
      "text/plain": [
       "'elglsxzuwzhbmtzhbcjk9nc9a'"
      ]
     },
     "execution_count": 9,
     "metadata": {},
     "output_type": "execute_result"
    }
   ],
   "source": [
    "castid = out.split('/')[-1]\n",
    "castid"
   ]
  },
  {
   "cell_type": "code",
   "execution_count": 10,
   "metadata": {
    "collapsed": false,
    "deletable": true,
    "editable": true
   },
   "outputs": [
    {
     "data": {
      "text/html": [
       "\n",
       "<script type=\"text/javascript\" \n",
       "    src=\"https://asciinema.org/a/elglsxzuwzhbmtzhbcjk9nc9a.js\" \n",
       "    id=\"asciicast-elglsxzuwzhbmtzhbcjk9nc9a\" \n",
       "    async data-autoplay=\"true\" data-size=\"big\">\n",
       "</script>\n"
      ],
      "text/plain": [
       "<IPython.core.display.HTML object>"
      ]
     },
     "execution_count": 10,
     "metadata": {},
     "output_type": "execute_result"
    }
   ],
   "source": [
    "html_tag = \"\"\"\n",
    "<script type=\"text/javascript\" \n",
    "    src=\"https://asciinema.org/a/{0}.js\" \n",
    "    id=\"asciicast-{0}\" \n",
    "    async data-autoplay=\"true\" data-size=\"big\">\n",
    "</script>\n",
    "\"\"\"\n",
    "html_tag = html_tag.format(castid)\n",
    "HTML(data=html_tag)"
   ]
  },
  {
   "cell_type": "code",
   "execution_count": null,
   "metadata": {
    "collapsed": true
   },
   "outputs": [],
   "source": []
  }
 ],
 "metadata": {
  "kernelspec": {
   "display_name": "Python 3",
   "language": "python",
   "name": "python3"
  },
  "language_info": {
   "codemirror_mode": {
    "name": "ipython",
    "version": 3
   },
   "file_extension": ".py",
   "mimetype": "text/x-python",
   "name": "python",
   "nbconvert_exporter": "python",
   "pygments_lexer": "ipython3",
   "version": "3.5.2"
  }
 },
 "nbformat": 4,
 "nbformat_minor": 2
}
