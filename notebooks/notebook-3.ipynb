{
 "cells": [
  {
   "cell_type": "markdown",
   "metadata": {},
   "source": [
    "### Planning Algorithms"
   ]
  },
  {
   "cell_type": "code",
   "execution_count": 1,
   "metadata": {
    "collapsed": true
   },
   "outputs": [],
   "source": [
    "import numpy as np\n",
    "import pprint\n",
    "import json\n",
    "import sys"
   ]
  },
  {
   "cell_type": "markdown",
   "metadata": {},
   "source": [
    "#### Policy Evaluation"
   ]
  },
  {
   "cell_type": "code",
   "execution_count": 2,
   "metadata": {
    "collapsed": true
   },
   "outputs": [],
   "source": [
    "def policy_evaluation(policy, env, discount_factor=.75, theta=0.000001):\n",
    "    V = np.zeros(env.nS)\n",
    "    # print('evaluating policy')\n",
    "    while True:\n",
    "        delta = 0\n",
    "        # For each state, perform a \"full backup\"\n",
    "        for s in range(env.nS):\n",
    "            v = 0\n",
    "            # Look at the possible next actions\n",
    "            for a, action_prob in enumerate(policy[s]):\n",
    "                # For each action, look at the possible next states...\n",
    "                for  prob, next_state, reward, done in env.P[s][a]:\n",
    "                    # Calculate the expected value\n",
    "                    v += action_prob * prob * (reward + discount_factor * V[next_state] * (not done))\n",
    "                    # print(s, a, prob, next_state, reward, done, v)\n",
    "            # How much our value function changed (across any states)\n",
    "            delta = max(delta, np.abs(v - V[s]))\n",
    "            # print(delta)\n",
    "            V[s] = v\n",
    "        # Stop evaluating once our value function change is below a threshold\n",
    "        if delta < theta:\n",
    "            break\n",
    "    return np.array(V)"
   ]
  },
  {
   "cell_type": "markdown",
   "metadata": {},
   "source": [
    "#### Policy Improvement"
   ]
  },
  {
   "cell_type": "code",
   "execution_count": 3,
   "metadata": {
    "collapsed": true
   },
   "outputs": [],
   "source": [
    "def policy_improvement(env, policy_eval_fn=policy_evaluation, discount_factor=0.75):\n",
    "    # Start with a random policy\n",
    "    policy = np.random.random([env.nS, env.nA])\n",
    "\n",
    "    iterations = 0\n",
    "    while True:\n",
    "        # Evaluate the current policy\n",
    "        V = policy_eval_fn(policy, env, discount_factor)\n",
    "        iterations += 1\n",
    "        # Will be set to false if we make any changes to the policy\n",
    "        policy_stable = True\n",
    "        # For each state...\n",
    "        for s in range(env.nS):\n",
    "            # The best action we would take under the currect policy\n",
    "            chosen_a = np.argmax(policy[s])\n",
    "\n",
    "            # Find the best action by one-step lookahead\n",
    "            # Ties are resolved arbitarily\n",
    "            action_values = np.zeros(env.nA)\n",
    "            for a in range(env.nA):\n",
    "                for prob, next_state, reward, done in env.P[s][a]:\n",
    "                    action_values[a] += prob * (reward + discount_factor * V[next_state])\n",
    "            best_a = np.argmax(action_values)\n",
    "\n",
    "            # Greedily update the policy\n",
    "            if chosen_a != best_a:\n",
    "                policy_stable = False\n",
    "            policy[s] = np.eye(env.nA)[best_a]\n",
    "\n",
    "        # If the policy is stable we've found an optimal policy. Return it\n",
    "        if policy_stable:\n",
    "            return policy, V, iterations"
   ]
  },
  {
   "cell_type": "markdown",
   "metadata": {},
   "source": [
    "#### Policy Iteration"
   ]
  },
  {
   "cell_type": "code",
   "execution_count": null,
   "metadata": {
    "collapsed": true
   },
   "outputs": [],
   "source": []
  },
  {
   "cell_type": "markdown",
   "metadata": {},
   "source": [
    "#### Value Iteration"
   ]
  },
  {
   "cell_type": "code",
   "execution_count": 4,
   "metadata": {
    "collapsed": false
   },
   "outputs": [
    {
     "name": "stderr",
     "output_type": "stream",
     "text": [
      "[2017-03-20 16:55:52,983] Making new env: Taxi-v2\n",
      "[2017-03-20 16:55:52,992] Clearing 20 monitor files from previous run (because force=True was provided)\n",
      "[2017-03-20 16:55:52,993] Starting new video recorder writing to /tmp/openaigym.video.0.5991.video000000.json\n",
      "[2017-03-20 16:55:53,065] Starting new video recorder writing to /tmp/openaigym.video.0.5991.video000001.json\n",
      "[2017-03-20 16:55:53,538] Starting new video recorder writing to /tmp/openaigym.video.0.5991.video000008.json\n",
      "[2017-03-20 16:55:54,832] Starting new video recorder writing to /tmp/openaigym.video.0.5991.video000027.json\n"
     ]
    },
    {
     "name": "stdout",
     "output_type": "stream",
     "text": [
      "8.372549019607844\n"
     ]
    },
    {
     "name": "stderr",
     "output_type": "stream",
     "text": [
      "[2017-03-20 16:55:57,342] Starting new video recorder writing to /tmp/openaigym.video.0.5991.video000064.json\n"
     ]
    },
    {
     "name": "stdout",
     "output_type": "stream",
     "text": [
      "8.673267326732674\n"
     ]
    },
    {
     "name": "stderr",
     "output_type": "stream",
     "text": [
      "[2017-03-20 16:56:01,468] Starting new video recorder writing to /tmp/openaigym.video.0.5991.video000125.json\n"
     ]
    },
    {
     "name": "stdout",
     "output_type": "stream",
     "text": [
      "8.62251655629139\n",
      "8.512437810945274\n"
     ]
    },
    {
     "name": "stderr",
     "output_type": "stream",
     "text": [
      "[2017-03-20 16:56:07,602] Starting new video recorder writing to /tmp/openaigym.video.0.5991.video000216.json\n"
     ]
    },
    {
     "name": "stdout",
     "output_type": "stream",
     "text": [
      "8.565737051792828\n",
      "8.571428571428571\n"
     ]
    },
    {
     "name": "stderr",
     "output_type": "stream",
     "text": [
      "[2017-03-20 16:56:16,187] Starting new video recorder writing to /tmp/openaigym.video.0.5991.video000343.json\n"
     ]
    },
    {
     "name": "stdout",
     "output_type": "stream",
     "text": [
      "8.52991452991453\n",
      "8.481296758104738\n",
      "8.467849223946786\n",
      "8.463073852295409\n"
     ]
    },
    {
     "name": "stderr",
     "output_type": "stream",
     "text": [
      "[2017-03-20 16:56:27,595] Starting new video recorder writing to /tmp/openaigym.video.0.5991.video000512.json\n"
     ]
    },
    {
     "name": "stdout",
     "output_type": "stream",
     "text": [
      "8.450090744101633\n",
      "8.43926788685524\n",
      "8.428571428571429\n",
      "8.455064194008559\n"
     ]
    },
    {
     "name": "stderr",
     "output_type": "stream",
     "text": [
      "[2017-03-20 16:56:42,185] Starting new video recorder writing to /tmp/openaigym.video.0.5991.video000729.json\n"
     ]
    },
    {
     "name": "stdout",
     "output_type": "stream",
     "text": [
      "8.474034620505993\n",
      "8.460674157303371\n",
      "8.474735605170387\n",
      "8.452830188679245\n",
      "8.43217665615142\n",
      "v states\n",
      "q values\n"
     ]
    }
   ],
   "source": [
    "import gym\n",
    "import numpy as np\n",
    "\n",
    "from gym import wrappers\n",
    "\n",
    "def iterate_value_function(v_inp, q_inp, gamma, env):\n",
    "    \n",
    "    nstates = env.env.observation_space.n\n",
    "    nactions = env.env.action_space.n\n",
    "    \n",
    "    ret = np.zeros(nstates)\n",
    "    retq = np.zeros((nstates, nactions))\n",
    "\n",
    "    for sid in range(nstates):\n",
    "        temp_v = np.zeros(nactions)\n",
    "        for action in range(nactions):\n",
    "            for (prob, dst_state, reward, is_final) in env.env.env.P[sid][action]:\n",
    "                if is_final:\n",
    "                    temp_v[action] = temp_v[action] + prob * (reward)\n",
    "                else:\n",
    "                    temp_v[action] = temp_v[action] + prob * (reward + gamma * v_inp[dst_state])\n",
    "        retq[sid] = temp_v\n",
    "        ret[sid] = max(temp_v)\n",
    "    return ret, retq\n",
    "\n",
    "def build_greedy_policy(v_inp, gamma, env):\n",
    "    nstates = env.env.observation_space.n\n",
    "    nactions = env.env.action_space.n\n",
    "    \n",
    "    new_policy = np.zeros(nstates)\n",
    "    \n",
    "    for state_id in range(nstates):\n",
    "        profits = np.zeros(nactions)\n",
    "        for action in range(nactions):\n",
    "            for (prob, dst_state, reward, is_final) in env.env.env.P[state_id][action]:\n",
    "                profits[action] += prob*(reward + gamma*v[dst_state])\n",
    "        new_policy[state_id] = np.argmax(profits)\n",
    "    return new_policy\n",
    "\n",
    "\n",
    "env = gym.make('Taxi-v2')\n",
    "env = wrappers.Monitor(env, '/tmp/', force=True)\n",
    "\n",
    "gamma = 0.9\n",
    "cum_reward = 0\n",
    "n_rounds = 1000\n",
    "\n",
    "# solve the world with value iteration \n",
    "# (without interacting with the environment)\n",
    "\n",
    "for t_rounds in range(n_rounds):\n",
    "    # init env and value function\n",
    "    observation = env.reset()\n",
    "    \n",
    "    v = np.zeros(env.env.observation_space.n)\n",
    "    q = np.zeros((env.env.observation_space.n, \n",
    "                  env.env.action_space.n))\n",
    "\n",
    "    # solve MDP\n",
    "    for _ in range(200):\n",
    "        v_old = v.copy()\n",
    "        q_old = q.copy()\n",
    "        v, q = iterate_value_function(v, q, gamma, env)\n",
    "        if np.all(v == v_old):\n",
    "            break\n",
    "    policy = build_greedy_policy(v, gamma, env).astype(np.int)\n",
    "\n",
    "    # apply policy\n",
    "    for t in range(1000):\n",
    "        action = policy[observation]\n",
    "        observation, reward, done, info = env.step(action)\n",
    "        cum_reward += reward\n",
    "        if done:\n",
    "            break\n",
    "    if t_rounds % 50 == 0 and t_rounds > 0:\n",
    "        print(cum_reward * 1.0 / (t_rounds + 1))\n",
    "\n",
    "np.set_printoptions(threshold=np.nan)\n",
    "print('v states')\n",
    "#print(v.tolist())\n",
    "print('q values')\n",
    "#print(q.tolist())\n"
   ]
  },
  {
   "cell_type": "code",
   "execution_count": 5,
   "metadata": {
    "collapsed": false
   },
   "outputs": [
    {
     "name": "stderr",
     "output_type": "stream",
     "text": [
      "[2017-03-20 16:57:00,439] Starting new video recorder writing to /tmp/openaigym.video.0.5991.video001000.json\n"
     ]
    }
   ],
   "source": [
    "# act greedily\n",
    "for episode in range(10):\n",
    "    state = env.reset()\n",
    "\n",
    "    while True:\n",
    "        action = np.argmax(q[state])\n",
    "        _, _, done, _ = env.step(action)\n",
    "        if done:\n",
    "            break"
   ]
  },
  {
   "cell_type": "code",
   "execution_count": null,
   "metadata": {
    "collapsed": true
   },
   "outputs": [],
   "source": [
    "env.videos[-1][0]"
   ]
  },
  {
   "cell_type": "code",
   "execution_count": null,
   "metadata": {
    "collapsed": true
   },
   "outputs": [],
   "source": [
    "from subprocess import check_output\n",
    "\n",
    "out = check_output([\"asciinema\", \"upload\", env.videos[-1][0]])\n",
    "out = out.decode(\"utf-8\").replace('\\n', '').replace('\\r', '')"
   ]
  },
  {
   "cell_type": "code",
   "execution_count": null,
   "metadata": {
    "collapsed": true
   },
   "outputs": [],
   "source": [
    "print(out)"
   ]
  },
  {
   "cell_type": "code",
   "execution_count": null,
   "metadata": {
    "collapsed": true
   },
   "outputs": [],
   "source": [
    "castid = out.split('/')[-1]\n",
    "castid"
   ]
  },
  {
   "cell_type": "code",
   "execution_count": null,
   "metadata": {
    "collapsed": true
   },
   "outputs": [],
   "source": [
    "from IPython.display import HTML\n",
    "\n",
    "html_tag = \"\"\"\n",
    "<script type=\"text/javascript\" \n",
    "    src=\"https://asciinema.org/a/{0}.js\" \n",
    "    id=\"asciicast-{0}\" \n",
    "    async data-autoplay=\"true\" data-size=\"big\">\n",
    "</script>\n",
    "\"\"\"\n",
    "html_tag = html_tag.format(castid)\n",
    "HTML(data=html_tag)"
   ]
  }
 ],
 "metadata": {
  "kernelspec": {
   "display_name": "appliedrl",
   "language": "python",
   "name": "appliedrl"
  },
  "language_info": {
   "codemirror_mode": {
    "name": "ipython",
    "version": 3
   },
   "file_extension": ".py",
   "mimetype": "text/x-python",
   "name": "python",
   "nbconvert_exporter": "python",
   "pygments_lexer": "ipython3",
   "version": "3.6.0"
  }
 },
 "nbformat": 4,
 "nbformat_minor": 2
}
