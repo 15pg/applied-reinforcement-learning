{
 "cells": [
  {
   "cell_type": "markdown",
   "metadata": {
    "deletable": true,
    "editable": true
   },
   "source": [
    "### Bayesian Networks"
   ]
  },
  {
   "cell_type": "code",
   "execution_count": 2,
   "metadata": {
    "collapsed": true,
    "deletable": true,
    "editable": true
   },
   "outputs": [],
   "source": [
    "\n",
    "def get_game_network():\n",
    "    \"\"\"Create a Bayes Net representation of the game problem.\n",
    "    Name the nodes as \"A\",\"B\",\"C\",\"AvB\",\"BvC\" and \"CvA\".  \"\"\"\n",
    "    nodes = []\n",
    "    \n",
    "    A_node = BayesNode(0, 4, name='A')\n",
    "    B_node = BayesNode(1, 4, name='B')\n",
    "    C_node = BayesNode(2, 4, name='C')\n",
    "    AvB_node = BayesNode(3, 3, name='AvB')\n",
    "    BvC_node = BayesNode(4, 3, name='BvC')\n",
    "    CvA_node = BayesNode(5, 3, name='CvA')\n",
    "    \n",
    "    # T connections\n",
    "    A_node.add_child(AvB_node)\n",
    "    A_node.add_child(CvA_node)\n",
    "\n",
    "    B_node.add_child(AvB_node)\n",
    "    B_node.add_child(BvC_node)\n",
    "    \n",
    "    C_node.add_child(BvC_node)\n",
    "    C_node.add_child(CvA_node)\n",
    "    \n",
    "    AvB_node.add_parent(A_node)\n",
    "    AvB_node.add_parent(B_node)\n",
    "\n",
    "    BvC_node.add_parent(B_node)\n",
    "    BvC_node.add_parent(C_node)\n",
    "\n",
    "    CvA_node.add_parent(A_node)\n",
    "    CvA_node.add_parent(C_node)\n",
    "    \n",
    "    # skills distributions\n",
    "    skills_distribution = DiscreteDistribution(A_node)\n",
    "    index_skills = skills_distribution.generate_index([],[])\n",
    "    skills_distribution[index_skills] = [0.15, 0.45, 0.30, 0.10]\n",
    "\n",
    "    A_node.set_dist(skills_distribution)\n",
    "    \n",
    "    skills_distribution = DiscreteDistribution(B_node)\n",
    "    index_skills = skills_distribution.generate_index([],[])\n",
    "    skills_distribution[index_skills] = [0.15, 0.45, 0.30, 0.10]\n",
    "\n",
    "    B_node.set_dist(skills_distribution)\n",
    "    \n",
    "    skills_distribution = DiscreteDistribution(C_node)\n",
    "    index_skills = skills_distribution.generate_index([],[])\n",
    "    skills_distribution[index_skills] = [0.15, 0.45, 0.30, 0.10]\n",
    "    \n",
    "    C_node.set_dist(skills_distribution)\n",
    "    \n",
    "\n",
    "    # matches distributions\n",
    "    dist_AvB = zeros([A_node.size(), B_node.size(), AvB_node.size()], dtype=float32)\n",
    "    \n",
    "    dist_AvB[0,0,:] = [0.10, 0.10, 0.80]\n",
    "    dist_AvB[0,1,:] = [0.20, 0.60, 0.20]\n",
    "    dist_AvB[0,2,:] = [0.15, 0.75, 0.10]\n",
    "    dist_AvB[0,3,:] = [0.05, 0.90, 0.05]\n",
    "    dist_AvB[1,0,:] = [0.60, 0.20, 0.20]\n",
    "    dist_AvB[1,1,:] = [0.10, 0.10, 0.80]\n",
    "    dist_AvB[1,2,:] = [0.20, 0.60, 0.20]\n",
    "    dist_AvB[1,3,:] = [0.15, 0.75, 0.10]\n",
    "    dist_AvB[2,0,:] = [0.75, 0.15, 0.10]\n",
    "    dist_AvB[2,1,:] = [0.60, 0.20, 0.20]\n",
    "    dist_AvB[2,2,:] = [0.10, 0.10, 0.80]\n",
    "    dist_AvB[2,3,:] = [0.20, 0.60, 0.20]\n",
    "    dist_AvB[3,0,:] = [0.90, 0.05, 0.05]\n",
    "    dist_AvB[3,1,:] = [0.75, 0.15, 0.10]\n",
    "    dist_AvB[3,2,:] = [0.60, 0.20, 0.20]\n",
    "    dist_AvB[3,3,:] = [0.10, 0.10, 0.80]\n",
    "\n",
    "    AvB_distribution = ConditionalDiscreteDistribution(nodes=[A_node, B_node, AvB_node], table=dist_AvB)\n",
    "    AvB_node.set_dist(AvB_distribution)\n",
    "\n",
    "    \n",
    "    dist_BvC = zeros([B_node.size(), C_node.size(), BvC_node.size()], dtype=float32)\n",
    "    \n",
    "    dist_BvC[0,0,:] = [0.10, 0.10, 0.80]\n",
    "    dist_BvC[0,1,:] = [0.20, 0.60, 0.20]\n",
    "    dist_BvC[0,2,:] = [0.15, 0.75, 0.10]\n",
    "    dist_BvC[0,3,:] = [0.05, 0.90, 0.05]\n",
    "    dist_BvC[1,0,:] = [0.60, 0.20, 0.20]\n",
    "    dist_BvC[1,1,:] = [0.10, 0.10, 0.80]\n",
    "    dist_BvC[1,2,:] = [0.20, 0.60, 0.20]\n",
    "    dist_BvC[1,3,:] = [0.15, 0.75, 0.10]\n",
    "    dist_BvC[2,0,:] = [0.75, 0.15, 0.10]\n",
    "    dist_BvC[2,1,:] = [0.60, 0.20, 0.20]\n",
    "    dist_BvC[2,2,:] = [0.10, 0.10, 0.80]\n",
    "    dist_BvC[2,3,:] = [0.20, 0.60, 0.20]\n",
    "    dist_BvC[3,0,:] = [0.90, 0.05, 0.05]\n",
    "    dist_BvC[3,1,:] = [0.75, 0.15, 0.10]\n",
    "    dist_BvC[3,2,:] = [0.60, 0.20, 0.20]\n",
    "    dist_BvC[3,3,:] = [0.10, 0.10, 0.80]\n",
    "\n",
    "    BvC_distribution = ConditionalDiscreteDistribution(nodes=[B_node, C_node, BvC_node], table=dist_BvC)\n",
    "    BvC_node.set_dist(BvC_distribution)\n",
    "\n",
    "    \n",
    "    dist_CvA = zeros([C_node.size(), A_node.size(), CvA_node.size()], dtype=float32)\n",
    "    \n",
    "    dist_CvA[0,0,:] = [0.10, 0.10, 0.80]\n",
    "    dist_CvA[0,1,:] = [0.20, 0.60, 0.20]\n",
    "    dist_CvA[0,2,:] = [0.15, 0.75, 0.10]\n",
    "    dist_CvA[0,3,:] = [0.05, 0.90, 0.05]\n",
    "    dist_CvA[1,0,:] = [0.60, 0.20, 0.20]\n",
    "    dist_CvA[1,1,:] = [0.10, 0.10, 0.80]\n",
    "    dist_CvA[1,2,:] = [0.20, 0.60, 0.20]\n",
    "    dist_CvA[1,3,:] = [0.15, 0.75, 0.10]\n",
    "    dist_CvA[2,0,:] = [0.75, 0.15, 0.10]\n",
    "    dist_CvA[2,1,:] = [0.60, 0.20, 0.20]\n",
    "    dist_CvA[2,2,:] = [0.10, 0.10, 0.80]\n",
    "    dist_CvA[2,3,:] = [0.20, 0.60, 0.20]\n",
    "    dist_CvA[3,0,:] = [0.90, 0.05, 0.05]\n",
    "    dist_CvA[3,1,:] = [0.75, 0.15, 0.10]\n",
    "    dist_CvA[3,2,:] = [0.60, 0.20, 0.20]\n",
    "    dist_CvA[3,3,:] = [0.10, 0.10, 0.80]\n",
    "\n",
    "    CvA_distribution = ConditionalDiscreteDistribution(nodes=[C_node, A_node, CvA_node], table=dist_CvA)\n",
    "    CvA_node.set_dist(CvA_distribution)\n",
    "    \n",
    "    \n",
    "    nodes.append(A_node)\n",
    "    nodes.append(B_node)\n",
    "    nodes.append(C_node)\n",
    "    nodes.append(AvB_node)\n",
    "    nodes.append(BvC_node)\n",
    "    nodes.append(CvA_node)\n",
    "\n",
    "    return BayesNet(nodes)"
   ]
  },
  {
   "cell_type": "code",
   "execution_count": null,
   "metadata": {
    "collapsed": true,
    "deletable": true,
    "editable": true
   },
   "outputs": [],
   "source": []
  },
  {
   "cell_type": "code",
   "execution_count": null,
   "metadata": {
    "collapsed": true,
    "deletable": true,
    "editable": true
   },
   "outputs": [],
   "source": []
  },
  {
   "cell_type": "code",
   "execution_count": null,
   "metadata": {
    "collapsed": true,
    "deletable": true,
    "editable": true
   },
   "outputs": [],
   "source": []
  },
  {
   "cell_type": "code",
   "execution_count": null,
   "metadata": {
    "collapsed": true,
    "deletable": true,
    "editable": true
   },
   "outputs": [],
   "source": []
  },
  {
   "cell_type": "code",
   "execution_count": null,
   "metadata": {
    "collapsed": true,
    "deletable": true,
    "editable": true
   },
   "outputs": [],
   "source": []
  },
  {
   "cell_type": "code",
   "execution_count": null,
   "metadata": {
    "collapsed": true,
    "deletable": true,
    "editable": true
   },
   "outputs": [],
   "source": []
  }
 ],
 "metadata": {
  "kernelspec": {
   "display_name": "Python 3",
   "language": "python",
   "name": "python3"
  },
  "language_info": {
   "codemirror_mode": {
    "name": "ipython",
    "version": 3
   },
   "file_extension": ".py",
   "mimetype": "text/x-python",
   "name": "python",
   "nbconvert_exporter": "python",
   "pygments_lexer": "ipython3",
   "version": "3.5.2"
  }
 },
 "nbformat": 4,
 "nbformat_minor": 2
}
