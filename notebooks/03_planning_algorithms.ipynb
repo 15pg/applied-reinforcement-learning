{
 "cells": [
  {
   "cell_type": "markdown",
   "metadata": {
    "deletable": true,
    "editable": true
   },
   "source": [
    "### Planning Algorithms"
   ]
  },
  {
   "cell_type": "code",
   "execution_count": 1,
   "metadata": {
    "collapsed": false,
    "deletable": true,
    "editable": true
   },
   "outputs": [],
   "source": [
    "import numpy as np\n",
    "import pandas as pd\n",
    "import tempfile\n",
    "import pprint\n",
    "import json\n",
    "import sys\n",
    "import gym\n",
    "\n",
    "from gym import wrappers\n",
    "from subprocess import check_output\n",
    "from IPython.display import HTML"
   ]
  },
  {
   "cell_type": "markdown",
   "metadata": {
    "deletable": true,
    "editable": true
   },
   "source": [
    "#### Value Iteration"
   ]
  },
  {
   "cell_type": "code",
   "execution_count": 16,
   "metadata": {
    "collapsed": false,
    "deletable": true,
    "editable": true
   },
   "outputs": [],
   "source": [
    "def value_iteration(S, A, P, gamma=.99, theta = 0.0000001):\n",
    " \n",
    "    V = np.random.random(len(S))\n",
    "    for i in range(100000):\n",
    "        old_V = V.copy()\n",
    "        \n",
    "        Q = np.zeros((len(S), len(A)), dtype=float)\n",
    "        for s in S:\n",
    "            for a in A:\n",
    "                for prob, s_prime, reward, done in P[s][a]:\n",
    "                    Q[s][a] += prob * (reward + gamma * old_V[s] * (not done))\n",
    "            V[s] = Q[s].max()\n",
    "        if np.all(np.abs(old_V - V) < theta):\n",
    "            break\n",
    "    \n",
    "    pi = np.argmax(Q, axis=1)\n",
    "    return pi, V"
   ]
  },
  {
   "cell_type": "code",
   "execution_count": null,
   "metadata": {
    "collapsed": true,
    "deletable": true,
    "editable": true
   },
   "outputs": [],
   "source": [
    "mdir = tempfile.mkdtemp()\n",
    "env = gym.make('FrozenLake-v0')\n",
    "env = wrappers.Monitor(env, mdir, force=True)\n",
    "\n",
    "S = range(env.env.observation_space.n)\n",
    "A = range(env.env.action_space.n)\n",
    "P = env.env.env.P\n",
    "\n",
    "pi, V = value_iteration(S, A, P)"
   ]
  },
  {
   "cell_type": "code",
   "execution_count": 13,
   "metadata": {
    "collapsed": false,
    "deletable": true,
    "editable": true
   },
   "outputs": [
    {
     "name": "stderr",
     "output_type": "stream",
     "text": [
      "[2017-04-01 17:52:57,463] Starting new video recorder writing to /tmp/tmpmedscieh/openaigym.video.3.137.video000000.json\n",
      "[2017-04-01 17:52:57,468] Starting new video recorder writing to /tmp/tmpmedscieh/openaigym.video.3.137.video000001.json\n",
      "[2017-04-01 17:52:57,478] Starting new video recorder writing to /tmp/tmpmedscieh/openaigym.video.3.137.video000008.json\n",
      "[2017-04-01 17:52:57,505] Starting new video recorder writing to /tmp/tmpmedscieh/openaigym.video.3.137.video000027.json\n",
      "[2017-04-01 17:52:57,555] Starting new video recorder writing to /tmp/tmpmedscieh/openaigym.video.3.137.video000064.json\n",
      "[2017-04-01 17:52:57,606] Starting new video recorder writing to /tmp/tmpmedscieh/openaigym.video.3.137.video000125.json\n",
      "[2017-04-01 17:52:57,667] Starting new video recorder writing to /tmp/tmpmedscieh/openaigym.video.3.137.video000216.json\n",
      "[2017-04-01 17:52:57,766] Starting new video recorder writing to /tmp/tmpmedscieh/openaigym.video.3.137.video000343.json\n",
      "[2017-04-01 17:52:57,897] Starting new video recorder writing to /tmp/tmpmedscieh/openaigym.video.3.137.video000512.json\n",
      "[2017-04-01 17:52:58,038] Starting new video recorder writing to /tmp/tmpmedscieh/openaigym.video.3.137.video000729.json\n",
      "[2017-04-01 17:52:58,217] Starting new video recorder writing to /tmp/tmpmedscieh/openaigym.video.3.137.video001000.json\n",
      "[2017-04-01 17:52:59,017] Starting new video recorder writing to /tmp/tmpmedscieh/openaigym.video.3.137.video002000.json\n",
      "[2017-04-01 17:52:59,751] Starting new video recorder writing to /tmp/tmpmedscieh/openaigym.video.3.137.video003000.json\n",
      "[2017-04-01 17:53:00,410] Starting new video recorder writing to /tmp/tmpmedscieh/openaigym.video.3.137.video004000.json\n",
      "[2017-04-01 17:53:01,058] Starting new video recorder writing to /tmp/tmpmedscieh/openaigym.video.3.137.video005000.json\n",
      "[2017-04-01 17:53:01,745] Starting new video recorder writing to /tmp/tmpmedscieh/openaigym.video.3.137.video006000.json\n",
      "[2017-04-01 17:53:02,395] Starting new video recorder writing to /tmp/tmpmedscieh/openaigym.video.3.137.video007000.json\n",
      "[2017-04-01 17:53:03,066] Starting new video recorder writing to /tmp/tmpmedscieh/openaigym.video.3.137.video008000.json\n",
      "[2017-04-01 17:53:03,711] Starting new video recorder writing to /tmp/tmpmedscieh/openaigym.video.3.137.video009000.json\n"
     ]
    }
   ],
   "source": [
    "for _ in range(10000):\n",
    "    state = env.reset()\n",
    "    while True:\n",
    "        state, reward, done, info = env.step(pi[state])\n",
    "        if done:\n",
    "            break\n",
    "last_video = env.videos[-1][0]"
   ]
  },
  {
   "cell_type": "code",
   "execution_count": 4,
   "metadata": {
    "collapsed": false,
    "deletable": true,
    "editable": true
   },
   "outputs": [
    {
     "name": "stdout",
     "output_type": "stream",
     "text": [
      "https://asciinema.org/a/9hcmd0xprfc736y7mj52x7vxe\n"
     ]
    }
   ],
   "source": [
    "out = check_output([\"asciinema\", \"upload\", last_video])\n",
    "out = out.decode(\"utf-8\").replace('\\n', '').replace('\\r', '')\n",
    "print(out)"
   ]
  },
  {
   "cell_type": "code",
   "execution_count": 5,
   "metadata": {
    "collapsed": false,
    "deletable": true,
    "editable": true
   },
   "outputs": [
    {
     "data": {
      "text/html": [
       "\n",
       "<script type=\"text/javascript\" \n",
       "    src=\"https://asciinema.org/a/9hcmd0xprfc736y7mj52x7vxe.js\" \n",
       "    id=\"asciicast-9hcmd0xprfc736y7mj52x7vxe\" \n",
       "    async data-autoplay=\"true\" data-size=\"big\">\n",
       "</script>\n"
      ],
      "text/plain": [
       "<IPython.core.display.HTML object>"
      ]
     },
     "execution_count": 5,
     "metadata": {},
     "output_type": "execute_result"
    }
   ],
   "source": [
    "castid = out.split('/')[-1]\n",
    "html_tag = \"\"\"\n",
    "<script type=\"text/javascript\" \n",
    "    src=\"https://asciinema.org/a/{0}.js\" \n",
    "    id=\"asciicast-{0}\" \n",
    "    async data-autoplay=\"true\" data-size=\"big\">\n",
    "</script>\n",
    "\"\"\"\n",
    "html_tag = html_tag.format(castid)\n",
    "HTML(data=html_tag)"
   ]
  },
  {
   "cell_type": "code",
   "execution_count": 14,
   "metadata": {
    "collapsed": false,
    "deletable": true,
    "editable": true
   },
   "outputs": [
    {
     "data": {
      "text/plain": [
       "array([  8.42424131e-01,   1.27597470e-01,   4.46821586e-01,\n",
       "         8.22393114e-01,   3.27417690e-01,   0.00000000e+00,\n",
       "         5.83066888e-07,   0.00000000e+00,   5.01252977e-01,\n",
       "         9.52402699e-01,   4.65184406e-01,   0.00000000e+00,\n",
       "         0.00000000e+00,   3.80762908e-01,   9.99998223e-01,\n",
       "         0.00000000e+00])"
      ]
     },
     "execution_count": 14,
     "metadata": {},
     "output_type": "execute_result"
    }
   ],
   "source": [
    "V"
   ]
  },
  {
   "cell_type": "code",
   "execution_count": 7,
   "metadata": {
    "collapsed": false,
    "deletable": true,
    "editable": true
   },
   "outputs": [
    {
     "data": {
      "text/plain": [
       "array([0, 3, 0, 3, 0, 0, 0, 0, 3, 1, 0, 0, 0, 2, 1, 0])"
      ]
     },
     "execution_count": 7,
     "metadata": {},
     "output_type": "execute_result"
    }
   ],
   "source": [
    "pi"
   ]
  },
  {
   "cell_type": "code",
   "execution_count": 8,
   "metadata": {
    "collapsed": false,
    "deletable": true,
    "editable": true
   },
   "outputs": [
    {
     "name": "stderr",
     "output_type": "stream",
     "text": [
      "[2017-04-01 16:55:41,787] Finished writing results. You can upload them to the scoreboard via gym.upload('/tmp/tmpfukeltbz')\n"
     ]
    }
   ],
   "source": [
    "env.close()"
   ]
  },
  {
   "cell_type": "code",
   "execution_count": 9,
   "metadata": {
    "collapsed": false,
    "deletable": true,
    "editable": true
   },
   "outputs": [
    {
     "name": "stderr",
     "output_type": "stream",
     "text": [
      "[2017-04-01 16:55:43,229] [FrozenLake-v0] Uploading 10000 episodes of training data\n",
      "[2017-04-01 16:55:44,905] [FrozenLake-v0] Uploading videos of 19 training episodes (2158 bytes)\n",
      "[2017-04-01 16:55:45,131] [FrozenLake-v0] Creating evaluation object from /tmp/tmpfukeltbz with learning curve and training video\n",
      "[2017-04-01 16:55:45,620] \n",
      "****************************************************\n",
      "You successfully uploaded your evaluation on FrozenLake-v0 to\n",
      "OpenAI Gym! You can find it at:\n",
      "\n",
      "    https://gym.openai.com/evaluations/eval_ycTPCbyiTWK6T0C4DyrvRg\n",
      "\n",
      "****************************************************\n"
     ]
    }
   ],
   "source": [
    "gym.upload(mdir, api_key='<YOUR OPENAI API KEY>')"
   ]
  },
  {
   "cell_type": "markdown",
   "metadata": {
    "deletable": true,
    "editable": true
   },
   "source": [
    "#### Policy Evaluation"
   ]
  },
  {
   "cell_type": "code",
   "execution_count": 123,
   "metadata": {
    "collapsed": true,
    "deletable": true,
    "editable": true
   },
   "outputs": [],
   "source": [
    "def policy_evaluation(pi, S, A, P, gamma=.99, theta=0.0000001):\n",
    "    \n",
    "    V = np.zeros(len(S))\n",
    "    while True:\n",
    "        delta = 0\n",
    "        for s in S:\n",
    "            v = V[s]\n",
    "            \n",
    "            V[s] = 0\n",
    "            for prob, dst, reward, done in P[s][pi[s]]:\n",
    "                V[s] += prob * (reward + gamma * V[dst] * (not done))\n",
    "            \n",
    "            delta = max(delta, np.abs(v - V[s]))\n",
    "        if delta < theta:\n",
    "            break\n",
    "    return V"
   ]
  },
  {
   "cell_type": "code",
   "execution_count": 124,
   "metadata": {
    "collapsed": false,
    "deletable": true,
    "editable": true
   },
   "outputs": [],
   "source": [
    "def policy_improvement(pi, V, S, A, P, gamma=.99):\n",
    "    for s in S:\n",
    "        old_a = pi[s]\n",
    "        \n",
    "        Qs = np.zeros(len(A), dtype=float)\n",
    "        for a in A:\n",
    "            for prob, s_prime, reward, done in P[s][a]:\n",
    "                Qs[a] += prob * (reward + gamma * V[s] * (not done))\n",
    "        pi[s] = np.argmax(Qs)\n",
    "        V[s] = np.max(Qs)\n",
    "    return pi, V"
   ]
  },
  {
   "cell_type": "code",
   "execution_count": 125,
   "metadata": {
    "collapsed": false,
    "deletable": true,
    "editable": true
   },
   "outputs": [],
   "source": [
    "def policy_iteration(S, A, P, gamma=.99):\n",
    "    pi = np.random.choice(A, len(S))\n",
    "    while True:    \n",
    "        V = policy_evaluation(pi, S, A, P, gamma)\n",
    "        new_pi, new_V = policy_improvement(\n",
    "            pi.copy(), V.copy(), S, A, P, gamma)\n",
    "        if np.all(pi == new_pi):\n",
    "            break\n",
    "        pi = new_pi\n",
    "        V = new_V\n",
    "    return pi"
   ]
  },
  {
   "cell_type": "code",
   "execution_count": 126,
   "metadata": {
    "collapsed": false,
    "deletable": true,
    "editable": true
   },
   "outputs": [
    {
     "name": "stderr",
     "output_type": "stream",
     "text": [
      "[2017-04-01 20:39:32,143] Making new env: FrozenLake-v0\n",
      "[2017-04-01 20:39:32,212] Finished writing results. You can upload them to the scoreboard via gym.upload('/tmp/tmpj0ku0pbt')\n"
     ]
    },
    {
     "name": "stdout",
     "output_type": "stream",
     "text": [
      "[0 3 0 3 0 0 0 0 3 1 0 0 0 2 1 0]\n"
     ]
    }
   ],
   "source": [
    "mdir = tempfile.mkdtemp()\n",
    "env = gym.make('FrozenLake-v0')\n",
    "env = wrappers.Monitor(env, mdir, force=True)\n",
    "\n",
    "S = range(env.env.observation_space.n)\n",
    "A = range(env.env.action_space.n)\n",
    "P = env.env.env.P\n",
    "\n",
    "pi = policy_iteration(S, A, P)\n",
    "print(pi)"
   ]
  },
  {
   "cell_type": "code",
   "execution_count": 127,
   "metadata": {
    "collapsed": false,
    "deletable": true,
    "editable": true
   },
   "outputs": [
    {
     "name": "stderr",
     "output_type": "stream",
     "text": [
      "[2017-04-01 20:39:34,925] Starting new video recorder writing to /tmp/tmpyspcx0sa/openaigym.video.96.137.video000000.json\n",
      "[2017-04-01 20:39:34,932] Starting new video recorder writing to /tmp/tmpyspcx0sa/openaigym.video.96.137.video000001.json\n",
      "[2017-04-01 20:39:34,940] Starting new video recorder writing to /tmp/tmpyspcx0sa/openaigym.video.96.137.video000008.json\n",
      "[2017-04-01 20:39:34,977] Starting new video recorder writing to /tmp/tmpyspcx0sa/openaigym.video.96.137.video000027.json\n",
      "[2017-04-01 20:39:35,024] Starting new video recorder writing to /tmp/tmpyspcx0sa/openaigym.video.96.137.video000064.json\n",
      "[2017-04-01 20:39:35,075] Starting new video recorder writing to /tmp/tmpyspcx0sa/openaigym.video.96.137.video000125.json\n",
      "[2017-04-01 20:39:35,160] Starting new video recorder writing to /tmp/tmpyspcx0sa/openaigym.video.96.137.video000216.json\n",
      "[2017-04-01 20:39:35,260] Starting new video recorder writing to /tmp/tmpyspcx0sa/openaigym.video.96.137.video000343.json\n",
      "[2017-04-01 20:39:35,382] Starting new video recorder writing to /tmp/tmpyspcx0sa/openaigym.video.96.137.video000512.json\n",
      "[2017-04-01 20:39:35,543] Starting new video recorder writing to /tmp/tmpyspcx0sa/openaigym.video.96.137.video000729.json\n",
      "[2017-04-01 20:39:35,739] Starting new video recorder writing to /tmp/tmpyspcx0sa/openaigym.video.96.137.video001000.json\n",
      "[2017-04-01 20:39:36,381] Starting new video recorder writing to /tmp/tmpyspcx0sa/openaigym.video.96.137.video002000.json\n",
      "[2017-04-01 20:39:37,007] Starting new video recorder writing to /tmp/tmpyspcx0sa/openaigym.video.96.137.video003000.json\n",
      "[2017-04-01 20:39:37,782] Starting new video recorder writing to /tmp/tmpyspcx0sa/openaigym.video.96.137.video004000.json\n",
      "[2017-04-01 20:39:38,542] Starting new video recorder writing to /tmp/tmpyspcx0sa/openaigym.video.96.137.video005000.json\n",
      "[2017-04-01 20:39:39,195] Starting new video recorder writing to /tmp/tmpyspcx0sa/openaigym.video.96.137.video006000.json\n",
      "[2017-04-01 20:39:39,834] Starting new video recorder writing to /tmp/tmpyspcx0sa/openaigym.video.96.137.video007000.json\n",
      "[2017-04-01 20:39:40,492] Starting new video recorder writing to /tmp/tmpyspcx0sa/openaigym.video.96.137.video008000.json\n",
      "[2017-04-01 20:39:41,117] Starting new video recorder writing to /tmp/tmpyspcx0sa/openaigym.video.96.137.video009000.json\n"
     ]
    }
   ],
   "source": [
    "for _ in range(10000):\n",
    "    state = env.reset()\n",
    "    while True:\n",
    "        state, reward, done, info = env.step(pi[state])\n",
    "        if done:\n",
    "            break\n",
    "last_video = env.videos[-1][0]"
   ]
  },
  {
   "cell_type": "code",
   "execution_count": 128,
   "metadata": {
    "collapsed": false,
    "deletable": true,
    "editable": true
   },
   "outputs": [
    {
     "name": "stdout",
     "output_type": "stream",
     "text": [
      "https://asciinema.org/a/5k34nstnvcznz9hpqd2gleuxf\n"
     ]
    }
   ],
   "source": [
    "out = check_output([\"asciinema\", \"upload\", last_video])\n",
    "out = out.decode(\"utf-8\").replace('\\n', '').replace('\\r', '')\n",
    "print(out)"
   ]
  },
  {
   "cell_type": "code",
   "execution_count": 129,
   "metadata": {
    "collapsed": false,
    "deletable": true,
    "editable": true
   },
   "outputs": [
    {
     "data": {
      "text/html": [
       "\n",
       "<script type=\"text/javascript\" \n",
       "    src=\"https://asciinema.org/a/5k34nstnvcznz9hpqd2gleuxf.js\" \n",
       "    id=\"asciicast-5k34nstnvcznz9hpqd2gleuxf\" \n",
       "    async data-autoplay=\"true\" data-size=\"big\">\n",
       "</script>\n"
      ],
      "text/plain": [
       "<IPython.core.display.HTML object>"
      ]
     },
     "execution_count": 129,
     "metadata": {},
     "output_type": "execute_result"
    }
   ],
   "source": [
    "castid = out.split('/')[-1]\n",
    "html_tag = \"\"\"\n",
    "<script type=\"text/javascript\" \n",
    "    src=\"https://asciinema.org/a/{0}.js\" \n",
    "    id=\"asciicast-{0}\" \n",
    "    async data-autoplay=\"true\" data-size=\"big\">\n",
    "</script>\n",
    "\"\"\"\n",
    "html_tag = html_tag.format(castid)\n",
    "HTML(data=html_tag)"
   ]
  },
  {
   "cell_type": "code",
   "execution_count": 130,
   "metadata": {
    "collapsed": false,
    "deletable": true,
    "editable": true
   },
   "outputs": [
    {
     "data": {
      "text/plain": [
       "array([  8.16998304e-03,   3.29652708e-03,   1.28990882e-03,\n",
       "         4.29969608e-04,   1.50867136e-02,   0.00000000e+00,\n",
       "         3.66919617e-02,   0.00000000e+00,   3.43668617e-02,\n",
       "         1.03100630e-01,   1.63823969e-01,   0.00000000e+00,\n",
       "         0.00000000e+00,   1.45477988e-01,   6.24289324e-01,\n",
       "         0.00000000e+00])"
      ]
     },
     "execution_count": 130,
     "metadata": {},
     "output_type": "execute_result"
    }
   ],
   "source": [
    "V"
   ]
  },
  {
   "cell_type": "code",
   "execution_count": 131,
   "metadata": {
    "collapsed": false,
    "deletable": true,
    "editable": true
   },
   "outputs": [
    {
     "data": {
      "text/plain": [
       "array([0, 3, 0, 3, 0, 0, 0, 0, 3, 1, 0, 0, 0, 2, 1, 0])"
      ]
     },
     "execution_count": 131,
     "metadata": {},
     "output_type": "execute_result"
    }
   ],
   "source": [
    "pi"
   ]
  },
  {
   "cell_type": "code",
   "execution_count": 133,
   "metadata": {
    "collapsed": false,
    "deletable": true,
    "editable": true
   },
   "outputs": [
    {
     "name": "stderr",
     "output_type": "stream",
     "text": [
      "[2017-04-01 20:40:49,419] Finished writing results. You can upload them to the scoreboard via gym.upload('/tmp/tmpyspcx0sa')\n"
     ]
    }
   ],
   "source": [
    "env.close()"
   ]
  },
  {
   "cell_type": "code",
   "execution_count": 134,
   "metadata": {
    "collapsed": false,
    "deletable": true,
    "editable": true
   },
   "outputs": [
    {
     "name": "stderr",
     "output_type": "stream",
     "text": [
      "[2017-04-01 20:40:54,103] [FrozenLake-v0] Uploading 10000 episodes of training data\n",
      "[2017-04-01 20:40:55,854] [FrozenLake-v0] Uploading videos of 19 training episodes (2278 bytes)\n",
      "[2017-04-01 20:40:56,102] [FrozenLake-v0] Creating evaluation object from /tmp/tmpyspcx0sa with learning curve and training video\n",
      "[2017-04-01 20:40:56,451] \n",
      "****************************************************\n",
      "You successfully uploaded your evaluation on FrozenLake-v0 to\n",
      "OpenAI Gym! You can find it at:\n",
      "\n",
      "    https://gym.openai.com/evaluations/eval_vAvbhsGQRVSAe5DZkFNrQ\n",
      "\n",
      "****************************************************\n"
     ]
    }
   ],
   "source": [
    "gym.upload(mdir, api_key='<YOUR OPENAI API KEY>')"
   ]
  },
  {
   "cell_type": "code",
   "execution_count": null,
   "metadata": {
    "collapsed": true,
    "deletable": true,
    "editable": true
   },
   "outputs": [],
   "source": []
  }
 ],
 "metadata": {
  "kernelspec": {
   "display_name": "Python 3",
   "language": "python",
   "name": "python3"
  },
  "language_info": {
   "codemirror_mode": {
    "name": "ipython",
    "version": 3
   },
   "file_extension": ".py",
   "mimetype": "text/x-python",
   "name": "python",
   "nbconvert_exporter": "python",
   "pygments_lexer": "ipython3",
   "version": "3.5.2"
  }
 },
 "nbformat": 4,
 "nbformat_minor": 2
}
