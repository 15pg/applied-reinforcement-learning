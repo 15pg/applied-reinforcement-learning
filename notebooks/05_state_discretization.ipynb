{
 "cells": [
  {
   "cell_type": "markdown",
   "metadata": {
    "deletable": true,
    "editable": true
   },
   "source": [
    "### State Space Discretization"
   ]
  },
  {
   "cell_type": "code",
   "execution_count": 1,
   "metadata": {
    "collapsed": true,
    "deletable": true,
    "editable": true
   },
   "outputs": [],
   "source": [
    "import numpy as np\n",
    "import pandas as pd\n",
    "import matplotlib.pyplot as plt\n",
    "\n",
    "import tempfile\n",
    "import base64\n",
    "import pprint\n",
    "import json\n",
    "import sys\n",
    "import gym\n",
    "import io\n",
    "\n",
    "from gym import wrappers\n",
    "from subprocess import check_output\n",
    "from IPython.display import HTML"
   ]
  },
  {
   "cell_type": "markdown",
   "metadata": {
    "deletable": true,
    "editable": true
   },
   "source": [
    "#### Q-Learning"
   ]
  },
  {
   "cell_type": "code",
   "execution_count": 2,
   "metadata": {
    "collapsed": false,
    "deletable": true,
    "editable": true,
    "scrolled": true
   },
   "outputs": [],
   "source": [
    "def action_selection(state, Q, episode, n_episodes):\n",
    "    epsilon = max(0, episode/n_episodes*2)\n",
    "    if np.random.random() < epsilon:\n",
    "        action = np.random.randint(len(Q[0]))\n",
    "    else:\n",
    "        action = np.argmax(Q[state])\n",
    "    return action"
   ]
  },
  {
   "cell_type": "code",
   "execution_count": 3,
   "metadata": {
    "collapsed": true,
    "deletable": true,
    "editable": true
   },
   "outputs": [],
   "source": [
    "def q_learning(env, alpha = 0.9, gamma = 0.9):\n",
    "    nS = env.env.observation_space.n\n",
    "    nA = env.env.action_space.n\n",
    "    \n",
    "    Q = np.random.random((nS, nA)) * 2.0\n",
    "    n_episodes = 10000\n",
    "    \n",
    "    for episode in range(n_episodes//2, -n_episodes//2, -1):\n",
    "        state = env.reset()\n",
    "        done = False\n",
    "        while not done:\n",
    "            action = action_selection(state, Q, episode, n_episodes)\n",
    "            nstate, reward, done, info = env.step(action)\n",
    "            Q[state][action] += alpha * (reward + gamma * Q[nstate].max() * (not done) - Q[state][action])\n",
    "            state = nstate\n",
    "    return Q"
   ]
  },
  {
   "cell_type": "code",
   "execution_count": 4,
   "metadata": {
    "collapsed": false,
    "deletable": true,
    "editable": true
   },
   "outputs": [
    {
     "name": "stderr",
     "output_type": "stream",
     "text": [
      "[2017-04-02 07:05:07,317] Making new env: CartPole-v0\n"
     ]
    },
    {
     "ename": "AttributeError",
     "evalue": "'Box' object has no attribute 'n'",
     "output_type": "error",
     "traceback": [
      "\u001b[0;31m---------------------------------------------------------------------------\u001b[0m",
      "\u001b[0;31mAttributeError\u001b[0m                            Traceback (most recent call last)",
      "\u001b[0;32m<ipython-input-4-c5ec8c33f1bc>\u001b[0m in \u001b[0;36m<module>\u001b[0;34m()\u001b[0m\n\u001b[1;32m      1\u001b[0m \u001b[0mmdir\u001b[0m \u001b[0;34m=\u001b[0m \u001b[0mtempfile\u001b[0m\u001b[0;34m.\u001b[0m\u001b[0mmkdtemp\u001b[0m\u001b[0;34m(\u001b[0m\u001b[0;34m)\u001b[0m\u001b[0;34m\u001b[0m\u001b[0m\n\u001b[1;32m      2\u001b[0m \u001b[0menv\u001b[0m \u001b[0;34m=\u001b[0m \u001b[0mgym\u001b[0m\u001b[0;34m.\u001b[0m\u001b[0mmake\u001b[0m\u001b[0;34m(\u001b[0m\u001b[0;34m'CartPole-v0'\u001b[0m\u001b[0;34m)\u001b[0m\u001b[0;34m\u001b[0m\u001b[0m\n\u001b[0;32m----> 3\u001b[0;31m \u001b[0mQ\u001b[0m \u001b[0;34m=\u001b[0m \u001b[0mq_learning\u001b[0m\u001b[0;34m(\u001b[0m\u001b[0menv\u001b[0m\u001b[0;34m)\u001b[0m\u001b[0;34m\u001b[0m\u001b[0m\n\u001b[0m",
      "\u001b[0;32m<ipython-input-3-4ed83d5ad85d>\u001b[0m in \u001b[0;36mq_learning\u001b[0;34m(env, alpha, gamma)\u001b[0m\n\u001b[1;32m      1\u001b[0m \u001b[0;32mdef\u001b[0m \u001b[0mq_learning\u001b[0m\u001b[0;34m(\u001b[0m\u001b[0menv\u001b[0m\u001b[0;34m,\u001b[0m \u001b[0malpha\u001b[0m \u001b[0;34m=\u001b[0m \u001b[0;36m0.9\u001b[0m\u001b[0;34m,\u001b[0m \u001b[0mgamma\u001b[0m \u001b[0;34m=\u001b[0m \u001b[0;36m0.9\u001b[0m\u001b[0;34m)\u001b[0m\u001b[0;34m:\u001b[0m\u001b[0;34m\u001b[0m\u001b[0m\n\u001b[0;32m----> 2\u001b[0;31m     \u001b[0mnS\u001b[0m \u001b[0;34m=\u001b[0m \u001b[0menv\u001b[0m\u001b[0;34m.\u001b[0m\u001b[0menv\u001b[0m\u001b[0;34m.\u001b[0m\u001b[0mobservation_space\u001b[0m\u001b[0;34m.\u001b[0m\u001b[0mn\u001b[0m\u001b[0;34m\u001b[0m\u001b[0m\n\u001b[0m\u001b[1;32m      3\u001b[0m     \u001b[0mnA\u001b[0m \u001b[0;34m=\u001b[0m \u001b[0menv\u001b[0m\u001b[0;34m.\u001b[0m\u001b[0menv\u001b[0m\u001b[0;34m.\u001b[0m\u001b[0maction_space\u001b[0m\u001b[0;34m.\u001b[0m\u001b[0mn\u001b[0m\u001b[0;34m\u001b[0m\u001b[0m\n\u001b[1;32m      4\u001b[0m \u001b[0;34m\u001b[0m\u001b[0m\n\u001b[1;32m      5\u001b[0m     \u001b[0mQ\u001b[0m \u001b[0;34m=\u001b[0m \u001b[0mnp\u001b[0m\u001b[0;34m.\u001b[0m\u001b[0mrandom\u001b[0m\u001b[0;34m.\u001b[0m\u001b[0mrandom\u001b[0m\u001b[0;34m(\u001b[0m\u001b[0;34m(\u001b[0m\u001b[0mnS\u001b[0m\u001b[0;34m,\u001b[0m \u001b[0mnA\u001b[0m\u001b[0;34m)\u001b[0m\u001b[0;34m)\u001b[0m \u001b[0;34m*\u001b[0m \u001b[0;36m2.0\u001b[0m\u001b[0;34m\u001b[0m\u001b[0m\n",
      "\u001b[0;31mAttributeError\u001b[0m: 'Box' object has no attribute 'n'"
     ]
    }
   ],
   "source": [
    "mdir = tempfile.mkdtemp()\n",
    "env = gym.make('CartPole-v0')\n",
    "Q = q_learning(env)"
   ]
  },
  {
   "cell_type": "code",
   "execution_count": 5,
   "metadata": {
    "collapsed": false,
    "deletable": true,
    "editable": true,
    "scrolled": true
   },
   "outputs": [
    {
     "name": "stderr",
     "output_type": "stream",
     "text": [
      "[2017-04-02 07:05:07,950] Making new env: CartPole-v0\n"
     ]
    },
    {
     "name": "stdout",
     "output_type": "stream",
     "text": [
      "Episode finished after 15 timesteps\n",
      "Episode finished after 13 timesteps\n",
      "Episode finished after 19 timesteps\n",
      "Episode finished after 15 timesteps\n",
      "Episode finished after 18 timesteps\n",
      "Episode finished after 14 timesteps\n",
      "Episode finished after 25 timesteps\n",
      "Episode finished after 14 timesteps\n",
      "Episode finished after 11 timesteps\n",
      "Episode finished after 17 timesteps\n",
      "Episode finished after 22 timesteps\n",
      "Episode finished after 13 timesteps\n",
      "Episode finished after 18 timesteps\n",
      "Episode finished after 14 timesteps\n",
      "Episode finished after 13 timesteps\n",
      "Episode finished after 17 timesteps\n",
      "Episode finished after 29 timesteps\n",
      "Episode finished after 16 timesteps\n",
      "Episode finished after 16 timesteps\n",
      "Episode finished after 16 timesteps\n"
     ]
    }
   ],
   "source": [
    "env = gym.make('CartPole-v0')\n",
    "observations = []\n",
    "for i_episode in range(20):\n",
    "    observation = env.reset()\n",
    "    for t in range(1000):\n",
    "        env.render()\n",
    "        observations.append(observation)\n",
    "        action = env.action_space.sample()\n",
    "        observation, reward, done, info = env.step(action)\n",
    "        if done:\n",
    "            print(\"Episode finished after {} timesteps\".format(t+1))\n",
    "            break\n",
    "env.close()\n",
    "x_vals = np.array(observations)[:,0]\n",
    "xd_vals = np.array(observations)[:,1]\n",
    "a_vals = np.array(observations)[:,2]\n",
    "ad_vals = np.array(observations)[:,3]\n",
    "y = np.zeros_like(x_vals)"
   ]
  },
  {
   "cell_type": "code",
   "execution_count": 6,
   "metadata": {
    "collapsed": false,
    "deletable": true,
    "editable": true
   },
   "outputs": [
    {
     "data": {
      "text/plain": [
       "array([  2.40000000e+00,   1.70141173e+38,   2.09439510e-01,\n",
       "         1.70141173e+38])"
      ]
     },
     "execution_count": 6,
     "metadata": {},
     "output_type": "execute_result"
    }
   ],
   "source": [
    "env.env.observation_space.high/2"
   ]
  },
  {
   "cell_type": "code",
   "execution_count": 7,
   "metadata": {
    "collapsed": false,
    "deletable": true,
    "editable": true
   },
   "outputs": [
    {
     "data": {
      "text/plain": [
       "array([ -2.40000000e+00,  -1.70141173e+38,  -2.09439510e-01,\n",
       "        -1.70141173e+38])"
      ]
     },
     "execution_count": 7,
     "metadata": {},
     "output_type": "execute_result"
    }
   ],
   "source": [
    "env.env.observation_space.low/2"
   ]
  },
  {
   "cell_type": "code",
   "execution_count": 8,
   "metadata": {
    "collapsed": false,
    "deletable": true,
    "editable": true
   },
   "outputs": [],
   "source": [
    "x_thres_high = (env.env.observation_space.high/2)[0]\n",
    "x_thres_low = (env.env.observation_space.low/2)[0]\n",
    "angle_thres_high = (env.env.observation_space.high/2)[2]\n",
    "angle_thres_low = (env.env.observation_space.low/2)[2]"
   ]
  },
  {
   "cell_type": "code",
   "execution_count": 9,
   "metadata": {
    "collapsed": false,
    "deletable": true,
    "editable": true
   },
   "outputs": [
    {
     "data": {
      "text/plain": [
       "(-0.2, 0.2)"
      ]
     },
     "execution_count": 9,
     "metadata": {},
     "output_type": "execute_result"
    },
    {
     "data": {
      "image/png": "[encoded data removed]",
      "text/plain": [
       "<matplotlib.figure.Figure at 0x7fe27c24ccf8>"
      ]
     },
     "metadata": {},
     "output_type": "display_data"
    }
   ],
   "source": [
    "plt.plot(xd_vals, y + 0.15, '.', color='darkorange')\n",
    "plt.plot(x_vals, y + 0.05, '.', color='orange')\n",
    "plt.plot(a_vals, y - 0.05, '.', color='green')\n",
    "plt.plot(ad_vals, y - 0.15, '.', color='darkgreen')\n",
    "\n",
    "\n",
    "plt.axvline(x=x_thres_high, color='orange')\n",
    "plt.axvline(x=x_thres_low, color='orange')\n",
    "plt.axvline(x=angle_thres_high, color='green')\n",
    "plt.axvline(x=angle_thres_low, color='green')\n",
    "\n",
    "plt.ylim([-0.2, 0.2])"
   ]
  },
  {
   "cell_type": "code",
   "execution_count": 10,
   "metadata": {
    "collapsed": false,
    "deletable": true,
    "editable": true
   },
   "outputs": [
    {
     "data": {
      "text/plain": [
       "(-0.1, 0.1)"
      ]
     },
     "execution_count": 10,
     "metadata": {},
     "output_type": "execute_result"
    },
    {
     "data": {
      "image/png": "[encoded data removed]",
      "text/plain": [
       "<matplotlib.figure.Figure at 0x7fe27c24ca20>"
      ]
     },
     "metadata": {},
     "output_type": "display_data"
    }
   ],
   "source": [
    "x1 = np.linspace(x_thres_low, x_thres_high, \n",
    "                 2, endpoint=False)[1:]\n",
    "x2 = np.linspace(x_thres_low + .5, x_thres_high - .5, \n",
    "                 2, endpoint=False)[1:]\n",
    "y1 = np.zeros(len(x1)) + 0.05\n",
    "y2 = np.zeros(len(x2)) - 0.05\n",
    "plt.plot(x1, y1, 'o')\n",
    "plt.plot(x2, y2, 'o')\n",
    "\n",
    "plt.ylim([-0.1, 0.1])"
   ]
  },
  {
   "cell_type": "code",
   "execution_count": 11,
   "metadata": {
    "collapsed": false,
    "deletable": true,
    "editable": true
   },
   "outputs": [
    {
     "data": {
      "text/plain": [
       "array([ 0.])"
      ]
     },
     "execution_count": 11,
     "metadata": {},
     "output_type": "execute_result"
    }
   ],
   "source": [
    "x2"
   ]
  },
  {
   "cell_type": "code",
   "execution_count": 12,
   "metadata": {
    "collapsed": false,
    "deletable": true,
    "editable": true
   },
   "outputs": [
    {
     "data": {
      "text/plain": [
       "1"
      ]
     },
     "execution_count": 12,
     "metadata": {},
     "output_type": "execute_result"
    }
   ],
   "source": [
    "len(x2)"
   ]
  },
  {
   "cell_type": "code",
   "execution_count": 321,
   "metadata": {
    "collapsed": false,
    "deletable": true,
    "editable": true
   },
   "outputs": [
    {
     "data": {
      "text/plain": [
       "(-0.1, 0.1)"
      ]
     },
     "execution_count": 321,
     "metadata": {},
     "output_type": "execute_result"
    },
    {
     "data": {
      "image/png": "[encoded data removed]",
      "text/plain": [
       "<matplotlib.figure.Figure at 0x7fe27728c9e8>"
      ]
     },
     "metadata": {},
     "output_type": "display_data"
    }
   ],
   "source": [
    "a1 = np.linspace(angle_thres_low, angle_thres_high, \n",
    "                 6, endpoint=False)[1:]\n",
    "all_vals = np.sort(np.append(\n",
    "    (np.logspace(-5, 0.01, 4, endpoint=False, base=2)[1:],\n",
    "    -np.logspace(-5, 0.01, 4, endpoint=False, base=2)[1:]), 0))\n",
    "idxs = np.where(np.abs(all_vals) < angle_thres_high - 0.05)\n",
    "a2 = all_vals[idxs]\n",
    "y1 = np.zeros(len(a1)) + 0.05\n",
    "y2 = np.zeros(len(a2)) - 0.05\n",
    "plt.plot(a1, y1, 'o')\n",
    "plt.plot(a2, y2, 'o')\n",
    "\n",
    "plt.ylim([-0.1, 0.1])"
   ]
  },
  {
   "cell_type": "code",
   "execution_count": 322,
   "metadata": {
    "collapsed": false,
    "deletable": true,
    "editable": true
   },
   "outputs": [
    {
     "data": {
      "text/plain": [
       "array([-0.07445435,  0.        ,  0.07445435])"
      ]
     },
     "execution_count": 322,
     "metadata": {},
     "output_type": "execute_result"
    }
   ],
   "source": [
    "a2"
   ]
  },
  {
   "cell_type": "code",
   "execution_count": 156,
   "metadata": {
    "collapsed": false,
    "deletable": true,
    "editable": true
   },
   "outputs": [
    {
     "data": {
      "text/plain": [
       "7"
      ]
     },
     "execution_count": 156,
     "metadata": {},
     "output_type": "execute_result"
    }
   ],
   "source": [
    "len(a2)"
   ]
  },
  {
   "cell_type": "code",
   "execution_count": 157,
   "metadata": {
    "collapsed": false,
    "deletable": true,
    "editable": true
   },
   "outputs": [
    {
     "data": {
      "text/plain": [
       "array(0)"
      ]
     },
     "execution_count": 157,
     "metadata": {},
     "output_type": "execute_result"
    }
   ],
   "source": [
    "np.digitize(-0.99, a2)"
   ]
  },
  {
   "cell_type": "code",
   "execution_count": 158,
   "metadata": {
    "collapsed": false,
    "deletable": true,
    "editable": true
   },
   "outputs": [
    {
     "data": {
      "text/plain": [
       "array(7)"
      ]
     },
     "execution_count": 158,
     "metadata": {},
     "output_type": "execute_result"
    }
   ],
   "source": [
    "np.digitize(0.99, a2)"
   ]
  },
  {
   "cell_type": "code",
   "execution_count": 159,
   "metadata": {
    "collapsed": false,
    "deletable": true,
    "editable": true
   },
   "outputs": [
    {
     "data": {
      "text/plain": [
       "array(4)"
      ]
     },
     "execution_count": 159,
     "metadata": {},
     "output_type": "execute_result"
    }
   ],
   "source": [
    "np.digitize(0, a2)"
   ]
  },
  {
   "cell_type": "code",
   "execution_count": 93,
   "metadata": {
    "collapsed": false,
    "deletable": true,
    "editable": true
   },
   "outputs": [
    {
     "data": {
      "text/plain": [
       "array(3)"
      ]
     },
     "execution_count": 93,
     "metadata": {},
     "output_type": "execute_result"
    }
   ],
   "source": [
    "np.digitize(-0.0001, a2)"
   ]
  },
  {
   "cell_type": "code",
   "execution_count": 94,
   "metadata": {
    "collapsed": false,
    "deletable": true,
    "editable": true
   },
   "outputs": [
    {
     "data": {
      "text/plain": [
       "array(4)"
      ]
     },
     "execution_count": 94,
     "metadata": {},
     "output_type": "execute_result"
    }
   ],
   "source": [
    "np.digitize(0.0001, a2)"
   ]
  },
  {
   "cell_type": "code",
   "execution_count": 95,
   "metadata": {
    "collapsed": false,
    "deletable": true,
    "editable": true,
    "scrolled": true
   },
   "outputs": [
    {
     "name": "stderr",
     "output_type": "stream",
     "text": [
      "[2017-04-02 07:11:47,597] Making new env: CartPole-v0\n"
     ]
    },
    {
     "name": "stdout",
     "output_type": "stream",
     "text": [
      "Episode finished after 13 timesteps\n",
      "Episode finished after 17 timesteps\n",
      "Episode finished after 22 timesteps\n",
      "Episode finished after 19 timesteps\n",
      "Episode finished after 30 timesteps\n",
      "Episode finished after 11 timesteps\n",
      "Episode finished after 29 timesteps\n",
      "Episode finished after 25 timesteps\n",
      "Episode finished after 15 timesteps\n",
      "Episode finished after 12 timesteps\n",
      "Episode finished after 15 timesteps\n",
      "Episode finished after 22 timesteps\n",
      "Episode finished after 10 timesteps\n",
      "Episode finished after 11 timesteps\n",
      "Episode finished after 20 timesteps\n",
      "Episode finished after 10 timesteps\n",
      "Episode finished after 17 timesteps\n",
      "Episode finished after 12 timesteps\n",
      "Episode finished after 28 timesteps\n",
      "Episode finished after 50 timesteps\n"
     ]
    }
   ],
   "source": [
    "env = gym.make('CartPole-v0')\n",
    "observations = []\n",
    "for i_episode in range(20):\n",
    "    observation = env.reset()\n",
    "    for t in range(100):\n",
    "        env.render()\n",
    "        observations.append(observation)\n",
    "        action = env.action_space.sample()\n",
    "        observation, reward, done, info = env.step(action)\n",
    "        if done:\n",
    "            print(\"Episode finished after {} timesteps\".format(t+1))\n",
    "            break\n",
    "env.close()\n",
    "x_vals = np.array(observations)[:,0]\n",
    "xd_vals = np.array(observations)[:,1]\n",
    "a_vals = np.array(observations)[:,2]\n",
    "ad_vals = np.array(observations)[:,3]\n",
    "y = np.zeros_like(x_vals)"
   ]
  },
  {
   "cell_type": "code",
   "execution_count": 96,
   "metadata": {
    "collapsed": false,
    "deletable": true,
    "editable": true
   },
   "outputs": [
    {
     "data": {
      "text/plain": [
       "(-0.2, 0.2)"
      ]
     },
     "execution_count": 96,
     "metadata": {},
     "output_type": "execute_result"
    },
    {
     "data": {
      "image/png": "[encoded data removed]",
      "text/plain": [
       "<matplotlib.figure.Figure at 0x7fe26bcc7a58>"
      ]
     },
     "metadata": {},
     "output_type": "display_data"
    }
   ],
   "source": [
    "plt.plot(xd_vals, y + 0.15, '.')\n",
    "plt.plot(x_vals, y + 0.05, '.')\n",
    "plt.plot(a_vals, y - 0.05, '.')\n",
    "plt.plot(ad_vals, y - 0.15, '.')\n",
    "\n",
    "yx2 = np.zeros_like(x2) + 0.1\n",
    "ya2 = np.zeros_like(a2) - 0.1\n",
    "plt.plot(x2, yx2, '|')\n",
    "plt.plot(a2, ya2, '|')\n",
    "\n",
    "plt.axvline(x=x_thres_high, color='orange')\n",
    "plt.axvline(x=x_thres_low, color='orange')\n",
    "plt.axvline(x=angle_thres_high, color='green')\n",
    "plt.axvline(x=angle_thres_low, color='green')\n",
    "\n",
    "plt.ylim([-0.2, 0.2])"
   ]
  },
  {
   "cell_type": "code",
   "execution_count": 311,
   "metadata": {
    "collapsed": false,
    "deletable": true,
    "editable": true
   },
   "outputs": [
    {
     "data": {
      "text/plain": [
       "array([-2.        , -1.42857143, -0.85714286, -0.28571429,  0.        ,\n",
       "        0.28571429,  0.85714286,  1.42857143,  2.        ])"
      ]
     },
     "execution_count": 311,
     "metadata": {},
     "output_type": "execute_result"
    }
   ],
   "source": [
    "d1 = np.sort(np.append(np.linspace(-2, 2, 8, endpoint=True), 0))\n",
    "d1"
   ]
  },
  {
   "cell_type": "code",
   "execution_count": 312,
   "metadata": {
    "collapsed": false,
    "deletable": true,
    "editable": true
   },
   "outputs": [
    {
     "data": {
      "text/plain": [
       "9"
      ]
     },
     "execution_count": 312,
     "metadata": {},
     "output_type": "execute_result"
    }
   ],
   "source": [
    "len(d1)"
   ]
  },
  {
   "cell_type": "code",
   "execution_count": 313,
   "metadata": {
    "collapsed": false,
    "deletable": true,
    "editable": true
   },
   "outputs": [
    {
     "data": {
      "text/plain": [
       "array([-1.25992105, -0.35355339, -0.09921257, -0.02784058,  0.        ,\n",
       "        0.02784058,  0.09921257,  0.35355339,  1.25992105])"
      ]
     },
     "execution_count": 313,
     "metadata": {},
     "output_type": "execute_result"
    }
   ],
   "source": [
    "all_vals = np.sort(np.append(\n",
    "    (np.logspace(-7, 4, 6, endpoint=False, base=2)[1:],\n",
    "    -np.logspace(-7, 4, 6, endpoint=False, base=2)[1:]), 0))\n",
    "idxs = np.where(np.abs(all_vals) < 2)\n",
    "d2 = all_vals[idxs]\n",
    "d2"
   ]
  },
  {
   "cell_type": "code",
   "execution_count": 314,
   "metadata": {
    "collapsed": false,
    "deletable": true,
    "editable": true
   },
   "outputs": [
    {
     "data": {
      "text/plain": [
       "9"
      ]
     },
     "execution_count": 314,
     "metadata": {},
     "output_type": "execute_result"
    }
   ],
   "source": [
    "len(d2)"
   ]
  },
  {
   "cell_type": "code",
   "execution_count": 315,
   "metadata": {
    "collapsed": false,
    "deletable": true,
    "editable": true
   },
   "outputs": [
    {
     "data": {
      "text/plain": [
       "[<matplotlib.lines.Line2D at 0x7fe26bc10d30>]"
      ]
     },
     "execution_count": 315,
     "metadata": {},
     "output_type": "execute_result"
    },
    {
     "data": {
      "image/png": "[encoded data removed]",
      "text/plain": [
       "<matplotlib.figure.Figure at 0x7fe26bcb65c0>"
      ]
     },
     "metadata": {},
     "output_type": "display_data"
    }
   ],
   "source": [
    "plt.plot(xd_vals, y + 0.15, '.')\n",
    "plt.plot(x_vals, y + 0.05, '.')\n",
    "plt.plot(a_vals, y - 0.05, '.')\n",
    "plt.plot(ad_vals, y - 0.15, '.')\n",
    "\n",
    "yx2 = np.zeros_like(x2) + 0.1\n",
    "ya2 = np.zeros_like(a2) - 0.1\n",
    "plt.plot(x2, yx2, '|')\n",
    "plt.plot(a2, ya2, '|')\n",
    "\n",
    "plt.axvline(x=x_thres_high, color='orange')\n",
    "plt.axvline(x=x_thres_low, color='orange')\n",
    "plt.axvline(x=angle_thres_high, color='green')\n",
    "plt.axvline(x=angle_thres_low, color='green')\n",
    "\n",
    "plt.ylim([-0.2, 0.2])\n",
    "\n",
    "yd1 = np.zeros(len(d1)) + 0.025\n",
    "yd2 = np.zeros(len(d2)) - 0.025\n",
    "plt.plot(d1, yd1, '|')\n",
    "plt.plot(d2, yd2, '|')"
   ]
  },
  {
   "cell_type": "code",
   "execution_count": 316,
   "metadata": {
    "collapsed": false,
    "deletable": true,
    "editable": true
   },
   "outputs": [
    {
     "data": {
      "text/plain": [
       "1"
      ]
     },
     "execution_count": 316,
     "metadata": {},
     "output_type": "execute_result"
    }
   ],
   "source": [
    "len(x2)"
   ]
  },
  {
   "cell_type": "code",
   "execution_count": 103,
   "metadata": {
    "collapsed": false,
    "deletable": true,
    "editable": true
   },
   "outputs": [
    {
     "data": {
      "text/plain": [
       "7"
      ]
     },
     "execution_count": 103,
     "metadata": {},
     "output_type": "execute_result"
    }
   ],
   "source": [
    "len(a2)"
   ]
  },
  {
   "cell_type": "code",
   "execution_count": 104,
   "metadata": {
    "collapsed": false,
    "deletable": true,
    "editable": true
   },
   "outputs": [
    {
     "data": {
      "text/plain": [
       "9"
      ]
     },
     "execution_count": 104,
     "metadata": {},
     "output_type": "execute_result"
    }
   ],
   "source": [
    "len(d1)"
   ]
  },
  {
   "cell_type": "code",
   "execution_count": 364,
   "metadata": {
    "collapsed": false,
    "deletable": true,
    "editable": true
   },
   "outputs": [
    {
     "data": {
      "text/plain": [
       "9"
      ]
     },
     "execution_count": 364,
     "metadata": {},
     "output_type": "execute_result"
    }
   ],
   "source": [
    "len(d2)"
   ]
  },
  {
   "cell_type": "code",
   "execution_count": 418,
   "metadata": {
    "collapsed": true
   },
   "outputs": [],
   "source": [
    "epsilons = []\n",
    "alphas = []"
   ]
  },
  {
   "cell_type": "code",
   "execution_count": 419,
   "metadata": {
    "collapsed": false
   },
   "outputs": [],
   "source": [
    "def learning_schedule(episode, n_episodes):\n",
    "    return max(0., min(0.8, 1 - episode/n_episodes))"
   ]
  },
  {
   "cell_type": "code",
   "execution_count": 420,
   "metadata": {
    "collapsed": true,
    "deletable": true,
    "editable": true
   },
   "outputs": [],
   "source": [
    "def action_selection(state, Q, episode, n_episodes):\n",
    "    epsilon = 0.99 if episode < n_episodes//4 else 0.33 if episode < n_episodes//2 else 0.\n",
    "    epsilons.append(epsilon)\n",
    "    if np.random.random() < epsilon:\n",
    "        action = np.random.randint(Q.shape[1])\n",
    "    else:\n",
    "        action = np.argmax(Q[state])\n",
    "    return action"
   ]
  },
  {
   "cell_type": "code",
   "execution_count": 421,
   "metadata": {
    "collapsed": true,
    "deletable": true,
    "editable": true
   },
   "outputs": [],
   "source": [
    "def observation_to_state(observation, bins):\n",
    "    ss = []\n",
    "    for i in range(len(observation)):\n",
    "        ss.append(int(np.digitize(observation[i], bins=bins[i])))\n",
    "    state = int(\"\".join(map(lambda feature: str(int(feature)), ss)))\n",
    "    return state"
   ]
  },
  {
   "cell_type": "code",
   "execution_count": 422,
   "metadata": {
    "collapsed": false,
    "deletable": true,
    "editable": true
   },
   "outputs": [],
   "source": [
    "def q_learning(env, bins, gamma = 0.99):\n",
    "    nS = 10 * 10 * 10 * 10\n",
    "    nA = env.env.action_space.n\n",
    "    \n",
    "    Q = np.random.random((nS, nA)) - 0.5\n",
    "    n_episodes = 5000\n",
    "    \n",
    "    for episode in range(n_episodes):\n",
    "        observation = env.reset()\n",
    "        state = observation_to_state(observation, bins)\n",
    "    \n",
    "        done = False\n",
    "        while not done:\n",
    "            action = action_selection(state, Q, episode, n_episodes)\n",
    "            observation, reward, done, info = env.step(action)\n",
    "            nstate = observation_to_state(observation, bins)\n",
    "            alpha = learning_schedule(episode, n_episodes)\n",
    "            alphas.append(alpha)\n",
    "            Q[state][action] += alpha * (reward + gamma * Q[nstate].max() * (not done) - Q[state][action])\n",
    "            state = nstate\n",
    "    return Q"
   ]
  },
  {
   "cell_type": "code",
   "execution_count": 423,
   "metadata": {
    "collapsed": false
   },
   "outputs": [
    {
     "name": "stderr",
     "output_type": "stream",
     "text": [
      "[2017-04-02 08:06:43,887] Making new env: CartPole-v0\n",
      "[2017-04-02 08:06:43,899] Starting new video recorder writing to /tmp/tmpugzt2mpm/openaigym.video.32.43.video000000.mp4\n",
      "[2017-04-02 08:06:44,218] Starting new video recorder writing to /tmp/tmpugzt2mpm/openaigym.video.32.43.video000001.mp4\n",
      "[2017-04-02 08:06:44,554] Starting new video recorder writing to /tmp/tmpugzt2mpm/openaigym.video.32.43.video000008.mp4\n",
      "[2017-04-02 08:06:44,792] Starting new video recorder writing to /tmp/tmpugzt2mpm/openaigym.video.32.43.video000027.mp4\n",
      "[2017-04-02 08:06:45,129] Starting new video recorder writing to /tmp/tmpugzt2mpm/openaigym.video.32.43.video000064.mp4\n",
      "[2017-04-02 08:06:45,431] Starting new video recorder writing to /tmp/tmpugzt2mpm/openaigym.video.32.43.video000125.mp4\n",
      "[2017-04-02 08:06:45,778] Starting new video recorder writing to /tmp/tmpugzt2mpm/openaigym.video.32.43.video000216.mp4\n",
      "[2017-04-02 08:06:46,161] Starting new video recorder writing to /tmp/tmpugzt2mpm/openaigym.video.32.43.video000343.mp4\n",
      "[2017-04-02 08:06:46,581] Starting new video recorder writing to /tmp/tmpugzt2mpm/openaigym.video.32.43.video000512.mp4\n",
      "[2017-04-02 08:06:47,200] Starting new video recorder writing to /tmp/tmpugzt2mpm/openaigym.video.32.43.video000729.mp4\n",
      "[2017-04-02 08:06:47,720] Starting new video recorder writing to /tmp/tmpugzt2mpm/openaigym.video.32.43.video001000.mp4\n",
      "[2017-04-02 08:06:50,830] Starting new video recorder writing to /tmp/tmpugzt2mpm/openaigym.video.32.43.video002000.mp4\n",
      "[2017-04-02 08:06:56,875] Starting new video recorder writing to /tmp/tmpugzt2mpm/openaigym.video.32.43.video003000.mp4\n",
      "[2017-04-02 08:07:07,574] Starting new video recorder writing to /tmp/tmpugzt2mpm/openaigym.video.32.43.video004000.mp4\n"
     ]
    }
   ],
   "source": [
    "mdir = tempfile.mkdtemp()\n",
    "env = gym.make('CartPole-v0')\n",
    "env = wrappers.Monitor(env, mdir, force=True)\n",
    "\n",
    "Q = q_learning(env, (x1, d1, a2, d1))"
   ]
  },
  {
   "cell_type": "code",
   "execution_count": 424,
   "metadata": {
    "collapsed": false,
    "deletable": true,
    "editable": true,
    "scrolled": true
   },
   "outputs": [
    {
     "data": {
      "text/html": [
       "\n",
       "    <h2>Episode 0<h2/>\n",
       "    <video width=\"960\" height=\"540\" controls>\n",
       "        <source src=\"data:video/mp4;base64,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\" type=\"video/mp4\" />\n",
       "    </video>\n",
       "    <h2>Episode 216<h2/>\n",
       "    <video width=\"960\" height=\"540\" controls>\n",
       "        <source src=\"data:video/mp4;base64,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\" type=\"video/mp4\" />\n",
       "    </video>\n",
       "    <h2>Episode 4000<h2/>\n",
       "    <video width=\"960\" height=\"540\" controls>\n",
       "        <source src=\"data:video/mp4;base64,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\" type=\"video/mp4\" />\n",
       "    </video>"
      ],
      "text/plain": [
       "<IPython.core.display.HTML object>"
      ]
     },
     "execution_count": 424,
     "metadata": {},
     "output_type": "execute_result"
    }
   ],
   "source": [
    "videos = np.array(env.videos)\n",
    "n_videos = 3\n",
    "\n",
    "idxs = np.linspace(0, len(videos) - 1, n_videos).astype(int)\n",
    "videos = videos[idxs,:]\n",
    "\n",
    "strm = ''\n",
    "for video_path, meta_path in videos:\n",
    "    video = io.open(video_path, 'r+b').read()\n",
    "    encoded = base64.b64encode(video)\n",
    "    \n",
    "    with open(meta_path) as data_file:    \n",
    "        meta = json.load(data_file)\n",
    "\n",
    "    html_tag = \"\"\"\n",
    "    <h2>{0}<h2/>\n",
    "    <video width=\"960\" height=\"540\" controls>\n",
    "        <source src=\"data:video/mp4;base64,{1}\" type=\"video/mp4\" />\n",
    "    </video>\"\"\"\n",
    "    strm += html_tag.format('Episode ' + str(meta['episode_id']), encoded.decode('ascii'))\n",
    "HTML(data=strm)"
   ]
  },
  {
   "cell_type": "code",
   "execution_count": 425,
   "metadata": {
    "collapsed": false,
    "deletable": true,
    "editable": true
   },
   "outputs": [
    {
     "data": {
      "text/plain": [
       "array([ 0.11483848,  0.33900246,  0.21024581, ..., -0.25981988,\n",
       "        0.34267011, -0.10423421])"
      ]
     },
     "execution_count": 425,
     "metadata": {},
     "output_type": "execute_result"
    }
   ],
   "source": [
    "V = np.max(Q, axis=1)\n",
    "V"
   ]
  },
  {
   "cell_type": "code",
   "execution_count": 426,
   "metadata": {
    "collapsed": false,
    "deletable": true,
    "editable": true
   },
   "outputs": [
    {
     "data": {
      "text/plain": [
       "88.597216527950323"
      ]
     },
     "execution_count": 426,
     "metadata": {},
     "output_type": "execute_result"
    }
   ],
   "source": [
    "V.max()"
   ]
  },
  {
   "cell_type": "code",
   "execution_count": 427,
   "metadata": {
    "collapsed": false,
    "deletable": true,
    "editable": true
   },
   "outputs": [
    {
     "data": {
      "text/plain": [
       "array([1, 1, 0, ..., 0, 0, 0])"
      ]
     },
     "execution_count": 427,
     "metadata": {},
     "output_type": "execute_result"
    }
   ],
   "source": [
    "pi = np.argmax(Q, axis=1)\n",
    "pi"
   ]
  },
  {
   "cell_type": "code",
   "execution_count": 428,
   "metadata": {
    "collapsed": false,
    "deletable": true,
    "editable": true
   },
   "outputs": [
    {
     "name": "stderr",
     "output_type": "stream",
     "text": [
      "[2017-04-02 08:07:17,855] Finished writing results. You can upload them to the scoreboard via gym.upload('/tmp/tmpugzt2mpm')\n"
     ]
    }
   ],
   "source": [
    "env.close()"
   ]
  },
  {
   "cell_type": "code",
   "execution_count": 429,
   "metadata": {
    "collapsed": false,
    "deletable": true,
    "editable": true
   },
   "outputs": [
    {
     "name": "stderr",
     "output_type": "stream",
     "text": [
      "[2017-04-02 08:07:17,876] [CartPole-v0] Uploading 5000 episodes of training data\n",
      "[2017-04-02 08:07:18,880] [CartPole-v0] Uploading videos of 14 training episodes (67686 bytes)\n",
      "[2017-04-02 08:07:19,227] [CartPole-v0] Creating evaluation object from /tmp/tmpugzt2mpm with learning curve and training video\n",
      "[2017-04-02 08:07:19,593] \n",
      "****************************************************\n",
      "You successfully uploaded your evaluation on CartPole-v0 to\n",
      "OpenAI Gym! You can find it at:\n",
      "\n",
      "    https://gym.openai.com/evaluations/eval_N2ilF5VpSZikmGxJ5XC6qg\n",
      "\n",
      "****************************************************\n"
     ]
    }
   ],
   "source": [
    "gym.upload(mdir, api_key='sk_2Z7ZMK8RRaiIU5WVirHYGg')"
   ]
  },
  {
   "cell_type": "code",
   "execution_count": 430,
   "metadata": {
    "collapsed": false
   },
   "outputs": [
    {
     "data": {
      "text/plain": [
       "0.1074521257682735"
      ]
     },
     "execution_count": 430,
     "metadata": {},
     "output_type": "execute_result"
    }
   ],
   "source": [
    "np.mean(epsilons)"
   ]
  },
  {
   "cell_type": "code",
   "execution_count": 431,
   "metadata": {
    "collapsed": false
   },
   "outputs": [
    {
     "data": {
      "text/plain": [
       "0.33270651462047729"
      ]
     },
     "execution_count": 431,
     "metadata": {},
     "output_type": "execute_result"
    }
   ],
   "source": [
    "np.mean(alphas)"
   ]
  },
  {
   "cell_type": "code",
   "execution_count": 432,
   "metadata": {
    "collapsed": false
   },
   "outputs": [
    {
     "data": {
      "text/plain": [
       "[<matplotlib.lines.Line2D at 0x7fe26ba7c7b8>]"
      ]
     },
     "execution_count": 432,
     "metadata": {},
     "output_type": "execute_result"
    },
    {
     "data": {
      "image/png": "[encoded data removed]",
      "text/plain": [
       "<matplotlib.figure.Figure at 0x7fe272f60e10>"
      ]
     },
     "metadata": {},
     "output_type": "display_data"
    }
   ],
   "source": [
    "plt.plot(np.arange(len(alphas)), alphas, '.')"
   ]
  },
  {
   "cell_type": "code",
   "execution_count": 433,
   "metadata": {
    "collapsed": false
   },
   "outputs": [
    {
     "data": {
      "text/plain": [
       "[<matplotlib.lines.Line2D at 0x7fe269131320>]"
      ]
     },
     "execution_count": 433,
     "metadata": {},
     "output_type": "execute_result"
    },
    {
     "data": {
      "image/png": "[encoded data removed]",
      "text/plain": [
       "<matplotlib.figure.Figure at 0x7fe272f35cf8>"
      ]
     },
     "metadata": {},
     "output_type": "display_data"
    }
   ],
   "source": [
    "plt.plot(np.arange(len(epsilons)), epsilons, '.')"
   ]
  },
  {
   "cell_type": "code",
   "execution_count": null,
   "metadata": {
    "collapsed": true
   },
   "outputs": [],
   "source": []
  },
  {
   "cell_type": "code",
   "execution_count": null,
   "metadata": {
    "collapsed": true
   },
   "outputs": [],
   "source": []
  },
  {
   "cell_type": "code",
   "execution_count": null,
   "metadata": {
    "collapsed": true
   },
   "outputs": [],
   "source": []
  },
  {
   "cell_type": "code",
   "execution_count": 331,
   "metadata": {
    "collapsed": false,
    "deletable": true,
    "editable": true
   },
   "outputs": [
    {
     "data": {
      "text/plain": [
       "array([ 0.])"
      ]
     },
     "execution_count": 331,
     "metadata": {},
     "output_type": "execute_result"
    }
   ],
   "source": [
    "x1"
   ]
  },
  {
   "cell_type": "code",
   "execution_count": 332,
   "metadata": {
    "collapsed": false
   },
   "outputs": [
    {
     "data": {
      "text/plain": [
       "array([ 0.])"
      ]
     },
     "execution_count": 332,
     "metadata": {},
     "output_type": "execute_result"
    }
   ],
   "source": [
    "x2"
   ]
  },
  {
   "cell_type": "code",
   "execution_count": 333,
   "metadata": {
    "collapsed": false,
    "deletable": true,
    "editable": true,
    "scrolled": true
   },
   "outputs": [
    {
     "name": "stderr",
     "output_type": "stream",
     "text": [
      "[2017-04-02 07:49:53,984] Making new env: CartPole-v0\n",
      "[2017-04-02 07:49:53,994] Starting new video recorder writing to /tmp/tmp_a0_fh5d/openaigym.video.26.43.video000000.mp4\n",
      "[2017-04-02 07:49:54,347] Starting new video recorder writing to /tmp/tmp_a0_fh5d/openaigym.video.26.43.video000001.mp4\n",
      "[2017-04-02 07:49:54,821] Starting new video recorder writing to /tmp/tmp_a0_fh5d/openaigym.video.26.43.video000008.mp4\n",
      "[2017-04-02 07:49:55,135] Starting new video recorder writing to /tmp/tmp_a0_fh5d/openaigym.video.26.43.video000027.mp4\n",
      "[2017-04-02 07:49:55,531] Starting new video recorder writing to /tmp/tmp_a0_fh5d/openaigym.video.26.43.video000064.mp4\n",
      "[2017-04-02 07:49:55,780] Starting new video recorder writing to /tmp/tmp_a0_fh5d/openaigym.video.26.43.video000125.mp4\n",
      "[2017-04-02 07:49:56,176] Starting new video recorder writing to /tmp/tmp_a0_fh5d/openaigym.video.26.43.video000216.mp4\n",
      "[2017-04-02 07:49:56,490] Starting new video recorder writing to /tmp/tmp_a0_fh5d/openaigym.video.26.43.video000343.mp4\n",
      "[2017-04-02 07:49:56,857] Starting new video recorder writing to /tmp/tmp_a0_fh5d/openaigym.video.26.43.video000512.mp4\n",
      "[2017-04-02 07:49:57,240] Starting new video recorder writing to /tmp/tmp_a0_fh5d/openaigym.video.26.43.video000729.mp4\n",
      "[2017-04-02 07:49:57,748] Starting new video recorder writing to /tmp/tmp_a0_fh5d/openaigym.video.26.43.video001000.mp4\n",
      "[2017-04-02 07:50:00,076] Starting new video recorder writing to /tmp/tmp_a0_fh5d/openaigym.video.26.43.video002000.mp4\n",
      "[2017-04-02 07:50:05,945] Starting new video recorder writing to /tmp/tmp_a0_fh5d/openaigym.video.26.43.video003000.mp4\n",
      "[2017-04-02 07:50:13,650] Starting new video recorder writing to /tmp/tmp_a0_fh5d/openaigym.video.26.43.video004000.mp4\n"
     ]
    }
   ],
   "source": [
    "mdir = tempfile.mkdtemp()\n",
    "env = gym.make('CartPole-v0')\n",
    "env = wrappers.Monitor(env, mdir, force=True)\n",
    "\n",
    "Q2 = q_learning(env, (x2, d2, a2, d2))"
   ]
  },
  {
   "cell_type": "code",
   "execution_count": 150,
   "metadata": {
    "collapsed": false,
    "deletable": true,
    "editable": true,
    "scrolled": true
   },
   "outputs": [
    {
     "data": {
      "text/html": [
       "\n",
       "    <h2>Episode 0<h2/>\n",
       "    <video width=\"960\" height=\"540\" controls>\n",
       "        <source src=\"data:video/mp4;base64,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\" type=\"video/mp4\" />\n",
       "    </video>\n",
       "    <h2>Episode 27<h2/>\n",
       "    <video width=\"960\" height=\"540\" controls>\n",
       "        <source src=\"data:video/mp4;base64,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\" type=\"video/mp4\" />\n",
       "    </video>\n",
       "    <h2>Episode 216<h2/>\n",
       "    <video width=\"960\" height=\"540\" controls>\n",
       "        <source src=\"data:video/mp4;base64,AAAAIGZ0eXBpc29tAAACAGlzb21pc28yYXZjMW1wNDEAAAAIZnJlZQAACeBtZGF0AAACrgYF//+q3EXpvebZSLeWLNgg2SPu73gyNjQgLSBjb3JlIDE0MiByMjQzMSBhNTgzMWFhIC0gSC4yNjQvTVBFRy00IEFWQyBjb2RlYyAtIENvcHlsZWZ0IDIwMDMtMjAxNCAtIGh0dHA6Ly93d3cudmlkZW9sYW4ub3JnL3gyNjQuaHRtbCAtIG9wdGlvbnM6IGNhYmFjPTEgcmVmPTMgZGVibG9jaz0xOjA6MCBhbmFseXNlPTB4MzoweDExMyBtZT1oZXggc3VibWU9NyBwc3k9MSBwc3lfcmQ9MS4wMDowLjAwIG1peGVkX3JlZj0xIG1lX3JhbmdlPTE2IGNocm9tYV9tZT0xIHRyZWxsaXM9MSA4eDhkY3Q9MSBjcW09MCBkZWFkem9uZT0yMSwxMSBmYXN0X3Bza2lwPTEgY2hyb21hX3FwX29mZnNldD0tMiB0aHJlYWRzPTYgbG9va2FoZWFkX3RocmVhZHM9MSBzbGljZWRfdGhyZWFkcz0wIG5yPTAgZGVjaW1hdGU9MSBpbnRlcmxhY2VkPTAgYmx1cmF5X2NvbXBhdD0wIGNvbnN0cmFpbmVkX2ludHJhPTAgYmZyYW1lcz0zIGJfcHlyYW1pZD0yIGJfYWRhcHQ9MSBiX2JpYXM9MCBkaXJlY3Q9MSB3ZWlnaHRiPTEgb3Blbl9nb3A9MCB3ZWlnaHRwPTIga2V5aW50PTI1MCBrZXlpbnRfbWluPTI1IHNjZW5lY3V0PTQwIGludHJhX3JlZnJlc2g9MCByY19sb29rYWhlYWQ9NDAgcmM9Y3JmIG1idHJlZT0xIGNyZj0yMy4wIHFjb21wPTAuNjAgcXBtaW49MCBxcG1heD02OSBxcHN0ZXA9NCBpcF9yYXRpbz0xLjQwIGFxPTE6MS4wMACAAAACJ2WIhAAv//72rvzLK0cLlS4dWXuzUfLoSXL9iDB9aAAAAwAAAwAAJuKiZ0WFMeJsgAAALmAIWElDyDzETFWKgS2k3gc8QAHQ5/2uunU3V0DtAUSw3wFxQlm7SS/mn5/4Ry84UfW3hBRjgWyGD/oCe9GyA9tGit+iMoFLY2z1acj7VUNB0tcy7twlQbGWIKFZREPUOu8h6RYgpLoFpViAZQyhvEqTWc4dbYXoc84cWNcZ7k5gfWqg/pzpU3M+FianO/ps74njsZ2d8RCM1UzcWoLwFSMACcqfdLx99vUycmi8ts3Lozq6BM29bxoFBZnft1PmxwbVM9hikAorq5PYQY1SNNM8GD2mPJVEA67rf3bffYrIdMXGgBMv5FiRg1fmM8FKBvSTEUbv2UuIA+5haNlcxabcWYODdqL8GYVIjdocodaC/WQzSfYry7HRDGWQ72+5SJuSItQEz6rpa5rYeaeXTC4ha/a/l3rDTih/HKQt6sm1aru+mJzeGj/PLmC62i00HX/Hk9ppiGI8qIvaRNNu+Pms4QHZxQeFeOFkhWvR+s/vPQ8ttr+bBHavyKZ/KDD5Dil5hCn87UT+uJW1xw29NARkGx/j56bXH0K2J0dBsX5WVMWQbdi/Ymol4O+iGoFNaZqYAWDjAvhYtENzXuZhpmgaHoUu2KLLRgGz8sAnU7fm05FpvqHgEf6YOIyZsAI5fr9VaIKB/um+AAADAAADAAADAIeBAAAA6UGaJGxC//6MsAAASAnXBgBF9YzkWR7AaZFhX9R4xfIhu9n1maPA8lUuiD7AmHjJbJB/Hzke4grxmbGWJWf8VV1z70+jishas/lgoAndxaDP6LgBoC5IwmEA/bxGdUWWHgAK0gDLWAL7wHnnD4r21O7UDskPYxEdVy4GJ/sGHMSouO0j1Y8T59ycOMU+EzwAYlu5R4z8UQGAjvSzMpuYaN1szRFphwdRVpxl2X1rWuW9dOw8078sqPpQiL1wTtmslvv/8DWMgLwU1T/jXnJEGxYSiuwQI8xVcZ6f4NchJdWjQ11CNkXFNL2AAAAAWUGeQniEfwAAF1AR9cGT12ZhZh02zOFps8AXyKOkOL3PbkxacBkTfzoglyT8lI8MFJhMiCFLN1deabf6n8WP7gGul4hN6yudUO3Et/YCv4AAABpLKgiVQD/BAAAAOAGeYXRH/wAADdfFot/9x5h/cdr/41walMsyaRiigHs7HBe4vxCd649wAAADAAADAAtWc40pVAUkAAAARQGeY2pH/wAAJMcvaycMXHaPwB+SJP2A3AyxrXluBUtnHXA/ZIMlKeazLnbbfUcEroAPG7Nb5IJ9gAAAAwCAgmhY4sBWwQAAALBBmmhJqEFomUwIV//+OEAAARTxo98sAHG8YabrFDHN4do/CI74tJzhb/kksyl8ANELKk6tkg8/qq85HY46oFoeFV7hqN8gnIOyEUFK24UVTXV+ETaNvMKdQBJTSQwS9Py5LvwAvrRbliDnF0iHUKVFTR4TSdL7OJ9yv/ot21/uWO+p/s8foL+HdySPzRfrxz7qiUBD14Jr49bjLPX/j1Xhar9uMQ5aEo9UIsn7wtBXIQAAAFVBnoZFESwj/wAAF05auCKHU5gm95YHHaL2KpJiyhYoVYtc8YK+Qm996pObDZIR06A050ec/UxNIQ6T/guzAGllQNAB3xuZ4uYiV7Tt8mdZjiAfNjARAAAASAGepXRH/wAAJKpEJjTjKynXUiTz44oR8wvG+FVZbEITakCG33ZLWyiN3qTuzwOgAk1sGTPtzy7NcpfENVGGsyDwIbpM0/QVswAAAFABnqdqR/8AACSEXPsTAEP/XsqIYzNShL8pv2LLKEJjdqIfOwow2Il+zDL2QVAVNDCYqOw6MHXxqVIpKQsrnXWFMzQ7pV22MvNXP9E428i24AAAAKhBmqtJqEFsmUwI//yEAAAQU18U7UQAsAG5xVwdAAirw1dmQnf9xfkqSVstprPBOv7ab22TyrZnokcn7wMyG19+Pa9vKsAh57BXfWEd1iFsT+qtweY/BLl42Xsdg79Nj54NReBq0Pq9KrmRHjUVM50F0mFQ0ldojCN2luFQn84tcWvhoWrgieY7DBqLyLrNdn1U/k8r+0QVI+uXoyzhtRcEiFseoOTu09sAAABoQZ7KQj//AAAkOpQUOTcOcCM8CH1wP2R1n1g0a3HQAt4lZUwa/S4zRRgLTkzMv/AvzmND7WVk3e3b4zRuUqT3CiFsEVh5RuCe/hIyMwO5/+a5X8crrhw5q6hkd32GjehgPwqsmXjlKVEAAABjAZ7paRH/AAAlvqcdHxvCkjS7tzxMs7fhQbp7NQcgQtn9BWMoCFB+PBfNKCdmFczc5dbg326l0ZVozyqt5B/IGGqgX2Z/46YcSYFbAAEzDVVn80f4WnA5jDGLmJ5t0D5G7glGAAAD5G1vb3YAAABsbXZoZAAAAAAAAAAAAAAAAAAAA+gAAADwAAEAAAEAAAAAAAAAAAAAAAABAAAAAAAAAAAAAAAAAAAAAQAAAAAAAAAAAAAAAAAAQAAAAAAAAAAAAAAAAAAAAAAAAAAAAAAAAAAAAAAAAAIAAAAYaW9kcwAAAAAQgICABwBP/////v8AAAL5dHJhawAAAFx0a2hkAAAAAwAAAAAAAAAAAAAAAQAAAAAAAADwAAAAAAAAAAAAAAAAAAAAAAABAAAAAAAAAAAAAAAAAAAAAQAAAAAAAAAAAAAAAAAAQAAAAAJYAAABkAAAAAAAJGVkdHMAAAAcZWxzdAAAAAAAAAABAAAA8AAAAAIAAQAAAAACcW1kaWEAAAAgbWRoZAAAAAAAAAAAAAAAAAAAADIAAAAMVcQAAAAAAC1oZGxyAAAAAAAAAAB2aWRlAAAAAAAAAAAAAAAAVmlkZW9IYW5kbGVyAAAAAhxtaW5mAAAAFHZtaGQAAAABAAAAAAAAAAAAAAAkZGluZgAAABxkcmVmAAAAAAAAAAEAAAAMdXJsIAAAAAEAAAHcc3RibAAAAJhzdHNkAAAAAAAAAAEAAACIYXZjMQAAAAAAAAABAAAAAAAAAAAAAAAAAAAAAAJYAZAASAAAAEgAAAAAAAAAAQAAAAAAAAAAAAAAAAAAAAAAAAAAAAAAAAAAAAAAAAAAABj//wAAADJhdmNDAWQAH//hABlnZAAfrNlAmDPl4QAAAwABAAADAGQPGDGWAQAGaOvjyyLAAAAAGHN0dHMAAAAAAAAAAQAAAAwAAAABAAAAFHN0c3MAAAAAAAAAAQAAAAEAAABwY3R0cwAAAAAAAAAMAAAAAQAAAAIAAAABAAAABQAAAAEAAAACAAAAAQAAAAAAAAABAAAAAQAAAAEAAAAFAAAAAQAAAAIAAAABAAAAAAAAAAEAAAABAAAAAQAAAAQAAAABAAAAAgAAAAEAAAAAAAAAHHN0c2MAAAAAAAAAAQAAAAEAAAABAAAAAQAAAERzdHN6AAAAAAAAAAAAAAAMAAAE3QAAAO0AAABdAAAAPAAAAEkAAAC0AAAAWQAAAEwAAABUAAAArAAAAGwAAABnAAAAQHN0Y28AAAAAAAAADAAAADAAAAUNAAAF+gAABlcAAAaTAAAG3AAAB5AAAAfpAAAINQAACIkAAAk1AAAJoQAAAF91ZHRhAAAAV21ldGEAAAAAAAAAIWhkbHIAAAAAAAAAAG1kaXJhcHBsAAAAAAAAAAAAAAAAKmlsc3QAAAAiqXRvbwAAABpkYXRhAAAAAQAAAABMYXZmNTYuMS4w\" type=\"video/mp4\" />\n",
       "    </video>\n",
       "    <h2>Episode 729<h2/>\n",
       "    <video width=\"960\" height=\"540\" controls>\n",
       "        <source src=\"data:video/mp4;base64,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\" type=\"video/mp4\" />\n",
       "    </video>\n",
       "    <h2>Episode 4000<h2/>\n",
       "    <video width=\"960\" height=\"540\" controls>\n",
       "        <source src=\"data:video/mp4;base64,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\" type=\"video/mp4\" />\n",
       "    </video>"
      ],
      "text/plain": [
       "<IPython.core.display.HTML object>"
      ]
     },
     "execution_count": 150,
     "metadata": {},
     "output_type": "execute_result"
    }
   ],
   "source": [
    "videos = np.array(env.videos)\n",
    "n_videos = 3\n",
    "\n",
    "idxs = np.linspace(0, len(videos) - 1, n_videos).astype(int)\n",
    "videos = videos[idxs,:]\n",
    "\n",
    "strm = ''\n",
    "for video_path, meta_path in videos:\n",
    "    video = io.open(video_path, 'r+b').read()\n",
    "    encoded = base64.b64encode(video)\n",
    "    \n",
    "    with open(meta_path) as data_file:    \n",
    "        meta = json.load(data_file)\n",
    "\n",
    "    html_tag = \"\"\"\n",
    "    <h2>{0}<h2/>\n",
    "    <video width=\"960\" height=\"540\" controls>\n",
    "        <source src=\"data:video/mp4;base64,{1}\" type=\"video/mp4\" />\n",
    "    </video>\"\"\"\n",
    "    strm += html_tag.format('Episode ' + str(meta['episode_id']), encoded.decode('ascii'))\n",
    "HTML(data=strm)"
   ]
  },
  {
   "cell_type": "code",
   "execution_count": 303,
   "metadata": {
    "collapsed": false,
    "deletable": true,
    "editable": true
   },
   "outputs": [
    {
     "data": {
      "text/plain": [
       "array([ 0.43423644,  0.34219853, -0.14983771, ...,  0.49456146,\n",
       "       -0.21242407,  0.34735347])"
      ]
     },
     "execution_count": 303,
     "metadata": {},
     "output_type": "execute_result"
    }
   ],
   "source": [
    "V = np.max(Q2, axis=1)\n",
    "V"
   ]
  },
  {
   "cell_type": "code",
   "execution_count": 304,
   "metadata": {
    "collapsed": false,
    "deletable": true,
    "editable": true
   },
   "outputs": [
    {
     "data": {
      "text/plain": [
       "66.915372279420055"
      ]
     },
     "execution_count": 304,
     "metadata": {},
     "output_type": "execute_result"
    }
   ],
   "source": [
    "V.max()"
   ]
  },
  {
   "cell_type": "code",
   "execution_count": 305,
   "metadata": {
    "collapsed": false,
    "deletable": true,
    "editable": true
   },
   "outputs": [
    {
     "data": {
      "text/plain": [
       "array([1, 0, 0, ..., 0, 0, 1])"
      ]
     },
     "execution_count": 305,
     "metadata": {},
     "output_type": "execute_result"
    }
   ],
   "source": [
    "pi = np.argmax(Q2, axis=1)\n",
    "pi"
   ]
  },
  {
   "cell_type": "code",
   "execution_count": 334,
   "metadata": {
    "collapsed": false,
    "deletable": true,
    "editable": true
   },
   "outputs": [
    {
     "name": "stderr",
     "output_type": "stream",
     "text": [
      "[2017-04-02 07:50:29,282] Finished writing results. You can upload them to the scoreboard via gym.upload('/tmp/tmp_a0_fh5d')\n"
     ]
    }
   ],
   "source": [
    "env.close()"
   ]
  },
  {
   "cell_type": "code",
   "execution_count": 335,
   "metadata": {
    "collapsed": false,
    "deletable": true,
    "editable": true
   },
   "outputs": [
    {
     "name": "stderr",
     "output_type": "stream",
     "text": [
      "[2017-04-02 07:50:30,436] [CartPole-v0] Uploading 5000 episodes of training data\n",
      "[2017-04-02 07:50:31,497] [CartPole-v0] Uploading videos of 14 training episodes (59615 bytes)\n",
      "[2017-04-02 07:50:31,820] [CartPole-v0] Creating evaluation object from /tmp/tmp_a0_fh5d with learning curve and training video\n",
      "[2017-04-02 07:50:32,176] \n",
      "****************************************************\n",
      "You successfully uploaded your evaluation on CartPole-v0 to\n",
      "OpenAI Gym! You can find it at:\n",
      "\n",
      "    https://gym.openai.com/evaluations/eval_sbm30gRemnJmnoyVLQ\n",
      "\n",
      "****************************************************\n"
     ]
    }
   ],
   "source": [
    "gym.upload(mdir, api_key='sk_2Z7ZMK8RRaiIU5WVirHYGg')"
   ]
  }
 ],
 "metadata": {
  "kernelspec": {
   "display_name": "Python 3",
   "language": "python",
   "name": "python3"
  },
  "language_info": {
   "codemirror_mode": {
    "name": "ipython",
    "version": 3
   },
   "file_extension": ".py",
   "mimetype": "text/x-python",
   "name": "python",
   "nbconvert_exporter": "python",
   "pygments_lexer": "ipython3",
   "version": "3.5.2"
  }
 },
 "nbformat": 4,
 "nbformat_minor": 2
}
