{
 "cells": [
  {
   "cell_type": "markdown",
   "metadata": {},
   "source": [
    "### State Space Discretization"
   ]
  },
  {
   "cell_type": "code",
   "execution_count": 613,
   "metadata": {
    "collapsed": true
   },
   "outputs": [],
   "source": [
    "import numpy as np\n",
    "import pandas as pd\n",
    "import matplotlib.pyplot as plt\n",
    "\n",
    "import tempfile\n",
    "import base64\n",
    "import pprint\n",
    "import json\n",
    "import sys\n",
    "import gym\n",
    "import io\n",
    "\n",
    "from gym import wrappers\n",
    "from subprocess import check_output\n",
    "from IPython.display import HTML"
   ]
  },
  {
   "cell_type": "markdown",
   "metadata": {},
   "source": [
    "#### Q-Learning"
   ]
  },
  {
   "cell_type": "code",
   "execution_count": 2,
   "metadata": {
    "collapsed": false,
    "deletable": true,
    "editable": true,
    "scrolled": true
   },
   "outputs": [],
   "source": [
    "def action_selection(state, Q, episode, n_episodes):\n",
    "    epsilon = max(0, episode/n_episodes*2)\n",
    "    if np.random.random() < epsilon:\n",
    "        action = np.random.randint(len(Q[0]))\n",
    "    else:\n",
    "        action = np.argmax(Q[state])\n",
    "    return action"
   ]
  },
  {
   "cell_type": "code",
   "execution_count": 3,
   "metadata": {
    "collapsed": true
   },
   "outputs": [],
   "source": [
    "def q_learning(env, alpha = 0.9, gamma = 0.9):\n",
    "    nS = env.env.observation_space.n\n",
    "    nA = env.env.action_space.n\n",
    "    \n",
    "    Q = np.random.random((nS, nA)) * 2.0\n",
    "    n_episodes = 10000\n",
    "    \n",
    "    for episode in range(n_episodes//2, -n_episodes//2, -1):\n",
    "        state = env.reset()\n",
    "        done = False\n",
    "        while not done:\n",
    "            action = action_selection(state, Q, episode, n_episodes)\n",
    "            nstate, reward, done, info = env.step(action)\n",
    "            Q[state][action] += alpha * (reward + gamma * Q[nstate].max() * (not done) - Q[state][action])\n",
    "            state = nstate\n",
    "    return Q"
   ]
  },
  {
   "cell_type": "code",
   "execution_count": 4,
   "metadata": {
    "collapsed": false
   },
   "outputs": [
    {
     "name": "stderr",
     "output_type": "stream",
     "text": [
      "[2017-04-02 00:50:08,139] Making new env: CartPole-v0\n"
     ]
    },
    {
     "ename": "AttributeError",
     "evalue": "'Box' object has no attribute 'n'",
     "output_type": "error",
     "traceback": [
      "\u001b[0;31m---------------------------------------------------------------------------\u001b[0m",
      "\u001b[0;31mAttributeError\u001b[0m                            Traceback (most recent call last)",
      "\u001b[0;32m<ipython-input-4-c8a71b850fb8>\u001b[0m in \u001b[0;36m<module>\u001b[0;34m()\u001b[0m\n\u001b[1;32m      3\u001b[0m \u001b[0menv\u001b[0m \u001b[0;34m=\u001b[0m \u001b[0mwrappers\u001b[0m\u001b[0;34m.\u001b[0m\u001b[0mMonitor\u001b[0m\u001b[0;34m(\u001b[0m\u001b[0menv\u001b[0m\u001b[0;34m,\u001b[0m \u001b[0mmdir\u001b[0m\u001b[0;34m,\u001b[0m \u001b[0mforce\u001b[0m\u001b[0;34m=\u001b[0m\u001b[0;32mTrue\u001b[0m\u001b[0;34m)\u001b[0m\u001b[0;34m\u001b[0m\u001b[0m\n\u001b[1;32m      4\u001b[0m \u001b[0;34m\u001b[0m\u001b[0m\n\u001b[0;32m----> 5\u001b[0;31m \u001b[0mQ\u001b[0m \u001b[0;34m=\u001b[0m \u001b[0mq_learning\u001b[0m\u001b[0;34m(\u001b[0m\u001b[0menv\u001b[0m\u001b[0;34m)\u001b[0m\u001b[0;34m\u001b[0m\u001b[0m\n\u001b[0m",
      "\u001b[0;32m<ipython-input-3-4ed83d5ad85d>\u001b[0m in \u001b[0;36mq_learning\u001b[0;34m(env, alpha, gamma)\u001b[0m\n\u001b[1;32m      1\u001b[0m \u001b[0;32mdef\u001b[0m \u001b[0mq_learning\u001b[0m\u001b[0;34m(\u001b[0m\u001b[0menv\u001b[0m\u001b[0;34m,\u001b[0m \u001b[0malpha\u001b[0m \u001b[0;34m=\u001b[0m \u001b[0;36m0.9\u001b[0m\u001b[0;34m,\u001b[0m \u001b[0mgamma\u001b[0m \u001b[0;34m=\u001b[0m \u001b[0;36m0.9\u001b[0m\u001b[0;34m)\u001b[0m\u001b[0;34m:\u001b[0m\u001b[0;34m\u001b[0m\u001b[0m\n\u001b[0;32m----> 2\u001b[0;31m     \u001b[0mnS\u001b[0m \u001b[0;34m=\u001b[0m \u001b[0menv\u001b[0m\u001b[0;34m.\u001b[0m\u001b[0menv\u001b[0m\u001b[0;34m.\u001b[0m\u001b[0mobservation_space\u001b[0m\u001b[0;34m.\u001b[0m\u001b[0mn\u001b[0m\u001b[0;34m\u001b[0m\u001b[0m\n\u001b[0m\u001b[1;32m      3\u001b[0m     \u001b[0mnA\u001b[0m \u001b[0;34m=\u001b[0m \u001b[0menv\u001b[0m\u001b[0;34m.\u001b[0m\u001b[0menv\u001b[0m\u001b[0;34m.\u001b[0m\u001b[0maction_space\u001b[0m\u001b[0;34m.\u001b[0m\u001b[0mn\u001b[0m\u001b[0;34m\u001b[0m\u001b[0m\n\u001b[1;32m      4\u001b[0m \u001b[0;34m\u001b[0m\u001b[0m\n\u001b[1;32m      5\u001b[0m     \u001b[0mQ\u001b[0m \u001b[0;34m=\u001b[0m \u001b[0mnp\u001b[0m\u001b[0;34m.\u001b[0m\u001b[0mrandom\u001b[0m\u001b[0;34m.\u001b[0m\u001b[0mrandom\u001b[0m\u001b[0;34m(\u001b[0m\u001b[0;34m(\u001b[0m\u001b[0mnS\u001b[0m\u001b[0;34m,\u001b[0m \u001b[0mnA\u001b[0m\u001b[0;34m)\u001b[0m\u001b[0;34m)\u001b[0m \u001b[0;34m*\u001b[0m \u001b[0;36m2.0\u001b[0m\u001b[0;34m\u001b[0m\u001b[0m\n",
      "\u001b[0;31mAttributeError\u001b[0m: 'Box' object has no attribute 'n'"
     ]
    }
   ],
   "source": [
    "mdir = tempfile.mkdtemp()\n",
    "env = gym.make('CartPole-v0')\n",
    "env = wrappers.Monitor(env, mdir, force=True)\n",
    "\n",
    "Q = q_learning(env)"
   ]
  },
  {
   "cell_type": "code",
   "execution_count": 404,
   "metadata": {
    "collapsed": false
   },
   "outputs": [
    {
     "data": {
      "text/plain": [
       "['__class__',\n",
       " '__delattr__',\n",
       " '__dict__',\n",
       " '__dir__',\n",
       " '__doc__',\n",
       " '__eq__',\n",
       " '__format__',\n",
       " '__ge__',\n",
       " '__getattribute__',\n",
       " '__gt__',\n",
       " '__hash__',\n",
       " '__init__',\n",
       " '__le__',\n",
       " '__lt__',\n",
       " '__module__',\n",
       " '__ne__',\n",
       " '__new__',\n",
       " '__reduce__',\n",
       " '__reduce_ex__',\n",
       " '__repr__',\n",
       " '__setattr__',\n",
       " '__sizeof__',\n",
       " '__str__',\n",
       " '__subclasshook__',\n",
       " '__weakref__',\n",
       " 'contains',\n",
       " 'from_jsonable',\n",
       " 'high',\n",
       " 'low',\n",
       " 'sample',\n",
       " 'shape',\n",
       " 'to_jsonable']"
      ]
     },
     "execution_count": 404,
     "metadata": {},
     "output_type": "execute_result"
    }
   ],
   "source": [
    "dir(env.env.observation_space)"
   ]
  },
  {
   "cell_type": "code",
   "execution_count": null,
   "metadata": {
    "collapsed": true
   },
   "outputs": [],
   "source": []
  },
  {
   "cell_type": "code",
   "execution_count": 418,
   "metadata": {
    "collapsed": false,
    "scrolled": true
   },
   "outputs": [
    {
     "name": "stderr",
     "output_type": "stream",
     "text": [
      "[2017-04-02 03:32:44,012] Making new env: CartPole-v0\n"
     ]
    },
    {
     "name": "stdout",
     "output_type": "stream",
     "text": [
      "Episode finished after 17 timesteps\n",
      "Episode finished after 18 timesteps\n",
      "Episode finished after 19 timesteps\n",
      "Episode finished after 23 timesteps\n",
      "Episode finished after 19 timesteps\n",
      "Episode finished after 14 timesteps\n",
      "Episode finished after 34 timesteps\n",
      "Episode finished after 20 timesteps\n",
      "Episode finished after 11 timesteps\n",
      "Episode finished after 53 timesteps\n",
      "Episode finished after 23 timesteps\n",
      "Episode finished after 11 timesteps\n",
      "Episode finished after 28 timesteps\n",
      "Episode finished after 19 timesteps\n",
      "Episode finished after 18 timesteps\n",
      "Episode finished after 17 timesteps\n",
      "Episode finished after 52 timesteps\n",
      "Episode finished after 12 timesteps\n",
      "Episode finished after 34 timesteps\n",
      "Episode finished after 14 timesteps\n"
     ]
    }
   ],
   "source": [
    "env = gym.make('CartPole-v0')\n",
    "observations = []\n",
    "for i_episode in range(20):\n",
    "    observation = env.reset()\n",
    "    for t in range(100):\n",
    "        env.render()\n",
    "        observations.append(observation)\n",
    "        action = env.action_space.sample()\n",
    "        observation, reward, done, info = env.step(action)\n",
    "        if done:\n",
    "            print(\"Episode finished after {} timesteps\".format(t+1))\n",
    "            break\n",
    "env.close()\n",
    "x_vals = np.array(observations)[:,0]\n",
    "xd_vals = np.array(observations)[:,1]\n",
    "a_vals = np.array(observations)[:,2]\n",
    "ad_vals = np.array(observations)[:,3]\n",
    "y = np.zeros_like(x_vals)"
   ]
  },
  {
   "cell_type": "code",
   "execution_count": 419,
   "metadata": {
    "collapsed": false
   },
   "outputs": [
    {
     "data": {
      "text/plain": [
       "array([  2.40000000e+00,   1.70141173e+38,   2.09439510e-01,\n",
       "         1.70141173e+38])"
      ]
     },
     "execution_count": 419,
     "metadata": {},
     "output_type": "execute_result"
    }
   ],
   "source": [
    "env.env.observation_space.high/2"
   ]
  },
  {
   "cell_type": "code",
   "execution_count": 420,
   "metadata": {
    "collapsed": false
   },
   "outputs": [
    {
     "data": {
      "text/plain": [
       "array([ -2.40000000e+00,  -1.70141173e+38,  -2.09439510e-01,\n",
       "        -1.70141173e+38])"
      ]
     },
     "execution_count": 420,
     "metadata": {},
     "output_type": "execute_result"
    }
   ],
   "source": [
    "env.env.observation_space.low/2"
   ]
  },
  {
   "cell_type": "code",
   "execution_count": 421,
   "metadata": {
    "collapsed": false
   },
   "outputs": [],
   "source": [
    "x_thres_high = (env.env.observation_space.high/2)[0]\n",
    "x_thres_low = (env.env.observation_space.low/2)[0]\n",
    "angle_thres_high = (env.env.observation_space.high/2)[2]\n",
    "angle_thres_low = (env.env.observation_space.low/2)[2]"
   ]
  },
  {
   "cell_type": "code",
   "execution_count": 556,
   "metadata": {
    "collapsed": false
   },
   "outputs": [
    {
     "data": {
      "text/plain": [
       "(-0.2, 0.2)"
      ]
     },
     "execution_count": 556,
     "metadata": {},
     "output_type": "execute_result"
    },
    {
     "data": {
      "image/png": "[encoded data removed]",
      "text/plain": [
       "<matplotlib.figure.Figure at 0x7fba71084710>"
      ]
     },
     "metadata": {},
     "output_type": "display_data"
    }
   ],
   "source": [
    "plt.plot(xd_vals, y + 0.15, '.', color='darkorange')\n",
    "plt.plot(x_vals, y + 0.05, '.', color='orange')\n",
    "plt.plot(a_vals, y - 0.05, '.', color='green')\n",
    "plt.plot(ad_vals, y - 0.15, '.', color='darkgreen')\n",
    "\n",
    "\n",
    "plt.axvline(x=x_thres_high, color='orange')\n",
    "plt.axvline(x=x_thres_low, color='orange')\n",
    "plt.axvline(x=angle_thres_high, color='green')\n",
    "plt.axvline(x=angle_thres_low, color='green')\n",
    "\n",
    "plt.ylim([-0.2, 0.2])"
   ]
  },
  {
   "cell_type": "code",
   "execution_count": 565,
   "metadata": {
    "collapsed": false
   },
   "outputs": [
    {
     "data": {
      "text/plain": [
       "(-0.1, 0.1)"
      ]
     },
     "execution_count": 565,
     "metadata": {},
     "output_type": "execute_result"
    },
    {
     "data": {
      "image/png": "[encoded data removed]",
      "text/plain": [
       "<matplotlib.figure.Figure at 0x7fba5b1d6a90>"
      ]
     },
     "metadata": {},
     "output_type": "display_data"
    }
   ],
   "source": [
    "x1 = np.linspace(x_thres_low, x_thres_high, \n",
    "                 10, endpoint=False)[1:]\n",
    "all_vals = np.sort(np.append(\n",
    "    (np.logspace(-6, 3, 6, endpoint=False, base=2)[1:],\n",
    "    -np.logspace(-6, 3, 6, endpoint=False, base=2)[1:]), 0))\n",
    "idxs = np.where(np.abs(all_vals) < x_thres_high)\n",
    "x2 = all_vals[idxs]\n",
    "y1 = np.zeros(len(x1)) + 0.05\n",
    "y2 = np.zeros(len(x2)) - 0.05\n",
    "plt.plot(x1, y1, 'o')\n",
    "plt.plot(x2, y2, 'o')\n",
    "\n",
    "plt.ylim([-0.1, 0.1])"
   ]
  },
  {
   "cell_type": "code",
   "execution_count": 566,
   "metadata": {
    "collapsed": false
   },
   "outputs": [
    {
     "data": {
      "text/plain": [
       "array([-1.        , -0.35355339, -0.125     , -0.04419417,  0.        ,\n",
       "        0.04419417,  0.125     ,  0.35355339,  1.        ])"
      ]
     },
     "execution_count": 566,
     "metadata": {},
     "output_type": "execute_result"
    }
   ],
   "source": [
    "x2"
   ]
  },
  {
   "cell_type": "code",
   "execution_count": 567,
   "metadata": {
    "collapsed": false
   },
   "outputs": [
    {
     "data": {
      "text/plain": [
       "9"
      ]
     },
     "execution_count": 567,
     "metadata": {},
     "output_type": "execute_result"
    }
   ],
   "source": [
    "len(x2)"
   ]
  },
  {
   "cell_type": "code",
   "execution_count": 568,
   "metadata": {
    "collapsed": false
   },
   "outputs": [
    {
     "data": {
      "text/plain": [
       "(-0.1, 0.1)"
      ]
     },
     "execution_count": 568,
     "metadata": {},
     "output_type": "execute_result"
    },
    {
     "data": {
      "image/png": "[encoded data removed]",
      "text/plain": [
       "<matplotlib.figure.Figure at 0x7fba70fea390>"
      ]
     },
     "metadata": {},
     "output_type": "display_data"
    }
   ],
   "source": [
    "a1 = np.linspace(angle_thres_low, angle_thres_high, \n",
    "                 10, endpoint=False)[1:]\n",
    "all_vals = np.sort(np.append(\n",
    "    (np.logspace(-10, 0.01, 6, endpoint=False, base=2)[1:],\n",
    "    -np.logspace(-10, 0.01, 6, endpoint=False, base=2)[1:]), 0))\n",
    "idxs = np.where(np.abs(all_vals) < angle_thres_high)\n",
    "a2 = all_vals[idxs]\n",
    "y1 = np.zeros(len(a1)) + 0.05\n",
    "y2 = np.zeros(len(a2)) - 0.05\n",
    "plt.plot(a1, y1, 'o')\n",
    "plt.plot(a2, y2, 'o')\n",
    "\n",
    "plt.ylim([-0.1, 0.1])"
   ]
  },
  {
   "cell_type": "code",
   "execution_count": 569,
   "metadata": {
    "collapsed": false
   },
   "outputs": [
    {
     "data": {
      "text/plain": [
       "array([-0.09967209, -0.03135849, -0.0098659 , -0.00310398,  0.        ,\n",
       "        0.00310398,  0.0098659 ,  0.03135849,  0.09967209])"
      ]
     },
     "execution_count": 569,
     "metadata": {},
     "output_type": "execute_result"
    }
   ],
   "source": [
    "a2"
   ]
  },
  {
   "cell_type": "code",
   "execution_count": 570,
   "metadata": {
    "collapsed": false
   },
   "outputs": [
    {
     "data": {
      "text/plain": [
       "9"
      ]
     },
     "execution_count": 570,
     "metadata": {},
     "output_type": "execute_result"
    }
   ],
   "source": [
    "len(a2)"
   ]
  },
  {
   "cell_type": "code",
   "execution_count": 571,
   "metadata": {
    "collapsed": false
   },
   "outputs": [
    {
     "data": {
      "text/plain": [
       "array(0)"
      ]
     },
     "execution_count": 571,
     "metadata": {},
     "output_type": "execute_result"
    }
   ],
   "source": [
    "np.digitize(-0.99, a2)"
   ]
  },
  {
   "cell_type": "code",
   "execution_count": 572,
   "metadata": {
    "collapsed": false
   },
   "outputs": [
    {
     "data": {
      "text/plain": [
       "array(9)"
      ]
     },
     "execution_count": 572,
     "metadata": {},
     "output_type": "execute_result"
    }
   ],
   "source": [
    "np.digitize(0.99, a2)"
   ]
  },
  {
   "cell_type": "code",
   "execution_count": 573,
   "metadata": {
    "collapsed": false
   },
   "outputs": [
    {
     "data": {
      "text/plain": [
       "array(5)"
      ]
     },
     "execution_count": 573,
     "metadata": {},
     "output_type": "execute_result"
    }
   ],
   "source": [
    "np.digitize(0, a2)"
   ]
  },
  {
   "cell_type": "code",
   "execution_count": 574,
   "metadata": {
    "collapsed": false
   },
   "outputs": [
    {
     "data": {
      "text/plain": [
       "array(4)"
      ]
     },
     "execution_count": 574,
     "metadata": {},
     "output_type": "execute_result"
    }
   ],
   "source": [
    "np.digitize(-0.0001, a2)"
   ]
  },
  {
   "cell_type": "code",
   "execution_count": 575,
   "metadata": {
    "collapsed": false
   },
   "outputs": [
    {
     "data": {
      "text/plain": [
       "array(5)"
      ]
     },
     "execution_count": 575,
     "metadata": {},
     "output_type": "execute_result"
    }
   ],
   "source": [
    "np.digitize(0.0001, a2)"
   ]
  },
  {
   "cell_type": "code",
   "execution_count": 576,
   "metadata": {
    "collapsed": false,
    "scrolled": true
   },
   "outputs": [
    {
     "name": "stderr",
     "output_type": "stream",
     "text": [
      "[2017-04-02 04:12:04,220] Making new env: CartPole-v0\n",
      "[2017-04-02 04:12:04,238] Finished writing results. You can upload them to the scoreboard via gym.upload('/tmp/tmp024uz2b5')\n"
     ]
    },
    {
     "name": "stdout",
     "output_type": "stream",
     "text": [
      "Episode finished after 32 timesteps\n",
      "Episode finished after 12 timesteps\n",
      "Episode finished after 20 timesteps\n",
      "Episode finished after 12 timesteps\n",
      "Episode finished after 17 timesteps\n",
      "Episode finished after 21 timesteps\n",
      "Episode finished after 15 timesteps\n",
      "Episode finished after 17 timesteps\n",
      "Episode finished after 15 timesteps\n",
      "Episode finished after 19 timesteps\n",
      "Episode finished after 20 timesteps\n",
      "Episode finished after 15 timesteps\n",
      "Episode finished after 9 timesteps\n",
      "Episode finished after 28 timesteps\n",
      "Episode finished after 18 timesteps\n",
      "Episode finished after 9 timesteps\n",
      "Episode finished after 10 timesteps\n",
      "Episode finished after 29 timesteps\n",
      "Episode finished after 20 timesteps\n",
      "Episode finished after 40 timesteps\n"
     ]
    }
   ],
   "source": [
    "env = gym.make('CartPole-v0')\n",
    "observations = []\n",
    "for i_episode in range(20):\n",
    "    observation = env.reset()\n",
    "    for t in range(100):\n",
    "        env.render()\n",
    "        observations.append(observation)\n",
    "        action = env.action_space.sample()\n",
    "        observation, reward, done, info = env.step(action)\n",
    "        if done:\n",
    "            print(\"Episode finished after {} timesteps\".format(t+1))\n",
    "            break\n",
    "env.close()\n",
    "x_vals = np.array(observations)[:,0]\n",
    "xd_vals = np.array(observations)[:,1]\n",
    "a_vals = np.array(observations)[:,2]\n",
    "ad_vals = np.array(observations)[:,3]\n",
    "y = np.zeros_like(x_vals)"
   ]
  },
  {
   "cell_type": "code",
   "execution_count": 578,
   "metadata": {
    "collapsed": false
   },
   "outputs": [
    {
     "data": {
      "text/plain": [
       "(-0.2, 0.2)"
      ]
     },
     "execution_count": 578,
     "metadata": {},
     "output_type": "execute_result"
    },
    {
     "data": {
      "image/png": "[encoded data removed]",
      "text/plain": [
       "<matplotlib.figure.Figure at 0x7fba5b23e358>"
      ]
     },
     "metadata": {},
     "output_type": "display_data"
    }
   ],
   "source": [
    "plt.plot(xd_vals, y + 0.15, '.')\n",
    "plt.plot(x_vals, y + 0.05, '.')\n",
    "plt.plot(a_vals, y - 0.05, '.')\n",
    "plt.plot(ad_vals, y - 0.15, '.')\n",
    "\n",
    "yx2 = np.zeros_like(x2) + 0.1\n",
    "ya2 = np.zeros_like(a2) - 0.1\n",
    "plt.plot(x2, yx2, '|')\n",
    "plt.plot(a2, ya2, '|')\n",
    "\n",
    "plt.axvline(x=x_thres_high, color='orange')\n",
    "plt.axvline(x=x_thres_low, color='orange')\n",
    "plt.axvline(x=angle_thres_high, color='green')\n",
    "plt.axvline(x=angle_thres_low, color='green')\n",
    "\n",
    "plt.ylim([-0.2, 0.2])"
   ]
  },
  {
   "cell_type": "code",
   "execution_count": 585,
   "metadata": {
    "collapsed": false
   },
   "outputs": [
    {
     "data": {
      "text/plain": [
       "array([-2.        , -1.42857143, -0.85714286, -0.28571429,  0.        ,\n",
       "        0.28571429,  0.85714286,  1.42857143,  2.        ])"
      ]
     },
     "execution_count": 585,
     "metadata": {},
     "output_type": "execute_result"
    }
   ],
   "source": [
    "d1 = np.sort(np.append(np.linspace(-2, 2, 8, endpoint=True), 0))\n",
    "d1"
   ]
  },
  {
   "cell_type": "code",
   "execution_count": 586,
   "metadata": {
    "collapsed": false
   },
   "outputs": [
    {
     "data": {
      "text/plain": [
       "9"
      ]
     },
     "execution_count": 586,
     "metadata": {},
     "output_type": "execute_result"
    }
   ],
   "source": [
    "len(d1)"
   ]
  },
  {
   "cell_type": "code",
   "execution_count": 587,
   "metadata": {
    "collapsed": false
   },
   "outputs": [
    {
     "data": {
      "text/plain": [
       "[<matplotlib.lines.Line2D at 0x7fba5b5bcc88>]"
      ]
     },
     "execution_count": 587,
     "metadata": {},
     "output_type": "execute_result"
    },
    {
     "data": {
      "image/png": "[encoded data removed]",
      "text/plain": [
       "<matplotlib.figure.Figure at 0x7fba5b2d2cf8>"
      ]
     },
     "metadata": {},
     "output_type": "display_data"
    }
   ],
   "source": [
    "plt.plot(xd_vals, y + 0.15, '.')\n",
    "plt.plot(x_vals, y + 0.05, '.')\n",
    "plt.plot(a_vals, y - 0.05, '.')\n",
    "plt.plot(ad_vals, y - 0.15, '.')\n",
    "\n",
    "yx2 = np.zeros_like(x2) + 0.1\n",
    "ya2 = np.zeros_like(a2) - 0.1\n",
    "plt.plot(x2, yx2, '|')\n",
    "plt.plot(a2, ya2, '|')\n",
    "\n",
    "plt.axvline(x=x_thres_high, color='orange')\n",
    "plt.axvline(x=x_thres_low, color='orange')\n",
    "plt.axvline(x=angle_thres_high, color='green')\n",
    "plt.axvline(x=angle_thres_low, color='green')\n",
    "\n",
    "plt.ylim([-0.2, 0.2])\n",
    "\n",
    "yd1 = np.zeros(len(d1))\n",
    "plt.plot(d1, yd1, '|')"
   ]
  },
  {
   "cell_type": "code",
   "execution_count": 588,
   "metadata": {
    "collapsed": false
   },
   "outputs": [
    {
     "data": {
      "text/plain": [
       "9"
      ]
     },
     "execution_count": 588,
     "metadata": {},
     "output_type": "execute_result"
    }
   ],
   "source": [
    "len(x2)"
   ]
  },
  {
   "cell_type": "code",
   "execution_count": 589,
   "metadata": {
    "collapsed": false
   },
   "outputs": [
    {
     "data": {
      "text/plain": [
       "9"
      ]
     },
     "execution_count": 589,
     "metadata": {},
     "output_type": "execute_result"
    }
   ],
   "source": [
    "len(a2)"
   ]
  },
  {
   "cell_type": "code",
   "execution_count": 590,
   "metadata": {
    "collapsed": false
   },
   "outputs": [
    {
     "data": {
      "text/plain": [
       "9"
      ]
     },
     "execution_count": 590,
     "metadata": {},
     "output_type": "execute_result"
    }
   ],
   "source": [
    "len(d1)"
   ]
  },
  {
   "cell_type": "code",
   "execution_count": 591,
   "metadata": {
    "collapsed": false
   },
   "outputs": [
    {
     "data": {
      "text/plain": [
       "9"
      ]
     },
     "execution_count": 591,
     "metadata": {},
     "output_type": "execute_result"
    }
   ],
   "source": [
    "len(d1)"
   ]
  },
  {
   "cell_type": "code",
   "execution_count": 607,
   "metadata": {
    "collapsed": true
   },
   "outputs": [],
   "source": [
    "def observation_to_state(obsevation, bins):\n",
    "    ss = []\n",
    "    for i in range(len(observation)):\n",
    "        ss.append(int(np.digitize(observation[i], bins=bins[i])))\n",
    "    state = int(\"\".join(map(lambda feature: str(int(feature)), ss)))\n",
    "    return state"
   ]
  },
  {
   "cell_type": "code",
   "execution_count": 625,
   "metadata": {
    "collapsed": false
   },
   "outputs": [],
   "source": [
    "def q_learning(env, bins, alpha = 0.9, gamma = 0.9):\n",
    "    nS = (len(bins[0]) + 1) * (len(bins[1]) + 1) * \\\n",
    "         (len(bins[2]) + 1) * (len(bins[3]) + 1)\n",
    "    nA = env.env.action_space.n\n",
    "\n",
    "    Q = np.random.random((nS, nA)) * 10.0\n",
    "    n_episodes = 1000000\n",
    "    \n",
    "    for episode in range(n_episodes//2, -n_episodes//2, -1):\n",
    "        observation = env.reset()\n",
    "        state = observation_to_state(observation, bins)\n",
    "    \n",
    "        done = False\n",
    "        while not done:\n",
    "            action = action_selection(state, Q, episode, n_episodes)\n",
    "            observation, reward, done, info = env.step(action)\n",
    "            nstate = observation_to_state(observation, bins)\n",
    "            Q[state][action] += alpha * (reward + gamma * Q[nstate].max() * (not done) - Q[state][action])\n",
    "            state = nstate\n",
    "    return Q"
   ]
  },
  {
   "cell_type": "code",
   "execution_count": null,
   "metadata": {
    "collapsed": false,
    "scrolled": true
   },
   "outputs": [
    {
     "name": "stderr",
     "output_type": "stream",
     "text": [
      "[2017-04-02 04:28:41,124] Making new env: CartPole-v0\n",
      "[2017-04-02 04:28:41,129] Starting new video recorder writing to /tmp/tmpyd9rsieu/openaigym.video.35.225.video000000.mp4\n",
      "[2017-04-02 04:28:41,716] Starting new video recorder writing to /tmp/tmpyd9rsieu/openaigym.video.35.225.video000001.mp4\n",
      "[2017-04-02 04:28:42,091] Starting new video recorder writing to /tmp/tmpyd9rsieu/openaigym.video.35.225.video000008.mp4\n",
      "[2017-04-02 04:28:42,477] Starting new video recorder writing to /tmp/tmpyd9rsieu/openaigym.video.35.225.video000027.mp4\n",
      "[2017-04-02 04:28:43,065] Starting new video recorder writing to /tmp/tmpyd9rsieu/openaigym.video.35.225.video000064.mp4\n",
      "[2017-04-02 04:28:43,682] Starting new video recorder writing to /tmp/tmpyd9rsieu/openaigym.video.35.225.video000125.mp4\n",
      "[2017-04-02 04:28:44,157] Starting new video recorder writing to /tmp/tmpyd9rsieu/openaigym.video.35.225.video000216.mp4\n",
      "[2017-04-02 04:28:44,976] Starting new video recorder writing to /tmp/tmpyd9rsieu/openaigym.video.35.225.video000343.mp4\n",
      "[2017-04-02 04:28:45,429] Starting new video recorder writing to /tmp/tmpyd9rsieu/openaigym.video.35.225.video000512.mp4\n",
      "[2017-04-02 04:28:46,029] Starting new video recorder writing to /tmp/tmpyd9rsieu/openaigym.video.35.225.video000729.mp4\n",
      "[2017-04-02 04:28:46,585] Starting new video recorder writing to /tmp/tmpyd9rsieu/openaigym.video.35.225.video001000.mp4\n",
      "[2017-04-02 04:28:48,107] Starting new video recorder writing to /tmp/tmpyd9rsieu/openaigym.video.35.225.video002000.mp4\n",
      "[2017-04-02 04:28:49,692] Starting new video recorder writing to /tmp/tmpyd9rsieu/openaigym.video.35.225.video003000.mp4\n",
      "[2017-04-02 04:28:51,071] Starting new video recorder writing to /tmp/tmpyd9rsieu/openaigym.video.35.225.video004000.mp4\n",
      "[2017-04-02 04:28:52,440] Starting new video recorder writing to /tmp/tmpyd9rsieu/openaigym.video.35.225.video005000.mp4\n",
      "[2017-04-02 04:28:54,115] Starting new video recorder writing to /tmp/tmpyd9rsieu/openaigym.video.35.225.video006000.mp4\n",
      "[2017-04-02 04:28:55,956] Starting new video recorder writing to /tmp/tmpyd9rsieu/openaigym.video.35.225.video007000.mp4\n",
      "[2017-04-02 04:28:57,517] Starting new video recorder writing to /tmp/tmpyd9rsieu/openaigym.video.35.225.video008000.mp4\n",
      "[2017-04-02 04:28:59,077] Starting new video recorder writing to /tmp/tmpyd9rsieu/openaigym.video.35.225.video009000.mp4\n",
      "[2017-04-02 04:29:00,621] Starting new video recorder writing to /tmp/tmpyd9rsieu/openaigym.video.35.225.video010000.mp4\n",
      "[2017-04-02 04:29:02,156] Starting new video recorder writing to /tmp/tmpyd9rsieu/openaigym.video.35.225.video011000.mp4\n",
      "[2017-04-02 04:29:03,936] Starting new video recorder writing to /tmp/tmpyd9rsieu/openaigym.video.35.225.video012000.mp4\n",
      "[2017-04-02 04:29:05,378] Starting new video recorder writing to /tmp/tmpyd9rsieu/openaigym.video.35.225.video013000.mp4\n",
      "[2017-04-02 04:29:06,882] Starting new video recorder writing to /tmp/tmpyd9rsieu/openaigym.video.35.225.video014000.mp4\n",
      "[2017-04-02 04:29:08,691] Starting new video recorder writing to /tmp/tmpyd9rsieu/openaigym.video.35.225.video015000.mp4\n",
      "[2017-04-02 04:29:10,076] Starting new video recorder writing to /tmp/tmpyd9rsieu/openaigym.video.35.225.video016000.mp4\n",
      "[2017-04-02 04:29:11,696] Starting new video recorder writing to /tmp/tmpyd9rsieu/openaigym.video.35.225.video017000.mp4\n",
      "[2017-04-02 04:29:13,100] Starting new video recorder writing to /tmp/tmpyd9rsieu/openaigym.video.35.225.video018000.mp4\n",
      "[2017-04-02 04:29:14,528] Starting new video recorder writing to /tmp/tmpyd9rsieu/openaigym.video.35.225.video019000.mp4\n",
      "[2017-04-02 04:29:16,130] Starting new video recorder writing to /tmp/tmpyd9rsieu/openaigym.video.35.225.video020000.mp4\n",
      "[2017-04-02 04:29:17,613] Starting new video recorder writing to /tmp/tmpyd9rsieu/openaigym.video.35.225.video021000.mp4\n",
      "[2017-04-02 04:29:19,676] Starting new video recorder writing to /tmp/tmpyd9rsieu/openaigym.video.35.225.video022000.mp4\n",
      "[2017-04-02 04:29:21,231] Starting new video recorder writing to /tmp/tmpyd9rsieu/openaigym.video.35.225.video023000.mp4\n",
      "[2017-04-02 04:29:22,682] Starting new video recorder writing to /tmp/tmpyd9rsieu/openaigym.video.35.225.video024000.mp4\n",
      "[2017-04-02 04:29:24,374] Starting new video recorder writing to /tmp/tmpyd9rsieu/openaigym.video.35.225.video025000.mp4\n",
      "[2017-04-02 04:29:25,709] Starting new video recorder writing to /tmp/tmpyd9rsieu/openaigym.video.35.225.video026000.mp4\n",
      "[2017-04-02 04:29:27,205] Starting new video recorder writing to /tmp/tmpyd9rsieu/openaigym.video.35.225.video027000.mp4\n",
      "[2017-04-02 04:29:29,552] Starting new video recorder writing to /tmp/tmpyd9rsieu/openaigym.video.35.225.video028000.mp4\n",
      "[2017-04-02 04:29:31,723] Starting new video recorder writing to /tmp/tmpyd9rsieu/openaigym.video.35.225.video029000.mp4\n",
      "[2017-04-02 04:29:33,145] Starting new video recorder writing to /tmp/tmpyd9rsieu/openaigym.video.35.225.video030000.mp4\n",
      "[2017-04-02 04:29:34,837] Starting new video recorder writing to /tmp/tmpyd9rsieu/openaigym.video.35.225.video031000.mp4\n",
      "[2017-04-02 04:29:36,348] Starting new video recorder writing to /tmp/tmpyd9rsieu/openaigym.video.35.225.video032000.mp4\n",
      "[2017-04-02 04:29:38,100] Starting new video recorder writing to /tmp/tmpyd9rsieu/openaigym.video.35.225.video033000.mp4\n",
      "[2017-04-02 04:29:40,963] Starting new video recorder writing to /tmp/tmpyd9rsieu/openaigym.video.35.225.video034000.mp4\n",
      "[2017-04-02 04:29:43,709] Starting new video recorder writing to /tmp/tmpyd9rsieu/openaigym.video.35.225.video035000.mp4\n",
      "[2017-04-02 04:29:45,508] Starting new video recorder writing to /tmp/tmpyd9rsieu/openaigym.video.35.225.video036000.mp4\n",
      "[2017-04-02 04:29:47,306] Starting new video recorder writing to /tmp/tmpyd9rsieu/openaigym.video.35.225.video037000.mp4\n",
      "[2017-04-02 04:29:48,685] Starting new video recorder writing to /tmp/tmpyd9rsieu/openaigym.video.35.225.video038000.mp4\n",
      "[2017-04-02 04:29:50,009] Starting new video recorder writing to /tmp/tmpyd9rsieu/openaigym.video.35.225.video039000.mp4\n",
      "[2017-04-02 04:29:51,452] Starting new video recorder writing to /tmp/tmpyd9rsieu/openaigym.video.35.225.video040000.mp4\n",
      "[2017-04-02 04:29:52,835] Starting new video recorder writing to /tmp/tmpyd9rsieu/openaigym.video.35.225.video041000.mp4\n",
      "[2017-04-02 04:29:54,460] Starting new video recorder writing to /tmp/tmpyd9rsieu/openaigym.video.35.225.video042000.mp4\n",
      "[2017-04-02 04:29:55,834] Starting new video recorder writing to /tmp/tmpyd9rsieu/openaigym.video.35.225.video043000.mp4\n",
      "[2017-04-02 04:29:57,453] Starting new video recorder writing to /tmp/tmpyd9rsieu/openaigym.video.35.225.video044000.mp4\n",
      "[2017-04-02 04:29:58,886] Starting new video recorder writing to /tmp/tmpyd9rsieu/openaigym.video.35.225.video045000.mp4\n",
      "[2017-04-02 04:30:00,442] Starting new video recorder writing to /tmp/tmpyd9rsieu/openaigym.video.35.225.video046000.mp4\n",
      "[2017-04-02 04:30:01,861] Starting new video recorder writing to /tmp/tmpyd9rsieu/openaigym.video.35.225.video047000.mp4\n",
      "[2017-04-02 04:30:03,310] Starting new video recorder writing to /tmp/tmpyd9rsieu/openaigym.video.35.225.video048000.mp4\n",
      "[2017-04-02 04:30:04,861] Starting new video recorder writing to /tmp/tmpyd9rsieu/openaigym.video.35.225.video049000.mp4\n",
      "[2017-04-02 04:30:06,420] Starting new video recorder writing to /tmp/tmpyd9rsieu/openaigym.video.35.225.video050000.mp4\n",
      "[2017-04-02 04:30:07,789] Starting new video recorder writing to /tmp/tmpyd9rsieu/openaigym.video.35.225.video051000.mp4\n",
      "[2017-04-02 04:30:09,176] Starting new video recorder writing to /tmp/tmpyd9rsieu/openaigym.video.35.225.video052000.mp4\n",
      "[2017-04-02 04:30:10,763] Starting new video recorder writing to /tmp/tmpyd9rsieu/openaigym.video.35.225.video053000.mp4\n",
      "[2017-04-02 04:30:12,282] Starting new video recorder writing to /tmp/tmpyd9rsieu/openaigym.video.35.225.video054000.mp4\n",
      "[2017-04-02 04:30:13,593] Starting new video recorder writing to /tmp/tmpyd9rsieu/openaigym.video.35.225.video055000.mp4\n",
      "[2017-04-02 04:30:14,978] Starting new video recorder writing to /tmp/tmpyd9rsieu/openaigym.video.35.225.video056000.mp4\n",
      "[2017-04-02 04:30:16,337] Starting new video recorder writing to /tmp/tmpyd9rsieu/openaigym.video.35.225.video057000.mp4\n",
      "[2017-04-02 04:30:17,805] Starting new video recorder writing to /tmp/tmpyd9rsieu/openaigym.video.35.225.video058000.mp4\n",
      "[2017-04-02 04:30:19,185] Starting new video recorder writing to /tmp/tmpyd9rsieu/openaigym.video.35.225.video059000.mp4\n",
      "[2017-04-02 04:30:20,881] Starting new video recorder writing to /tmp/tmpyd9rsieu/openaigym.video.35.225.video060000.mp4\n",
      "[2017-04-02 04:30:22,232] Starting new video recorder writing to /tmp/tmpyd9rsieu/openaigym.video.35.225.video061000.mp4\n",
      "[2017-04-02 04:30:23,568] Starting new video recorder writing to /tmp/tmpyd9rsieu/openaigym.video.35.225.video062000.mp4\n",
      "[2017-04-02 04:30:25,128] Starting new video recorder writing to /tmp/tmpyd9rsieu/openaigym.video.35.225.video063000.mp4\n",
      "[2017-04-02 04:30:26,573] Starting new video recorder writing to /tmp/tmpyd9rsieu/openaigym.video.35.225.video064000.mp4\n",
      "[2017-04-02 04:30:28,041] Starting new video recorder writing to /tmp/tmpyd9rsieu/openaigym.video.35.225.video065000.mp4\n",
      "[2017-04-02 04:30:29,560] Starting new video recorder writing to /tmp/tmpyd9rsieu/openaigym.video.35.225.video066000.mp4\n",
      "[2017-04-02 04:30:31,067] Starting new video recorder writing to /tmp/tmpyd9rsieu/openaigym.video.35.225.video067000.mp4\n",
      "[2017-04-02 04:30:32,418] Starting new video recorder writing to /tmp/tmpyd9rsieu/openaigym.video.35.225.video068000.mp4\n",
      "[2017-04-02 04:30:33,739] Starting new video recorder writing to /tmp/tmpyd9rsieu/openaigym.video.35.225.video069000.mp4\n",
      "[2017-04-02 04:30:35,144] Starting new video recorder writing to /tmp/tmpyd9rsieu/openaigym.video.35.225.video070000.mp4\n",
      "[2017-04-02 04:30:36,488] Starting new video recorder writing to /tmp/tmpyd9rsieu/openaigym.video.35.225.video071000.mp4\n",
      "[2017-04-02 04:30:37,912] Starting new video recorder writing to /tmp/tmpyd9rsieu/openaigym.video.35.225.video072000.mp4\n",
      "[2017-04-02 04:30:39,316] Starting new video recorder writing to /tmp/tmpyd9rsieu/openaigym.video.35.225.video073000.mp4\n",
      "[2017-04-02 04:30:40,702] Starting new video recorder writing to /tmp/tmpyd9rsieu/openaigym.video.35.225.video074000.mp4\n",
      "[2017-04-02 04:30:42,102] Starting new video recorder writing to /tmp/tmpyd9rsieu/openaigym.video.35.225.video075000.mp4\n",
      "[2017-04-02 04:30:43,643] Starting new video recorder writing to /tmp/tmpyd9rsieu/openaigym.video.35.225.video076000.mp4\n",
      "[2017-04-02 04:30:45,097] Starting new video recorder writing to /tmp/tmpyd9rsieu/openaigym.video.35.225.video077000.mp4\n",
      "[2017-04-02 04:30:46,535] Starting new video recorder writing to /tmp/tmpyd9rsieu/openaigym.video.35.225.video078000.mp4\n",
      "[2017-04-02 04:30:48,100] Starting new video recorder writing to /tmp/tmpyd9rsieu/openaigym.video.35.225.video079000.mp4\n",
      "[2017-04-02 04:30:49,526] Starting new video recorder writing to /tmp/tmpyd9rsieu/openaigym.video.35.225.video080000.mp4\n",
      "[2017-04-02 04:30:51,318] Starting new video recorder writing to /tmp/tmpyd9rsieu/openaigym.video.35.225.video081000.mp4\n",
      "[2017-04-02 04:30:52,733] Starting new video recorder writing to /tmp/tmpyd9rsieu/openaigym.video.35.225.video082000.mp4\n",
      "[2017-04-02 04:30:54,052] Starting new video recorder writing to /tmp/tmpyd9rsieu/openaigym.video.35.225.video083000.mp4\n",
      "[2017-04-02 04:30:55,408] Starting new video recorder writing to /tmp/tmpyd9rsieu/openaigym.video.35.225.video084000.mp4\n",
      "[2017-04-02 04:30:56,676] Starting new video recorder writing to /tmp/tmpyd9rsieu/openaigym.video.35.225.video085000.mp4\n",
      "[2017-04-02 04:30:58,475] Starting new video recorder writing to /tmp/tmpyd9rsieu/openaigym.video.35.225.video086000.mp4\n",
      "[2017-04-02 04:30:59,874] Starting new video recorder writing to /tmp/tmpyd9rsieu/openaigym.video.35.225.video087000.mp4\n",
      "[2017-04-02 04:31:01,342] Starting new video recorder writing to /tmp/tmpyd9rsieu/openaigym.video.35.225.video088000.mp4\n",
      "[2017-04-02 04:31:02,659] Starting new video recorder writing to /tmp/tmpyd9rsieu/openaigym.video.35.225.video089000.mp4\n",
      "[2017-04-02 04:31:04,226] Starting new video recorder writing to /tmp/tmpyd9rsieu/openaigym.video.35.225.video090000.mp4\n",
      "[2017-04-02 04:31:05,588] Starting new video recorder writing to /tmp/tmpyd9rsieu/openaigym.video.35.225.video091000.mp4\n",
      "[2017-04-02 04:31:07,088] Starting new video recorder writing to /tmp/tmpyd9rsieu/openaigym.video.35.225.video092000.mp4\n",
      "[2017-04-02 04:31:08,420] Starting new video recorder writing to /tmp/tmpyd9rsieu/openaigym.video.35.225.video093000.mp4\n",
      "[2017-04-02 04:31:09,876] Starting new video recorder writing to /tmp/tmpyd9rsieu/openaigym.video.35.225.video094000.mp4\n",
      "[2017-04-02 04:31:11,719] Starting new video recorder writing to /tmp/tmpyd9rsieu/openaigym.video.35.225.video095000.mp4\n",
      "[2017-04-02 04:31:13,043] Starting new video recorder writing to /tmp/tmpyd9rsieu/openaigym.video.35.225.video096000.mp4\n",
      "[2017-04-02 04:31:14,216] Starting new video recorder writing to /tmp/tmpyd9rsieu/openaigym.video.35.225.video097000.mp4\n",
      "[2017-04-02 04:31:15,526] Starting new video recorder writing to /tmp/tmpyd9rsieu/openaigym.video.35.225.video098000.mp4\n",
      "[2017-04-02 04:31:16,912] Starting new video recorder writing to /tmp/tmpyd9rsieu/openaigym.video.35.225.video099000.mp4\n",
      "[2017-04-02 04:31:18,510] Starting new video recorder writing to /tmp/tmpyd9rsieu/openaigym.video.35.225.video100000.mp4\n",
      "[2017-04-02 04:31:19,683] Starting new video recorder writing to /tmp/tmpyd9rsieu/openaigym.video.35.225.video101000.mp4\n",
      "[2017-04-02 04:31:20,789] Starting new video recorder writing to /tmp/tmpyd9rsieu/openaigym.video.35.225.video102000.mp4\n",
      "[2017-04-02 04:31:21,842] Starting new video recorder writing to /tmp/tmpyd9rsieu/openaigym.video.35.225.video103000.mp4\n",
      "[2017-04-02 04:31:22,934] Starting new video recorder writing to /tmp/tmpyd9rsieu/openaigym.video.35.225.video104000.mp4\n",
      "[2017-04-02 04:31:24,179] Starting new video recorder writing to /tmp/tmpyd9rsieu/openaigym.video.35.225.video105000.mp4\n",
      "[2017-04-02 04:31:25,302] Starting new video recorder writing to /tmp/tmpyd9rsieu/openaigym.video.35.225.video106000.mp4\n",
      "[2017-04-02 04:31:26,681] Starting new video recorder writing to /tmp/tmpyd9rsieu/openaigym.video.35.225.video107000.mp4\n",
      "[2017-04-02 04:31:27,918] Starting new video recorder writing to /tmp/tmpyd9rsieu/openaigym.video.35.225.video108000.mp4\n",
      "[2017-04-02 04:31:29,581] Starting new video recorder writing to /tmp/tmpyd9rsieu/openaigym.video.35.225.video109000.mp4\n",
      "[2017-04-02 04:31:30,918] Starting new video recorder writing to /tmp/tmpyd9rsieu/openaigym.video.35.225.video110000.mp4\n",
      "[2017-04-02 04:31:32,548] Starting new video recorder writing to /tmp/tmpyd9rsieu/openaigym.video.35.225.video111000.mp4\n",
      "[2017-04-02 04:31:34,140] Starting new video recorder writing to /tmp/tmpyd9rsieu/openaigym.video.35.225.video112000.mp4\n",
      "[2017-04-02 04:31:35,314] Starting new video recorder writing to /tmp/tmpyd9rsieu/openaigym.video.35.225.video113000.mp4\n",
      "[2017-04-02 04:31:36,402] Starting new video recorder writing to /tmp/tmpyd9rsieu/openaigym.video.35.225.video114000.mp4\n",
      "[2017-04-02 04:31:37,459] Starting new video recorder writing to /tmp/tmpyd9rsieu/openaigym.video.35.225.video115000.mp4\n",
      "[2017-04-02 04:31:38,632] Starting new video recorder writing to /tmp/tmpyd9rsieu/openaigym.video.35.225.video116000.mp4\n",
      "[2017-04-02 04:31:40,515] Starting new video recorder writing to /tmp/tmpyd9rsieu/openaigym.video.35.225.video117000.mp4\n",
      "[2017-04-02 04:31:41,678] Starting new video recorder writing to /tmp/tmpyd9rsieu/openaigym.video.35.225.video118000.mp4\n",
      "[2017-04-02 04:31:43,103] Starting new video recorder writing to /tmp/tmpyd9rsieu/openaigym.video.35.225.video119000.mp4\n",
      "[2017-04-02 04:31:44,878] Starting new video recorder writing to /tmp/tmpyd9rsieu/openaigym.video.35.225.video120000.mp4\n",
      "[2017-04-02 04:31:46,139] Starting new video recorder writing to /tmp/tmpyd9rsieu/openaigym.video.35.225.video121000.mp4\n",
      "[2017-04-02 04:31:47,604] Starting new video recorder writing to /tmp/tmpyd9rsieu/openaigym.video.35.225.video122000.mp4\n",
      "[2017-04-02 04:31:48,726] Starting new video recorder writing to /tmp/tmpyd9rsieu/openaigym.video.35.225.video123000.mp4\n",
      "[2017-04-02 04:31:49,844] Starting new video recorder writing to /tmp/tmpyd9rsieu/openaigym.video.35.225.video124000.mp4\n",
      "[2017-04-02 04:31:50,958] Starting new video recorder writing to /tmp/tmpyd9rsieu/openaigym.video.35.225.video125000.mp4\n",
      "[2017-04-02 04:31:52,169] Starting new video recorder writing to /tmp/tmpyd9rsieu/openaigym.video.35.225.video126000.mp4\n",
      "[2017-04-02 04:31:53,288] Starting new video recorder writing to /tmp/tmpyd9rsieu/openaigym.video.35.225.video127000.mp4\n",
      "[2017-04-02 04:31:54,690] Starting new video recorder writing to /tmp/tmpyd9rsieu/openaigym.video.35.225.video128000.mp4\n",
      "[2017-04-02 04:31:55,769] Starting new video recorder writing to /tmp/tmpyd9rsieu/openaigym.video.35.225.video129000.mp4\n",
      "[2017-04-02 04:31:56,795] Starting new video recorder writing to /tmp/tmpyd9rsieu/openaigym.video.35.225.video130000.mp4\n",
      "[2017-04-02 04:31:57,790] Starting new video recorder writing to /tmp/tmpyd9rsieu/openaigym.video.35.225.video131000.mp4\n",
      "[2017-04-02 04:31:58,790] Starting new video recorder writing to /tmp/tmpyd9rsieu/openaigym.video.35.225.video132000.mp4\n",
      "[2017-04-02 04:31:59,946] Starting new video recorder writing to /tmp/tmpyd9rsieu/openaigym.video.35.225.video133000.mp4\n",
      "[2017-04-02 04:32:00,990] Starting new video recorder writing to /tmp/tmpyd9rsieu/openaigym.video.35.225.video134000.mp4\n",
      "[2017-04-02 04:32:02,292] Starting new video recorder writing to /tmp/tmpyd9rsieu/openaigym.video.35.225.video135000.mp4\n",
      "[2017-04-02 04:32:03,461] Starting new video recorder writing to /tmp/tmpyd9rsieu/openaigym.video.35.225.video136000.mp4\n",
      "[2017-04-02 04:32:04,454] Starting new video recorder writing to /tmp/tmpyd9rsieu/openaigym.video.35.225.video137000.mp4\n",
      "[2017-04-02 04:32:05,505] Starting new video recorder writing to /tmp/tmpyd9rsieu/openaigym.video.35.225.video138000.mp4\n",
      "[2017-04-02 04:32:06,664] Starting new video recorder writing to /tmp/tmpyd9rsieu/openaigym.video.35.225.video139000.mp4\n",
      "[2017-04-02 04:32:07,654] Starting new video recorder writing to /tmp/tmpyd9rsieu/openaigym.video.35.225.video140000.mp4\n",
      "[2017-04-02 04:32:08,735] Starting new video recorder writing to /tmp/tmpyd9rsieu/openaigym.video.35.225.video141000.mp4\n",
      "[2017-04-02 04:32:09,791] Starting new video recorder writing to /tmp/tmpyd9rsieu/openaigym.video.35.225.video142000.mp4\n",
      "[2017-04-02 04:32:10,888] Starting new video recorder writing to /tmp/tmpyd9rsieu/openaigym.video.35.225.video143000.mp4\n",
      "[2017-04-02 04:32:12,240] Starting new video recorder writing to /tmp/tmpyd9rsieu/openaigym.video.35.225.video144000.mp4\n",
      "[2017-04-02 04:32:13,283] Starting new video recorder writing to /tmp/tmpyd9rsieu/openaigym.video.35.225.video145000.mp4\n",
      "[2017-04-02 04:32:14,264] Starting new video recorder writing to /tmp/tmpyd9rsieu/openaigym.video.35.225.video146000.mp4\n",
      "[2017-04-02 04:32:15,259] Starting new video recorder writing to /tmp/tmpyd9rsieu/openaigym.video.35.225.video147000.mp4\n",
      "[2017-04-02 04:32:16,276] Starting new video recorder writing to /tmp/tmpyd9rsieu/openaigym.video.35.225.video148000.mp4\n",
      "[2017-04-02 04:32:17,347] Starting new video recorder writing to /tmp/tmpyd9rsieu/openaigym.video.35.225.video149000.mp4\n",
      "[2017-04-02 04:32:18,433] Starting new video recorder writing to /tmp/tmpyd9rsieu/openaigym.video.35.225.video150000.mp4\n",
      "[2017-04-02 04:32:19,390] Starting new video recorder writing to /tmp/tmpyd9rsieu/openaigym.video.35.225.video151000.mp4\n",
      "[2017-04-02 04:32:20,370] Starting new video recorder writing to /tmp/tmpyd9rsieu/openaigym.video.35.225.video152000.mp4\n",
      "[2017-04-02 04:32:21,535] Starting new video recorder writing to /tmp/tmpyd9rsieu/openaigym.video.35.225.video153000.mp4\n",
      "[2017-04-02 04:32:22,691] Starting new video recorder writing to /tmp/tmpyd9rsieu/openaigym.video.35.225.video154000.mp4\n",
      "[2017-04-02 04:32:23,606] Starting new video recorder writing to /tmp/tmpyd9rsieu/openaigym.video.35.225.video155000.mp4\n",
      "[2017-04-02 04:32:24,599] Starting new video recorder writing to /tmp/tmpyd9rsieu/openaigym.video.35.225.video156000.mp4\n",
      "[2017-04-02 04:32:25,843] Starting new video recorder writing to /tmp/tmpyd9rsieu/openaigym.video.35.225.video157000.mp4\n",
      "[2017-04-02 04:32:26,818] Starting new video recorder writing to /tmp/tmpyd9rsieu/openaigym.video.35.225.video158000.mp4\n",
      "[2017-04-02 04:32:27,837] Starting new video recorder writing to /tmp/tmpyd9rsieu/openaigym.video.35.225.video159000.mp4\n",
      "[2017-04-02 04:32:28,974] Starting new video recorder writing to /tmp/tmpyd9rsieu/openaigym.video.35.225.video160000.mp4\n",
      "[2017-04-02 04:32:30,073] Starting new video recorder writing to /tmp/tmpyd9rsieu/openaigym.video.35.225.video161000.mp4\n",
      "[2017-04-02 04:32:30,989] Starting new video recorder writing to /tmp/tmpyd9rsieu/openaigym.video.35.225.video162000.mp4\n",
      "[2017-04-02 04:32:32,053] Starting new video recorder writing to /tmp/tmpyd9rsieu/openaigym.video.35.225.video163000.mp4\n",
      "[2017-04-02 04:32:33,238] Starting new video recorder writing to /tmp/tmpyd9rsieu/openaigym.video.35.225.video164000.mp4\n",
      "[2017-04-02 04:32:34,355] Starting new video recorder writing to /tmp/tmpyd9rsieu/openaigym.video.35.225.video165000.mp4\n",
      "[2017-04-02 04:32:35,364] Starting new video recorder writing to /tmp/tmpyd9rsieu/openaigym.video.35.225.video166000.mp4\n",
      "[2017-04-02 04:32:36,351] Starting new video recorder writing to /tmp/tmpyd9rsieu/openaigym.video.35.225.video167000.mp4\n",
      "[2017-04-02 04:32:37,275] Starting new video recorder writing to /tmp/tmpyd9rsieu/openaigym.video.35.225.video168000.mp4\n",
      "[2017-04-02 04:32:38,234] Starting new video recorder writing to /tmp/tmpyd9rsieu/openaigym.video.35.225.video169000.mp4\n",
      "[2017-04-02 04:32:39,180] Starting new video recorder writing to /tmp/tmpyd9rsieu/openaigym.video.35.225.video170000.mp4\n",
      "[2017-04-02 04:32:40,178] Starting new video recorder writing to /tmp/tmpyd9rsieu/openaigym.video.35.225.video171000.mp4\n",
      "[2017-04-02 04:32:41,356] Starting new video recorder writing to /tmp/tmpyd9rsieu/openaigym.video.35.225.video172000.mp4\n",
      "[2017-04-02 04:32:42,353] Starting new video recorder writing to /tmp/tmpyd9rsieu/openaigym.video.35.225.video173000.mp4\n",
      "[2017-04-02 04:32:43,391] Starting new video recorder writing to /tmp/tmpyd9rsieu/openaigym.video.35.225.video174000.mp4\n",
      "[2017-04-02 04:32:44,359] Starting new video recorder writing to /tmp/tmpyd9rsieu/openaigym.video.35.225.video175000.mp4\n",
      "[2017-04-02 04:32:45,347] Starting new video recorder writing to /tmp/tmpyd9rsieu/openaigym.video.35.225.video176000.mp4\n",
      "[2017-04-02 04:32:46,455] Starting new video recorder writing to /tmp/tmpyd9rsieu/openaigym.video.35.225.video177000.mp4\n",
      "[2017-04-02 04:32:47,484] Starting new video recorder writing to /tmp/tmpyd9rsieu/openaigym.video.35.225.video178000.mp4\n",
      "[2017-04-02 04:32:48,619] Starting new video recorder writing to /tmp/tmpyd9rsieu/openaigym.video.35.225.video179000.mp4\n",
      "[2017-04-02 04:32:49,750] Starting new video recorder writing to /tmp/tmpyd9rsieu/openaigym.video.35.225.video180000.mp4\n",
      "[2017-04-02 04:32:50,696] Starting new video recorder writing to /tmp/tmpyd9rsieu/openaigym.video.35.225.video181000.mp4\n",
      "[2017-04-02 04:32:51,697] Starting new video recorder writing to /tmp/tmpyd9rsieu/openaigym.video.35.225.video182000.mp4\n",
      "[2017-04-02 04:32:52,668] Starting new video recorder writing to /tmp/tmpyd9rsieu/openaigym.video.35.225.video183000.mp4\n",
      "[2017-04-02 04:32:53,794] Starting new video recorder writing to /tmp/tmpyd9rsieu/openaigym.video.35.225.video184000.mp4\n",
      "[2017-04-02 04:32:54,780] Starting new video recorder writing to /tmp/tmpyd9rsieu/openaigym.video.35.225.video185000.mp4\n",
      "[2017-04-02 04:32:55,761] Starting new video recorder writing to /tmp/tmpyd9rsieu/openaigym.video.35.225.video186000.mp4\n",
      "[2017-04-02 04:32:56,733] Starting new video recorder writing to /tmp/tmpyd9rsieu/openaigym.video.35.225.video187000.mp4\n",
      "[2017-04-02 04:32:57,818] Starting new video recorder writing to /tmp/tmpyd9rsieu/openaigym.video.35.225.video188000.mp4\n",
      "[2017-04-02 04:32:58,760] Starting new video recorder writing to /tmp/tmpyd9rsieu/openaigym.video.35.225.video189000.mp4\n",
      "[2017-04-02 04:32:59,776] Starting new video recorder writing to /tmp/tmpyd9rsieu/openaigym.video.35.225.video190000.mp4\n",
      "[2017-04-02 04:33:00,728] Starting new video recorder writing to /tmp/tmpyd9rsieu/openaigym.video.35.225.video191000.mp4\n",
      "[2017-04-02 04:33:01,685] Starting new video recorder writing to /tmp/tmpyd9rsieu/openaigym.video.35.225.video192000.mp4\n",
      "[2017-04-02 04:33:02,648] Starting new video recorder writing to /tmp/tmpyd9rsieu/openaigym.video.35.225.video193000.mp4\n",
      "[2017-04-02 04:33:03,904] Starting new video recorder writing to /tmp/tmpyd9rsieu/openaigym.video.35.225.video194000.mp4\n",
      "[2017-04-02 04:33:04,935] Starting new video recorder writing to /tmp/tmpyd9rsieu/openaigym.video.35.225.video195000.mp4\n",
      "[2017-04-02 04:33:05,876] Starting new video recorder writing to /tmp/tmpyd9rsieu/openaigym.video.35.225.video196000.mp4\n",
      "[2017-04-02 04:33:06,819] Starting new video recorder writing to /tmp/tmpyd9rsieu/openaigym.video.35.225.video197000.mp4\n",
      "[2017-04-02 04:33:07,729] Starting new video recorder writing to /tmp/tmpyd9rsieu/openaigym.video.35.225.video198000.mp4\n",
      "[2017-04-02 04:33:08,772] Starting new video recorder writing to /tmp/tmpyd9rsieu/openaigym.video.35.225.video199000.mp4\n"
     ]
    }
   ],
   "source": [
    "mdir = tempfile.mkdtemp()\n",
    "env = gym.make('CartPole-v0')\n",
    "env = wrappers.Monitor(env, mdir, force=True)\n",
    "\n",
    "Q = q_learning(env, (x2, d1, a2, d1))"
   ]
  },
  {
   "cell_type": "code",
   "execution_count": null,
   "metadata": {
    "collapsed": false,
    "scrolled": false
   },
   "outputs": [],
   "source": [
    "videos = np.array(env.videos)\n",
    "n_videos = 5\n",
    "\n",
    "idxs = np.linspace(0, len(videos) - 1, n_videos).astype(int)\n",
    "videos = videos[idxs,:]\n",
    "\n",
    "strm = ''\n",
    "for video_path, meta_path in videos:\n",
    "    video = io.open(video_path, 'r+b').read()\n",
    "    encoded = base64.b64encode(video)\n",
    "    \n",
    "    with open(meta_path) as data_file:    \n",
    "        meta = json.load(data_file)\n",
    "\n",
    "    html_tag = \"\"\"\n",
    "    <h2>{0}<h2/>\n",
    "    <video width=\"960\" height=\"540\" controls>\n",
    "        <source src=\"data:video/mp4;base64,{1}\" type=\"video/mp4\" />\n",
    "    </video>\"\"\"\n",
    "    strm += html_tag.format('Episode ' + str(meta['episode_id']), encoded.decode('ascii'))\n",
    "HTML(data=strm)"
   ]
  },
  {
   "cell_type": "code",
   "execution_count": null,
   "metadata": {
    "collapsed": true
   },
   "outputs": [],
   "source": [
    "V = np.max(Q, axis=1)\n",
    "V"
   ]
  },
  {
   "cell_type": "code",
   "execution_count": null,
   "metadata": {
    "collapsed": true
   },
   "outputs": [],
   "source": [
    "pi = np.argmax(Q, axis=1)\n",
    "pi"
   ]
  },
  {
   "cell_type": "code",
   "execution_count": null,
   "metadata": {
    "collapsed": false
   },
   "outputs": [],
   "source": [
    "env.close()"
   ]
  },
  {
   "cell_type": "code",
   "execution_count": null,
   "metadata": {
    "collapsed": false,
    "deletable": true,
    "editable": true
   },
   "outputs": [],
   "source": [
    "gym.upload(mdir, api_key='sk_2Z7ZMK8RRaiIU5WVirHYGg')"
   ]
  }
 ],
 "metadata": {
  "kernelspec": {
   "display_name": "Python 3",
   "language": "python",
   "name": "python3"
  },
  "language_info": {
   "codemirror_mode": {
    "name": "ipython",
    "version": 3
   },
   "file_extension": ".py",
   "mimetype": "text/x-python",
   "name": "python",
   "nbconvert_exporter": "python",
   "pygments_lexer": "ipython3",
   "version": "3.5.2"
  }
 },
 "nbformat": 4,
 "nbformat_minor": 2
}
