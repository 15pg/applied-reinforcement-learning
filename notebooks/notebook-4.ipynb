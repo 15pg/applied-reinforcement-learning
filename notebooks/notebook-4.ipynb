{
 "cells": [
  {
   "cell_type": "markdown",
   "metadata": {
    "deletable": true,
    "editable": true
   },
   "source": [
    "### Model-Free Reinforcement Learning"
   ]
  },
  {
   "cell_type": "code",
   "execution_count": 1,
   "metadata": {
    "collapsed": true
   },
   "outputs": [],
   "source": [
    "import numpy as np\n",
    "import pandas as pd\n",
    "import tempfile\n",
    "import pprint\n",
    "import json\n",
    "import sys\n",
    "import gym\n",
    "\n",
    "from gym import wrappers\n",
    "from subprocess import check_output\n",
    "from IPython.display import HTML"
   ]
  },
  {
   "cell_type": "markdown",
   "metadata": {},
   "source": [
    "#### Q-Learning"
   ]
  },
  {
   "cell_type": "code",
   "execution_count": 2,
   "metadata": {
    "collapsed": true
   },
   "outputs": [],
   "source": [
    "def action_selection(state, Q, episode, n_episodes):\n",
    "    epsilon = max(0, episode/n_episodes*2)\n",
    "    if np.random.random() < epsilon:\n",
    "        action = np.random.randint(len(Q[0]))\n",
    "    else:\n",
    "        action = np.argmax(Q[state])\n",
    "    return action"
   ]
  },
  {
   "cell_type": "code",
   "execution_count": 3,
   "metadata": {
    "collapsed": false
   },
   "outputs": [],
   "source": [
    "def q_learning(env, alpha = 0.9, gamma = 0.9):\n",
    "    nS = env.env.observation_space.n\n",
    "    nA = env.env.action_space.n\n",
    "    \n",
    "    Q = np.random.random((nS, nA)) * 2.0\n",
    "    n_episodes = 10000\n",
    "    \n",
    "    for episode in range(n_episodes//2, -n_episodes//2, -1):\n",
    "        state = env.reset()\n",
    "        done = False\n",
    "        while not done:\n",
    "            action = action_selection(state, Q, episode, n_episodes)\n",
    "            nstate, reward, done, info = env.step(action)\n",
    "            Q[state][action] += alpha * (reward + gamma * Q[nstate].max() * (not done) - Q[state][action])\n",
    "            state = nstate\n",
    "    return Q"
   ]
  },
  {
   "cell_type": "code",
   "execution_count": 4,
   "metadata": {
    "collapsed": false,
    "deletable": true,
    "editable": true,
    "scrolled": true
   },
   "outputs": [
    {
     "name": "stderr",
     "output_type": "stream",
     "text": [
      "[2017-04-02 00:40:36,000] Making new env: FrozenLake-v0\n",
      "[2017-04-02 00:40:36,013] Starting new video recorder writing to /tmp/tmpww4igizw/openaigym.video.0.379.video000000.json\n",
      "[2017-04-02 00:40:36,015] Starting new video recorder writing to /tmp/tmpww4igizw/openaigym.video.0.379.video000001.json\n",
      "[2017-04-02 00:40:36,023] Starting new video recorder writing to /tmp/tmpww4igizw/openaigym.video.0.379.video000008.json\n",
      "[2017-04-02 00:40:36,040] Starting new video recorder writing to /tmp/tmpww4igizw/openaigym.video.0.379.video000027.json\n",
      "[2017-04-02 00:40:36,060] Starting new video recorder writing to /tmp/tmpww4igizw/openaigym.video.0.379.video000064.json\n",
      "[2017-04-02 00:40:36,096] Starting new video recorder writing to /tmp/tmpww4igizw/openaigym.video.0.379.video000125.json\n",
      "[2017-04-02 00:40:36,135] Starting new video recorder writing to /tmp/tmpww4igizw/openaigym.video.0.379.video000216.json\n",
      "[2017-04-02 00:40:36,181] Starting new video recorder writing to /tmp/tmpww4igizw/openaigym.video.0.379.video000343.json\n",
      "[2017-04-02 00:40:36,249] Starting new video recorder writing to /tmp/tmpww4igizw/openaigym.video.0.379.video000512.json\n",
      "[2017-04-02 00:40:36,330] Starting new video recorder writing to /tmp/tmpww4igizw/openaigym.video.0.379.video000729.json\n",
      "[2017-04-02 00:40:36,412] Starting new video recorder writing to /tmp/tmpww4igizw/openaigym.video.0.379.video001000.json\n",
      "[2017-04-02 00:40:36,765] Starting new video recorder writing to /tmp/tmpww4igizw/openaigym.video.0.379.video002000.json\n",
      "[2017-04-02 00:40:37,084] Starting new video recorder writing to /tmp/tmpww4igizw/openaigym.video.0.379.video003000.json\n",
      "[2017-04-02 00:40:37,493] Starting new video recorder writing to /tmp/tmpww4igizw/openaigym.video.0.379.video004000.json\n",
      "[2017-04-02 00:40:38,138] Starting new video recorder writing to /tmp/tmpww4igizw/openaigym.video.0.379.video005000.json\n",
      "[2017-04-02 00:40:39,366] Starting new video recorder writing to /tmp/tmpww4igizw/openaigym.video.0.379.video006000.json\n",
      "[2017-04-02 00:40:40,596] Starting new video recorder writing to /tmp/tmpww4igizw/openaigym.video.0.379.video007000.json\n",
      "[2017-04-02 00:40:41,716] Starting new video recorder writing to /tmp/tmpww4igizw/openaigym.video.0.379.video008000.json\n",
      "[2017-04-02 00:40:43,030] Starting new video recorder writing to /tmp/tmpww4igizw/openaigym.video.0.379.video009000.json\n"
     ]
    }
   ],
   "source": [
    "mdir = tempfile.mkdtemp()\n",
    "env = gym.make('FrozenLake-v0')\n",
    "env = wrappers.Monitor(env, mdir, force=True)\n",
    "\n",
    "Q = q_learning(env)"
   ]
  },
  {
   "cell_type": "code",
   "execution_count": 5,
   "metadata": {
    "collapsed": false,
    "deletable": true,
    "editable": true
   },
   "outputs": [],
   "source": [
    "videos = np.array(env.videos)\n",
    "n_videos = 5\n",
    "\n",
    "idxs = np.linspace(0, len(videos) - 1, n_videos).astype(int)\n",
    "videos = videos[idxs,:]"
   ]
  },
  {
   "cell_type": "code",
   "execution_count": 6,
   "metadata": {
    "collapsed": false
   },
   "outputs": [],
   "source": [
    "urls = []\n",
    "for i in range(n_videos):\n",
    "    out = check_output([\"asciinema\", \"upload\", videos[i][0]])\n",
    "    out = out.decode(\"utf-8\").replace('\\n', '').replace('\\r', '')\n",
    "    urls.append([out])\n",
    "videos = np.concatenate((videos, urls), axis=1)"
   ]
  },
  {
   "cell_type": "code",
   "execution_count": 7,
   "metadata": {
    "collapsed": false,
    "scrolled": false
   },
   "outputs": [
    {
     "data": {
      "text/html": [
       "\n",
       "    <h2>Episode 0\n",
       "    <script type=\"text/javascript\" \n",
       "        src=\"https://asciinema.org/a/80rz4ewmpjbux3ptqdib1yzb7.js\" \n",
       "        id=\"asciicast-80rz4ewmpjbux3ptqdib1yzb7\" \n",
       "        async data-autoplay=\"true\" data-size=\"big\">\n",
       "    </script>\n",
       "    \n",
       "    <h2>Episode 64\n",
       "    <script type=\"text/javascript\" \n",
       "        src=\"https://asciinema.org/a/6mmdlm9wr1lamfrhpmror4ln4.js\" \n",
       "        id=\"asciicast-6mmdlm9wr1lamfrhpmror4ln4\" \n",
       "        async data-autoplay=\"true\" data-size=\"big\">\n",
       "    </script>\n",
       "    \n",
       "    <h2>Episode 729\n",
       "    <script type=\"text/javascript\" \n",
       "        src=\"https://asciinema.org/a/7wixe6i8hjqqk6xole5ts13vw.js\" \n",
       "        id=\"asciicast-7wixe6i8hjqqk6xole5ts13vw\" \n",
       "        async data-autoplay=\"true\" data-size=\"big\">\n",
       "    </script>\n",
       "    \n",
       "    <h2>Episode 4000\n",
       "    <script type=\"text/javascript\" \n",
       "        src=\"https://asciinema.org/a/5zj895a2qaldcs5vgj25jug89.js\" \n",
       "        id=\"asciicast-5zj895a2qaldcs5vgj25jug89\" \n",
       "        async data-autoplay=\"true\" data-size=\"big\">\n",
       "    </script>\n",
       "    \n",
       "    <h2>Episode 9000\n",
       "    <script type=\"text/javascript\" \n",
       "        src=\"https://asciinema.org/a/abbolnd4c4n758cpt564kj6fl.js\" \n",
       "        id=\"asciicast-abbolnd4c4n758cpt564kj6fl\" \n",
       "        async data-autoplay=\"true\" data-size=\"big\">\n",
       "    </script>\n",
       "    "
      ],
      "text/plain": [
       "<IPython.core.display.HTML object>"
      ]
     },
     "execution_count": 7,
     "metadata": {},
     "output_type": "execute_result"
    }
   ],
   "source": [
    "strm = ''\n",
    "for video_path, meta_path, url in videos:\n",
    "\n",
    "    with open(meta_path) as data_file:    \n",
    "        meta = json.load(data_file)\n",
    "    castid = url.split('/')[-1]\n",
    "    html_tag = \"\"\"\n",
    "    <h2>{0}\n",
    "    <script type=\"text/javascript\" \n",
    "        src=\"https://asciinema.org/a/{1}.js\" \n",
    "        id=\"asciicast-{1}\" \n",
    "        async data-autoplay=\"true\" data-size=\"big\">\n",
    "    </script>\n",
    "    \"\"\"\n",
    "    strm += html_tag.format('Episode ' + str(meta['episode_id']),\n",
    "                               castid)\n",
    "HTML(data=strm)"
   ]
  },
  {
   "cell_type": "code",
   "execution_count": 8,
   "metadata": {
    "collapsed": false
   },
   "outputs": [
    {
     "data": {
      "text/plain": [
       "array([ 0.02811639,  0.0095337 ,  0.01137065,  0.01803616,  0.156215  ,\n",
       "        1.09083691,  0.01094503,  1.93693217,  0.16369259,  0.53101062,\n",
       "        0.15193081,  1.65656898,  1.66693547,  0.39044957,  0.46077878,\n",
       "        1.93756701])"
      ]
     },
     "execution_count": 8,
     "metadata": {},
     "output_type": "execute_result"
    }
   ],
   "source": [
    "V = np.max(Q, axis=1)\n",
    "V"
   ]
  },
  {
   "cell_type": "code",
   "execution_count": 9,
   "metadata": {
    "collapsed": false
   },
   "outputs": [
    {
     "data": {
      "text/plain": [
       "array([1, 3, 1, 3, 0, 3, 2, 3, 3, 1, 0, 2, 0, 2, 1, 3])"
      ]
     },
     "execution_count": 9,
     "metadata": {},
     "output_type": "execute_result"
    }
   ],
   "source": [
    "pi = np.argmax(Q, axis=1)\n",
    "pi"
   ]
  },
  {
   "cell_type": "code",
   "execution_count": 10,
   "metadata": {
    "collapsed": false
   },
   "outputs": [
    {
     "name": "stderr",
     "output_type": "stream",
     "text": [
      "[2017-04-02 00:40:50,753] Finished writing results. You can upload them to the scoreboard via gym.upload('/tmp/tmpww4igizw')\n"
     ]
    }
   ],
   "source": [
    "env.close()"
   ]
  },
  {
   "cell_type": "code",
   "execution_count": 11,
   "metadata": {
    "collapsed": false
   },
   "outputs": [
    {
     "name": "stderr",
     "output_type": "stream",
     "text": [
      "[2017-04-02 00:40:50,777] [FrozenLake-v0] Uploading 10000 episodes of training data\n",
      "[2017-04-02 00:40:52,390] [FrozenLake-v0] Uploading videos of 19 training episodes (1810 bytes)\n",
      "[2017-04-02 00:40:52,639] [FrozenLake-v0] Creating evaluation object from /tmp/tmpww4igizw with learning curve and training video\n",
      "[2017-04-02 00:40:52,874] \n",
      "****************************************************\n",
      "You successfully uploaded your evaluation on FrozenLake-v0 to\n",
      "OpenAI Gym! You can find it at:\n",
      "\n",
      "    https://gym.openai.com/evaluations/eval_hGg7u5NwS1a35elvMZC0Q\n",
      "\n",
      "****************************************************\n"
     ]
    }
   ],
   "source": [
    "gym.upload(mdir, api_key='<YOUR OPENAI API KEY>')"
   ]
  }
 ],
 "metadata": {
  "kernelspec": {
   "display_name": "Python 3",
   "language": "python",
   "name": "python3"
  },
  "language_info": {
   "codemirror_mode": {
    "name": "ipython",
    "version": 3
   },
   "file_extension": ".py",
   "mimetype": "text/x-python",
   "name": "python",
   "nbconvert_exporter": "python",
   "pygments_lexer": "ipython3",
   "version": "3.5.2"
  }
 },
 "nbformat": 4,
 "nbformat_minor": 2
}
