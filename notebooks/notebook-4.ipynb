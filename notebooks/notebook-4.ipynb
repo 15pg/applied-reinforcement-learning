{
 "cells": [
  {
   "cell_type": "markdown",
   "metadata": {},
   "source": [
    "* Apply TD(Lambda)\n",
    "* Apply Q-Learning\n",
    "* Apply SARSA\n",
    "* Apply \"Learning Model\" (Guided Policy Search??)"
   ]
  },
  {
   "cell_type": "code",
   "execution_count": null,
   "metadata": {
    "collapsed": true
   },
   "outputs": [],
   "source": [
    "import gym\n",
    "import numpy as np\n",
    "\n",
    "from gym import wrappers\n",
    "\n",
    "alpha = 0.9\n",
    "gamma = 0.9\n",
    "\n",
    "env = gym.make('Taxi-v2')\n",
    "env = wrappers.Monitor(env, '/tmp/taxi-v2', force=True)\n",
    "\n",
    "q = np.random.random((env.env.observation_space.n, \n",
    "                      env.env.action_space.n))\n",
    "\n",
    "def exploration(episode):\n",
    "    return 0.5 if episode < 10000 else 0.999\n",
    "\n",
    "for episode in range(1000):\n",
    "    state = env.reset()\n",
    "\n",
    "    while True:\n",
    "        if np.random.random() > exploration(episode):\n",
    "            action = env.action_space.sample()\n",
    "        else:\n",
    "            action = np.argmax(q[state])\n",
    "        nstate, reward, done, _ = env.step(action)\n",
    "        if done:\n",
    "            q[state][action] = q[state][action] + alpha * (reward - q[state][action])\n",
    "            break\n",
    "        else:\n",
    "            q[state][action] = q[state][action] + alpha * (reward + gamma * q[nstate].max() - q[state][action])\n",
    "        state = nstate\n",
    "        #env.render()"
   ]
  },
  {
   "cell_type": "code",
   "execution_count": null,
   "metadata": {
    "collapsed": true
   },
   "outputs": [],
   "source": [
    "env.videos[-1][0]"
   ]
  },
  {
   "cell_type": "code",
   "execution_count": null,
   "metadata": {
    "collapsed": true
   },
   "outputs": [],
   "source": [
    "from subprocess import check_output\n",
    "\n",
    "out = check_output([\"asciinema\", \"upload\", env.videos[-1][0]])\n",
    "out = out.decode(\"utf-8\").replace('\\n', '').replace('\\r', '')"
   ]
  },
  {
   "cell_type": "code",
   "execution_count": null,
   "metadata": {
    "collapsed": true
   },
   "outputs": [],
   "source": [
    "print(out)"
   ]
  },
  {
   "cell_type": "code",
   "execution_count": null,
   "metadata": {
    "collapsed": true
   },
   "outputs": [],
   "source": [
    "castid = out.split('/')[-1]\n",
    "castid"
   ]
  },
  {
   "cell_type": "code",
   "execution_count": null,
   "metadata": {
    "collapsed": true
   },
   "outputs": [],
   "source": [
    "from IPython.display import HTML\n",
    "\n",
    "html_tag = \"\"\"\n",
    "<script type=\"text/javascript\" \n",
    "    src=\"https://asciinema.org/a/{0}.js\" \n",
    "    id=\"asciicast-{0}\" \n",
    "    async data-autoplay=\"true\" data-size=\"big\">\n",
    "</script>\n",
    "\"\"\"\n",
    "html_tag = html_tag.format(castid)\n",
    "HTML(data=html_tag)"
   ]
  },
  {
   "cell_type": "code",
   "execution_count": null,
   "metadata": {
    "collapsed": true
   },
   "outputs": [],
   "source": []
  },
  {
   "cell_type": "code",
   "execution_count": null,
   "metadata": {
    "collapsed": true
   },
   "outputs": [],
   "source": []
  },
  {
   "cell_type": "code",
   "execution_count": null,
   "metadata": {
    "collapsed": true
   },
   "outputs": [],
   "source": []
  }
 ],
 "metadata": {
  "kernelspec": {
   "display_name": "appliedrl",
   "language": "python",
   "name": "appliedrl"
  },
  "language_info": {
   "codemirror_mode": {
    "name": "ipython",
    "version": 3
   },
   "file_extension": ".py",
   "mimetype": "text/x-python",
   "name": "python",
   "nbconvert_exporter": "python",
   "pygments_lexer": "ipython3",
   "version": "3.6.0"
  }
 },
 "nbformat": 4,
 "nbformat_minor": 2
}
