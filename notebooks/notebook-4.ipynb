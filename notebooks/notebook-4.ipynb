{
 "cells": [
  {
   "cell_type": "markdown",
   "metadata": {
    "deletable": true,
    "editable": true
   },
   "source": [
    "* Apply TD(Lambda)\n",
    "* Apply Q-Learning\n",
    "* Apply SARSA\n",
    "* Apply \"Learning Model\" (Guided Policy Search??)"
   ]
  },
  {
   "cell_type": "code",
   "execution_count": 2,
   "metadata": {
    "collapsed": false,
    "deletable": true,
    "editable": true
   },
   "outputs": [
    {
     "name": "stderr",
     "output_type": "stream",
     "text": [
      "[2017-03-24 15:12:14,820] Making new env: Taxi-v2\n",
      "[2017-03-24 15:12:15,647] Finished writing results. You can upload them to the scoreboard via gym.upload('/tmp/taxi-v2')\n",
      "[2017-03-24 15:12:15,648] Clearing 22 monitor files from previous run (because force=True was provided)\n",
      "[2017-03-24 15:12:15,650] Starting new video recorder writing to /tmp/taxi-v2/openaigym.video.1.54.video000000.json\n",
      "[2017-03-24 15:12:15,667] Starting new video recorder writing to /tmp/taxi-v2/openaigym.video.1.54.video000001.json\n",
      "[2017-03-24 15:12:15,702] Starting new video recorder writing to /tmp/taxi-v2/openaigym.video.1.54.video000008.json\n",
      "[2017-03-24 15:12:15,789] Starting new video recorder writing to /tmp/taxi-v2/openaigym.video.1.54.video000027.json\n",
      "[2017-03-24 15:12:15,938] Starting new video recorder writing to /tmp/taxi-v2/openaigym.video.1.54.video000064.json\n",
      "[2017-03-24 15:12:16,072] Starting new video recorder writing to /tmp/taxi-v2/openaigym.video.1.54.video000125.json\n",
      "[2017-03-24 15:12:16,179] Starting new video recorder writing to /tmp/taxi-v2/openaigym.video.1.54.video000216.json\n",
      "[2017-03-24 15:12:16,267] Starting new video recorder writing to /tmp/taxi-v2/openaigym.video.1.54.video000343.json\n",
      "[2017-03-24 15:12:16,371] Starting new video recorder writing to /tmp/taxi-v2/openaigym.video.1.54.video000512.json\n",
      "[2017-03-24 15:12:16,536] Starting new video recorder writing to /tmp/taxi-v2/openaigym.video.1.54.video000729.json\n",
      "[2017-03-24 15:12:16,705] Starting new video recorder writing to /tmp/taxi-v2/openaigym.video.1.54.video001000.json\n",
      "[2017-03-24 15:12:17,351] Starting new video recorder writing to /tmp/taxi-v2/openaigym.video.1.54.video002000.json\n",
      "[2017-03-24 15:12:18,004] Starting new video recorder writing to /tmp/taxi-v2/openaigym.video.1.54.video003000.json\n",
      "[2017-03-24 15:12:18,657] Starting new video recorder writing to /tmp/taxi-v2/openaigym.video.1.54.video004000.json\n",
      "[2017-03-24 15:12:19,375] Starting new video recorder writing to /tmp/taxi-v2/openaigym.video.1.54.video005000.json\n",
      "[2017-03-24 15:12:19,983] Starting new video recorder writing to /tmp/taxi-v2/openaigym.video.1.54.video006000.json\n",
      "[2017-03-24 15:12:20,602] Starting new video recorder writing to /tmp/taxi-v2/openaigym.video.1.54.video007000.json\n",
      "[2017-03-24 15:12:21,188] Starting new video recorder writing to /tmp/taxi-v2/openaigym.video.1.54.video008000.json\n",
      "[2017-03-24 15:12:21,801] Starting new video recorder writing to /tmp/taxi-v2/openaigym.video.1.54.video009000.json\n"
     ]
    }
   ],
   "source": [
    "import gym\n",
    "import numpy as np\n",
    "\n",
    "from gym import wrappers\n",
    "\n",
    "alpha = 0.9\n",
    "gamma = 0.9\n",
    "\n",
    "env = gym.make('Taxi-v2')\n",
    "env = wrappers.Monitor(env, '/tmp/taxi-v2', force=True)\n",
    "\n",
    "q = np.random.random((env.env.observation_space.n, \n",
    "                      env.env.action_space.n))\n",
    "\n",
    "def exploration(episode):\n",
    "    return 0.5 if episode < 10000 else 0.999\n",
    "\n",
    "for episode in range(10000):\n",
    "    state = env.reset()\n",
    "\n",
    "    while True:\n",
    "        if np.random.random() > exploration(episode):\n",
    "            action = env.action_space.sample()\n",
    "        else:\n",
    "            action = np.argmax(q[state])\n",
    "        nstate, reward, done, _ = env.step(action)\n",
    "        if done:\n",
    "            q[state][action] = q[state][action] + alpha * (reward - q[state][action])\n",
    "            break\n",
    "        else:\n",
    "            q[state][action] = q[state][action] + alpha * (reward + gamma * q[nstate].max() - q[state][action])\n",
    "        state = nstate\n",
    "        #env.render()"
   ]
  },
  {
   "cell_type": "code",
   "execution_count": 3,
   "metadata": {
    "collapsed": false,
    "deletable": true,
    "editable": true
   },
   "outputs": [
    {
     "data": {
      "text/plain": [
       "'/tmp/taxi-v2/openaigym.video.1.54.video009000.json'"
      ]
     },
     "execution_count": 3,
     "metadata": {},
     "output_type": "execute_result"
    }
   ],
   "source": [
    "env.videos[-1][0]"
   ]
  },
  {
   "cell_type": "code",
   "execution_count": 4,
   "metadata": {
    "collapsed": true,
    "deletable": true,
    "editable": true
   },
   "outputs": [],
   "source": [
    "from subprocess import check_output\n",
    "\n",
    "out = check_output([\"asciinema\", \"upload\", env.videos[-1][0]])\n",
    "out = out.decode(\"utf-8\").replace('\\n', '').replace('\\r', '')"
   ]
  },
  {
   "cell_type": "code",
   "execution_count": 5,
   "metadata": {
    "collapsed": false,
    "deletable": true,
    "editable": true
   },
   "outputs": [
    {
     "name": "stdout",
     "output_type": "stream",
     "text": [
      "https://asciinema.org/a/4j5gomj8esht8vx81sicn8sda\n"
     ]
    }
   ],
   "source": [
    "print(out)"
   ]
  },
  {
   "cell_type": "code",
   "execution_count": 6,
   "metadata": {
    "collapsed": false,
    "deletable": true,
    "editable": true
   },
   "outputs": [
    {
     "data": {
      "text/plain": [
       "'4j5gomj8esht8vx81sicn8sda'"
      ]
     },
     "execution_count": 6,
     "metadata": {},
     "output_type": "execute_result"
    }
   ],
   "source": [
    "castid = out.split('/')[-1]\n",
    "castid"
   ]
  },
  {
   "cell_type": "code",
   "execution_count": 7,
   "metadata": {
    "collapsed": false,
    "deletable": true,
    "editable": true
   },
   "outputs": [
    {
     "data": {
      "text/html": [
       "\n",
       "<script type=\"text/javascript\" \n",
       "    src=\"https://asciinema.org/a/4j5gomj8esht8vx81sicn8sda.js\" \n",
       "    id=\"asciicast-4j5gomj8esht8vx81sicn8sda\" \n",
       "    async data-autoplay=\"true\" data-size=\"big\">\n",
       "</script>\n"
      ],
      "text/plain": [
       "<IPython.core.display.HTML object>"
      ]
     },
     "execution_count": 7,
     "metadata": {},
     "output_type": "execute_result"
    }
   ],
   "source": [
    "from IPython.display import HTML\n",
    "\n",
    "html_tag = \"\"\"\n",
    "<script type=\"text/javascript\" \n",
    "    src=\"https://asciinema.org/a/{0}.js\" \n",
    "    id=\"asciicast-{0}\" \n",
    "    async data-autoplay=\"true\" data-size=\"big\">\n",
    "</script>\n",
    "\"\"\"\n",
    "html_tag = html_tag.format(castid)\n",
    "HTML(data=html_tag)"
   ]
  },
  {
   "cell_type": "code",
   "execution_count": null,
   "metadata": {
    "collapsed": true,
    "deletable": true,
    "editable": true
   },
   "outputs": [],
   "source": []
  },
  {
   "cell_type": "code",
   "execution_count": null,
   "metadata": {
    "collapsed": true,
    "deletable": true,
    "editable": true
   },
   "outputs": [],
   "source": []
  },
  {
   "cell_type": "code",
   "execution_count": null,
   "metadata": {
    "collapsed": true,
    "deletable": true,
    "editable": true
   },
   "outputs": [],
   "source": []
  }
 ],
 "metadata": {
  "kernelspec": {
   "display_name": "Python 3",
   "language": "python",
   "name": "python3"
  },
  "language_info": {
   "codemirror_mode": {
    "name": "ipython",
    "version": 3
   },
   "file_extension": ".py",
   "mimetype": "text/x-python",
   "name": "python",
   "nbconvert_exporter": "python",
   "pygments_lexer": "ipython3",
   "version": "3.5.2"
  }
 },
 "nbformat": 4,
 "nbformat_minor": 2
}
