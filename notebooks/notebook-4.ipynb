{
 "cells": [
  {
   "cell_type": "markdown",
   "metadata": {
    "deletable": true,
    "editable": true
   },
   "source": [
    "* Apply TD(Lambda)\n",
    "* Apply Q-Learning\n",
    "* Apply SARSA\n",
    "* Apply \"Learning Model\" (Guided Policy Search??)"
   ]
  },
  {
   "cell_type": "code",
   "execution_count": 1,
   "metadata": {
    "collapsed": false,
    "deletable": true,
    "editable": true
   },
   "outputs": [
    {
     "name": "stderr",
     "output_type": "stream",
     "text": [
      "[2017-03-27 20:11:56,316] Making new env: Taxi-v2\n",
      "[2017-03-27 20:11:56,335] Creating monitor directory /tmp/taxi-v2\n",
      "[2017-03-27 20:11:56,338] Starting new video recorder writing to /tmp/taxi-v2/openaigym.video.0.31.video000000.json\n",
      "[2017-03-27 20:11:56,380] Starting new video recorder writing to /tmp/taxi-v2/openaigym.video.0.31.video000001.json\n",
      "[2017-03-27 20:11:56,445] Starting new video recorder writing to /tmp/taxi-v2/openaigym.video.0.31.video000008.json\n",
      "[2017-03-27 20:11:56,566] Starting new video recorder writing to /tmp/taxi-v2/openaigym.video.0.31.video000027.json\n",
      "[2017-03-27 20:11:56,727] Starting new video recorder writing to /tmp/taxi-v2/openaigym.video.0.31.video000064.json\n",
      "[2017-03-27 20:11:56,899] Starting new video recorder writing to /tmp/taxi-v2/openaigym.video.0.31.video000125.json\n",
      "[2017-03-27 20:11:57,065] Starting new video recorder writing to /tmp/taxi-v2/openaigym.video.0.31.video000216.json\n",
      "[2017-03-27 20:11:57,185] Starting new video recorder writing to /tmp/taxi-v2/openaigym.video.0.31.video000343.json\n",
      "[2017-03-27 20:11:57,376] Starting new video recorder writing to /tmp/taxi-v2/openaigym.video.0.31.video000512.json\n",
      "[2017-03-27 20:11:57,694] Starting new video recorder writing to /tmp/taxi-v2/openaigym.video.0.31.video000729.json\n",
      "[2017-03-27 20:11:57,922] Starting new video recorder writing to /tmp/taxi-v2/openaigym.video.0.31.video001000.json\n",
      "[2017-03-27 20:11:58,740] Starting new video recorder writing to /tmp/taxi-v2/openaigym.video.0.31.video002000.json\n",
      "[2017-03-27 20:11:59,519] Starting new video recorder writing to /tmp/taxi-v2/openaigym.video.0.31.video003000.json\n",
      "[2017-03-27 20:12:00,310] Starting new video recorder writing to /tmp/taxi-v2/openaigym.video.0.31.video004000.json\n",
      "[2017-03-27 20:12:01,069] Starting new video recorder writing to /tmp/taxi-v2/openaigym.video.0.31.video005000.json\n",
      "[2017-03-27 20:12:02,032] Starting new video recorder writing to /tmp/taxi-v2/openaigym.video.0.31.video006000.json\n",
      "[2017-03-27 20:12:03,192] Starting new video recorder writing to /tmp/taxi-v2/openaigym.video.0.31.video007000.json\n",
      "[2017-03-27 20:12:04,223] Starting new video recorder writing to /tmp/taxi-v2/openaigym.video.0.31.video008000.json\n",
      "[2017-03-27 20:12:05,125] Starting new video recorder writing to /tmp/taxi-v2/openaigym.video.0.31.video009000.json\n"
     ]
    }
   ],
   "source": [
    "import gym\n",
    "import numpy as np\n",
    "\n",
    "from gym import wrappers\n",
    "\n",
    "alpha = 0.9\n",
    "gamma = 0.9\n",
    "\n",
    "env = gym.make('Taxi-v2')\n",
    "env = wrappers.Monitor(env, '/tmp/taxi-v2', force=True)\n",
    "\n",
    "q = np.random.random((env.env.observation_space.n, \n",
    "                      env.env.action_space.n))\n",
    "\n",
    "def exploration(episode):\n",
    "    return 0.5 if episode < 10000 else 0.999\n",
    "\n",
    "for episode in range(10000):\n",
    "    state = env.reset()\n",
    "\n",
    "    while True:\n",
    "        if np.random.random() > exploration(episode):\n",
    "            action = env.action_space.sample()\n",
    "        else:\n",
    "            action = np.argmax(q[state])\n",
    "        nstate, reward, done, _ = env.step(action)\n",
    "        if done:\n",
    "            q[state][action] = q[state][action] + alpha * (reward - q[state][action])\n",
    "            break\n",
    "        else:\n",
    "            q[state][action] = q[state][action] + alpha * (reward + gamma * q[nstate].max() - q[state][action])\n",
    "        state = nstate\n",
    "        #env.render()"
   ]
  },
  {
   "cell_type": "code",
   "execution_count": 2,
   "metadata": {
    "collapsed": false,
    "deletable": true,
    "editable": true
   },
   "outputs": [
    {
     "data": {
      "text/plain": [
       "'/tmp/taxi-v2/openaigym.video.0.31.video009000.json'"
      ]
     },
     "execution_count": 2,
     "metadata": {},
     "output_type": "execute_result"
    }
   ],
   "source": [
    "env.videos[-1][0]"
   ]
  },
  {
   "cell_type": "code",
   "execution_count": 3,
   "metadata": {
    "collapsed": true,
    "deletable": true,
    "editable": true
   },
   "outputs": [],
   "source": [
    "from subprocess import check_output\n",
    "\n",
    "out = check_output([\"asciinema\", \"upload\", env.videos[-1][0]])\n",
    "out = out.decode(\"utf-8\").replace('\\n', '').replace('\\r', '')"
   ]
  },
  {
   "cell_type": "code",
   "execution_count": 5,
   "metadata": {
    "collapsed": false,
    "deletable": true,
    "editable": true
   },
   "outputs": [
    {
     "name": "stdout",
     "output_type": "stream",
     "text": [
      "https://asciinema.org/a/4j5gomj8esht8vx81sicn8sda\n"
     ]
    }
   ],
   "source": [
    "print(out)"
   ]
  },
  {
   "cell_type": "code",
   "execution_count": 6,
   "metadata": {
    "collapsed": false,
    "deletable": true,
    "editable": true
   },
   "outputs": [
    {
     "data": {
      "text/plain": [
       "'4j5gomj8esht8vx81sicn8sda'"
      ]
     },
     "execution_count": 6,
     "metadata": {},
     "output_type": "execute_result"
    }
   ],
   "source": [
    "castid = out.split('/')[-1]\n",
    "castid"
   ]
  },
  {
   "cell_type": "code",
   "execution_count": 7,
   "metadata": {
    "collapsed": false,
    "deletable": true,
    "editable": true
   },
   "outputs": [
    {
     "data": {
      "text/html": [
       "\n",
       "<script type=\"text/javascript\" \n",
       "    src=\"https://asciinema.org/a/4j5gomj8esht8vx81sicn8sda.js\" \n",
       "    id=\"asciicast-4j5gomj8esht8vx81sicn8sda\" \n",
       "    async data-autoplay=\"true\" data-size=\"big\">\n",
       "</script>\n"
      ],
      "text/plain": [
       "<IPython.core.display.HTML object>"
      ]
     },
     "execution_count": 7,
     "metadata": {},
     "output_type": "execute_result"
    }
   ],
   "source": [
    "from IPython.display import HTML\n",
    "\n",
    "html_tag = \"\"\"\n",
    "<script type=\"text/javascript\" \n",
    "    src=\"https://asciinema.org/a/{0}.js\" \n",
    "    id=\"asciicast-{0}\" \n",
    "    async data-autoplay=\"true\" data-size=\"big\">\n",
    "</script>\n",
    "\"\"\"\n",
    "html_tag = html_tag.format(castid)\n",
    "HTML(data=html_tag)"
   ]
  },
  {
   "cell_type": "code",
   "execution_count": null,
   "metadata": {
    "collapsed": true,
    "deletable": true,
    "editable": true
   },
   "outputs": [],
   "source": []
  },
  {
   "cell_type": "code",
   "execution_count": null,
   "metadata": {
    "collapsed": true,
    "deletable": true,
    "editable": true
   },
   "outputs": [],
   "source": []
  },
  {
   "cell_type": "code",
   "execution_count": null,
   "metadata": {
    "collapsed": true,
    "deletable": true,
    "editable": true
   },
   "outputs": [],
   "source": []
  }
 ],
 "metadata": {
  "kernelspec": {
   "display_name": "Python 3",
   "language": "python",
   "name": "python3"
  },
  "language_info": {
   "codemirror_mode": {
    "name": "ipython",
    "version": 3
   },
   "file_extension": ".py",
   "mimetype": "text/x-python",
   "name": "python",
   "nbconvert_exporter": "python",
   "pygments_lexer": "ipython3",
   "version": "3.5.2"
  }
 },
 "nbformat": 4,
 "nbformat_minor": 2
}
