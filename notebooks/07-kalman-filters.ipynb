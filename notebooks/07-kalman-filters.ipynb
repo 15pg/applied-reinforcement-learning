{
 "cells": [
  {
   "cell_type": "markdown",
   "metadata": {
    "deletable": true,
    "editable": true
   },
   "source": [
    "### Kalman filter"
   ]
  },
  {
   "cell_type": "code",
   "execution_count": 27,
   "metadata": {
    "collapsed": false,
    "deletable": true,
    "editable": true
   },
   "outputs": [
    {
     "name": "stdout",
     "output_type": "stream",
     "text": [
      "(array([[ 3.99966644],\n",
      "       [ 0.99999983]]), array([[ 2.33189042,  0.99916761],\n",
      "       [ 0.99916761,  0.49950058]]))\n"
     ]
    }
   ],
   "source": [
    "import numpy as np\n",
    "\n",
    "from numpy.linalg import inv\n",
    "\n",
    "def kalman_filter(x, P):\n",
    "    for n in range(len(measurements)):\n",
    "        \n",
    "        # measurement update\n",
    "        z = np.array([[measurements[n]]])\n",
    "        y = z - np.matmul(H, x)\n",
    "        S = np.matmul(np.matmul(H, P), np.transpose(H)) + R\n",
    "        K = np.matmul(np.matmul(P, np.transpose(H)), inv(S))\n",
    "        x = x + np.matmul(K, y)\n",
    "        P = np.matmul(I - np.matmul(K, H), P)\n",
    "        \n",
    "        # prediction\n",
    "        x = np.matmul(F, x) + u\n",
    "        P = np.matmul(np.matmul(F, P), F.transpose())\n",
    "    return x, P\n",
    "\n",
    "\n",
    "measurements = [1, 2, 3]\n",
    "\n",
    "x = np.array([[0.], [0.]]) # initial state (location and velocity)\n",
    "P = np.array([[1000., 0.], [0., 1000.]]) # initial uncertainty\n",
    "u = np.array([[0.], [0.]]) # external motion\n",
    "F = np.array([[1., 1.], [0, 1.]]) # next state function\n",
    "H = np.array([[1., 0.]]) # measurement function\n",
    "R = np.array([[1.]]) # measurement uncertainty\n",
    "I = np.array([[1., 0.], [0., 1.]]) # identity matrix\n",
    "\n",
    "print(kalman_filter(x, P))\n"
   ]
  },
  {
   "cell_type": "code",
   "execution_count": null,
   "metadata": {
    "collapsed": true,
    "deletable": true,
    "editable": true
   },
   "outputs": [],
   "source": []
  },
  {
   "cell_type": "code",
   "execution_count": null,
   "metadata": {
    "collapsed": true,
    "deletable": true,
    "editable": true
   },
   "outputs": [],
   "source": []
  },
  {
   "cell_type": "code",
   "execution_count": null,
   "metadata": {
    "collapsed": true,
    "deletable": true,
    "editable": true
   },
   "outputs": [],
   "source": []
  },
  {
   "cell_type": "code",
   "execution_count": null,
   "metadata": {
    "collapsed": true,
    "deletable": true,
    "editable": true
   },
   "outputs": [],
   "source": []
  },
  {
   "cell_type": "code",
   "execution_count": null,
   "metadata": {
    "collapsed": true,
    "deletable": true,
    "editable": true
   },
   "outputs": [],
   "source": []
  },
  {
   "cell_type": "code",
   "execution_count": null,
   "metadata": {
    "collapsed": true,
    "deletable": true,
    "editable": true
   },
   "outputs": [],
   "source": []
  }
 ],
 "metadata": {
  "kernelspec": {
   "display_name": "Python 3",
   "language": "python",
   "name": "python3"
  },
  "language_info": {
   "codemirror_mode": {
    "name": "ipython",
    "version": 3
   },
   "file_extension": ".py",
   "mimetype": "text/x-python",
   "name": "python",
   "nbconvert_exporter": "python",
   "pygments_lexer": "ipython3",
   "version": "3.5.2"
  }
 },
 "nbformat": 4,
 "nbformat_minor": 2
}
