{
 "cells": [
  {
   "cell_type": "code",
   "execution_count": 1,
   "metadata": {
    "collapsed": false,
    "deletable": true,
    "editable": true
   },
   "outputs": [
    {
     "name": "stderr",
     "output_type": "stream",
     "text": [
      "[2017-03-20 13:59:02,002] Making new env: Taxi-v2\n",
      "[2017-03-20 13:59:02,011] Starting new video recorder writing to /tmp/openaigym.video.0.27549.video000000.json\n",
      "[2017-03-20 13:59:02,083] Starting new video recorder writing to /tmp/openaigym.video.0.27549.video000001.json\n",
      "[2017-03-20 13:59:02,574] Starting new video recorder writing to /tmp/openaigym.video.0.27549.video000008.json\n",
      "[2017-03-20 13:59:03,906] Starting new video recorder writing to /tmp/openaigym.video.0.27549.video000027.json\n"
     ]
    },
    {
     "name": "stdout",
     "output_type": "stream",
     "text": [
      "8.666666666666666\n"
     ]
    },
    {
     "name": "stderr",
     "output_type": "stream",
     "text": [
      "[2017-03-20 13:59:06,497] Starting new video recorder writing to /tmp/openaigym.video.0.27549.video000064.json\n"
     ]
    },
    {
     "name": "stdout",
     "output_type": "stream",
     "text": [
      "8.504950495049505\n"
     ]
    },
    {
     "name": "stderr",
     "output_type": "stream",
     "text": [
      "[2017-03-20 13:59:10,777] Starting new video recorder writing to /tmp/openaigym.video.0.27549.video000125.json\n"
     ]
    },
    {
     "name": "stdout",
     "output_type": "stream",
     "text": [
      "8.516556291390728\n",
      "8.462686567164178\n"
     ]
    },
    {
     "name": "stderr",
     "output_type": "stream",
     "text": [
      "[2017-03-20 13:59:17,161] Starting new video recorder writing to /tmp/openaigym.video.0.27549.video000216.json\n"
     ]
    },
    {
     "name": "stdout",
     "output_type": "stream",
     "text": [
      "8.43824701195219\n",
      "8.508305647840531\n"
     ]
    },
    {
     "name": "stderr",
     "output_type": "stream",
     "text": [
      "[2017-03-20 13:59:26,066] Starting new video recorder writing to /tmp/openaigym.video.0.27549.video000343.json\n"
     ]
    },
    {
     "name": "stdout",
     "output_type": "stream",
     "text": [
      "8.47008547008547\n",
      "8.4214463840399\n",
      "8.425720620842572\n",
      "8.403193612774452\n"
     ]
    },
    {
     "name": "stderr",
     "output_type": "stream",
     "text": [
      "[2017-03-20 13:59:37,971] Starting new video recorder writing to /tmp/openaigym.video.0.27549.video000512.json\n"
     ]
    },
    {
     "name": "stdout",
     "output_type": "stream",
     "text": [
      "8.406533575317605\n",
      "8.372712146422629\n",
      "8.40552995391705\n",
      "8.398002853067046\n"
     ]
    },
    {
     "name": "stderr",
     "output_type": "stream",
     "text": [
      "[2017-03-20 13:59:53,286] Starting new video recorder writing to /tmp/openaigym.video.0.27549.video000729.json\n"
     ]
    },
    {
     "name": "stdout",
     "output_type": "stream",
     "text": [
      "8.363515312916112\n",
      "8.415730337078651\n",
      "8.428907168037602\n",
      "8.427302996670367\n",
      "8.41850683491062\n",
      "v states\n",
      "q values\n"
     ]
    }
   ],
   "source": [
    "import gym\n",
    "import numpy as np\n",
    "\n",
    "from gym import wrappers\n",
    "\n",
    "def iterate_value_function(v_inp, q_inp, gamma, env):\n",
    "    \n",
    "    nstates = env.env.observation_space.n\n",
    "    nactions = env.env.action_space.n\n",
    "    \n",
    "    ret = np.zeros(nstates)\n",
    "    retq = np.zeros((nstates, nactions))\n",
    "\n",
    "    for sid in range(nstates):\n",
    "        temp_v = np.zeros(nactions)\n",
    "        for action in range(nactions):\n",
    "            for (prob, dst_state, reward, is_final) in env.env.env.P[sid][action]:\n",
    "                if is_final:\n",
    "                    temp_v[action] = temp_v[action] + prob * (reward)\n",
    "                else:\n",
    "                    temp_v[action] = temp_v[action] + prob * (reward + gamma * v_inp[dst_state])\n",
    "        retq[sid] = temp_v\n",
    "        ret[sid] = max(temp_v)\n",
    "    return ret, retq\n",
    "\n",
    "def build_greedy_policy(v_inp, gamma, env):\n",
    "    nstates = env.env.observation_space.n\n",
    "    nactions = env.env.action_space.n\n",
    "    \n",
    "    new_policy = np.zeros(nstates)\n",
    "    \n",
    "    for state_id in range(nstates):\n",
    "        profits = np.zeros(nactions)\n",
    "        for action in range(nactions):\n",
    "            for (prob, dst_state, reward, is_final) in env.env.env.P[state_id][action]:\n",
    "                profits[action] += prob*(reward + gamma*v[dst_state])\n",
    "        new_policy[state_id] = np.argmax(profits)\n",
    "    return new_policy\n",
    "\n",
    "\n",
    "env = gym.make('Taxi-v2')\n",
    "env = wrappers.Monitor(env, '/tmp/', force=True)\n",
    "\n",
    "gamma = 0.9\n",
    "cum_reward = 0\n",
    "n_rounds = 1000\n",
    "\n",
    "# solve the world with value iteration \n",
    "# (without interacting with the environment)\n",
    "\n",
    "for t_rounds in range(n_rounds):\n",
    "    # init env and value function\n",
    "    observation = env.reset()\n",
    "    \n",
    "    v = np.zeros(env.env.observation_space.n)\n",
    "    q = np.zeros((env.env.observation_space.n, \n",
    "                  env.env.action_space.n))\n",
    "\n",
    "    # solve MDP\n",
    "    for _ in range(200):\n",
    "        v_old = v.copy()\n",
    "        q_old = q.copy()\n",
    "        v, q = iterate_value_function(v, q, gamma, env)\n",
    "        if np.all(v == v_old):\n",
    "            break\n",
    "    policy = build_greedy_policy(v, gamma, env).astype(np.int)\n",
    "\n",
    "    # apply policy\n",
    "    for t in range(1000):\n",
    "        action = policy[observation]\n",
    "        observation, reward, done, info = env.step(action)\n",
    "        cum_reward += reward\n",
    "        if done:\n",
    "            break\n",
    "    if t_rounds % 50 == 0 and t_rounds > 0:\n",
    "        print(cum_reward * 1.0 / (t_rounds + 1))\n",
    "\n",
    "np.set_printoptions(threshold=np.nan)\n",
    "print('v states')\n",
    "#print(v.tolist())\n",
    "print('q values')\n",
    "#print(q.tolist())\n"
   ]
  },
  {
   "cell_type": "code",
   "execution_count": 29,
   "metadata": {
    "collapsed": false,
    "deletable": true,
    "editable": true
   },
   "outputs": [],
   "source": [
    "# act greedily\n",
    "for episode in range(10):\n",
    "    state = env.reset()\n",
    "\n",
    "    while True:\n",
    "        action = np.argmax(q[state])\n",
    "        _, _, done, _ = env.step(action)\n",
    "        if done:\n",
    "            break"
   ]
  },
  {
   "cell_type": "code",
   "execution_count": 33,
   "metadata": {
    "collapsed": false,
    "deletable": true,
    "editable": true
   },
   "outputs": [],
   "source": [
    "# apply policy\n",
    "\n",
    "observation = env.reset()\n",
    "for t in range(1000):\n",
    "    action = policy[observation]\n",
    "    observation, reward, done, info = env.step(action)\n",
    "    cum_reward += reward\n",
    "    if done:\n",
    "        break"
   ]
  },
  {
   "cell_type": "code",
   "execution_count": 34,
   "metadata": {
    "collapsed": false,
    "deletable": true,
    "editable": true
   },
   "outputs": [
    {
     "data": {
      "text/plain": [
       "[('/tmp/openaigym.video.3.13807.video000000.json',\n",
       "  '/tmp/openaigym.video.3.13807.video000000.meta.json'),\n",
       " ('/tmp/openaigym.video.3.13807.video000001.json',\n",
       "  '/tmp/openaigym.video.3.13807.video000001.meta.json'),\n",
       " ('/tmp/openaigym.video.3.13807.video000008.json',\n",
       "  '/tmp/openaigym.video.3.13807.video000008.meta.json'),\n",
       " ('/tmp/openaigym.video.3.13807.video000027.json',\n",
       "  '/tmp/openaigym.video.3.13807.video000027.meta.json'),\n",
       " ('/tmp/openaigym.video.3.13807.video000064.json',\n",
       "  '/tmp/openaigym.video.3.13807.video000064.meta.json'),\n",
       " ('/tmp/openaigym.video.3.13807.video000125.json',\n",
       "  '/tmp/openaigym.video.3.13807.video000125.meta.json'),\n",
       " ('/tmp/openaigym.video.3.13807.video000216.json',\n",
       "  '/tmp/openaigym.video.3.13807.video000216.meta.json'),\n",
       " ('/tmp/openaigym.video.3.13807.video000343.json',\n",
       "  '/tmp/openaigym.video.3.13807.video000343.meta.json'),\n",
       " ('/tmp/openaigym.video.3.13807.video000512.json',\n",
       "  '/tmp/openaigym.video.3.13807.video000512.meta.json'),\n",
       " ('/tmp/openaigym.video.3.13807.video000729.json',\n",
       "  '/tmp/openaigym.video.3.13807.video000729.meta.json'),\n",
       " ('/tmp/openaigym.video.3.13807.video001000.json',\n",
       "  '/tmp/openaigym.video.3.13807.video001000.meta.json')]"
      ]
     },
     "execution_count": 34,
     "metadata": {},
     "output_type": "execute_result"
    }
   ],
   "source": [
    "env.videos"
   ]
  },
  {
   "cell_type": "code",
   "execution_count": 32,
   "metadata": {
    "collapsed": false,
    "deletable": true,
    "editable": true
   },
   "outputs": [
    {
     "data": {
      "text/plain": [
       "'/tmp/openaigym.video.3.13807.video001000.json'"
      ]
     },
     "execution_count": 32,
     "metadata": {},
     "output_type": "execute_result"
    }
   ],
   "source": [
    "env.videos[-1][0]"
   ]
  },
  {
   "cell_type": "code",
   "execution_count": 21,
   "metadata": {
    "collapsed": true,
    "deletable": true,
    "editable": true
   },
   "outputs": [],
   "source": [
    "from subprocess import check_output\n",
    "\n",
    "out = check_output([\"asciinema\", \"upload\", env.videos[-1][0]])\n",
    "out = out.decode(\"utf-8\").replace('\\n', '').replace('\\r', '')"
   ]
  },
  {
   "cell_type": "code",
   "execution_count": 22,
   "metadata": {
    "collapsed": false,
    "deletable": true,
    "editable": true
   },
   "outputs": [
    {
     "name": "stdout",
     "output_type": "stream",
     "text": [
      "https://asciinema.org/a/f30vvah0mw3l7vwaqys3qvubr\n"
     ]
    }
   ],
   "source": [
    "print(out)"
   ]
  },
  {
   "cell_type": "code",
   "execution_count": 3,
   "metadata": {
    "collapsed": false,
    "deletable": true,
    "editable": true
   },
   "outputs": [
    {
     "ename": "NameError",
     "evalue": "name 'out' is not defined",
     "output_type": "error",
     "traceback": [
      "\u001b[0;31m---------------------------------------------------------------------------\u001b[0m",
      "\u001b[0;31mNameError\u001b[0m                                 Traceback (most recent call last)",
      "\u001b[0;32m<ipython-input-3-cb833a1c3b81>\u001b[0m in \u001b[0;36m<module>\u001b[0;34m()\u001b[0m\n\u001b[0;32m----> 1\u001b[0;31m \u001b[0mcastid\u001b[0m \u001b[0;34m=\u001b[0m \u001b[0mout\u001b[0m\u001b[0;34m.\u001b[0m\u001b[0msplit\u001b[0m\u001b[0;34m(\u001b[0m\u001b[0;34m'/'\u001b[0m\u001b[0;34m)\u001b[0m\u001b[0;34m[\u001b[0m\u001b[0;34m-\u001b[0m\u001b[0;36m1\u001b[0m\u001b[0;34m]\u001b[0m\u001b[0;34m\u001b[0m\u001b[0m\n\u001b[0m\u001b[1;32m      2\u001b[0m \u001b[0mcastid\u001b[0m \u001b[0;34m=\u001b[0m \u001b[0mf30vvah0mw3l7vwaqys3qvubr\u001b[0m\u001b[0;34m\u001b[0m\u001b[0m\n",
      "\u001b[0;31mNameError\u001b[0m: name 'out' is not defined"
     ]
    }
   ],
   "source": [
    "castid = out.split('/')[-1]\n",
    "castid"
   ]
  },
  {
   "cell_type": "code",
   "execution_count": 2,
   "metadata": {
    "collapsed": false,
    "deletable": true,
    "editable": true
   },
   "outputs": [
    {
     "ename": "NameError",
     "evalue": "name 'castid' is not defined",
     "output_type": "error",
     "traceback": [
      "\u001b[0;31m---------------------------------------------------------------------------\u001b[0m",
      "\u001b[0;31mNameError\u001b[0m                                 Traceback (most recent call last)",
      "\u001b[0;32m<ipython-input-2-8f13fa7fb99d>\u001b[0m in \u001b[0;36m<module>\u001b[0;34m()\u001b[0m\n\u001b[1;32m      8\u001b[0m \u001b[0;34m<\u001b[0m\u001b[0;34m/\u001b[0m\u001b[0mscript\u001b[0m\u001b[0;34m>\u001b[0m\u001b[0;34m\u001b[0m\u001b[0m\n\u001b[1;32m      9\u001b[0m \"\"\"\n\u001b[0;32m---> 10\u001b[0;31m \u001b[0mhtml_tag\u001b[0m \u001b[0;34m=\u001b[0m \u001b[0mhtml_tag\u001b[0m\u001b[0;34m.\u001b[0m\u001b[0mformat\u001b[0m\u001b[0;34m(\u001b[0m\u001b[0mcastid\u001b[0m\u001b[0;34m)\u001b[0m\u001b[0;34m\u001b[0m\u001b[0m\n\u001b[0m\u001b[1;32m     11\u001b[0m \u001b[0mHTML\u001b[0m\u001b[0;34m(\u001b[0m\u001b[0mdata\u001b[0m\u001b[0;34m=\u001b[0m\u001b[0mhtml_tag\u001b[0m\u001b[0;34m)\u001b[0m\u001b[0;34m\u001b[0m\u001b[0m\n",
      "\u001b[0;31mNameError\u001b[0m: name 'castid' is not defined"
     ]
    }
   ],
   "source": [
    "from IPython.display import HTML\n",
    "\n",
    "html_tag = \"\"\"\n",
    "<script type=\"text/javascript\" \n",
    "    src=\"https://asciinema.org/a/{0}.js\" \n",
    "    id=\"asciicast-{0}\" \n",
    "    async data-autoplay=\"true\" data-size=\"big\">\n",
    "</script>\n",
    "\"\"\"\n",
    "html_tag = html_tag.format(castid)\n",
    "HTML(data=html_tag)"
   ]
  },
  {
   "cell_type": "code",
   "execution_count": null,
   "metadata": {
    "collapsed": true,
    "deletable": true,
    "editable": true
   },
   "outputs": [],
   "source": []
  }
 ],
 "metadata": {
  "kernelspec": {
   "display_name": "appliedrl",
   "language": "python",
   "name": "appliedrl"
  },
  "language_info": {
   "codemirror_mode": {
    "name": "ipython",
    "version": 3
   },
   "file_extension": ".py",
   "mimetype": "text/x-python",
   "name": "python",
   "nbconvert_exporter": "python",
   "pygments_lexer": "ipython3",
   "version": "3.6.0"
  }
 },
 "nbformat": 4,
 "nbformat_minor": 2
}
