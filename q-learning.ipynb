{
 "cells": [
  {
   "cell_type": "code",
   "execution_count": 16,
   "metadata": {
    "collapsed": false
   },
   "outputs": [
    {
     "name": "stderr",
     "output_type": "stream",
     "text": [
      "[2017-03-19 11:44:06,099] Making new env: FrozenLake-v0\n",
      "[2017-03-19 11:44:06,493] Finished writing results. You can upload them to the scoreboard via gym.upload('/tmp')\n",
      "[2017-03-19 11:44:06,497] Clearing 220 monitor files from previous run (because force=True was provided)\n",
      "[2017-03-19 11:44:06,501] Starting new video recorder writing to /tmp/openaigym.video.10.3448.video000000.json\n",
      "[2017-03-19 11:44:06,503] Starting new video recorder writing to /tmp/openaigym.video.10.3448.video000001.json\n",
      "[2017-03-19 11:44:06,510] Starting new video recorder writing to /tmp/openaigym.video.10.3448.video000008.json\n",
      "[2017-03-19 11:44:06,522] Starting new video recorder writing to /tmp/openaigym.video.10.3448.video000027.json\n",
      "[2017-03-19 11:44:06,553] Starting new video recorder writing to /tmp/openaigym.video.10.3448.video000064.json\n",
      "[2017-03-19 11:44:06,582] Starting new video recorder writing to /tmp/openaigym.video.10.3448.video000125.json\n",
      "[2017-03-19 11:44:06,619] Starting new video recorder writing to /tmp/openaigym.video.10.3448.video000216.json\n",
      "[2017-03-19 11:44:06,659] Starting new video recorder writing to /tmp/openaigym.video.10.3448.video000343.json\n",
      "[2017-03-19 11:44:06,712] Starting new video recorder writing to /tmp/openaigym.video.10.3448.video000512.json\n",
      "[2017-03-19 11:44:06,780] Starting new video recorder writing to /tmp/openaigym.video.10.3448.video000729.json\n",
      "[2017-03-19 11:44:06,858] Starting new video recorder writing to /tmp/openaigym.video.10.3448.video001000.json\n",
      "[2017-03-19 11:44:07,153] Starting new video recorder writing to /tmp/openaigym.video.10.3448.video002000.json\n",
      "[2017-03-19 11:44:07,428] Starting new video recorder writing to /tmp/openaigym.video.10.3448.video003000.json\n",
      "[2017-03-19 11:44:07,673] Starting new video recorder writing to /tmp/openaigym.video.10.3448.video004000.json\n",
      "[2017-03-19 11:44:07,920] Starting new video recorder writing to /tmp/openaigym.video.10.3448.video005000.json\n",
      "[2017-03-19 11:44:08,178] Starting new video recorder writing to /tmp/openaigym.video.10.3448.video006000.json\n",
      "[2017-03-19 11:44:08,473] Starting new video recorder writing to /tmp/openaigym.video.10.3448.video007000.json\n",
      "[2017-03-19 11:44:08,749] Starting new video recorder writing to /tmp/openaigym.video.10.3448.video008000.json\n",
      "[2017-03-19 11:44:09,012] Starting new video recorder writing to /tmp/openaigym.video.10.3448.video009000.json\n",
      "[2017-03-19 11:44:09,276] Starting new video recorder writing to /tmp/openaigym.video.10.3448.video010000.json\n",
      "[2017-03-19 11:44:09,554] Starting new video recorder writing to /tmp/openaigym.video.10.3448.video011000.json\n",
      "[2017-03-19 11:44:09,808] Starting new video recorder writing to /tmp/openaigym.video.10.3448.video012000.json\n",
      "[2017-03-19 11:44:10,058] Starting new video recorder writing to /tmp/openaigym.video.10.3448.video013000.json\n",
      "[2017-03-19 11:44:10,309] Starting new video recorder writing to /tmp/openaigym.video.10.3448.video014000.json\n",
      "[2017-03-19 11:44:10,590] Starting new video recorder writing to /tmp/openaigym.video.10.3448.video015000.json\n",
      "[2017-03-19 11:44:10,844] Starting new video recorder writing to /tmp/openaigym.video.10.3448.video016000.json\n",
      "[2017-03-19 11:44:11,101] Starting new video recorder writing to /tmp/openaigym.video.10.3448.video017000.json\n",
      "[2017-03-19 11:44:11,360] Starting new video recorder writing to /tmp/openaigym.video.10.3448.video018000.json\n",
      "[2017-03-19 11:44:11,635] Starting new video recorder writing to /tmp/openaigym.video.10.3448.video019000.json\n",
      "[2017-03-19 11:44:11,889] Starting new video recorder writing to /tmp/openaigym.video.10.3448.video020000.json\n",
      "[2017-03-19 11:44:12,143] Starting new video recorder writing to /tmp/openaigym.video.10.3448.video021000.json\n",
      "[2017-03-19 11:44:12,411] Starting new video recorder writing to /tmp/openaigym.video.10.3448.video022000.json\n",
      "[2017-03-19 11:44:12,676] Starting new video recorder writing to /tmp/openaigym.video.10.3448.video023000.json\n",
      "[2017-03-19 11:44:12,944] Starting new video recorder writing to /tmp/openaigym.video.10.3448.video024000.json\n",
      "[2017-03-19 11:44:13,199] Starting new video recorder writing to /tmp/openaigym.video.10.3448.video025000.json\n",
      "[2017-03-19 11:44:13,466] Starting new video recorder writing to /tmp/openaigym.video.10.3448.video026000.json\n",
      "[2017-03-19 11:44:13,729] Starting new video recorder writing to /tmp/openaigym.video.10.3448.video027000.json\n",
      "[2017-03-19 11:44:13,977] Starting new video recorder writing to /tmp/openaigym.video.10.3448.video028000.json\n",
      "[2017-03-19 11:44:14,220] Starting new video recorder writing to /tmp/openaigym.video.10.3448.video029000.json\n",
      "[2017-03-19 11:44:14,499] Starting new video recorder writing to /tmp/openaigym.video.10.3448.video030000.json\n",
      "[2017-03-19 11:44:14,745] Starting new video recorder writing to /tmp/openaigym.video.10.3448.video031000.json\n",
      "[2017-03-19 11:44:14,996] Starting new video recorder writing to /tmp/openaigym.video.10.3448.video032000.json\n",
      "[2017-03-19 11:44:15,255] Starting new video recorder writing to /tmp/openaigym.video.10.3448.video033000.json\n",
      "[2017-03-19 11:44:15,527] Starting new video recorder writing to /tmp/openaigym.video.10.3448.video034000.json\n",
      "[2017-03-19 11:44:15,795] Starting new video recorder writing to /tmp/openaigym.video.10.3448.video035000.json\n",
      "[2017-03-19 11:44:16,053] Starting new video recorder writing to /tmp/openaigym.video.10.3448.video036000.json\n",
      "[2017-03-19 11:44:16,304] Starting new video recorder writing to /tmp/openaigym.video.10.3448.video037000.json\n",
      "[2017-03-19 11:44:16,563] Starting new video recorder writing to /tmp/openaigym.video.10.3448.video038000.json\n",
      "[2017-03-19 11:44:16,845] Starting new video recorder writing to /tmp/openaigym.video.10.3448.video039000.json\n",
      "[2017-03-19 11:44:17,090] Starting new video recorder writing to /tmp/openaigym.video.10.3448.video040000.json\n",
      "[2017-03-19 11:44:17,354] Starting new video recorder writing to /tmp/openaigym.video.10.3448.video041000.json\n",
      "[2017-03-19 11:44:17,614] Starting new video recorder writing to /tmp/openaigym.video.10.3448.video042000.json\n",
      "[2017-03-19 11:44:17,880] Starting new video recorder writing to /tmp/openaigym.video.10.3448.video043000.json\n",
      "[2017-03-19 11:44:18,136] Starting new video recorder writing to /tmp/openaigym.video.10.3448.video044000.json\n",
      "[2017-03-19 11:44:18,393] Starting new video recorder writing to /tmp/openaigym.video.10.3448.video045000.json\n",
      "[2017-03-19 11:44:18,642] Starting new video recorder writing to /tmp/openaigym.video.10.3448.video046000.json\n",
      "[2017-03-19 11:44:18,905] Starting new video recorder writing to /tmp/openaigym.video.10.3448.video047000.json\n",
      "[2017-03-19 11:44:19,153] Starting new video recorder writing to /tmp/openaigym.video.10.3448.video048000.json\n",
      "[2017-03-19 11:44:19,414] Starting new video recorder writing to /tmp/openaigym.video.10.3448.video049000.json\n",
      "[2017-03-19 11:44:19,675] Starting new video recorder writing to /tmp/openaigym.video.10.3448.video050000.json\n",
      "[2017-03-19 11:44:20,570] Starting new video recorder writing to /tmp/openaigym.video.10.3448.video051000.json\n",
      "[2017-03-19 11:44:21,496] Starting new video recorder writing to /tmp/openaigym.video.10.3448.video052000.json\n",
      "[2017-03-19 11:44:22,444] Starting new video recorder writing to /tmp/openaigym.video.10.3448.video053000.json\n",
      "[2017-03-19 11:44:23,308] Starting new video recorder writing to /tmp/openaigym.video.10.3448.video054000.json\n",
      "[2017-03-19 11:44:24,297] Starting new video recorder writing to /tmp/openaigym.video.10.3448.video055000.json\n",
      "[2017-03-19 11:44:25,122] Starting new video recorder writing to /tmp/openaigym.video.10.3448.video056000.json\n",
      "[2017-03-19 11:44:26,083] Starting new video recorder writing to /tmp/openaigym.video.10.3448.video057000.json\n",
      "[2017-03-19 11:44:26,961] Starting new video recorder writing to /tmp/openaigym.video.10.3448.video058000.json\n",
      "[2017-03-19 11:44:27,840] Starting new video recorder writing to /tmp/openaigym.video.10.3448.video059000.json\n",
      "[2017-03-19 11:44:28,682] Starting new video recorder writing to /tmp/openaigym.video.10.3448.video060000.json\n",
      "[2017-03-19 11:44:29,531] Starting new video recorder writing to /tmp/openaigym.video.10.3448.video061000.json\n",
      "[2017-03-19 11:44:30,490] Starting new video recorder writing to /tmp/openaigym.video.10.3448.video062000.json\n",
      "[2017-03-19 11:44:31,395] Starting new video recorder writing to /tmp/openaigym.video.10.3448.video063000.json\n",
      "[2017-03-19 11:44:32,434] Starting new video recorder writing to /tmp/openaigym.video.10.3448.video064000.json\n",
      "[2017-03-19 11:44:33,372] Starting new video recorder writing to /tmp/openaigym.video.10.3448.video065000.json\n",
      "[2017-03-19 11:44:34,342] Starting new video recorder writing to /tmp/openaigym.video.10.3448.video066000.json\n",
      "[2017-03-19 11:44:35,205] Starting new video recorder writing to /tmp/openaigym.video.10.3448.video067000.json\n",
      "[2017-03-19 11:44:36,110] Starting new video recorder writing to /tmp/openaigym.video.10.3448.video068000.json\n",
      "[2017-03-19 11:44:36,959] Starting new video recorder writing to /tmp/openaigym.video.10.3448.video069000.json\n",
      "[2017-03-19 11:44:37,830] Starting new video recorder writing to /tmp/openaigym.video.10.3448.video070000.json\n",
      "[2017-03-19 11:44:38,726] Starting new video recorder writing to /tmp/openaigym.video.10.3448.video071000.json\n",
      "[2017-03-19 11:44:39,806] Starting new video recorder writing to /tmp/openaigym.video.10.3448.video072000.json\n",
      "[2017-03-19 11:44:40,736] Starting new video recorder writing to /tmp/openaigym.video.10.3448.video073000.json\n",
      "[2017-03-19 11:44:41,596] Starting new video recorder writing to /tmp/openaigym.video.10.3448.video074000.json\n",
      "[2017-03-19 11:44:42,465] Starting new video recorder writing to /tmp/openaigym.video.10.3448.video075000.json\n",
      "[2017-03-19 11:44:43,319] Starting new video recorder writing to /tmp/openaigym.video.10.3448.video076000.json\n",
      "[2017-03-19 11:44:44,202] Starting new video recorder writing to /tmp/openaigym.video.10.3448.video077000.json\n",
      "[2017-03-19 11:44:45,094] Starting new video recorder writing to /tmp/openaigym.video.10.3448.video078000.json\n",
      "[2017-03-19 11:44:45,962] Starting new video recorder writing to /tmp/openaigym.video.10.3448.video079000.json\n",
      "[2017-03-19 11:44:46,861] Starting new video recorder writing to /tmp/openaigym.video.10.3448.video080000.json\n",
      "[2017-03-19 11:44:47,727] Starting new video recorder writing to /tmp/openaigym.video.10.3448.video081000.json\n",
      "[2017-03-19 11:44:48,588] Starting new video recorder writing to /tmp/openaigym.video.10.3448.video082000.json\n",
      "[2017-03-19 11:44:49,418] Starting new video recorder writing to /tmp/openaigym.video.10.3448.video083000.json\n",
      "[2017-03-19 11:44:50,412] Starting new video recorder writing to /tmp/openaigym.video.10.3448.video084000.json\n",
      "[2017-03-19 11:44:51,396] Starting new video recorder writing to /tmp/openaigym.video.10.3448.video085000.json\n",
      "[2017-03-19 11:44:52,242] Starting new video recorder writing to /tmp/openaigym.video.10.3448.video086000.json\n",
      "[2017-03-19 11:44:53,049] Starting new video recorder writing to /tmp/openaigym.video.10.3448.video087000.json\n",
      "[2017-03-19 11:44:53,885] Starting new video recorder writing to /tmp/openaigym.video.10.3448.video088000.json\n",
      "[2017-03-19 11:44:54,654] Starting new video recorder writing to /tmp/openaigym.video.10.3448.video089000.json\n",
      "[2017-03-19 11:44:55,559] Starting new video recorder writing to /tmp/openaigym.video.10.3448.video090000.json\n",
      "[2017-03-19 11:44:56,385] Starting new video recorder writing to /tmp/openaigym.video.10.3448.video091000.json\n",
      "[2017-03-19 11:44:57,446] Starting new video recorder writing to /tmp/openaigym.video.10.3448.video092000.json\n",
      "[2017-03-19 11:44:58,541] Starting new video recorder writing to /tmp/openaigym.video.10.3448.video093000.json\n",
      "[2017-03-19 11:44:59,557] Starting new video recorder writing to /tmp/openaigym.video.10.3448.video094000.json\n",
      "[2017-03-19 11:45:00,491] Starting new video recorder writing to /tmp/openaigym.video.10.3448.video095000.json\n",
      "[2017-03-19 11:45:01,433] Starting new video recorder writing to /tmp/openaigym.video.10.3448.video096000.json\n",
      "[2017-03-19 11:45:02,441] Starting new video recorder writing to /tmp/openaigym.video.10.3448.video097000.json\n",
      "[2017-03-19 11:45:03,585] Starting new video recorder writing to /tmp/openaigym.video.10.3448.video098000.json\n",
      "[2017-03-19 11:45:04,597] Starting new video recorder writing to /tmp/openaigym.video.10.3448.video099000.json\n"
     ]
    }
   ],
   "source": [
    "import gym\n",
    "import numpy as np\n",
    "\n",
    "from gym import wrappers\n",
    "\n",
    "alpha = 0.9\n",
    "gamma = 0.9\n",
    "\n",
    "env = gym.make('FrozenLake-v0')\n",
    "env = wrappers.Monitor(env, '/tmp/', force=True)\n",
    "\n",
    "q = np.random.random((env.env.observation_space.n, \n",
    "                      env.env.action_space.n))\n",
    "#env = wrappers.Monitor(env, '/tmp/taxi-v1', force=True)\n",
    "\n",
    "def exploration(episode):\n",
    "    return 0.5 if episode < 50000 else 0.999\n",
    "\n",
    "for episode in range(100000):\n",
    "    state = env.reset()\n",
    "\n",
    "    while True:\n",
    "        if np.random.random() > exploration(episode):\n",
    "            action = env.action_space.sample()\n",
    "        else:\n",
    "            action = np.argmax(q[state])\n",
    "        nstate, reward, done, _ = env.step(action)\n",
    "        if done:\n",
    "            q[state][action] = q[state][action] + alpha * (reward - q[state][action])\n",
    "            break\n",
    "        else:\n",
    "            q[state][action] = q[state][action] + alpha * (reward + gamma * q[nstate].max() - q[state][action])\n",
    "        state = nstate\n",
    "        #env.render()"
   ]
  },
  {
   "cell_type": "code",
   "execution_count": 12,
   "metadata": {
    "collapsed": false
   },
   "outputs": [
    {
     "name": "stderr",
     "output_type": "stream",
     "text": [
      "[2017-03-19 11:38:28,496] Making new env: FrozenLake-v0\n",
      "[2017-03-19 11:38:28,503] Finished writing results. You can upload them to the scoreboard via gym.upload('/tmp')\n",
      "[2017-03-19 11:38:28,504] Clearing 2 monitor files from previous run (because force=True was provided)\n"
     ]
    },
    {
     "data": {
      "text/plain": [
       "16"
      ]
     },
     "execution_count": 12,
     "metadata": {},
     "output_type": "execute_result"
    }
   ],
   "source": [
    "env = gym.make('FrozenLake-v0')\n",
    "env = wrappers.Monitor(env, '/tmp/', force=True)\n",
    "env.env.observation_space.n"
   ]
  },
  {
   "cell_type": "markdown",
   "metadata": {},
   "source": [
    "<p>This is some text.</p>\n",
    "<script type=\"text/javascript\" src=\"https://asciinema.org/a/14.js\" id=\"asciicast-14\" async></script>\n",
    "<p>This is some other text.</p>"
   ]
  },
  {
   "cell_type": "code",
   "execution_count": null,
   "metadata": {
    "collapsed": true
   },
   "outputs": [],
   "source": []
  }
 ],
 "metadata": {
  "kernelspec": {
   "display_name": "Python 3",
   "language": "python",
   "name": "python3"
  },
  "language_info": {
   "codemirror_mode": {
    "name": "ipython",
    "version": 3
   },
   "file_extension": ".py",
   "mimetype": "text/x-python",
   "name": "python",
   "nbconvert_exporter": "python",
   "pygments_lexer": "ipython3",
   "version": "3.5.2"
  }
 },
 "nbformat": 4,
 "nbformat_minor": 2
}
