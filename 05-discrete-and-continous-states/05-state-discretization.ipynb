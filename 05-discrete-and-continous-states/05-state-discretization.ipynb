{
 "cells": [
  {
   "cell_type": "markdown",
   "metadata": {
    "deletable": true,
    "editable": true
   },
   "source": [
    "### State Space Discretization"
   ]
  },
  {
   "cell_type": "code",
   "execution_count": 1,
   "metadata": {
    "collapsed": true,
    "deletable": true,
    "editable": true
   },
   "outputs": [],
   "source": [
    "import numpy as np\n",
    "import pandas as pd\n",
    "import matplotlib.pyplot as plt\n",
    "\n",
    "import tempfile\n",
    "import base64\n",
    "import pprint\n",
    "import json\n",
    "import sys\n",
    "import gym\n",
    "import io\n",
    "\n",
    "from gym import wrappers\n",
    "from subprocess import check_output\n",
    "from IPython.display import HTML"
   ]
  },
  {
   "cell_type": "markdown",
   "metadata": {
    "deletable": true,
    "editable": true
   },
   "source": [
    "#### Q-Learning"
   ]
  },
  {
   "cell_type": "code",
   "execution_count": 2,
   "metadata": {
    "collapsed": false,
    "deletable": true,
    "editable": true,
    "scrolled": true
   },
   "outputs": [
    {
     "name": "stderr",
     "output_type": "stream",
     "text": [
      "[2017-04-02 21:58:12,986] Making new env: CartPole-v0\n"
     ]
    },
    {
     "name": "stdout",
     "output_type": "stream",
     "text": [
      "Episode finished after 10 timesteps\n",
      "Episode finished after 10 timesteps\n",
      "Episode finished after 9 timesteps\n",
      "Episode finished after 10 timesteps\n",
      "Episode finished after 8 timesteps\n",
      "Episode finished after 9 timesteps\n",
      "Episode finished after 9 timesteps\n",
      "Episode finished after 10 timesteps\n",
      "Episode finished after 8 timesteps\n",
      "Episode finished after 8 timesteps\n",
      "Episode finished after 8 timesteps\n",
      "Episode finished after 9 timesteps\n",
      "Episode finished after 10 timesteps\n",
      "Episode finished after 9 timesteps\n",
      "Episode finished after 10 timesteps\n",
      "Episode finished after 8 timesteps\n",
      "Episode finished after 9 timesteps\n",
      "Episode finished after 10 timesteps\n",
      "Episode finished after 10 timesteps\n",
      "Episode finished after 9 timesteps\n",
      "Episode finished after 10 timesteps\n",
      "Episode finished after 10 timesteps\n",
      "Episode finished after 10 timesteps\n",
      "Episode finished after 10 timesteps\n",
      "Episode finished after 10 timesteps\n",
      "Episode finished after 9 timesteps\n",
      "Episode finished after 9 timesteps\n",
      "Episode finished after 9 timesteps\n",
      "Episode finished after 9 timesteps\n",
      "Episode finished after 10 timesteps\n",
      "Episode finished after 9 timesteps\n",
      "Episode finished after 10 timesteps\n",
      "Episode finished after 10 timesteps\n",
      "Episode finished after 10 timesteps\n",
      "Episode finished after 9 timesteps\n",
      "Episode finished after 10 timesteps\n",
      "Episode finished after 10 timesteps\n",
      "Episode finished after 10 timesteps\n",
      "Episode finished after 9 timesteps\n",
      "Episode finished after 10 timesteps\n",
      "Episode finished after 10 timesteps\n",
      "Episode finished after 10 timesteps\n",
      "Episode finished after 9 timesteps\n",
      "Episode finished after 9 timesteps\n",
      "Episode finished after 10 timesteps\n",
      "Episode finished after 9 timesteps\n",
      "Episode finished after 8 timesteps\n",
      "Episode finished after 9 timesteps\n",
      "Episode finished after 10 timesteps\n",
      "Episode finished after 10 timesteps\n",
      "Episode finished after 22 timesteps\n",
      "Episode finished after 69 timesteps\n",
      "Episode finished after 12 timesteps\n",
      "Episode finished after 29 timesteps\n",
      "Episode finished after 12 timesteps\n",
      "Episode finished after 14 timesteps\n",
      "Episode finished after 18 timesteps\n",
      "Episode finished after 8 timesteps\n",
      "Episode finished after 43 timesteps\n",
      "Episode finished after 17 timesteps\n",
      "Episode finished after 18 timesteps\n",
      "Episode finished after 13 timesteps\n",
      "Episode finished after 34 timesteps\n",
      "Episode finished after 16 timesteps\n",
      "Episode finished after 12 timesteps\n",
      "Episode finished after 16 timesteps\n",
      "Episode finished after 12 timesteps\n",
      "Episode finished after 13 timesteps\n",
      "Episode finished after 22 timesteps\n",
      "Episode finished after 39 timesteps\n",
      "Episode finished after 14 timesteps\n",
      "Episode finished after 15 timesteps\n",
      "Episode finished after 37 timesteps\n",
      "Episode finished after 19 timesteps\n",
      "Episode finished after 12 timesteps\n",
      "Episode finished after 31 timesteps\n",
      "Episode finished after 24 timesteps\n",
      "Episode finished after 12 timesteps\n",
      "Episode finished after 17 timesteps\n",
      "Episode finished after 17 timesteps\n",
      "Episode finished after 21 timesteps\n",
      "Episode finished after 51 timesteps\n",
      "Episode finished after 36 timesteps\n",
      "Episode finished after 18 timesteps\n",
      "Episode finished after 34 timesteps\n",
      "Episode finished after 16 timesteps\n",
      "Episode finished after 13 timesteps\n",
      "Episode finished after 18 timesteps\n",
      "Episode finished after 24 timesteps\n",
      "Episode finished after 29 timesteps\n",
      "Episode finished after 17 timesteps\n",
      "Episode finished after 10 timesteps\n",
      "Episode finished after 43 timesteps\n",
      "Episode finished after 18 timesteps\n",
      "Episode finished after 36 timesteps\n",
      "Episode finished after 21 timesteps\n",
      "Episode finished after 15 timesteps\n",
      "Episode finished after 14 timesteps\n",
      "Episode finished after 31 timesteps\n",
      "Episode finished after 9 timesteps\n"
     ]
    }
   ],
   "source": [
    "env = gym.make('CartPole-v0')\n",
    "observations = []\n",
    "for episode in range(100):\n",
    "    observation = env.reset()\n",
    "    for t in range(100):\n",
    "        env.render()\n",
    "        observations.append(observation)\n",
    "        action = env.action_space.sample()\n",
    "        if episode < 25:\n",
    "            action = 1\n",
    "        elif episode < 50:\n",
    "            action = 0\n",
    "        observation, reward, done, info = env.step(action)\n",
    "        if done:\n",
    "            print(\"Episode finished after {} timesteps\".format(t+1))\n",
    "            break\n",
    "env.close()\n",
    "x_vals = np.array(observations)[:,0]\n",
    "xd_vals = np.array(observations)[:,1]\n",
    "a_vals = np.array(observations)[:,2]\n",
    "ad_vals = np.array(observations)[:,3]\n",
    "y = np.zeros_like(x_vals)"
   ]
  },
  {
   "cell_type": "code",
   "execution_count": 3,
   "metadata": {
    "collapsed": false,
    "deletable": true,
    "editable": true
   },
   "outputs": [],
   "source": [
    "x_thres = ((env.env.observation_space.low/2)[0],\n",
    "           (env.env.observation_space.high/2)[0])\n",
    "a_thres = ((env.env.observation_space.low/2)[2],\n",
    "           (env.env.observation_space.high/2)[2])"
   ]
  },
  {
   "cell_type": "code",
   "execution_count": 4,
   "metadata": {
    "collapsed": false,
    "deletable": true,
    "editable": true
   },
   "outputs": [
    {
     "data": {
      "text/plain": [
       "(-0.15, 0.15)"
      ]
     },
     "execution_count": 4,
     "metadata": {},
     "output_type": "execute_result"
    },
    {
     "data": {
      "image/png": "[encoded data removed]",
      "text/plain": [
       "<matplotlib.figure.Figure at 0x7f806bb40eb8>"
      ]
     },
     "metadata": {},
     "output_type": "display_data"
    }
   ],
   "source": [
    "plt.plot(x_vals, y + 0.10, '.')\n",
    "plt.plot(xd_vals, y + 0.05, '.')\n",
    "plt.plot(a_vals, y - 0.05, '.')\n",
    "plt.plot(ad_vals, y - 0.10, '.')\n",
    "\n",
    "plt.ylim([-0.15, 0.15])"
   ]
  },
  {
   "cell_type": "code",
   "execution_count": 5,
   "metadata": {
    "collapsed": false,
    "deletable": true,
    "editable": true
   },
   "outputs": [
    {
     "data": {
      "text/plain": [
       "[<matplotlib.lines.Line2D at 0x7f805eedc9e8>]"
      ]
     },
     "execution_count": 5,
     "metadata": {},
     "output_type": "execute_result"
    },
    {
     "data": {
      "image/png": "[encoded data removed]",
      "text/plain": [
       "<matplotlib.figure.Figure at 0x7f8062776ba8>"
      ]
     },
     "metadata": {},
     "output_type": "display_data"
    }
   ],
   "source": [
    "x1 = np.linspace(x_thres[0] + .5, x_thres[1] - .5, \n",
    "                 4, endpoint=False)[1:]\n",
    "y1 = np.zeros(len(x1)) + 0.05\n",
    "\n",
    "plt.ylim([-0.075, 0.075])\n",
    "plt.plot(x1, y1, 'o')\n",
    "plt.plot(x_vals, y, '.')"
   ]
  },
  {
   "cell_type": "code",
   "execution_count": 6,
   "metadata": {
    "collapsed": false,
    "deletable": true,
    "editable": true
   },
   "outputs": [
    {
     "data": {
      "text/plain": [
       "[<matplotlib.lines.Line2D at 0x7f805ee5a9e8>]"
      ]
     },
     "execution_count": 6,
     "metadata": {},
     "output_type": "execute_result"
    },
    {
     "data": {
      "image/png": "[encoded data removed]",
      "text/plain": [
       "<matplotlib.figure.Figure at 0x7f8063206f98>"
      ]
     },
     "metadata": {},
     "output_type": "display_data"
    }
   ],
   "source": [
    "xd1 = np.sort(np.append(np.linspace(-1.5, 1.5, 4, endpoint=True), 0))\n",
    "y1 = np.zeros(len(xd1)) + 0.05\n",
    "\n",
    "plt.ylim([-0.075, 0.075])\n",
    "plt.plot(xd1, y1, 'o')\n",
    "plt.plot(xd_vals, y, '.')"
   ]
  },
  {
   "cell_type": "code",
   "execution_count": 7,
   "metadata": {
    "collapsed": false,
    "deletable": true,
    "editable": true
   },
   "outputs": [
    {
     "data": {
      "text/plain": [
       "[<matplotlib.lines.Line2D at 0x7f805edca588>]"
      ]
     },
     "execution_count": 7,
     "metadata": {},
     "output_type": "execute_result"
    },
    {
     "data": {
      "image/png": "[encoded data removed]",
      "text/plain": [
       "<matplotlib.figure.Figure at 0x7f805ee6e668>"
      ]
     },
     "metadata": {},
     "output_type": "display_data"
    }
   ],
   "source": [
    "a1 = np.sort(np.linspace(a_thres[0], a_thres[1],\n",
    "                         10, endpoint=False)[1:])\n",
    "y1 = np.zeros(len(a1)) + 0.05\n",
    "\n",
    "plt.ylim([-0.1, 0.1])\n",
    "plt.plot(a1, y1, 'o')\n",
    "plt.plot(a_vals, y, '.')"
   ]
  },
  {
   "cell_type": "code",
   "execution_count": 8,
   "metadata": {
    "collapsed": false,
    "deletable": true,
    "editable": true
   },
   "outputs": [
    {
     "data": {
      "text/plain": [
       "[<matplotlib.lines.Line2D at 0x7f805edb7278>]"
      ]
     },
     "execution_count": 8,
     "metadata": {},
     "output_type": "execute_result"
    },
    {
     "data": {
      "image/png": "[encoded data removed]",
      "text/plain": [
       "<matplotlib.figure.Figure at 0x7f805ee1bc18>"
      ]
     },
     "metadata": {},
     "output_type": "display_data"
    }
   ],
   "source": [
    "all_vals = np.sort(np.append(\n",
    "    (np.logspace(-7, 4, 6, endpoint=False, base=2)[1:],\n",
    "    -np.logspace(-7, 4, 6, endpoint=False, base=2)[1:]), 0))\n",
    "idxs = np.where(np.abs(all_vals) < 2)\n",
    "ad1 = all_vals[idxs]\n",
    "y1 = np.zeros(len(ad1)) + 0.05\n",
    "\n",
    "plt.ylim([-0.075, 0.075])\n",
    "plt.plot(ad1, y1, 'o')\n",
    "plt.plot(ad_vals, y, '.')"
   ]
  },
  {
   "cell_type": "markdown",
   "metadata": {
    "deletable": true,
    "editable": true
   },
   "source": [
    "Digitizing values"
   ]
  },
  {
   "cell_type": "code",
   "execution_count": 9,
   "metadata": {
    "collapsed": false,
    "deletable": true,
    "editable": true
   },
   "outputs": [
    {
     "data": {
      "text/plain": [
       "array([-0.16755161, -0.12566371, -0.0837758 , -0.0418879 ,  0.        ,\n",
       "        0.0418879 ,  0.0837758 ,  0.12566371,  0.16755161])"
      ]
     },
     "execution_count": 9,
     "metadata": {},
     "output_type": "execute_result"
    }
   ],
   "source": [
    "a1"
   ]
  },
  {
   "cell_type": "code",
   "execution_count": 10,
   "metadata": {
    "collapsed": false,
    "deletable": true,
    "editable": true
   },
   "outputs": [
    {
     "data": {
      "text/plain": [
       "array(0)"
      ]
     },
     "execution_count": 10,
     "metadata": {},
     "output_type": "execute_result"
    }
   ],
   "source": [
    "np.digitize(-0.99, a1)"
   ]
  },
  {
   "cell_type": "code",
   "execution_count": 11,
   "metadata": {
    "collapsed": false,
    "deletable": true,
    "editable": true
   },
   "outputs": [
    {
     "data": {
      "text/plain": [
       "array(5)"
      ]
     },
     "execution_count": 11,
     "metadata": {},
     "output_type": "execute_result"
    }
   ],
   "source": [
    "np.digitize(0, a1)"
   ]
  },
  {
   "cell_type": "code",
   "execution_count": 12,
   "metadata": {
    "collapsed": false,
    "deletable": true,
    "editable": true
   },
   "outputs": [
    {
     "data": {
      "text/plain": [
       "array(4)"
      ]
     },
     "execution_count": 12,
     "metadata": {},
     "output_type": "execute_result"
    }
   ],
   "source": [
    "np.digitize(-0.0001, a1)"
   ]
  },
  {
   "cell_type": "code",
   "execution_count": 13,
   "metadata": {
    "collapsed": false,
    "deletable": true,
    "editable": true
   },
   "outputs": [
    {
     "data": {
      "text/plain": [
       "array(5)"
      ]
     },
     "execution_count": 13,
     "metadata": {},
     "output_type": "execute_result"
    }
   ],
   "source": [
    "np.digitize(0.0001, a1)"
   ]
  },
  {
   "cell_type": "code",
   "execution_count": 14,
   "metadata": {
    "collapsed": false,
    "deletable": true,
    "editable": true
   },
   "outputs": [
    {
     "data": {
      "text/plain": [
       "[<matplotlib.lines.Line2D at 0x7f805ed3e898>]"
      ]
     },
     "execution_count": 14,
     "metadata": {},
     "output_type": "execute_result"
    },
    {
     "data": {
      "image/png": "[encoded data removed]",
      "text/plain": [
       "<matplotlib.figure.Figure at 0x7f805ed84320>"
      ]
     },
     "metadata": {},
     "output_type": "display_data"
    }
   ],
   "source": [
    "yx1 = np.zeros_like(x1) + 0.25\n",
    "yx = np.zeros_like(x_vals) + 0.20\n",
    "yxd1 = np.zeros_like(xd1) + 0.10\n",
    "yxd = np.zeros_like(xd_vals) + 0.05\n",
    "ya1 = np.zeros_like(a1) - 0.05\n",
    "ya = np.zeros_like(a_vals) - 0.10\n",
    "yad1 = np.zeros_like(ad1) - 0.20\n",
    "yad = np.zeros_like(ad_vals) - 0.25\n",
    "\n",
    "plt.ylim([-0.3, 0.3])\n",
    "\n",
    "plt.plot(x1, yx1, '|')\n",
    "plt.plot(xd1, yxd1, '|')\n",
    "plt.plot(a1, ya1, '|')\n",
    "plt.plot(ad1, yad1, '|')\n",
    "\n",
    "plt.plot(x_vals, yx, '.')\n",
    "plt.plot(xd_vals, yxd, '.')\n",
    "plt.plot(a_vals, ya, '.')\n",
    "plt.plot(ad_vals, yad, '.')"
   ]
  },
  {
   "cell_type": "code",
   "execution_count": 15,
   "metadata": {
    "collapsed": false,
    "deletable": true,
    "editable": true
   },
   "outputs": [
    {
     "data": {
      "text/plain": [
       "[<matplotlib.lines.Line2D at 0x7f805ec45d68>]"
      ]
     },
     "execution_count": 15,
     "metadata": {},
     "output_type": "execute_result"
    },
    {
     "data": {
      "image/png": "[encoded data removed]",
      "text/plain": [
       "<matplotlib.figure.Figure at 0x7f809c99e438>"
      ]
     },
     "metadata": {},
     "output_type": "display_data"
    }
   ],
   "source": [
    "yx1 = np.zeros_like(x1) + 0.25\n",
    "yx = np.zeros_like(x_vals) + 0.20\n",
    "yxd1 = np.zeros_like(xd1) + 0.10\n",
    "yxd = np.zeros_like(xd_vals) + 0.05\n",
    "ya1 = np.zeros_like(a1) - 0.05\n",
    "ya = np.zeros_like(a_vals) - 0.10\n",
    "yad1 = np.zeros_like(ad1) - 0.20\n",
    "yad = np.zeros_like(ad_vals) - 0.25\n",
    "\n",
    "plt.plot(x1, yx1, '|')\n",
    "plt.plot(xd1, yxd1, '|')\n",
    "plt.plot(a1, ya1, '|')\n",
    "plt.plot(ad1, yad1, '|')\n",
    "\n",
    "plt.plot(x_vals, yx, '.')\n",
    "plt.plot(xd_vals, yxd, '.')\n",
    "plt.plot(a_vals, ya, '.')\n",
    "plt.plot(ad_vals, yad, '.')\n",
    "\n",
    "\n",
    "plt.ylim([-0.3, 0.3])\n",
    "\n",
    "plt.plot((x_thres[0], x_thres[0]), (0.15, 0.25), 'k-', color='red')\n",
    "plt.plot((x_thres[1], x_thres[1]), (0.15, 0.25), 'k-', color='red')\n",
    "plt.plot((a_thres[0], a_thres[0]), (-0.05, -0.15), 'k-', color='red')\n",
    "plt.plot((a_thres[1], a_thres[1]), (-0.05, -0.15), 'k-', color='red')"
   ]
  },
  {
   "cell_type": "code",
   "execution_count": 16,
   "metadata": {
    "collapsed": false,
    "deletable": true,
    "editable": true
   },
   "outputs": [],
   "source": [
    "def learning_schedule(episode, n_episodes):\n",
    "    return max(0., min(0.8, 1 - episode/n_episodes))"
   ]
  },
  {
   "cell_type": "code",
   "execution_count": 17,
   "metadata": {
    "collapsed": true,
    "deletable": true,
    "editable": true
   },
   "outputs": [],
   "source": [
    "def action_selection(state, Q, episode, n_episodes):\n",
    "    epsilon = 0.99 if episode < n_episodes//4 else 0.33 if episode < n_episodes//2 else 0.\n",
    "    if np.random.random() < epsilon:\n",
    "        action = np.random.randint(Q.shape[1])\n",
    "    else:\n",
    "        action = np.argmax(Q[state])\n",
    "    return action, epsilon"
   ]
  },
  {
   "cell_type": "code",
   "execution_count": 18,
   "metadata": {
    "collapsed": true,
    "deletable": true,
    "editable": true
   },
   "outputs": [],
   "source": [
    "def observation_to_state(observation, bins):\n",
    "    ss = []\n",
    "    for i in range(len(observation)):\n",
    "        ss.append(int(np.digitize(observation[i], bins=bins[i])))\n",
    "    state = int(\"\".join(map(lambda feature: str(int(feature)), ss)))\n",
    "    return state"
   ]
  },
  {
   "cell_type": "code",
   "execution_count": 19,
   "metadata": {
    "collapsed": false,
    "deletable": true,
    "editable": true
   },
   "outputs": [],
   "source": [
    "def q_learning(env, bins, gamma = 0.99):\n",
    "    nS = 10 * 10 * 10 * 10\n",
    "    nA = env.env.action_space.n\n",
    "    \n",
    "    Q = np.random.random((nS, nA)) - 0.5\n",
    "    n_episodes = 5000\n",
    "    \n",
    "    alphas = []\n",
    "    epsilons = []\n",
    "    states = []\n",
    "    actions = []\n",
    "    for episode in range(n_episodes):\n",
    "        observation = env.reset()\n",
    "        state = observation_to_state(observation, bins)\n",
    "    \n",
    "        done = False\n",
    "        while not done:\n",
    "            states.append(state)\n",
    "            \n",
    "            action, epsilon = action_selection(state, Q, episode, n_episodes)\n",
    "            epsilons.append(epsilon)\n",
    "            actions.append(action)\n",
    "            \n",
    "            observation, reward, done, info = env.step(action)\n",
    "            nstate = observation_to_state(observation, bins)\n",
    "            \n",
    "            alpha = learning_schedule(episode, n_episodes)\n",
    "            alphas.append(alpha)\n",
    "            \n",
    "            Q[state][action] += alpha * (reward + gamma * Q[nstate].max() * (not done) - Q[state][action])\n",
    "            state = nstate\n",
    "    return Q, (alphas, epsilons, states, actions)"
   ]
  },
  {
   "cell_type": "code",
   "execution_count": 20,
   "metadata": {
    "collapsed": false,
    "deletable": true,
    "editable": true
   },
   "outputs": [
    {
     "name": "stderr",
     "output_type": "stream",
     "text": [
      "[2017-04-02 21:58:23,559] Making new env: CartPole-v0\n",
      "[2017-04-02 21:58:23,564] Starting new video recorder writing to /tmp/tmpvdek3zuv/openaigym.video.0.3634.video000000.mp4\n",
      "[2017-04-02 21:58:23,904] Starting new video recorder writing to /tmp/tmpvdek3zuv/openaigym.video.0.3634.video000001.mp4\n",
      "[2017-04-02 21:58:24,161] Starting new video recorder writing to /tmp/tmpvdek3zuv/openaigym.video.0.3634.video000008.mp4\n",
      "[2017-04-02 21:58:24,562] Starting new video recorder writing to /tmp/tmpvdek3zuv/openaigym.video.0.3634.video000027.mp4\n",
      "[2017-04-02 21:58:24,771] Starting new video recorder writing to /tmp/tmpvdek3zuv/openaigym.video.0.3634.video000064.mp4\n",
      "[2017-04-02 21:58:25,129] Starting new video recorder writing to /tmp/tmpvdek3zuv/openaigym.video.0.3634.video000125.mp4\n",
      "[2017-04-02 21:58:25,559] Starting new video recorder writing to /tmp/tmpvdek3zuv/openaigym.video.0.3634.video000216.mp4\n",
      "[2017-04-02 21:58:26,078] Starting new video recorder writing to /tmp/tmpvdek3zuv/openaigym.video.0.3634.video000343.mp4\n",
      "[2017-04-02 21:58:26,656] Starting new video recorder writing to /tmp/tmpvdek3zuv/openaigym.video.0.3634.video000512.mp4\n",
      "[2017-04-02 21:58:27,083] Starting new video recorder writing to /tmp/tmpvdek3zuv/openaigym.video.0.3634.video000729.mp4\n",
      "[2017-04-02 21:58:27,584] Starting new video recorder writing to /tmp/tmpvdek3zuv/openaigym.video.0.3634.video001000.mp4\n",
      "[2017-04-02 21:58:31,064] Starting new video recorder writing to /tmp/tmpvdek3zuv/openaigym.video.0.3634.video002000.mp4\n",
      "[2017-04-02 21:58:37,040] Starting new video recorder writing to /tmp/tmpvdek3zuv/openaigym.video.0.3634.video003000.mp4\n",
      "[2017-04-02 21:58:43,851] Starting new video recorder writing to /tmp/tmpvdek3zuv/openaigym.video.0.3634.video004000.mp4\n"
     ]
    }
   ],
   "source": [
    "mdir = tempfile.mkdtemp()\n",
    "env = gym.make('CartPole-v0')\n",
    "env = wrappers.Monitor(env, mdir, force=True)\n",
    "\n",
    "Q, stats = q_learning(env, (x1, xd1, a1, ad1))"
   ]
  },
  {
   "cell_type": "code",
   "execution_count": 21,
   "metadata": {
    "collapsed": false,
    "deletable": true,
    "editable": true,
    "scrolled": false
   },
   "outputs": [
    {
     "data": {
      "text/html": [
       "\n",
       "    <h2>Episode 0<h2/>\n",
       "    <video width=\"960\" height=\"540\" controls>\n",
       "        <source src=\"data:video/mp4;base64,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\" type=\"video/mp4\" />\n",
       "    </video>\n",
       "    <h2>Episode 216<h2/>\n",
       "    <video width=\"960\" height=\"540\" controls>\n",
       "        <source src=\"data:video/mp4;base64,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\" type=\"video/mp4\" />\n",
       "    </video>\n",
       "    <h2>Episode 4000<h2/>\n",
       "    <video width=\"960\" height=\"540\" controls>\n",
       "        <source src=\"data:video/mp4;base64,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\" type=\"video/mp4\" />\n",
       "    </video>"
      ],
      "text/plain": [
       "<IPython.core.display.HTML object>"
      ]
     },
     "execution_count": 21,
     "metadata": {},
     "output_type": "execute_result"
    }
   ],
   "source": [
    "videos = np.array(env.videos)\n",
    "n_videos = 3\n",
    "\n",
    "idxs = np.linspace(0, len(videos) - 1, n_videos).astype(int)\n",
    "videos = videos[idxs,:]\n",
    "\n",
    "strm = ''\n",
    "for video_path, meta_path in videos:\n",
    "    video = io.open(video_path, 'r+b').read()\n",
    "    encoded = base64.b64encode(video)\n",
    "    \n",
    "    with open(meta_path) as data_file:    \n",
    "        meta = json.load(data_file)\n",
    "\n",
    "    html_tag = \"\"\"\n",
    "    <h2>{0}<h2/>\n",
    "    <video width=\"960\" height=\"540\" controls>\n",
    "        <source src=\"data:video/mp4;base64,{1}\" type=\"video/mp4\" />\n",
    "    </video>\"\"\"\n",
    "    strm += html_tag.format('Episode ' + str(meta['episode_id']), encoded.decode('ascii'))\n",
    "HTML(data=strm)"
   ]
  },
  {
   "cell_type": "code",
   "execution_count": 22,
   "metadata": {
    "collapsed": false,
    "deletable": true,
    "editable": true
   },
   "outputs": [
    {
     "data": {
      "text/plain": [
       "array([ 0.11034032,  2.28202232,  8.5119089 , ..., -0.03213468,\n",
       "        0.48412464,  0.38341096])"
      ]
     },
     "execution_count": 22,
     "metadata": {},
     "output_type": "execute_result"
    }
   ],
   "source": [
    "V = np.max(Q, axis=1)\n",
    "V"
   ]
  },
  {
   "cell_type": "code",
   "execution_count": 23,
   "metadata": {
    "collapsed": false,
    "deletable": true,
    "editable": true
   },
   "outputs": [
    {
     "data": {
      "text/plain": [
       "90.212323364596728"
      ]
     },
     "execution_count": 23,
     "metadata": {},
     "output_type": "execute_result"
    }
   ],
   "source": [
    "V.max()"
   ]
  },
  {
   "cell_type": "code",
   "execution_count": 24,
   "metadata": {
    "collapsed": false,
    "deletable": true,
    "editable": true
   },
   "outputs": [
    {
     "data": {
      "text/plain": [
       "array([0, 1, 0, ..., 1, 1, 1])"
      ]
     },
     "execution_count": 24,
     "metadata": {},
     "output_type": "execute_result"
    }
   ],
   "source": [
    "pi = np.argmax(Q, axis=1)\n",
    "pi"
   ]
  },
  {
   "cell_type": "code",
   "execution_count": 25,
   "metadata": {
    "collapsed": false,
    "deletable": true,
    "editable": true
   },
   "outputs": [
    {
     "name": "stderr",
     "output_type": "stream",
     "text": [
      "[2017-04-02 21:58:51,167] Finished writing results. You can upload them to the scoreboard via gym.upload('/tmp/tmpvdek3zuv')\n"
     ]
    }
   ],
   "source": [
    "env.close()"
   ]
  },
  {
   "cell_type": "code",
   "execution_count": 26,
   "metadata": {
    "collapsed": false,
    "deletable": true,
    "editable": true
   },
   "outputs": [
    {
     "name": "stderr",
     "output_type": "stream",
     "text": [
      "[2017-04-02 21:58:51,190] [CartPole-v0] Uploading 5000 episodes of training data\n",
      "[2017-04-02 21:58:52,419] [CartPole-v0] Uploading videos of 14 training episodes (57206 bytes)\n",
      "[2017-04-02 21:58:52,692] [CartPole-v0] Creating evaluation object from /tmp/tmpvdek3zuv with learning curve and training video\n",
      "[2017-04-02 21:58:53,054] \n",
      "****************************************************\n",
      "You successfully uploaded your evaluation on CartPole-v0 to\n",
      "OpenAI Gym! You can find it at:\n",
      "\n",
      "    https://gym.openai.com/evaluations/eval_AhsiLjLyTDO1gwgnApVzpQ\n",
      "\n",
      "****************************************************\n"
     ]
    }
   ],
   "source": [
    "gym.upload(mdir, api_key='<YOUR API KEY>')"
   ]
  },
  {
   "cell_type": "code",
   "execution_count": 27,
   "metadata": {
    "collapsed": true,
    "deletable": true,
    "editable": true
   },
   "outputs": [],
   "source": [
    "alphas, epsilons, states, actions = stats"
   ]
  },
  {
   "cell_type": "code",
   "execution_count": 28,
   "metadata": {
    "collapsed": false,
    "deletable": true,
    "editable": true
   },
   "outputs": [
    {
     "data": {
      "text/plain": [
       "[<matplotlib.lines.Line2D at 0x7f8056420400>]"
      ]
     },
     "execution_count": 28,
     "metadata": {},
     "output_type": "execute_result"
    },
    {
     "data": {
      "image/png": "[encoded data removed]",
      "text/plain": [
       "<matplotlib.figure.Figure at 0x7f80564b25f8>"
      ]
     },
     "metadata": {},
     "output_type": "display_data"
    }
   ],
   "source": [
    "plt.plot(np.arange(len(alphas)), alphas, '.')"
   ]
  },
  {
   "cell_type": "code",
   "execution_count": 29,
   "metadata": {
    "collapsed": false,
    "deletable": true,
    "editable": true
   },
   "outputs": [
    {
     "data": {
      "text/plain": [
       "[<matplotlib.lines.Line2D at 0x7f805640bc88>]"
      ]
     },
     "execution_count": 29,
     "metadata": {},
     "output_type": "execute_result"
    },
    {
     "data": {
      "image/png": "[encoded data removed]",
      "text/plain": [
       "<matplotlib.figure.Figure at 0x7f805ed683c8>"
      ]
     },
     "metadata": {},
     "output_type": "display_data"
    }
   ],
   "source": [
    "plt.plot(np.arange(len(epsilons)), epsilons, '.')"
   ]
  },
  {
   "cell_type": "code",
   "execution_count": 30,
   "metadata": {
    "collapsed": false,
    "deletable": true,
    "editable": true
   },
   "outputs": [
    {
     "data": {
      "image/png": "[encoded data removed]",
      "text/plain": [
       "<matplotlib.figure.Figure at 0x7f805ed25320>"
      ]
     },
     "metadata": {},
     "output_type": "display_data"
    }
   ],
   "source": [
    "hist, bins = np.histogram(states, bins=50)\n",
    "width = 0.7 * (bins[1] - bins[0])\n",
    "center = (bins[:-1] + bins[1:]) / 2\n",
    "plt.bar(center, hist, align='center', width=width)\n",
    "plt.show()"
   ]
  },
  {
   "cell_type": "code",
   "execution_count": 31,
   "metadata": {
    "collapsed": false,
    "deletable": true,
    "editable": true
   },
   "outputs": [
    {
     "data": {
      "image/png": "[encoded data removed]",
      "text/plain": [
       "<matplotlib.figure.Figure at 0x7f805634bfd0>"
      ]
     },
     "metadata": {},
     "output_type": "display_data"
    }
   ],
   "source": [
    "hist, bins = np.histogram(actions, bins=3)\n",
    "width = 0.7 * (bins[1] - bins[0])\n",
    "center = (bins[:-1] + bins[1:]) / 2\n",
    "plt.bar(center, hist, align='center', width=width)\n",
    "plt.show()"
   ]
  },
  {
   "cell_type": "markdown",
   "metadata": {
    "deletable": true,
    "editable": true
   },
   "source": [
    "### Your turn"
   ]
  },
  {
   "cell_type": "code",
   "execution_count": 32,
   "metadata": {
    "collapsed": false,
    "deletable": true,
    "editable": true
   },
   "outputs": [
    {
     "data": {
      "text/plain": [
       "(-0.15, 0.15)"
      ]
     },
     "execution_count": 32,
     "metadata": {},
     "output_type": "execute_result"
    },
    {
     "data": {
      "image/png": "[encoded data removed]",
      "text/plain": [
       "<matplotlib.figure.Figure at 0x7f805634e160>"
      ]
     },
     "metadata": {},
     "output_type": "display_data"
    }
   ],
   "source": [
    "plt.plot(x_vals, y + 0.10, '.')\n",
    "plt.plot(xd_vals, y + 0.05, '.')\n",
    "plt.plot(a_vals, y - 0.05, '.')\n",
    "plt.plot(ad_vals, y - 0.10, '.')\n",
    "\n",
    "plt.ylim([-0.15, 0.15])"
   ]
  },
  {
   "cell_type": "code",
   "execution_count": 33,
   "metadata": {
    "collapsed": false,
    "deletable": true,
    "editable": true
   },
   "outputs": [
    {
     "data": {
      "text/plain": [
       "[<matplotlib.lines.Line2D at 0x7f80545a8518>]"
      ]
     },
     "execution_count": 33,
     "metadata": {},
     "output_type": "execute_result"
    },
    {
     "data": {
      "image/png": "[encoded data removed]",
      "text/plain": [
       "<matplotlib.figure.Figure at 0x7f80545d7518>"
      ]
     },
     "metadata": {},
     "output_type": "display_data"
    }
   ],
   "source": [
    "x1 = np.linspace(x_thres[0] + .5, x_thres[1] - .5, \n",
    "                 2, endpoint=False)[1:]\n",
    "y1 = np.zeros(len(x1)) + 0.05\n",
    "\n",
    "plt.ylim([-0.075, 0.075])\n",
    "plt.plot(x1, y1, 'o')\n",
    "plt.plot(x_vals, y, '.')"
   ]
  },
  {
   "cell_type": "code",
   "execution_count": 34,
   "metadata": {
    "collapsed": false,
    "deletable": true,
    "editable": true
   },
   "outputs": [
    {
     "data": {
      "text/plain": [
       "[<matplotlib.lines.Line2D at 0x7f8054510eb8>]"
      ]
     },
     "execution_count": 34,
     "metadata": {},
     "output_type": "execute_result"
    },
    {
     "data": {
      "image/png": "[encoded data removed]",
      "text/plain": [
       "<matplotlib.figure.Figure at 0x7f80545b5518>"
      ]
     },
     "metadata": {},
     "output_type": "display_data"
    }
   ],
   "source": [
    "all_vals = np.sort(np.append(\n",
    "    (np.logspace(-5, 4, 5, endpoint=False, base=2)[1:],\n",
    "    -np.logspace(-5, 4, 5, endpoint=False, base=2)[1:]), 0))\n",
    "idxs = np.where(np.abs(all_vals) < 2)\n",
    "xd1 = all_vals[idxs]\n",
    "y1 = np.zeros(len(xd1)) + 0.05\n",
    "\n",
    "plt.ylim([-0.075, 0.075])\n",
    "plt.plot(xd1, y1, 'o')\n",
    "plt.plot(xd_vals, y, '.')"
   ]
  },
  {
   "cell_type": "code",
   "execution_count": 35,
   "metadata": {
    "collapsed": false,
    "deletable": true,
    "editable": true
   },
   "outputs": [
    {
     "data": {
      "text/plain": [
       "[<matplotlib.lines.Line2D at 0x7f80545049b0>]"
      ]
     },
     "execution_count": 35,
     "metadata": {},
     "output_type": "execute_result"
    },
    {
     "data": {
      "image/png": "[encoded data removed]",
      "text/plain": [
       "<matplotlib.figure.Figure at 0x7f80545282b0>"
      ]
     },
     "metadata": {},
     "output_type": "display_data"
    }
   ],
   "source": [
    "all_vals = np.sort(np.append(\n",
    "    (np.logspace(-6, 0.01, 4, endpoint=False, base=2)[1:],\n",
    "    -np.logspace(-6, 0.01, 4, endpoint=False, base=2)[1:]), 0))\n",
    "idxs = np.where(np.abs(all_vals) < a_thres[1] - 0.1)\n",
    "a1 = all_vals[idxs]\n",
    "y1 = np.zeros(len(a1)) + 0.05\n",
    "\n",
    "plt.ylim([-0.1, 0.1])\n",
    "plt.plot(a1, y1, 'o')\n",
    "plt.plot(a_vals, y, '.')"
   ]
  },
  {
   "cell_type": "code",
   "execution_count": 36,
   "metadata": {
    "collapsed": false,
    "deletable": true,
    "editable": true
   },
   "outputs": [
    {
     "data": {
      "text/plain": [
       "[<matplotlib.lines.Line2D at 0x7f805446dfd0>]"
      ]
     },
     "execution_count": 36,
     "metadata": {},
     "output_type": "execute_result"
    },
    {
     "data": {
      "image/png": "[encoded data removed]",
      "text/plain": [
       "<matplotlib.figure.Figure at 0x7f80544d42e8>"
      ]
     },
     "metadata": {},
     "output_type": "display_data"
    }
   ],
   "source": [
    "all_vals = np.sort(np.append(\n",
    "    (np.logspace(-7, 4, 6, endpoint=False, base=2)[1:],\n",
    "    -np.logspace(-7, 4, 6, endpoint=False, base=2)[1:]), 0))\n",
    "idxs = np.where(np.abs(all_vals) < 2)\n",
    "ad1 = all_vals[idxs]\n",
    "y1 = np.zeros(len(ad1)) + 0.05\n",
    "\n",
    "plt.ylim([-0.075, 0.075])\n",
    "plt.plot(ad1, y1, 'o')\n",
    "plt.plot(ad_vals, y, '.')"
   ]
  },
  {
   "cell_type": "code",
   "execution_count": 37,
   "metadata": {
    "collapsed": false,
    "deletable": true,
    "editable": true
   },
   "outputs": [
    {
     "data": {
      "text/plain": [
       "[<matplotlib.lines.Line2D at 0x7f80543eec50>]"
      ]
     },
     "execution_count": 37,
     "metadata": {},
     "output_type": "execute_result"
    },
    {
     "data": {
      "image/png": "[encoded data removed]",
      "text/plain": [
       "<matplotlib.figure.Figure at 0x7f8054480c50>"
      ]
     },
     "metadata": {},
     "output_type": "display_data"
    }
   ],
   "source": [
    "yx1 = np.zeros_like(x1) + 0.25\n",
    "yx = np.zeros_like(x_vals) + 0.20\n",
    "yxd1 = np.zeros_like(xd1) + 0.10\n",
    "yxd = np.zeros_like(xd_vals) + 0.05\n",
    "ya1 = np.zeros_like(a1) - 0.05\n",
    "ya = np.zeros_like(a_vals) - 0.10\n",
    "yad1 = np.zeros_like(ad1) - 0.20\n",
    "yad = np.zeros_like(ad_vals) - 0.25\n",
    "\n",
    "plt.ylim([-0.3, 0.3])\n",
    "\n",
    "plt.plot(x1, yx1, '|')\n",
    "plt.plot(xd1, yxd1, '|')\n",
    "plt.plot(a1, ya1, '|')\n",
    "plt.plot(ad1, yad1, '|')\n",
    "\n",
    "plt.plot(x_vals, yx, '.')\n",
    "plt.plot(xd_vals, yxd, '.')\n",
    "plt.plot(a_vals, ya, '.')\n",
    "plt.plot(ad_vals, yad, '.')"
   ]
  },
  {
   "cell_type": "code",
   "execution_count": 38,
   "metadata": {
    "collapsed": false,
    "deletable": true,
    "editable": true
   },
   "outputs": [
    {
     "data": {
      "text/plain": [
       "[<matplotlib.lines.Line2D at 0x7f805437e630>]"
      ]
     },
     "execution_count": 38,
     "metadata": {},
     "output_type": "execute_result"
    },
    {
     "data": {
      "image/png": "[encoded data removed]",
      "text/plain": [
       "<matplotlib.figure.Figure at 0x7f80544357f0>"
      ]
     },
     "metadata": {},
     "output_type": "display_data"
    }
   ],
   "source": [
    "yx1 = np.zeros_like(x1) + 0.25\n",
    "yx = np.zeros_like(x_vals) + 0.20\n",
    "yxd1 = np.zeros_like(xd1) + 0.10\n",
    "yxd = np.zeros_like(xd_vals) + 0.05\n",
    "ya1 = np.zeros_like(a1) - 0.05\n",
    "ya = np.zeros_like(a_vals) - 0.10\n",
    "yad1 = np.zeros_like(ad1) - 0.20\n",
    "yad = np.zeros_like(ad_vals) - 0.25\n",
    "\n",
    "plt.plot(x1, yx1, '|')\n",
    "plt.plot(xd1, yxd1, '|')\n",
    "plt.plot(a1, ya1, '|')\n",
    "plt.plot(ad1, yad1, '|')\n",
    "\n",
    "plt.plot(x_vals, yx, '.')\n",
    "plt.plot(xd_vals, yxd, '.')\n",
    "plt.plot(a_vals, ya, '.')\n",
    "plt.plot(ad_vals, yad, '.')\n",
    "\n",
    "\n",
    "plt.ylim([-0.3, 0.3])\n",
    "\n",
    "plt.plot((x_thres[0], x_thres[0]), (0.15, 0.25), 'k-', color='red')\n",
    "plt.plot((x_thres[1], x_thres[1]), (0.15, 0.25), 'k-', color='red')\n",
    "plt.plot((a_thres[0], a_thres[0]), (-0.05, -0.15), 'k-', color='red')\n",
    "plt.plot((a_thres[1], a_thres[1]), (-0.05, -0.15), 'k-', color='red')"
   ]
  },
  {
   "cell_type": "code",
   "execution_count": 39,
   "metadata": {
    "collapsed": false,
    "deletable": true,
    "editable": true
   },
   "outputs": [],
   "source": [
    "def learning_schedule(episode, n_episodes):\n",
    "    return max(0., min(0.8, 1 - episode/n_episodes))"
   ]
  },
  {
   "cell_type": "code",
   "execution_count": 40,
   "metadata": {
    "collapsed": true,
    "deletable": true,
    "editable": true
   },
   "outputs": [],
   "source": [
    "def action_selection(state, Q, episode, n_episodes):\n",
    "    epsilon = 0.99 if episode < n_episodes//4 else 0.33 if episode < n_episodes//2 else 0.\n",
    "    if np.random.random() < epsilon:\n",
    "        action = np.random.randint(Q.shape[1])\n",
    "    else:\n",
    "        action = np.argmax(Q[state])\n",
    "    return action, epsilon"
   ]
  },
  {
   "cell_type": "code",
   "execution_count": 41,
   "metadata": {
    "collapsed": true,
    "deletable": true,
    "editable": true
   },
   "outputs": [],
   "source": [
    "def observation_to_state(observation, bins):\n",
    "    ss = []\n",
    "    for i in range(len(observation)):\n",
    "        ss.append(int(np.digitize(observation[i], bins=bins[i])))\n",
    "    state = int(\"\".join(map(lambda feature: str(int(feature)), ss)))\n",
    "    return state"
   ]
  },
  {
   "cell_type": "code",
   "execution_count": 42,
   "metadata": {
    "collapsed": false,
    "deletable": true,
    "editable": true
   },
   "outputs": [],
   "source": [
    "def q_learning(env, bins, gamma = 0.99):\n",
    "    nS = 10 * 10 * 10 * 10\n",
    "    nA = env.env.action_space.n\n",
    "    \n",
    "    Q = np.random.random((nS, nA)) - 0.5\n",
    "    n_episodes = 5000\n",
    "    \n",
    "    alphas = []\n",
    "    epsilons = []\n",
    "    states = []\n",
    "    actions = []\n",
    "    for episode in range(n_episodes):\n",
    "        observation = env.reset()\n",
    "        state = observation_to_state(observation, bins)\n",
    "    \n",
    "        done = False\n",
    "        while not done:\n",
    "            states.append(state)\n",
    "            \n",
    "            action, epsilon = action_selection(state, Q, episode, n_episodes)\n",
    "            epsilons.append(epsilon)\n",
    "            actions.append(action)\n",
    "            \n",
    "            observation, reward, done, info = env.step(action)\n",
    "            nstate = observation_to_state(observation, bins)\n",
    "            \n",
    "            alpha = learning_schedule(episode, n_episodes)\n",
    "            alphas.append(alpha)\n",
    "            \n",
    "            Q[state][action] += alpha * (reward + gamma * Q[nstate].max() * (not done) - Q[state][action])\n",
    "            state = nstate\n",
    "    return Q, (alphas, epsilons, states, actions)"
   ]
  },
  {
   "cell_type": "code",
   "execution_count": 43,
   "metadata": {
    "collapsed": false,
    "deletable": true,
    "editable": true
   },
   "outputs": [
    {
     "name": "stderr",
     "output_type": "stream",
     "text": [
      "[2017-04-02 21:58:57,455] Making new env: CartPole-v0\n",
      "[2017-04-02 21:58:57,469] Starting new video recorder writing to /tmp/tmpmkwghiu4/openaigym.video.1.3634.video000000.mp4\n",
      "[2017-04-02 21:58:57,932] Starting new video recorder writing to /tmp/tmpmkwghiu4/openaigym.video.1.3634.video000001.mp4\n",
      "[2017-04-02 21:58:58,170] Starting new video recorder writing to /tmp/tmpmkwghiu4/openaigym.video.1.3634.video000008.mp4\n",
      "[2017-04-02 21:58:58,427] Starting new video recorder writing to /tmp/tmpmkwghiu4/openaigym.video.1.3634.video000027.mp4\n",
      "[2017-04-02 21:58:58,711] Starting new video recorder writing to /tmp/tmpmkwghiu4/openaigym.video.1.3634.video000064.mp4\n",
      "[2017-04-02 21:58:58,973] Starting new video recorder writing to /tmp/tmpmkwghiu4/openaigym.video.1.3634.video000125.mp4\n",
      "[2017-04-02 21:58:59,319] Starting new video recorder writing to /tmp/tmpmkwghiu4/openaigym.video.1.3634.video000216.mp4\n",
      "[2017-04-02 21:58:59,773] Starting new video recorder writing to /tmp/tmpmkwghiu4/openaigym.video.1.3634.video000343.mp4\n",
      "[2017-04-02 21:59:00,150] Starting new video recorder writing to /tmp/tmpmkwghiu4/openaigym.video.1.3634.video000512.mp4\n",
      "[2017-04-02 21:59:00,586] Starting new video recorder writing to /tmp/tmpmkwghiu4/openaigym.video.1.3634.video000729.mp4\n",
      "[2017-04-02 21:59:01,069] Starting new video recorder writing to /tmp/tmpmkwghiu4/openaigym.video.1.3634.video001000.mp4\n",
      "[2017-04-02 21:59:03,830] Starting new video recorder writing to /tmp/tmpmkwghiu4/openaigym.video.1.3634.video002000.mp4\n",
      "[2017-04-02 21:59:09,703] Starting new video recorder writing to /tmp/tmpmkwghiu4/openaigym.video.1.3634.video003000.mp4\n",
      "[2017-04-02 21:59:19,340] Starting new video recorder writing to /tmp/tmpmkwghiu4/openaigym.video.1.3634.video004000.mp4\n"
     ]
    }
   ],
   "source": [
    "mdir = tempfile.mkdtemp()\n",
    "env = gym.make('CartPole-v0')\n",
    "env = wrappers.Monitor(env, mdir, force=True)\n",
    "\n",
    "Q, stats = q_learning(env, (x1, xd1, a1, ad1))"
   ]
  },
  {
   "cell_type": "code",
   "execution_count": 44,
   "metadata": {
    "collapsed": false,
    "deletable": true,
    "editable": true,
    "scrolled": false
   },
   "outputs": [
    {
     "data": {
      "text/html": [
       "\n",
       "    <h2>Episode 0<h2/>\n",
       "    <video width=\"960\" height=\"540\" controls>\n",
       "        <source src=\"data:video/mp4;base64,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\" type=\"video/mp4\" />\n",
       "    </video>\n",
       "    <h2>Episode 216<h2/>\n",
       "    <video width=\"960\" height=\"540\" controls>\n",
       "        <source src=\"data:video/mp4;base64,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\" type=\"video/mp4\" />\n",
       "    </video>\n",
       "    <h2>Episode 4000<h2/>\n",
       "    <video width=\"960\" height=\"540\" controls>\n",
       "        <source src=\"data:video/mp4;base64,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\" type=\"video/mp4\" />\n",
       "    </video>"
      ],
      "text/plain": [
       "<IPython.core.display.HTML object>"
      ]
     },
     "execution_count": 44,
     "metadata": {},
     "output_type": "execute_result"
    }
   ],
   "source": [
    "videos = np.array(env.videos)\n",
    "n_videos = 3\n",
    "\n",
    "idxs = np.linspace(0, len(videos) - 1, n_videos).astype(int)\n",
    "videos = videos[idxs,:]\n",
    "\n",
    "strm = ''\n",
    "for video_path, meta_path in videos:\n",
    "    video = io.open(video_path, 'r+b').read()\n",
    "    encoded = base64.b64encode(video)\n",
    "    \n",
    "    with open(meta_path) as data_file:    \n",
    "        meta = json.load(data_file)\n",
    "\n",
    "    html_tag = \"\"\"\n",
    "    <h2>{0}<h2/>\n",
    "    <video width=\"960\" height=\"540\" controls>\n",
    "        <source src=\"data:video/mp4;base64,{1}\" type=\"video/mp4\" />\n",
    "    </video>\"\"\"\n",
    "    strm += html_tag.format('Episode ' + str(meta['episode_id']), encoded.decode('ascii'))\n",
    "HTML(data=strm)"
   ]
  },
  {
   "cell_type": "code",
   "execution_count": 45,
   "metadata": {
    "collapsed": false,
    "deletable": true,
    "editable": true
   },
   "outputs": [
    {
     "data": {
      "text/plain": [
       "array([  0.14840227,  42.53841636,  52.94672826, ...,   0.25170908,\n",
       "         0.29312305,   0.46778605])"
      ]
     },
     "execution_count": 45,
     "metadata": {},
     "output_type": "execute_result"
    }
   ],
   "source": [
    "V = np.max(Q, axis=1)\n",
    "V"
   ]
  },
  {
   "cell_type": "code",
   "execution_count": 46,
   "metadata": {
    "collapsed": false,
    "deletable": true,
    "editable": true
   },
   "outputs": [
    {
     "data": {
      "text/plain": [
       "86.837184465801627"
      ]
     },
     "execution_count": 46,
     "metadata": {},
     "output_type": "execute_result"
    }
   ],
   "source": [
    "V.max()"
   ]
  },
  {
   "cell_type": "code",
   "execution_count": 47,
   "metadata": {
    "collapsed": false,
    "deletable": true,
    "editable": true
   },
   "outputs": [
    {
     "data": {
      "text/plain": [
       "array([1, 1, 0, ..., 0, 0, 0])"
      ]
     },
     "execution_count": 47,
     "metadata": {},
     "output_type": "execute_result"
    }
   ],
   "source": [
    "pi = np.argmax(Q, axis=1)\n",
    "pi"
   ]
  },
  {
   "cell_type": "code",
   "execution_count": 48,
   "metadata": {
    "collapsed": false,
    "deletable": true,
    "editable": true
   },
   "outputs": [
    {
     "name": "stderr",
     "output_type": "stream",
     "text": [
      "[2017-04-02 21:59:30,152] Finished writing results. You can upload them to the scoreboard via gym.upload('/tmp/tmpmkwghiu4')\n"
     ]
    }
   ],
   "source": [
    "env.close()"
   ]
  },
  {
   "cell_type": "code",
   "execution_count": 49,
   "metadata": {
    "collapsed": false,
    "deletable": true,
    "editable": true
   },
   "outputs": [
    {
     "name": "stderr",
     "output_type": "stream",
     "text": [
      "[2017-04-02 21:59:30,177] [CartPole-v0] Uploading 5000 episodes of training data\n",
      "[2017-04-02 21:59:31,154] [CartPole-v0] Uploading videos of 14 training episodes (72394 bytes)\n",
      "[2017-04-02 21:59:32,376] [CartPole-v0] Creating evaluation object from /tmp/tmpmkwghiu4 with learning curve and training video\n",
      "[2017-04-02 21:59:32,582] \n",
      "****************************************************\n",
      "You successfully uploaded your evaluation on CartPole-v0 to\n",
      "OpenAI Gym! You can find it at:\n",
      "\n",
      "    https://gym.openai.com/evaluations/eval_GDMU3XnQxi3N0vnynQNbg\n",
      "\n",
      "****************************************************\n"
     ]
    }
   ],
   "source": [
    "gym.upload(mdir, api_key='<YOUR API KEY>')"
   ]
  },
  {
   "cell_type": "code",
   "execution_count": 50,
   "metadata": {
    "collapsed": true,
    "deletable": true,
    "editable": true
   },
   "outputs": [],
   "source": [
    "alphas, epsilons, states, actions = stats"
   ]
  },
  {
   "cell_type": "code",
   "execution_count": 51,
   "metadata": {
    "collapsed": false,
    "deletable": true,
    "editable": true
   },
   "outputs": [
    {
     "data": {
      "text/plain": [
       "[<matplotlib.lines.Line2D at 0x7f8056292b00>]"
      ]
     },
     "execution_count": 51,
     "metadata": {},
     "output_type": "execute_result"
    },
    {
     "data": {
      "image/png": "[encoded data removed]",
      "text/plain": [
       "<matplotlib.figure.Figure at 0x7f8054559748>"
      ]
     },
     "metadata": {},
     "output_type": "display_data"
    }
   ],
   "source": [
    "plt.plot(np.arange(len(alphas)), alphas, '.')"
   ]
  },
  {
   "cell_type": "code",
   "execution_count": 52,
   "metadata": {
    "collapsed": false,
    "deletable": true,
    "editable": true
   },
   "outputs": [
    {
     "data": {
      "text/plain": [
       "[<matplotlib.lines.Line2D at 0x7f8056336550>]"
      ]
     },
     "execution_count": 52,
     "metadata": {},
     "output_type": "execute_result"
    },
    {
     "data": {
      "image/png": "[encoded data removed]",
      "text/plain": [
       "<matplotlib.figure.Figure at 0x7f80562bb4a8>"
      ]
     },
     "metadata": {},
     "output_type": "display_data"
    }
   ],
   "source": [
    "plt.plot(np.arange(len(epsilons)), epsilons, '.')"
   ]
  },
  {
   "cell_type": "code",
   "execution_count": 53,
   "metadata": {
    "collapsed": false,
    "deletable": true,
    "editable": true
   },
   "outputs": [
    {
     "data": {
      "image/png": "[encoded data removed]",
      "text/plain": [
       "<matplotlib.figure.Figure at 0x7f80543fc390>"
      ]
     },
     "metadata": {},
     "output_type": "display_data"
    }
   ],
   "source": [
    "hist, bins = np.histogram(states, bins=50)\n",
    "width = 0.7 * (bins[1] - bins[0])\n",
    "center = (bins[:-1] + bins[1:]) / 2\n",
    "plt.bar(center, hist, align='center', width=width)\n",
    "plt.show()"
   ]
  },
  {
   "cell_type": "code",
   "execution_count": 54,
   "metadata": {
    "collapsed": false,
    "deletable": true,
    "editable": true
   },
   "outputs": [
    {
     "data": {
      "image/png": "[encoded data removed]",
      "text/plain": [
       "<matplotlib.figure.Figure at 0x7f80543959e8>"
      ]
     },
     "metadata": {},
     "output_type": "display_data"
    }
   ],
   "source": [
    "hist, bins = np.histogram(actions, bins=3)\n",
    "width = 0.7 * (bins[1] - bins[0])\n",
    "center = (bins[:-1] + bins[1:]) / 2\n",
    "plt.bar(center, hist, align='center', width=width)\n",
    "plt.show()"
   ]
  }
 ],
 "metadata": {
  "kernelspec": {
   "display_name": "Python 3",
   "language": "python",
   "name": "python3"
  },
  "language_info": {
   "codemirror_mode": {
    "name": "ipython",
    "version": 3
   },
   "file_extension": ".py",
   "mimetype": "text/x-python",
   "name": "python",
   "nbconvert_exporter": "python",
   "pygments_lexer": "ipython3",
   "version": "3.5.2"
  }
 },
 "nbformat": 4,
 "nbformat_minor": 2
}
