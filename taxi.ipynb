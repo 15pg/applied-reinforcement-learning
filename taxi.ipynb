{
 "cells": [
  {
   "cell_type": "code",
   "execution_count": 6,
   "metadata": {
    "collapsed": false,
    "deletable": true,
    "editable": true
   },
   "outputs": [
    {
     "name": "stderr",
     "output_type": "stream",
     "text": [
      "[2017-03-19 12:31:06,439] Making new env: Taxi-v2\n",
      "[2017-03-19 12:31:06,452] Finished writing results. You can upload them to the scoreboard via gym.upload('/tmp/taxi-v1')\n",
      "[2017-03-19 12:31:06,454] Clearing 22 monitor files from previous run (because force=True was provided)\n",
      "[2017-03-19 12:31:06,455] Starting new video recorder writing to /tmp/taxi-v1/openaigym.video.1.3540.video000000.json\n",
      "[2017-03-19 12:31:06,486] Starting new video recorder writing to /tmp/taxi-v1/openaigym.video.1.3540.video000001.json\n",
      "[2017-03-19 12:31:06,572] Starting new video recorder writing to /tmp/taxi-v1/openaigym.video.1.3540.video000008.json\n",
      "[2017-03-19 12:31:06,710] Starting new video recorder writing to /tmp/taxi-v1/openaigym.video.1.3540.video000027.json\n",
      "[2017-03-19 12:31:06,880] Starting new video recorder writing to /tmp/taxi-v1/openaigym.video.1.3540.video000064.json\n",
      "[2017-03-19 12:31:07,061] Starting new video recorder writing to /tmp/taxi-v1/openaigym.video.1.3540.video000125.json\n",
      "[2017-03-19 12:31:07,196] Starting new video recorder writing to /tmp/taxi-v1/openaigym.video.1.3540.video000216.json\n",
      "[2017-03-19 12:31:07,321] Starting new video recorder writing to /tmp/taxi-v1/openaigym.video.1.3540.video000343.json\n",
      "[2017-03-19 12:31:07,467] Starting new video recorder writing to /tmp/taxi-v1/openaigym.video.1.3540.video000512.json\n",
      "[2017-03-19 12:31:07,648] Starting new video recorder writing to /tmp/taxi-v1/openaigym.video.1.3540.video000729.json\n"
     ]
    }
   ],
   "source": [
    "import gym\n",
    "import numpy as np\n",
    "\n",
    "from gym import wrappers\n",
    "\n",
    "alpha = 0.9\n",
    "gamma = 0.9\n",
    "\n",
    "env = gym.make('Taxi-v2')\n",
    "env = wrappers.Monitor(env, '/tmp/taxi-v1', force=True)\n",
    "\n",
    "q = np.random.random((env.env.observation_space.n, \n",
    "                      env.env.action_space.n))\n",
    "\n",
    "def exploration(episode):\n",
    "    return 0.5 if episode < 10000 else 0.999\n",
    "\n",
    "for episode in range(1000):\n",
    "    state = env.reset()\n",
    "\n",
    "    while True:\n",
    "        if np.random.random() > exploration(episode):\n",
    "            action = env.action_space.sample()\n",
    "        else:\n",
    "            action = np.argmax(q[state])\n",
    "        nstate, reward, done, _ = env.step(action)\n",
    "        if done:\n",
    "            q[state][action] = q[state][action] + alpha * (reward - q[state][action])\n",
    "            break\n",
    "        else:\n",
    "            q[state][action] = q[state][action] + alpha * (reward + gamma * q[nstate].max() - q[state][action])\n",
    "        state = nstate\n",
    "        #env.render()"
   ]
  },
  {
   "cell_type": "code",
   "execution_count": 13,
   "metadata": {
    "collapsed": false
   },
   "outputs": [
    {
     "data": {
      "text/plain": [
       "'/tmp/taxi-v1/openaigym.video.1.3540.video000729.json'"
      ]
     },
     "execution_count": 13,
     "metadata": {},
     "output_type": "execute_result"
    }
   ],
   "source": [
    "env.videos[-1][0]"
   ]
  },
  {
   "cell_type": "code",
   "execution_count": 47,
   "metadata": {
    "collapsed": false
   },
   "outputs": [],
   "source": [
    "from subprocess import check_output\n",
    "\n",
    "out = check_output([\"asciinema\", \"upload\", env.videos[-1][0]])\n",
    "out = out.decode(\"utf-8\").replace('\\n', '').replace('\\r', '')"
   ]
  },
  {
   "cell_type": "code",
   "execution_count": 58,
   "metadata": {
    "collapsed": false
   },
   "outputs": [
    {
     "name": "stdout",
     "output_type": "stream",
     "text": [
      "https://asciinema.org/a/bgfi8cqp3epcccysfd9ptkgu0\n"
     ]
    }
   ],
   "source": [
    "print(out)"
   ]
  },
  {
   "cell_type": "code",
   "execution_count": 56,
   "metadata": {
    "collapsed": false
   },
   "outputs": [
    {
     "data": {
      "text/plain": [
       "'bgfi8cqp3epcccysfd9ptkgu0'"
      ]
     },
     "execution_count": 56,
     "metadata": {},
     "output_type": "execute_result"
    }
   ],
   "source": [
    "castid = out.split('/')[-1]\n",
    "castid"
   ]
  },
  {
   "cell_type": "code",
   "execution_count": 65,
   "metadata": {
    "collapsed": false
   },
   "outputs": [
    {
     "data": {
      "text/html": [
       "\n",
       "<script type=\"text/javascript\" \n",
       "    src=\"https://asciinema.org/a/bgfi8cqp3epcccysfd9ptkgu0.js\" \n",
       "    id=\"asciicast-bgfi8cqp3epcccysfd9ptkgu0\" \n",
       "    async data-autoplay=\"true\" data-size=\"big\">\n",
       "</script>\n"
      ],
      "text/plain": [
       "<IPython.core.display.HTML object>"
      ]
     },
     "execution_count": 65,
     "metadata": {},
     "output_type": "execute_result"
    }
   ],
   "source": [
    "from IPython.display import HTML\n",
    "\n",
    "html_tag = \"\"\"\n",
    "<script type=\"text/javascript\" \n",
    "    src=\"https://asciinema.org/a/{0}.js\" \n",
    "    id=\"asciicast-{0}\" \n",
    "    async data-autoplay=\"true\" data-size=\"big\">\n",
    "</script>\n",
    "\"\"\"\n",
    "html_tag = html_tag.format(castid)\n",
    "HTML(data=html_tag)"
   ]
  },
  {
   "cell_type": "code",
   "execution_count": 61,
   "metadata": {
    "collapsed": false
   },
   "outputs": [
    {
     "data": {
      "text/html": [
       "<script type=\"text/javascript\" src=\"https://asciinema.org/a/bgfi8cqp3epcccysfd9ptkgu0.js\" id=\"asciicast-bgfi8cqp3epcccysfd9ptkgu0\" async data-autoplay=\"true\" data-size=\"big\"></script>"
      ],
      "text/plain": [
       "<IPython.core.display.HTML object>"
      ]
     },
     "metadata": {},
     "output_type": "display_data"
    }
   ],
   "source": [
    "%%HTML \n",
    "<script type=\"text/javascript\" src=\"https://asciinema.org/a/bgfi8cqp3epcccysfd9ptkgu0.js\" id=\"asciicast-bgfi8cqp3epcccysfd9ptkgu0\" async data-autoplay=\"true\" data-size=\"big\"></script>"
   ]
  },
  {
   "cell_type": "code",
   "execution_count": 49,
   "metadata": {
    "collapsed": false
   },
   "outputs": [
    {
     "data": {
      "text/html": [
       "<script type=\"text/javascript\" src=\"https://asciinema.org/a/14.js\" id=\"asciicast-14\" async data-autoplay=\"true\" data-size=\"big\"></script>"
      ],
      "text/plain": [
       "<IPython.core.display.HTML object>"
      ]
     },
     "metadata": {},
     "output_type": "display_data"
    }
   ],
   "source": [
    "%%HTML \n",
    "<script type=\"text/javascript\" src=\"https://asciinema.org/a/14.js\" id=\"asciicast-14\" async data-autoplay=\"true\" data-size=\"big\"></script>"
   ]
  },
  {
   "cell_type": "code",
   "execution_count": 50,
   "metadata": {
    "collapsed": false
   },
   "outputs": [
    {
     "data": {
      "text/html": [
       "<script type=\"text/javascript\" src=\"https://asciinema.org/a/8w5uddei4j1jorxkm09h6erah.js\" id=\"asciicast-8w5uddei4j1jorxkm09h6erah\" async></script>"
      ],
      "text/plain": [
       "<IPython.core.display.HTML object>"
      ]
     },
     "metadata": {},
     "output_type": "display_data"
    }
   ],
   "source": [
    "%%HTML\n",
    "<script type=\"text/javascript\" src=\"https://asciinema.org/a/8w5uddei4j1jorxkm09h6erah.js\" id=\"asciicast-8w5uddei4j1jorxkm09h6erah\" async></script>"
   ]
  },
  {
   "cell_type": "code",
   "execution_count": null,
   "metadata": {
    "collapsed": true
   },
   "outputs": [],
   "source": []
  }
 ],
 "metadata": {
  "kernelspec": {
   "display_name": "Python 3",
   "language": "python",
   "name": "python3"
  },
  "language_info": {
   "codemirror_mode": {
    "name": "ipython",
    "version": 3
   },
   "file_extension": ".py",
   "mimetype": "text/x-python",
   "name": "python",
   "nbconvert_exporter": "python",
   "pygments_lexer": "ipython3",
   "version": "3.5.2"
  }
 },
 "nbformat": 4,
 "nbformat_minor": 2
}
